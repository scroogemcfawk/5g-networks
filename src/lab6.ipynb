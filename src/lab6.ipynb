{
 "cells": [
  {
   "cell_type": "code",
   "metadata": {
    "collapsed": true,
    "ExecuteTime": {
     "end_time": "2024-12-10T09:21:09.272507600Z",
     "start_time": "2024-12-10T09:20:51.143764600Z"
    }
   },
   "source": "%use kandy, multik",
   "outputs": [],
   "execution_count": 25
  },
  {
   "metadata": {
    "ExecuteTime": {
     "end_time": "2024-12-10T09:22:06.965775300Z",
     "start_time": "2024-12-10T09:22:06.932163600Z"
    }
   },
   "cell_type": "code",
   "source": [
    "import kotlin.random.Random\n",
    "import kotlin.math.PI\n",
    "import org.apache.commons.math3.distribution.PoissonDistribution"
   ],
   "outputs": [],
   "execution_count": 26
  },
  {
   "metadata": {
    "ExecuteTime": {
     "end_time": "2024-12-10T09:22:08.539318500Z",
     "start_time": "2024-12-10T09:22:08.205194100Z"
    }
   },
   "cell_type": "code",
   "source": [
    "import kotlin.math.*\n",
    "\n",
    "data class Point(\n",
    "    val x: Double,\n",
    "    val y: Double\n",
    ") {\n",
    "\n",
    "    constructor(x: Number, y: Number) : this(x.toDouble(), y.toDouble())\n",
    "\n",
    "    fun distTo(other: Point): Double {\n",
    "        return sqrt((x - other.x).pow(2) + (y - other.y).pow(2))\n",
    "    }\n",
    "\n",
    "    fun middleTo(other: Point): Point {\n",
    "        return Point((x + other.x) / 2, (y + other.y) / 2)\n",
    "    }\n",
    "\n",
    "    fun adjust(dx: Number, dy: Number): Point {\n",
    "        return Point(x + dx.toDouble(), y + dy.toDouble())\n",
    "    }\n",
    "\n",
    "    fun adjust(adjustment: Adjustment): Point {\n",
    "        return adjust(adjustment.x, adjustment.y)\n",
    "    }\n",
    "\n",
    "    fun getAdjustment(to: Point): Adjustment {\n",
    "        return Adjustment(to.x - x, to.y - y)\n",
    "    }\n",
    "\n",
    "    fun isInSquare(size: Number): Boolean {\n",
    "        return x in 0.0..size.toDouble() && y in 0.0..size.toDouble()\n",
    "    }\n",
    "\n",
    "    fun isInCircle(center: Point, radius: Number): Boolean {\n",
    "        return distTo(center) <= radius.toDouble()\n",
    "    }\n",
    "\n",
    "    fun interpolate(other: Point): List<Point> {\n",
    "        return interpolate(other, 1000)\n",
    "    }\n",
    "\n",
    "    fun interpolate(other: Point, n: Int): List<Point> {\n",
    "        val res = ArrayList<Point>()\n",
    "        val a = getAdjustment(other)\n",
    "        val b = Adjustment(a.x / (n + 1), a.y / (n + 1))\n",
    "        var p = this\n",
    "        repeat(n) {\n",
    "            val t = p.adjust(b)\n",
    "            res.add(t)\n",
    "            p = t\n",
    "        }\n",
    "        return res\n",
    "    }\n",
    "}\n",
    "\n",
    "data class Adjustment(\n",
    "    val x: Double,\n",
    "    val y: Double\n",
    ") {\n",
    "    constructor(x: Number, y: Number) : this(x.toDouble(), y.toDouble())\n",
    "}\n",
    "\n",
    "private val TWO_PI = 2 * PI\n",
    "\n",
    "data class Sector(\n",
    "    val pivot: Point,\n",
    "    val direction: Double,\n",
    "    val fov: Double\n",
    ") {\n",
    "    private val boundUpper = direction + fov / 2\n",
    "    private val boundLower = direction - fov / 2\n",
    "\n",
    "    fun getDirectionEndPoint(distance: Number): Point {\n",
    "        return pointFromPivotWithAngle(distance, direction)\n",
    "    }\n",
    "\n",
    "    private fun pointFromPivotWithAngle(distance: Number, directionAngle: Double): Point {\n",
    "        val x = cos(directionAngle) * distance.toDouble()\n",
    "        val y = sin(directionAngle) * distance.toDouble()\n",
    "        return Point(pivot.x + x, pivot.y + y)\n",
    "    }\n",
    "\n",
    "    fun contains(p: Point): Boolean {\n",
    "//        println(\"Sector: $this\")\n",
    "//        println(\"Other: $p\")\n",
    "\n",
    "        val adjustment = pivot.getAdjustment(p)\n",
    "        val angle = atan2(adjustment.y, adjustment.x).let {\n",
    "            if (it < 0) it + TWO_PI else\n",
    "                if (it > TWO_PI) it - TWO_PI else it\n",
    "        }\n",
    "//        println(\"Angle: ${degrees(angle)}\")\n",
    "        return angle in boundLower..boundUpper\n",
    "    }\n",
    "\n",
    "    fun getLineEndsInSquare(distance: Number): Pair<Point, Point> {\n",
    "        return Pair(\n",
    "            pointFromPivotWithAngle(distance, boundUpper),\n",
    "            pointFromPivotWithAngle(distance, boundLower)\n",
    "        )\n",
    "    }\n",
    "\n",
    "    override fun toString(): String {\n",
    "        return \"Sector(pivot=$pivot, direction=${degrees(direction)}, fov=${degrees(fov)}, bu=${degrees(boundUpper)}, bl=${degrees(boundLower)})\"\n",
    "    }\n",
    "\n",
    "    private fun degrees(angle: Number): Int {\n",
    "        return ((angle.toDouble() / TWO_PI) * 360).toInt()\n",
    "    }\n",
    "}"
   ],
   "outputs": [],
   "execution_count": 27
  },
  {
   "metadata": {
    "ExecuteTime": {
     "end_time": "2024-12-10T09:22:11.717269600Z",
     "start_time": "2024-12-10T09:22:11.522205200Z"
    }
   },
   "cell_type": "code",
   "source": [
    "import kotlin.math.PI\n",
    "import kotlin.math.cos\n",
    "import kotlin.math.sin\n",
    "import kotlin.math.sqrt\n",
    "import kotlin.random.Random\n",
    "\n",
    "object Generator {\n",
    "\n",
    "    fun nextPointInRectangle(width: Number, height: Number): Point {\n",
    "        return Point(\n",
    "            Random.nextDouble(0.0, width.toDouble()),\n",
    "            Random.nextDouble(0.0, height.toDouble())\n",
    "        )\n",
    "    }\n",
    "\n",
    "    fun nextPointInSquare(size: Number): Point {\n",
    "        return nextPointInRectangle(size, size)\n",
    "    }\n",
    "\n",
    "    fun nextPointInCircleAsSquare(radius: Number = 1.0): Point {\n",
    "        return nextPointInCircleAsSquare(radius.toDouble())\n",
    "    }\n",
    "\n",
    "    private fun nextPointInCircleAsSquare(radius: Double = 1.0): Point {\n",
    "        val zeroPoint = Point(0.0, 0.0)\n",
    "        var point: Point\n",
    "        do {\n",
    "            point = Point(\n",
    "                Random.nextDouble(-radius, radius),\n",
    "                Random.nextDouble(-radius, radius),\n",
    "            )\n",
    "        } while (point.distTo(zeroPoint) > radius)\n",
    "        return point\n",
    "    }\n",
    "\n",
    "    fun nextPointInCircle(maxRadius: Number = 0.5): Point {\n",
    "        val angle = Random.nextDouble() * 2 * PI\n",
    "        val radius = sqrt(Random.nextDouble()) * maxRadius.toDouble()\n",
    "        return Point(radius * cos(angle), radius * sin(angle))\n",
    "    }\n",
    "\n",
    "    fun nextOnDistance(point: Point, distance: Number): Point {\n",
    "        val angle = Random.nextDouble() * 2 * PI\n",
    "        return Point(point.x + distance.toDouble() * cos(angle), point.y + distance.toDouble() * sin(angle))\n",
    "    }\n",
    "\n",
    "    fun nextPariInSquare(distance: Number, squareSize: Number): Pair<Point, Point> {\n",
    "        var first = nextPointInSquare(squareSize)\n",
    "        var second = nextOnDistance(first, distance)\n",
    "        if (!(first.isInSquare(squareSize) && second.isInSquare(squareSize))) {\n",
    "            val squareCenter = Point(squareSize.toDouble() / 2, squareSize.toDouble() / 2)\n",
    "            val middle = first.middleTo(second)\n",
    "            val adjustment = middle.getAdjustment(squareCenter)\n",
    "            first = first.adjust(adjustment)\n",
    "            second = second.adjust(adjustment)\n",
    "        }\n",
    "        return Pair(first, second)\n",
    "    }\n",
    "}\n"
   ],
   "outputs": [],
   "execution_count": 28
  },
  {
   "metadata": {
    "ExecuteTime": {
     "end_time": "2024-12-10T09:34:23.877965600Z",
     "start_time": "2024-12-10T09:34:23.778322500Z"
    }
   },
   "cell_type": "code",
   "source": [
    "val rand = Random(1337)\n",
    "\n",
    "val R = 10.0\n",
    "val circleArea = PI * R * R\n",
    "\n",
    "val A = 0.15\n",
    "val B = 0.15\n",
    "val D = 0.1\n",
    "val fov = PI / 2\n",
    "\n",
    "val receiverPoint = Point(0, 0)\n",
    "\n",
    "val bv = circleArea * B\n",
    "val av = circleArea * A\n",
    "\n",
    "println(bv)\n",
    "println(av)\n",
    "\n",
    "val interfereObjectDistribution = PoissonDistribution(bv)\n",
    "val blockObjectDistribution =  PoissonDistribution(av)"
   ],
   "outputs": [
    {
     "name": "stdout",
     "output_type": "stream",
     "text": [
      "47.1238898038469\r\n",
      "47.1238898038469\r\n"
     ]
    }
   ],
   "execution_count": 50
  },
  {
   "metadata": {
    "ExecuteTime": {
     "end_time": "2024-12-10T09:34:25.725429700Z",
     "start_time": "2024-12-10T09:34:25.612501800Z"
    }
   },
   "cell_type": "code",
   "source": [
    "val interfereObjects = HashSet<Sector>()\n",
    "\n",
    "repeat(interfereObjectDistribution.sample()) {\n",
    "    interfereObjects.add(Sector(Generator.nextPointInCircle(R), rand.nextDouble(0.0, 2 * PI), fov))\n",
    "}\n",
    "\n",
    "val blockObjects = ArrayList<Point>()\n",
    "\n",
    "repeat(blockObjectDistribution.sample()) {\n",
    "    blockObjects.add(Generator.nextPointInCircle(R))\n",
    "}"
   ],
   "outputs": [],
   "execution_count": 51
  },
  {
   "metadata": {
    "ExecuteTime": {
     "end_time": "2024-12-10T09:34:26.830435Z",
     "start_time": "2024-12-10T09:34:26.783396600Z"
    }
   },
   "cell_type": "code",
   "source": "println(\"${interfereObjects.size} ${blockObjects.size}\")",
   "outputs": [
    {
     "name": "stdout",
     "output_type": "stream",
     "text": [
      "50 47\r\n"
     ]
    }
   ],
   "execution_count": 52
  },
  {
   "metadata": {
    "ExecuteTime": {
     "end_time": "2024-12-10T09:34:27.680573500Z",
     "start_time": "2024-12-10T09:34:27.637487800Z"
    }
   },
   "cell_type": "code",
   "source": [
    "fun fspl(distance: Number, frequency: Number): Double {\n",
    "    return 20.0 * log(distance.toDouble(), 10.0) + 20.0 * log(frequency.toDouble(), 10.0) - 147.55\n",
    "}"
   ],
   "outputs": [],
   "execution_count": 53
  },
  {
   "metadata": {
    "ExecuteTime": {
     "end_time": "2024-12-10T09:38:32.040687700Z",
     "start_time": "2024-12-10T09:38:31.843848Z"
    }
   },
   "cell_type": "code",
   "source": [
    "var interfereCounter = 0\n",
    "\n",
    "val f = 1_000_000_000\n",
    "\n",
    "val interGain = ArrayList<Double>()\n",
    "\n",
    "val gain = 2.0 / (1 - cos(fov / 2.0))\n",
    "val logGain = 10.0 * log(gain, 10.0)\n",
    "\n",
    "println(gain)\n",
    "\n",
    "for (sector in interfereObjects) {\n",
    "    if (sector.contains(receiverPoint)) {\n",
    "        var rejected = false\n",
    "        interp@for (i in sector.pivot.interpolate(receiverPoint)) {\n",
    "            for (block in blockObjects) {\n",
    "                if (i.isInCircle(block, D)) {\n",
    "                    rejected = true\n",
    "                    break@interp\n",
    "                }\n",
    "            }\n",
    "        }\n",
    "        if (!rejected) {\n",
    "            ++interfereCounter\n",
    "            val fspl = fspl(sector.pivot.distTo(receiverPoint), f)\n",
    "            interGain.add(fspl + logGain)\n",
    "        }\n",
    "    }\n",
    "}\n",
    "\n",
    "println(interfereCounter)\n",
    "println(interGain.sum())"
   ],
   "outputs": [
    {
     "name": "stdout",
     "output_type": "stream",
     "text": [
      "6.828427124746192\r\n",
      "9\r\n",
      "501.6893975876351\r\n"
     ]
    }
   ],
   "execution_count": 56
  },
  {
   "metadata": {
    "ExecuteTime": {
     "end_time": "2024-12-10T09:34:31.422448100Z",
     "start_time": "2024-12-10T09:34:30.960526500Z"
    }
   },
   "cell_type": "code",
   "source": [
    "import org.jetbrains.letsPlot.Geom\n",
    "\n",
    "plot {\n",
    "    points {\n",
    "        x(interfereObjects.map{ it.pivot.x })\n",
    "        y(interfereObjects.map{ it.pivot.y })\n",
    "        color = Color.WHITE\n",
    "    }\n",
    "    points {\n",
    "        x(blockObjects.map{ it.x })\n",
    "        y(blockObjects.map{ it.y })\n",
    "        color = Color.GREEN\n",
    "        size = D * 50\n",
    "    }\n",
    "    points {\n",
    "        x(listOf(receiverPoint.x))\n",
    "        y(listOf(receiverPoint.y))\n",
    "        color = Color.RED\n",
    "    }\n",
    "    interfereObjects.forEach { s ->\n",
    "        val de = s.getDirectionEndPoint(1)\n",
    "        val le = s.getLineEndsInSquare(1)\n",
    "        line {\n",
    "            x(listOf(s.pivot.x, le.first.x))\n",
    "            y(listOf(s.pivot.y, le.first.y))\n",
    "            color = Color.GREY\n",
    "        }\n",
    "        line {\n",
    "            x(listOf(s.pivot.x, le.second.x))\n",
    "            y(listOf(s.pivot.y, le.second.y))\n",
    "            color = Color.GREY\n",
    "        }\n",
    "        line {\n",
    "            x(listOf(s.pivot.x, de.x))\n",
    "            y(listOf(s.pivot.y, de.y))\n",
    "            color = Color.WHITE\n",
    "        }\n",
    "    }\n",
    "    layout {\n",
    "        size = 500 to 500\n",
    "    }\n",
    "}"
   ],
   "outputs": [
    {
     "data": {
      "text/html": [
       "            <iframe src='about:blank' style='border:none !important;' width='500' height='500' srcdoc=\"&lt;html lang=&quot;en&quot;>\n",
       "   &lt;head>\n",
       "       &lt;meta charset=&quot;UTF-8&quot;>\n",
       "       &lt;style> html, body { margin: 0; overflow: hidden; } &lt;/style>\n",
       "       &lt;script type=&quot;text/javascript&quot; data-lets-plot-script=&quot;library&quot; src=&quot;https://cdn.jsdelivr.net/gh/JetBrains/lets-plot@v4.3.3/js-package/distr/lets-plot.min.js&quot;>&lt;/script>\n",
       "   &lt;/head>\n",
       "   &lt;body>\n",
       "          &lt;div id=&quot;gp3NEY&quot;>&lt;/div>\n",
       "   &lt;script type=&quot;text/javascript&quot; data-lets-plot-script=&quot;plot&quot;>\n",
       "       var plotSpec={\n",
       "&quot;mapping&quot;:{\n",
       "},\n",
       "&quot;data&quot;:{\n",
       "},\n",
       "&quot;ggsize&quot;:{\n",
       "&quot;width&quot;:500.0,\n",
       "&quot;height&quot;:500.0\n",
       "},\n",
       "&quot;kind&quot;:&quot;plot&quot;,\n",
       "&quot;scales&quot;:[{\n",
       "&quot;aesthetic&quot;:&quot;x&quot;,\n",
       "&quot;limits&quot;:[null,null]\n",
       "},{\n",
       "&quot;aesthetic&quot;:&quot;y&quot;,\n",
       "&quot;limits&quot;:[null,null]\n",
       "},{\n",
       "&quot;aesthetic&quot;:&quot;x&quot;,\n",
       "&quot;limits&quot;:[null,null]\n",
       "},{\n",
       "&quot;aesthetic&quot;:&quot;y&quot;,\n",
       "&quot;limits&quot;:[null,null]\n",
       "},{\n",
       "&quot;aesthetic&quot;:&quot;x&quot;,\n",
       "&quot;limits&quot;:[null,null]\n",
       "},{\n",
       "&quot;aesthetic&quot;:&quot;y&quot;,\n",
       "&quot;limits&quot;:[null,null]\n",
       "},{\n",
       "&quot;aesthetic&quot;:&quot;x&quot;,\n",
       "&quot;limits&quot;:[null,null]\n",
       "},{\n",
       "&quot;aesthetic&quot;:&quot;y&quot;,\n",
       "&quot;limits&quot;:[null,null]\n",
       "},{\n",
       "&quot;aesthetic&quot;:&quot;x&quot;,\n",
       "&quot;limits&quot;:[null,null]\n",
       "},{\n",
       "&quot;aesthetic&quot;:&quot;y&quot;,\n",
       "&quot;limits&quot;:[null,null]\n",
       "},{\n",
       "&quot;aesthetic&quot;:&quot;x&quot;,\n",
       "&quot;limits&quot;:[null,null]\n",
       "},{\n",
       "&quot;aesthetic&quot;:&quot;y&quot;,\n",
       "&quot;limits&quot;:[null,null]\n",
       "},{\n",
       "&quot;aesthetic&quot;:&quot;x&quot;,\n",
       "&quot;limits&quot;:[null,null]\n",
       "},{\n",
       "&quot;aesthetic&quot;:&quot;y&quot;,\n",
       "&quot;limits&quot;:[null,null]\n",
       "},{\n",
       "&quot;aesthetic&quot;:&quot;x&quot;,\n",
       "&quot;limits&quot;:[null,null]\n",
       "},{\n",
       "&quot;aesthetic&quot;:&quot;y&quot;,\n",
       "&quot;limits&quot;:[null,null]\n",
       "},{\n",
       "&quot;aesthetic&quot;:&quot;x&quot;,\n",
       "&quot;limits&quot;:[null,null]\n",
       "},{\n",
       "&quot;aesthetic&quot;:&quot;y&quot;,\n",
       "&quot;limits&quot;:[null,null]\n",
       "},{\n",
       "&quot;aesthetic&quot;:&quot;x&quot;,\n",
       "&quot;limits&quot;:[null,null]\n",
       "},{\n",
       "&quot;aesthetic&quot;:&quot;y&quot;,\n",
       "&quot;limits&quot;:[null,null]\n",
       "},{\n",
       "&quot;aesthetic&quot;:&quot;x&quot;,\n",
       "&quot;limits&quot;:[null,null]\n",
       "},{\n",
       "&quot;aesthetic&quot;:&quot;y&quot;,\n",
       "&quot;limits&quot;:[null,null]\n",
       "},{\n",
       "&quot;aesthetic&quot;:&quot;x&quot;,\n",
       "&quot;limits&quot;:[null,null]\n",
       "},{\n",
       "&quot;aesthetic&quot;:&quot;y&quot;,\n",
       "&quot;limits&quot;:[null,null]\n",
       "},{\n",
       "&quot;aesthetic&quot;:&quot;x&quot;,\n",
       "&quot;limits&quot;:[null,null]\n",
       "},{\n",
       "&quot;aesthetic&quot;:&quot;y&quot;,\n",
       "&quot;limits&quot;:[null,null]\n",
       "},{\n",
       "&quot;aesthetic&quot;:&quot;x&quot;,\n",
       "&quot;limits&quot;:[null,null]\n",
       "},{\n",
       "&quot;aesthetic&quot;:&quot;y&quot;,\n",
       "&quot;limits&quot;:[null,null]\n",
       "},{\n",
       "&quot;aesthetic&quot;:&quot;x&quot;,\n",
       "&quot;limits&quot;:[null,null]\n",
       "},{\n",
       "&quot;aesthetic&quot;:&quot;y&quot;,\n",
       "&quot;limits&quot;:[null,null]\n",
       "},{\n",
       "&quot;aesthetic&quot;:&quot;x&quot;,\n",
       "&quot;limits&quot;:[null,null]\n",
       "},{\n",
       "&quot;aesthetic&quot;:&quot;y&quot;,\n",
       "&quot;limits&quot;:[null,null]\n",
       "},{\n",
       "&quot;aesthetic&quot;:&quot;x&quot;,\n",
       "&quot;limits&quot;:[null,null]\n",
       "},{\n",
       "&quot;aesthetic&quot;:&quot;y&quot;,\n",
       "&quot;limits&quot;:[null,null]\n",
       "},{\n",
       "&quot;aesthetic&quot;:&quot;x&quot;,\n",
       "&quot;limits&quot;:[null,null]\n",
       "},{\n",
       "&quot;aesthetic&quot;:&quot;y&quot;,\n",
       "&quot;limits&quot;:[null,null]\n",
       "},{\n",
       "&quot;aesthetic&quot;:&quot;x&quot;,\n",
       "&quot;limits&quot;:[null,null]\n",
       "},{\n",
       "&quot;aesthetic&quot;:&quot;y&quot;,\n",
       "&quot;limits&quot;:[null,null]\n",
       "},{\n",
       "&quot;aesthetic&quot;:&quot;x&quot;,\n",
       "&quot;limits&quot;:[null,null]\n",
       "},{\n",
       "&quot;aesthetic&quot;:&quot;y&quot;,\n",
       "&quot;limits&quot;:[null,null]\n",
       "},{\n",
       "&quot;aesthetic&quot;:&quot;x&quot;,\n",
       "&quot;limits&quot;:[null,null]\n",
       "},{\n",
       "&quot;aesthetic&quot;:&quot;y&quot;,\n",
       "&quot;limits&quot;:[null,null]\n",
       "},{\n",
       "&quot;aesthetic&quot;:&quot;x&quot;,\n",
       "&quot;limits&quot;:[null,null]\n",
       "},{\n",
       "&quot;aesthetic&quot;:&quot;y&quot;,\n",
       "&quot;limits&quot;:[null,null]\n",
       "},{\n",
       "&quot;aesthetic&quot;:&quot;x&quot;,\n",
       "&quot;limits&quot;:[null,null]\n",
       "},{\n",
       "&quot;aesthetic&quot;:&quot;y&quot;,\n",
       "&quot;limits&quot;:[null,null]\n",
       "},{\n",
       "&quot;aesthetic&quot;:&quot;x&quot;,\n",
       "&quot;limits&quot;:[null,null]\n",
       "},{\n",
       "&quot;aesthetic&quot;:&quot;y&quot;,\n",
       "&quot;limits&quot;:[null,null]\n",
       "},{\n",
       "&quot;aesthetic&quot;:&quot;x&quot;,\n",
       "&quot;limits&quot;:[null,null]\n",
       "},{\n",
       "&quot;aesthetic&quot;:&quot;y&quot;,\n",
       "&quot;limits&quot;:[null,null]\n",
       "},{\n",
       "&quot;aesthetic&quot;:&quot;x&quot;,\n",
       "&quot;limits&quot;:[null,null]\n",
       "},{\n",
       "&quot;aesthetic&quot;:&quot;y&quot;,\n",
       "&quot;limits&quot;:[null,null]\n",
       "},{\n",
       "&quot;aesthetic&quot;:&quot;x&quot;,\n",
       "&quot;limits&quot;:[null,null]\n",
       "},{\n",
       "&quot;aesthetic&quot;:&quot;y&quot;,\n",
       "&quot;limits&quot;:[null,null]\n",
       "},{\n",
       "&quot;aesthetic&quot;:&quot;x&quot;,\n",
       "&quot;limits&quot;:[null,null]\n",
       "},{\n",
       "&quot;aesthetic&quot;:&quot;y&quot;,\n",
       "&quot;limits&quot;:[null,null]\n",
       "},{\n",
       "&quot;aesthetic&quot;:&quot;x&quot;,\n",
       "&quot;limits&quot;:[null,null]\n",
       "},{\n",
       "&quot;aesthetic&quot;:&quot;y&quot;,\n",
       "&quot;limits&quot;:[null,null]\n",
       "},{\n",
       "&quot;aesthetic&quot;:&quot;x&quot;,\n",
       "&quot;limits&quot;:[null,null]\n",
       "},{\n",
       "&quot;aesthetic&quot;:&quot;y&quot;,\n",
       "&quot;limits&quot;:[null,null]\n",
       "},{\n",
       "&quot;aesthetic&quot;:&quot;x&quot;,\n",
       "&quot;limits&quot;:[null,null]\n",
       "},{\n",
       "&quot;aesthetic&quot;:&quot;y&quot;,\n",
       "&quot;limits&quot;:[null,null]\n",
       "},{\n",
       "&quot;aesthetic&quot;:&quot;x&quot;,\n",
       "&quot;limits&quot;:[null,null]\n",
       "},{\n",
       "&quot;aesthetic&quot;:&quot;y&quot;,\n",
       "&quot;limits&quot;:[null,null]\n",
       "},{\n",
       "&quot;aesthetic&quot;:&quot;x&quot;,\n",
       "&quot;limits&quot;:[null,null]\n",
       "},{\n",
       "&quot;aesthetic&quot;:&quot;y&quot;,\n",
       "&quot;limits&quot;:[null,null]\n",
       "},{\n",
       "&quot;aesthetic&quot;:&quot;x&quot;,\n",
       "&quot;limits&quot;:[null,null]\n",
       "},{\n",
       "&quot;aesthetic&quot;:&quot;y&quot;,\n",
       "&quot;limits&quot;:[null,null]\n",
       "},{\n",
       "&quot;aesthetic&quot;:&quot;x&quot;,\n",
       "&quot;limits&quot;:[null,null]\n",
       "},{\n",
       "&quot;aesthetic&quot;:&quot;y&quot;,\n",
       "&quot;limits&quot;:[null,null]\n",
       "},{\n",
       "&quot;aesthetic&quot;:&quot;x&quot;,\n",
       "&quot;limits&quot;:[null,null]\n",
       "},{\n",
       "&quot;aesthetic&quot;:&quot;y&quot;,\n",
       "&quot;limits&quot;:[null,null]\n",
       "},{\n",
       "&quot;aesthetic&quot;:&quot;x&quot;,\n",
       "&quot;limits&quot;:[null,null]\n",
       "},{\n",
       "&quot;aesthetic&quot;:&quot;y&quot;,\n",
       "&quot;limits&quot;:[null,null]\n",
       "},{\n",
       "&quot;aesthetic&quot;:&quot;x&quot;,\n",
       "&quot;limits&quot;:[null,null]\n",
       "},{\n",
       "&quot;aesthetic&quot;:&quot;y&quot;,\n",
       "&quot;limits&quot;:[null,null]\n",
       "},{\n",
       "&quot;aesthetic&quot;:&quot;x&quot;,\n",
       "&quot;limits&quot;:[null,null]\n",
       "},{\n",
       "&quot;aesthetic&quot;:&quot;y&quot;,\n",
       "&quot;limits&quot;:[null,null]\n",
       "},{\n",
       "&quot;aesthetic&quot;:&quot;x&quot;,\n",
       "&quot;limits&quot;:[null,null]\n",
       "},{\n",
       "&quot;aesthetic&quot;:&quot;y&quot;,\n",
       "&quot;limits&quot;:[null,null]\n",
       "},{\n",
       "&quot;aesthetic&quot;:&quot;x&quot;,\n",
       "&quot;limits&quot;:[null,null]\n",
       "},{\n",
       "&quot;aesthetic&quot;:&quot;y&quot;,\n",
       "&quot;limits&quot;:[null,null]\n",
       "},{\n",
       "&quot;aesthetic&quot;:&quot;x&quot;,\n",
       "&quot;limits&quot;:[null,null]\n",
       "},{\n",
       "&quot;aesthetic&quot;:&quot;y&quot;,\n",
       "&quot;limits&quot;:[null,null]\n",
       "},{\n",
       "&quot;aesthetic&quot;:&quot;x&quot;,\n",
       "&quot;limits&quot;:[null,null]\n",
       "},{\n",
       "&quot;aesthetic&quot;:&quot;y&quot;,\n",
       "&quot;limits&quot;:[null,null]\n",
       "},{\n",
       "&quot;aesthetic&quot;:&quot;x&quot;,\n",
       "&quot;limits&quot;:[null,null]\n",
       "},{\n",
       "&quot;aesthetic&quot;:&quot;y&quot;,\n",
       "&quot;limits&quot;:[null,null]\n",
       "},{\n",
       "&quot;aesthetic&quot;:&quot;x&quot;,\n",
       "&quot;limits&quot;:[null,null]\n",
       "},{\n",
       "&quot;aesthetic&quot;:&quot;y&quot;,\n",
       "&quot;limits&quot;:[null,null]\n",
       "},{\n",
       "&quot;aesthetic&quot;:&quot;x&quot;,\n",
       "&quot;limits&quot;:[null,null]\n",
       "},{\n",
       "&quot;aesthetic&quot;:&quot;y&quot;,\n",
       "&quot;limits&quot;:[null,null]\n",
       "},{\n",
       "&quot;aesthetic&quot;:&quot;x&quot;,\n",
       "&quot;limits&quot;:[null,null]\n",
       "},{\n",
       "&quot;aesthetic&quot;:&quot;y&quot;,\n",
       "&quot;limits&quot;:[null,null]\n",
       "},{\n",
       "&quot;aesthetic&quot;:&quot;x&quot;,\n",
       "&quot;limits&quot;:[null,null]\n",
       "},{\n",
       "&quot;aesthetic&quot;:&quot;y&quot;,\n",
       "&quot;limits&quot;:[null,null]\n",
       "},{\n",
       "&quot;aesthetic&quot;:&quot;x&quot;,\n",
       "&quot;limits&quot;:[null,null]\n",
       "},{\n",
       "&quot;aesthetic&quot;:&quot;y&quot;,\n",
       "&quot;limits&quot;:[null,null]\n",
       "},{\n",
       "&quot;aesthetic&quot;:&quot;x&quot;,\n",
       "&quot;limits&quot;:[null,null]\n",
       "},{\n",
       "&quot;aesthetic&quot;:&quot;y&quot;,\n",
       "&quot;limits&quot;:[null,null]\n",
       "},{\n",
       "&quot;aesthetic&quot;:&quot;x&quot;,\n",
       "&quot;limits&quot;:[null,null]\n",
       "},{\n",
       "&quot;aesthetic&quot;:&quot;y&quot;,\n",
       "&quot;limits&quot;:[null,null]\n",
       "},{\n",
       "&quot;aesthetic&quot;:&quot;x&quot;,\n",
       "&quot;limits&quot;:[null,null]\n",
       "},{\n",
       "&quot;aesthetic&quot;:&quot;y&quot;,\n",
       "&quot;limits&quot;:[null,null]\n",
       "},{\n",
       "&quot;aesthetic&quot;:&quot;x&quot;,\n",
       "&quot;limits&quot;:[null,null]\n",
       "},{\n",
       "&quot;aesthetic&quot;:&quot;y&quot;,\n",
       "&quot;limits&quot;:[null,null]\n",
       "},{\n",
       "&quot;aesthetic&quot;:&quot;x&quot;,\n",
       "&quot;limits&quot;:[null,null]\n",
       "},{\n",
       "&quot;aesthetic&quot;:&quot;y&quot;,\n",
       "&quot;limits&quot;:[null,null]\n",
       "},{\n",
       "&quot;aesthetic&quot;:&quot;x&quot;,\n",
       "&quot;limits&quot;:[null,null]\n",
       "},{\n",
       "&quot;aesthetic&quot;:&quot;y&quot;,\n",
       "&quot;limits&quot;:[null,null]\n",
       "},{\n",
       "&quot;aesthetic&quot;:&quot;x&quot;,\n",
       "&quot;limits&quot;:[null,null]\n",
       "},{\n",
       "&quot;aesthetic&quot;:&quot;y&quot;,\n",
       "&quot;limits&quot;:[null,null]\n",
       "},{\n",
       "&quot;aesthetic&quot;:&quot;x&quot;,\n",
       "&quot;limits&quot;:[null,null]\n",
       "},{\n",
       "&quot;aesthetic&quot;:&quot;y&quot;,\n",
       "&quot;limits&quot;:[null,null]\n",
       "},{\n",
       "&quot;aesthetic&quot;:&quot;x&quot;,\n",
       "&quot;limits&quot;:[null,null]\n",
       "},{\n",
       "&quot;aesthetic&quot;:&quot;y&quot;,\n",
       "&quot;limits&quot;:[null,null]\n",
       "},{\n",
       "&quot;aesthetic&quot;:&quot;x&quot;,\n",
       "&quot;limits&quot;:[null,null]\n",
       "},{\n",
       "&quot;aesthetic&quot;:&quot;y&quot;,\n",
       "&quot;limits&quot;:[null,null]\n",
       "},{\n",
       "&quot;aesthetic&quot;:&quot;x&quot;,\n",
       "&quot;limits&quot;:[null,null]\n",
       "},{\n",
       "&quot;aesthetic&quot;:&quot;y&quot;,\n",
       "&quot;limits&quot;:[null,null]\n",
       "},{\n",
       "&quot;aesthetic&quot;:&quot;x&quot;,\n",
       "&quot;limits&quot;:[null,null]\n",
       "},{\n",
       "&quot;aesthetic&quot;:&quot;y&quot;,\n",
       "&quot;limits&quot;:[null,null]\n",
       "},{\n",
       "&quot;aesthetic&quot;:&quot;x&quot;,\n",
       "&quot;limits&quot;:[null,null]\n",
       "},{\n",
       "&quot;aesthetic&quot;:&quot;y&quot;,\n",
       "&quot;limits&quot;:[null,null]\n",
       "},{\n",
       "&quot;aesthetic&quot;:&quot;x&quot;,\n",
       "&quot;limits&quot;:[null,null]\n",
       "},{\n",
       "&quot;aesthetic&quot;:&quot;y&quot;,\n",
       "&quot;limits&quot;:[null,null]\n",
       "},{\n",
       "&quot;aesthetic&quot;:&quot;x&quot;,\n",
       "&quot;limits&quot;:[null,null]\n",
       "},{\n",
       "&quot;aesthetic&quot;:&quot;y&quot;,\n",
       "&quot;limits&quot;:[null,null]\n",
       "},{\n",
       "&quot;aesthetic&quot;:&quot;x&quot;,\n",
       "&quot;limits&quot;:[null,null]\n",
       "},{\n",
       "&quot;aesthetic&quot;:&quot;y&quot;,\n",
       "&quot;limits&quot;:[null,null]\n",
       "},{\n",
       "&quot;aesthetic&quot;:&quot;x&quot;,\n",
       "&quot;limits&quot;:[null,null]\n",
       "},{\n",
       "&quot;aesthetic&quot;:&quot;y&quot;,\n",
       "&quot;limits&quot;:[null,null]\n",
       "},{\n",
       "&quot;aesthetic&quot;:&quot;x&quot;,\n",
       "&quot;limits&quot;:[null,null]\n",
       "},{\n",
       "&quot;aesthetic&quot;:&quot;y&quot;,\n",
       "&quot;limits&quot;:[null,null]\n",
       "},{\n",
       "&quot;aesthetic&quot;:&quot;x&quot;,\n",
       "&quot;limits&quot;:[null,null]\n",
       "},{\n",
       "&quot;aesthetic&quot;:&quot;y&quot;,\n",
       "&quot;limits&quot;:[null,null]\n",
       "},{\n",
       "&quot;aesthetic&quot;:&quot;x&quot;,\n",
       "&quot;limits&quot;:[null,null]\n",
       "},{\n",
       "&quot;aesthetic&quot;:&quot;y&quot;,\n",
       "&quot;limits&quot;:[null,null]\n",
       "},{\n",
       "&quot;aesthetic&quot;:&quot;x&quot;,\n",
       "&quot;limits&quot;:[null,null]\n",
       "},{\n",
       "&quot;aesthetic&quot;:&quot;y&quot;,\n",
       "&quot;limits&quot;:[null,null]\n",
       "},{\n",
       "&quot;aesthetic&quot;:&quot;x&quot;,\n",
       "&quot;limits&quot;:[null,null]\n",
       "},{\n",
       "&quot;aesthetic&quot;:&quot;y&quot;,\n",
       "&quot;limits&quot;:[null,null]\n",
       "},{\n",
       "&quot;aesthetic&quot;:&quot;x&quot;,\n",
       "&quot;limits&quot;:[null,null]\n",
       "},{\n",
       "&quot;aesthetic&quot;:&quot;y&quot;,\n",
       "&quot;limits&quot;:[null,null]\n",
       "},{\n",
       "&quot;aesthetic&quot;:&quot;x&quot;,\n",
       "&quot;limits&quot;:[null,null]\n",
       "},{\n",
       "&quot;aesthetic&quot;:&quot;y&quot;,\n",
       "&quot;limits&quot;:[null,null]\n",
       "},{\n",
       "&quot;aesthetic&quot;:&quot;x&quot;,\n",
       "&quot;limits&quot;:[null,null]\n",
       "},{\n",
       "&quot;aesthetic&quot;:&quot;y&quot;,\n",
       "&quot;limits&quot;:[null,null]\n",
       "},{\n",
       "&quot;aesthetic&quot;:&quot;x&quot;,\n",
       "&quot;limits&quot;:[null,null]\n",
       "},{\n",
       "&quot;aesthetic&quot;:&quot;y&quot;,\n",
       "&quot;limits&quot;:[null,null]\n",
       "},{\n",
       "&quot;aesthetic&quot;:&quot;x&quot;,\n",
       "&quot;limits&quot;:[null,null]\n",
       "},{\n",
       "&quot;aesthetic&quot;:&quot;y&quot;,\n",
       "&quot;limits&quot;:[null,null]\n",
       "},{\n",
       "&quot;aesthetic&quot;:&quot;x&quot;,\n",
       "&quot;limits&quot;:[null,null]\n",
       "},{\n",
       "&quot;aesthetic&quot;:&quot;y&quot;,\n",
       "&quot;limits&quot;:[null,null]\n",
       "},{\n",
       "&quot;aesthetic&quot;:&quot;x&quot;,\n",
       "&quot;limits&quot;:[null,null]\n",
       "},{\n",
       "&quot;aesthetic&quot;:&quot;y&quot;,\n",
       "&quot;limits&quot;:[null,null]\n",
       "},{\n",
       "&quot;aesthetic&quot;:&quot;x&quot;,\n",
       "&quot;limits&quot;:[null,null]\n",
       "},{\n",
       "&quot;aesthetic&quot;:&quot;y&quot;,\n",
       "&quot;limits&quot;:[null,null]\n",
       "},{\n",
       "&quot;aesthetic&quot;:&quot;x&quot;,\n",
       "&quot;limits&quot;:[null,null]\n",
       "},{\n",
       "&quot;aesthetic&quot;:&quot;y&quot;,\n",
       "&quot;limits&quot;:[null,null]\n",
       "},{\n",
       "&quot;aesthetic&quot;:&quot;x&quot;,\n",
       "&quot;limits&quot;:[null,null]\n",
       "},{\n",
       "&quot;aesthetic&quot;:&quot;y&quot;,\n",
       "&quot;limits&quot;:[null,null]\n",
       "},{\n",
       "&quot;aesthetic&quot;:&quot;x&quot;,\n",
       "&quot;limits&quot;:[null,null]\n",
       "},{\n",
       "&quot;aesthetic&quot;:&quot;y&quot;,\n",
       "&quot;limits&quot;:[null,null]\n",
       "},{\n",
       "&quot;aesthetic&quot;:&quot;x&quot;,\n",
       "&quot;limits&quot;:[null,null]\n",
       "},{\n",
       "&quot;aesthetic&quot;:&quot;y&quot;,\n",
       "&quot;limits&quot;:[null,null]\n",
       "},{\n",
       "&quot;aesthetic&quot;:&quot;x&quot;,\n",
       "&quot;limits&quot;:[null,null]\n",
       "},{\n",
       "&quot;aesthetic&quot;:&quot;y&quot;,\n",
       "&quot;limits&quot;:[null,null]\n",
       "},{\n",
       "&quot;aesthetic&quot;:&quot;x&quot;,\n",
       "&quot;limits&quot;:[null,null]\n",
       "},{\n",
       "&quot;aesthetic&quot;:&quot;y&quot;,\n",
       "&quot;limits&quot;:[null,null]\n",
       "},{\n",
       "&quot;aesthetic&quot;:&quot;x&quot;,\n",
       "&quot;limits&quot;:[null,null]\n",
       "},{\n",
       "&quot;aesthetic&quot;:&quot;y&quot;,\n",
       "&quot;limits&quot;:[null,null]\n",
       "},{\n",
       "&quot;aesthetic&quot;:&quot;x&quot;,\n",
       "&quot;limits&quot;:[null,null]\n",
       "},{\n",
       "&quot;aesthetic&quot;:&quot;y&quot;,\n",
       "&quot;limits&quot;:[null,null]\n",
       "},{\n",
       "&quot;aesthetic&quot;:&quot;x&quot;,\n",
       "&quot;limits&quot;:[null,null]\n",
       "},{\n",
       "&quot;aesthetic&quot;:&quot;y&quot;,\n",
       "&quot;limits&quot;:[null,null]\n",
       "},{\n",
       "&quot;aesthetic&quot;:&quot;x&quot;,\n",
       "&quot;limits&quot;:[null,null]\n",
       "},{\n",
       "&quot;aesthetic&quot;:&quot;y&quot;,\n",
       "&quot;limits&quot;:[null,null]\n",
       "},{\n",
       "&quot;aesthetic&quot;:&quot;x&quot;,\n",
       "&quot;limits&quot;:[null,null]\n",
       "},{\n",
       "&quot;aesthetic&quot;:&quot;y&quot;,\n",
       "&quot;limits&quot;:[null,null]\n",
       "},{\n",
       "&quot;aesthetic&quot;:&quot;x&quot;,\n",
       "&quot;limits&quot;:[null,null]\n",
       "},{\n",
       "&quot;aesthetic&quot;:&quot;y&quot;,\n",
       "&quot;limits&quot;:[null,null]\n",
       "},{\n",
       "&quot;aesthetic&quot;:&quot;x&quot;,\n",
       "&quot;limits&quot;:[null,null]\n",
       "},{\n",
       "&quot;aesthetic&quot;:&quot;y&quot;,\n",
       "&quot;limits&quot;:[null,null]\n",
       "},{\n",
       "&quot;aesthetic&quot;:&quot;x&quot;,\n",
       "&quot;limits&quot;:[null,null]\n",
       "},{\n",
       "&quot;aesthetic&quot;:&quot;y&quot;,\n",
       "&quot;limits&quot;:[null,null]\n",
       "},{\n",
       "&quot;aesthetic&quot;:&quot;x&quot;,\n",
       "&quot;limits&quot;:[null,null]\n",
       "},{\n",
       "&quot;aesthetic&quot;:&quot;y&quot;,\n",
       "&quot;limits&quot;:[null,null]\n",
       "},{\n",
       "&quot;aesthetic&quot;:&quot;x&quot;,\n",
       "&quot;limits&quot;:[null,null]\n",
       "},{\n",
       "&quot;aesthetic&quot;:&quot;y&quot;,\n",
       "&quot;limits&quot;:[null,null]\n",
       "},{\n",
       "&quot;aesthetic&quot;:&quot;x&quot;,\n",
       "&quot;limits&quot;:[null,null]\n",
       "},{\n",
       "&quot;aesthetic&quot;:&quot;y&quot;,\n",
       "&quot;limits&quot;:[null,null]\n",
       "},{\n",
       "&quot;aesthetic&quot;:&quot;x&quot;,\n",
       "&quot;limits&quot;:[null,null]\n",
       "},{\n",
       "&quot;aesthetic&quot;:&quot;y&quot;,\n",
       "&quot;limits&quot;:[null,null]\n",
       "},{\n",
       "&quot;aesthetic&quot;:&quot;x&quot;,\n",
       "&quot;limits&quot;:[null,null]\n",
       "},{\n",
       "&quot;aesthetic&quot;:&quot;y&quot;,\n",
       "&quot;limits&quot;:[null,null]\n",
       "},{\n",
       "&quot;aesthetic&quot;:&quot;x&quot;,\n",
       "&quot;limits&quot;:[null,null]\n",
       "},{\n",
       "&quot;aesthetic&quot;:&quot;y&quot;,\n",
       "&quot;limits&quot;:[null,null]\n",
       "},{\n",
       "&quot;aesthetic&quot;:&quot;x&quot;,\n",
       "&quot;limits&quot;:[null,null]\n",
       "},{\n",
       "&quot;aesthetic&quot;:&quot;y&quot;,\n",
       "&quot;limits&quot;:[null,null]\n",
       "},{\n",
       "&quot;aesthetic&quot;:&quot;x&quot;,\n",
       "&quot;limits&quot;:[null,null]\n",
       "},{\n",
       "&quot;aesthetic&quot;:&quot;y&quot;,\n",
       "&quot;limits&quot;:[null,null]\n",
       "},{\n",
       "&quot;aesthetic&quot;:&quot;x&quot;,\n",
       "&quot;limits&quot;:[null,null]\n",
       "},{\n",
       "&quot;aesthetic&quot;:&quot;y&quot;,\n",
       "&quot;limits&quot;:[null,null]\n",
       "},{\n",
       "&quot;aesthetic&quot;:&quot;x&quot;,\n",
       "&quot;limits&quot;:[null,null]\n",
       "},{\n",
       "&quot;aesthetic&quot;:&quot;y&quot;,\n",
       "&quot;limits&quot;:[null,null]\n",
       "},{\n",
       "&quot;aesthetic&quot;:&quot;x&quot;,\n",
       "&quot;limits&quot;:[null,null]\n",
       "},{\n",
       "&quot;aesthetic&quot;:&quot;y&quot;,\n",
       "&quot;limits&quot;:[null,null]\n",
       "},{\n",
       "&quot;aesthetic&quot;:&quot;x&quot;,\n",
       "&quot;limits&quot;:[null,null]\n",
       "},{\n",
       "&quot;aesthetic&quot;:&quot;y&quot;,\n",
       "&quot;limits&quot;:[null,null]\n",
       "},{\n",
       "&quot;aesthetic&quot;:&quot;x&quot;,\n",
       "&quot;limits&quot;:[null,null]\n",
       "},{\n",
       "&quot;aesthetic&quot;:&quot;y&quot;,\n",
       "&quot;limits&quot;:[null,null]\n",
       "},{\n",
       "&quot;aesthetic&quot;:&quot;x&quot;,\n",
       "&quot;limits&quot;:[null,null]\n",
       "},{\n",
       "&quot;aesthetic&quot;:&quot;y&quot;,\n",
       "&quot;limits&quot;:[null,null]\n",
       "},{\n",
       "&quot;aesthetic&quot;:&quot;x&quot;,\n",
       "&quot;limits&quot;:[null,null]\n",
       "},{\n",
       "&quot;aesthetic&quot;:&quot;y&quot;,\n",
       "&quot;limits&quot;:[null,null]\n",
       "},{\n",
       "&quot;aesthetic&quot;:&quot;x&quot;,\n",
       "&quot;limits&quot;:[null,null]\n",
       "},{\n",
       "&quot;aesthetic&quot;:&quot;y&quot;,\n",
       "&quot;limits&quot;:[null,null]\n",
       "},{\n",
       "&quot;aesthetic&quot;:&quot;x&quot;,\n",
       "&quot;limits&quot;:[null,null]\n",
       "},{\n",
       "&quot;aesthetic&quot;:&quot;y&quot;,\n",
       "&quot;limits&quot;:[null,null]\n",
       "},{\n",
       "&quot;aesthetic&quot;:&quot;x&quot;,\n",
       "&quot;limits&quot;:[null,null]\n",
       "},{\n",
       "&quot;aesthetic&quot;:&quot;y&quot;,\n",
       "&quot;limits&quot;:[null,null]\n",
       "},{\n",
       "&quot;aesthetic&quot;:&quot;x&quot;,\n",
       "&quot;limits&quot;:[null,null]\n",
       "},{\n",
       "&quot;aesthetic&quot;:&quot;y&quot;,\n",
       "&quot;limits&quot;:[null,null]\n",
       "},{\n",
       "&quot;aesthetic&quot;:&quot;x&quot;,\n",
       "&quot;limits&quot;:[null,null]\n",
       "},{\n",
       "&quot;aesthetic&quot;:&quot;y&quot;,\n",
       "&quot;limits&quot;:[null,null]\n",
       "},{\n",
       "&quot;aesthetic&quot;:&quot;x&quot;,\n",
       "&quot;limits&quot;:[null,null]\n",
       "},{\n",
       "&quot;aesthetic&quot;:&quot;y&quot;,\n",
       "&quot;limits&quot;:[null,null]\n",
       "},{\n",
       "&quot;aesthetic&quot;:&quot;x&quot;,\n",
       "&quot;limits&quot;:[null,null]\n",
       "},{\n",
       "&quot;aesthetic&quot;:&quot;y&quot;,\n",
       "&quot;limits&quot;:[null,null]\n",
       "},{\n",
       "&quot;aesthetic&quot;:&quot;x&quot;,\n",
       "&quot;limits&quot;:[null,null]\n",
       "},{\n",
       "&quot;aesthetic&quot;:&quot;y&quot;,\n",
       "&quot;limits&quot;:[null,null]\n",
       "},{\n",
       "&quot;aesthetic&quot;:&quot;x&quot;,\n",
       "&quot;limits&quot;:[null,null]\n",
       "},{\n",
       "&quot;aesthetic&quot;:&quot;y&quot;,\n",
       "&quot;limits&quot;:[null,null]\n",
       "},{\n",
       "&quot;aesthetic&quot;:&quot;x&quot;,\n",
       "&quot;limits&quot;:[null,null]\n",
       "},{\n",
       "&quot;aesthetic&quot;:&quot;y&quot;,\n",
       "&quot;limits&quot;:[null,null]\n",
       "},{\n",
       "&quot;aesthetic&quot;:&quot;x&quot;,\n",
       "&quot;limits&quot;:[null,null]\n",
       "},{\n",
       "&quot;aesthetic&quot;:&quot;y&quot;,\n",
       "&quot;limits&quot;:[null,null]\n",
       "},{\n",
       "&quot;aesthetic&quot;:&quot;x&quot;,\n",
       "&quot;limits&quot;:[null,null]\n",
       "},{\n",
       "&quot;aesthetic&quot;:&quot;y&quot;,\n",
       "&quot;limits&quot;:[null,null]\n",
       "},{\n",
       "&quot;aesthetic&quot;:&quot;x&quot;,\n",
       "&quot;limits&quot;:[null,null]\n",
       "},{\n",
       "&quot;aesthetic&quot;:&quot;y&quot;,\n",
       "&quot;limits&quot;:[null,null]\n",
       "},{\n",
       "&quot;aesthetic&quot;:&quot;x&quot;,\n",
       "&quot;limits&quot;:[null,null]\n",
       "},{\n",
       "&quot;aesthetic&quot;:&quot;y&quot;,\n",
       "&quot;limits&quot;:[null,null]\n",
       "},{\n",
       "&quot;aesthetic&quot;:&quot;x&quot;,\n",
       "&quot;limits&quot;:[null,null]\n",
       "},{\n",
       "&quot;aesthetic&quot;:&quot;y&quot;,\n",
       "&quot;limits&quot;:[null,null]\n",
       "},{\n",
       "&quot;aesthetic&quot;:&quot;x&quot;,\n",
       "&quot;limits&quot;:[null,null]\n",
       "},{\n",
       "&quot;aesthetic&quot;:&quot;y&quot;,\n",
       "&quot;limits&quot;:[null,null]\n",
       "},{\n",
       "&quot;aesthetic&quot;:&quot;x&quot;,\n",
       "&quot;limits&quot;:[null,null]\n",
       "},{\n",
       "&quot;aesthetic&quot;:&quot;y&quot;,\n",
       "&quot;limits&quot;:[null,null]\n",
       "},{\n",
       "&quot;aesthetic&quot;:&quot;x&quot;,\n",
       "&quot;limits&quot;:[null,null]\n",
       "},{\n",
       "&quot;aesthetic&quot;:&quot;y&quot;,\n",
       "&quot;limits&quot;:[null,null]\n",
       "},{\n",
       "&quot;aesthetic&quot;:&quot;x&quot;,\n",
       "&quot;limits&quot;:[null,null]\n",
       "},{\n",
       "&quot;aesthetic&quot;:&quot;y&quot;,\n",
       "&quot;limits&quot;:[null,null]\n",
       "},{\n",
       "&quot;aesthetic&quot;:&quot;x&quot;,\n",
       "&quot;limits&quot;:[null,null]\n",
       "},{\n",
       "&quot;aesthetic&quot;:&quot;y&quot;,\n",
       "&quot;limits&quot;:[null,null]\n",
       "},{\n",
       "&quot;aesthetic&quot;:&quot;x&quot;,\n",
       "&quot;limits&quot;:[null,null]\n",
       "},{\n",
       "&quot;aesthetic&quot;:&quot;y&quot;,\n",
       "&quot;limits&quot;:[null,null]\n",
       "},{\n",
       "&quot;aesthetic&quot;:&quot;x&quot;,\n",
       "&quot;limits&quot;:[null,null]\n",
       "},{\n",
       "&quot;aesthetic&quot;:&quot;y&quot;,\n",
       "&quot;limits&quot;:[null,null]\n",
       "},{\n",
       "&quot;aesthetic&quot;:&quot;x&quot;,\n",
       "&quot;limits&quot;:[null,null]\n",
       "},{\n",
       "&quot;aesthetic&quot;:&quot;y&quot;,\n",
       "&quot;limits&quot;:[null,null]\n",
       "},{\n",
       "&quot;aesthetic&quot;:&quot;x&quot;,\n",
       "&quot;limits&quot;:[null,null]\n",
       "},{\n",
       "&quot;aesthetic&quot;:&quot;y&quot;,\n",
       "&quot;limits&quot;:[null,null]\n",
       "},{\n",
       "&quot;aesthetic&quot;:&quot;x&quot;,\n",
       "&quot;limits&quot;:[null,null]\n",
       "},{\n",
       "&quot;aesthetic&quot;:&quot;y&quot;,\n",
       "&quot;limits&quot;:[null,null]\n",
       "},{\n",
       "&quot;aesthetic&quot;:&quot;x&quot;,\n",
       "&quot;limits&quot;:[null,null]\n",
       "},{\n",
       "&quot;aesthetic&quot;:&quot;y&quot;,\n",
       "&quot;limits&quot;:[null,null]\n",
       "},{\n",
       "&quot;aesthetic&quot;:&quot;x&quot;,\n",
       "&quot;limits&quot;:[null,null]\n",
       "},{\n",
       "&quot;aesthetic&quot;:&quot;y&quot;,\n",
       "&quot;limits&quot;:[null,null]\n",
       "},{\n",
       "&quot;aesthetic&quot;:&quot;x&quot;,\n",
       "&quot;limits&quot;:[null,null]\n",
       "},{\n",
       "&quot;aesthetic&quot;:&quot;y&quot;,\n",
       "&quot;limits&quot;:[null,null]\n",
       "},{\n",
       "&quot;aesthetic&quot;:&quot;x&quot;,\n",
       "&quot;limits&quot;:[null,null]\n",
       "},{\n",
       "&quot;aesthetic&quot;:&quot;y&quot;,\n",
       "&quot;limits&quot;:[null,null]\n",
       "},{\n",
       "&quot;aesthetic&quot;:&quot;x&quot;,\n",
       "&quot;limits&quot;:[null,null]\n",
       "},{\n",
       "&quot;aesthetic&quot;:&quot;y&quot;,\n",
       "&quot;limits&quot;:[null,null]\n",
       "},{\n",
       "&quot;aesthetic&quot;:&quot;x&quot;,\n",
       "&quot;limits&quot;:[null,null]\n",
       "},{\n",
       "&quot;aesthetic&quot;:&quot;y&quot;,\n",
       "&quot;limits&quot;:[null,null]\n",
       "},{\n",
       "&quot;aesthetic&quot;:&quot;x&quot;,\n",
       "&quot;limits&quot;:[null,null]\n",
       "},{\n",
       "&quot;aesthetic&quot;:&quot;y&quot;,\n",
       "&quot;limits&quot;:[null,null]\n",
       "},{\n",
       "&quot;aesthetic&quot;:&quot;x&quot;,\n",
       "&quot;limits&quot;:[null,null]\n",
       "},{\n",
       "&quot;aesthetic&quot;:&quot;y&quot;,\n",
       "&quot;limits&quot;:[null,null]\n",
       "},{\n",
       "&quot;aesthetic&quot;:&quot;x&quot;,\n",
       "&quot;limits&quot;:[null,null]\n",
       "},{\n",
       "&quot;aesthetic&quot;:&quot;y&quot;,\n",
       "&quot;limits&quot;:[null,null]\n",
       "},{\n",
       "&quot;aesthetic&quot;:&quot;x&quot;,\n",
       "&quot;limits&quot;:[null,null]\n",
       "},{\n",
       "&quot;aesthetic&quot;:&quot;y&quot;,\n",
       "&quot;limits&quot;:[null,null]\n",
       "},{\n",
       "&quot;aesthetic&quot;:&quot;x&quot;,\n",
       "&quot;limits&quot;:[null,null]\n",
       "},{\n",
       "&quot;aesthetic&quot;:&quot;y&quot;,\n",
       "&quot;limits&quot;:[null,null]\n",
       "},{\n",
       "&quot;aesthetic&quot;:&quot;x&quot;,\n",
       "&quot;limits&quot;:[null,null]\n",
       "},{\n",
       "&quot;aesthetic&quot;:&quot;y&quot;,\n",
       "&quot;limits&quot;:[null,null]\n",
       "},{\n",
       "&quot;aesthetic&quot;:&quot;x&quot;,\n",
       "&quot;limits&quot;:[null,null]\n",
       "},{\n",
       "&quot;aesthetic&quot;:&quot;y&quot;,\n",
       "&quot;limits&quot;:[null,null]\n",
       "},{\n",
       "&quot;aesthetic&quot;:&quot;x&quot;,\n",
       "&quot;limits&quot;:[null,null]\n",
       "},{\n",
       "&quot;aesthetic&quot;:&quot;y&quot;,\n",
       "&quot;limits&quot;:[null,null]\n",
       "},{\n",
       "&quot;aesthetic&quot;:&quot;x&quot;,\n",
       "&quot;limits&quot;:[null,null]\n",
       "},{\n",
       "&quot;aesthetic&quot;:&quot;y&quot;,\n",
       "&quot;limits&quot;:[null,null]\n",
       "},{\n",
       "&quot;aesthetic&quot;:&quot;x&quot;,\n",
       "&quot;limits&quot;:[null,null]\n",
       "},{\n",
       "&quot;aesthetic&quot;:&quot;y&quot;,\n",
       "&quot;limits&quot;:[null,null]\n",
       "},{\n",
       "&quot;aesthetic&quot;:&quot;x&quot;,\n",
       "&quot;limits&quot;:[null,null]\n",
       "},{\n",
       "&quot;aesthetic&quot;:&quot;y&quot;,\n",
       "&quot;limits&quot;:[null,null]\n",
       "},{\n",
       "&quot;aesthetic&quot;:&quot;x&quot;,\n",
       "&quot;limits&quot;:[null,null]\n",
       "},{\n",
       "&quot;aesthetic&quot;:&quot;y&quot;,\n",
       "&quot;limits&quot;:[null,null]\n",
       "},{\n",
       "&quot;aesthetic&quot;:&quot;x&quot;,\n",
       "&quot;limits&quot;:[null,null]\n",
       "},{\n",
       "&quot;aesthetic&quot;:&quot;y&quot;,\n",
       "&quot;limits&quot;:[null,null]\n",
       "},{\n",
       "&quot;aesthetic&quot;:&quot;x&quot;,\n",
       "&quot;limits&quot;:[null,null]\n",
       "},{\n",
       "&quot;aesthetic&quot;:&quot;y&quot;,\n",
       "&quot;limits&quot;:[null,null]\n",
       "}],\n",
       "&quot;layers&quot;:[{\n",
       "&quot;mapping&quot;:{\n",
       "&quot;x&quot;:&quot;x&quot;,\n",
       "&quot;y&quot;:&quot;y&quot;\n",
       "},\n",
       "&quot;stat&quot;:&quot;identity&quot;,\n",
       "&quot;data&quot;:{\n",
       "&quot;x&quot;:[-7.691851670053066,-1.5321006137747646,6.313099908080359,-2.1893296529810167,-6.024689726826558,-4.606622009504947,1.9093629584957743,-6.811976597547002,1.166283176345459,8.192680116316367,8.635830394783047,4.64150296555965,6.618716019817215,-2.9073117915601268,0.45842238032975213,4.036592363815934,0.16780024261425203,0.5237705649985823,-3.809085205178473,5.443896592275631,-4.807306565767536,0.6803486886802071,-6.563315905916052,5.368503162207507,-5.507820780280913,-3.1091748787240774,-6.004096913093898,-0.7993386861119285,5.278996936007406,0.6857949173288435,-2.3629650832744833,4.189873519417356,4.031075459236198,-5.300206271016618,-8.659013563208708,-1.681601750404971,6.286789750091985,-2.2769496906206887,-1.1330043291577867,9.715180479787445,0.7208695285348894,5.785749945663884,-2.36557265133993,-3.893203324672584,6.67434741754815,7.294458552957249,-2.408506675064619,6.537607124297484,5.691469823750128,-9.071447089794892],\n",
       "&quot;y&quot;:[3.130411871110326,5.031347688212745,-7.500132331340807,-9.426709394840067,-0.3716429271886858,8.760716842260509,8.95982508755239,-2.5532501483719736,-8.16833251973014,-1.5987531767962053,-3.321266224089833,5.86549367316646,1.0918410891459047,-8.919200367267818,8.977574524018229,0.17931657646235563,-5.831350689952782,-5.583420218948326,-8.148087302714439,-2.9565890288781915,5.798844363730935,-7.518301256675837,-6.637092541208195,-5.037643760014762,6.715903797841199,-7.366214344478716,-0.008417944551774189,-2.3981067368838644,-7.942002314862815,-0.13452271913775407,8.468692899166694,-3.654021985442882,6.273427880173649,-1.8495584173360962,3.1423996378052506,9.41162083968731,-6.990450223395455,-5.795507106263236,2.1878530336932442,2.2569731625805733,1.6190465655128197,-0.8124053604616134,8.295400552936805,0.1840382131040973,6.289401310664687,-5.086090900110731,-4.699466354361067,6.5767962939064635,6.926908681279536,-1.5827935015179369]\n",
       "},\n",
       "&quot;color&quot;:&quot;#ffffff&quot;,\n",
       "&quot;sampling&quot;:&quot;none&quot;,\n",
       "&quot;position&quot;:&quot;identity&quot;,\n",
       "&quot;geom&quot;:&quot;point&quot;\n",
       "},{\n",
       "&quot;mapping&quot;:{\n",
       "&quot;x&quot;:&quot;x&quot;,\n",
       "&quot;y&quot;:&quot;y&quot;\n",
       "},\n",
       "&quot;stat&quot;:&quot;identity&quot;,\n",
       "&quot;data&quot;:{\n",
       "&quot;x&quot;:[6.852610639152025,5.515253379668144,7.075381120913859,2.2287752765347184,-8.192062287555549,-4.0122912867957155,-8.371681918512794,-2.2539861033912705,1.9229787317374245,-1.7982718954951815,2.0330393255401398,-6.204709677602441,-4.345055441495659,1.2910803011205254,-0.3992673304650444,-2.7993314897633343,8.912383349815704,-4.350302777526028,-4.251727326360156,-5.610649963306586,2.2280866505357295,3.4064450561697632,-2.337937863717057,-0.7560306169707068,-0.8643678395488986,7.779616089272508,-0.5244568772087411,3.415157000054002,5.975063525855886,5.177207102419165,-0.21436396142093095,-4.553622077664923,4.5734331562621,4.766806685472173,-2.3273566881297514,1.1715571397353959,0.37597331844948045,-3.4137348883794156,1.7244709909458624,6.326345845513253,-9.259985370320022,6.868699590619022,-5.803950681343716,6.200396162695752,-0.007255293102198283,3.256318726787134,-1.2999246352422713],\n",
       "&quot;y&quot;:[-1.3141524455540858,-1.383319639822937,-2.787378755045249,8.326554260111592,1.9914144061370254,6.260042677666546,-3.876317719088107,-3.1067915206036503,-2.3275487191487887,-3.9309934132309574,1.0526953363252,-2.0948360731990876,-2.373026998995277,-3.0866506449854705,4.324335886073133,-3.810489001096512,3.353483983395019,6.464498816250971,4.942016603268828,-5.451439760878824,-0.9006640317128828,0.7338838048686545,9.078663320478821,-8.07280109614157,2.8361767112949923,2.7445707507086694,4.829149838563385,5.5767237120296755,3.2616761780091217,0.48827835413011633,-2.1925153066820933,-5.050590198637661,-3.2876046605504605,1.4721680369067787,-8.837928479219906,5.77639698733995,-7.3774735948822165,9.256497646079996,1.3526539382535485,-5.4651812316645065,1.0771733476072844,1.1944455804323333,7.60008882351265,6.2016250856127755,-8.740603323292618,1.8374997501754051,-9.748938961496997]\n",
       "},\n",
       "&quot;color&quot;:&quot;#3ba272&quot;,\n",
       "&quot;size&quot;:5.0,\n",
       "&quot;sampling&quot;:&quot;none&quot;,\n",
       "&quot;position&quot;:&quot;identity&quot;,\n",
       "&quot;geom&quot;:&quot;point&quot;\n",
       "},{\n",
       "&quot;mapping&quot;:{\n",
       "&quot;x&quot;:&quot;x&quot;,\n",
       "&quot;y&quot;:&quot;y&quot;\n",
       "},\n",
       "&quot;stat&quot;:&quot;identity&quot;,\n",
       "&quot;data&quot;:{\n",
       "&quot;x&quot;:[0.0],\n",
       "&quot;y&quot;:[0.0]\n",
       "},\n",
       "&quot;color&quot;:&quot;#ee6666&quot;,\n",
       "&quot;sampling&quot;:&quot;none&quot;,\n",
       "&quot;position&quot;:&quot;identity&quot;,\n",
       "&quot;geom&quot;:&quot;point&quot;\n",
       "},{\n",
       "&quot;mapping&quot;:{\n",
       "&quot;x&quot;:&quot;x&quot;,\n",
       "&quot;y&quot;:&quot;y&quot;\n",
       "},\n",
       "&quot;stat&quot;:&quot;identity&quot;,\n",
       "&quot;data&quot;:{\n",
       "&quot;x&quot;:[-7.691851670053066,-6.967407280697192],\n",
       "&quot;y&quot;:[3.130411871110326,2.4410786231592394]\n",
       "},\n",
       "&quot;color&quot;:&quot;#a39999&quot;,\n",
       "&quot;sampling&quot;:&quot;none&quot;,\n",
       "&quot;position&quot;:&quot;identity&quot;,\n",
       "&quot;geom&quot;:&quot;line&quot;\n",
       "},{\n",
       "&quot;mapping&quot;:{\n",
       "&quot;x&quot;:&quot;x&quot;,\n",
       "&quot;y&quot;:&quot;y&quot;\n",
       "},\n",
       "&quot;stat&quot;:&quot;identity&quot;,\n",
       "&quot;data&quot;:{\n",
       "&quot;x&quot;:[-7.691851670053066,-8.381184918004152],\n",
       "&quot;y&quot;:[3.130411871110326,2.405967481754452]\n",
       "},\n",
       "&quot;color&quot;:&quot;#a39999&quot;,\n",
       "&quot;sampling&quot;:&quot;none&quot;,\n",
       "&quot;position&quot;:&quot;identity&quot;,\n",
       "&quot;geom&quot;:&quot;line&quot;\n",
       "},{\n",
       "&quot;mapping&quot;:{\n",
       "&quot;x&quot;:&quot;x&quot;,\n",
       "&quot;y&quot;:&quot;y&quot;\n",
       "},\n",
       "&quot;stat&quot;:&quot;identity&quot;,\n",
       "&quot;data&quot;:{\n",
       "&quot;x&quot;:[-7.691851670053066,-7.667024343870541],\n",
       "&quot;y&quot;:[3.130411871110326,2.1307201166806786]\n",
       "},\n",
       "&quot;color&quot;:&quot;#ffffff&quot;,\n",
       "&quot;sampling&quot;:&quot;none&quot;,\n",
       "&quot;position&quot;:&quot;identity&quot;,\n",
       "&quot;geom&quot;:&quot;line&quot;\n",
       "},{\n",
       "&quot;mapping&quot;:{\n",
       "&quot;x&quot;:&quot;x&quot;,\n",
       "&quot;y&quot;:&quot;y&quot;\n",
       "},\n",
       "&quot;stat&quot;:&quot;identity&quot;,\n",
       "&quot;data&quot;:{\n",
       "&quot;x&quot;:[-1.5321006137747646,-2.4378703675867195],\n",
       "&quot;y&quot;:[5.031347688212745,4.607577522817126]\n",
       "},\n",
       "&quot;color&quot;:&quot;#a39999&quot;,\n",
       "&quot;sampling&quot;:&quot;none&quot;,\n",
       "&quot;position&quot;:&quot;identity&quot;,\n",
       "&quot;geom&quot;:&quot;line&quot;\n",
       "},{\n",
       "&quot;mapping&quot;:{\n",
       "&quot;x&quot;:&quot;x&quot;,\n",
       "&quot;y&quot;:&quot;y&quot;\n",
       "},\n",
       "&quot;stat&quot;:&quot;identity&quot;,\n",
       "&quot;data&quot;:{\n",
       "&quot;x&quot;:[-1.5321006137747646,-1.9558707791703842],\n",
       "&quot;y&quot;:[5.031347688212745,5.937117442024699]\n",
       "},\n",
       "&quot;color&quot;:&quot;#a39999&quot;,\n",
       "&quot;sampling&quot;:&quot;none&quot;,\n",
       "&quot;position&quot;:&quot;identity&quot;,\n",
       "&quot;geom&quot;:&quot;line&quot;\n",
       "},{\n",
       "&quot;mapping&quot;:{\n",
       "&quot;x&quot;:&quot;x&quot;,\n",
       "&quot;y&quot;:&quot;y&quot;\n",
       "},\n",
       "&quot;stat&quot;:&quot;identity&quot;,\n",
       "&quot;data&quot;:{\n",
       "&quot;x&quot;:[-1.5321006137747646,-2.4722273065046547],\n",
       "&quot;y&quot;:[5.031347688212745,5.37217286571106]\n",
       "},\n",
       "&quot;color&quot;:&quot;#ffffff&quot;,\n",
       "&quot;sampling&quot;:&quot;none&quot;,\n",
       "&quot;position&quot;:&quot;identity&quot;,\n",
       "&quot;geom&quot;:&quot;line&quot;\n",
       "},{\n",
       "&quot;mapping&quot;:{\n",
       "&quot;x&quot;:&quot;x&quot;,\n",
       "&quot;y&quot;:&quot;y&quot;\n",
       "},\n",
       "&quot;stat&quot;:&quot;identity&quot;,\n",
       "&quot;data&quot;:{\n",
       "&quot;x&quot;:[6.313099908080359,6.8241164646665755],\n",
       "&quot;y&quot;:[-7.500132331340807,-6.64056146230512]\n",
       "},\n",
       "&quot;color&quot;:&quot;#a39999&quot;,\n",
       "&quot;sampling&quot;:&quot;none&quot;,\n",
       "&quot;position&quot;:&quot;identity&quot;,\n",
       "&quot;geom&quot;:&quot;line&quot;\n",
       "},{\n",
       "&quot;mapping&quot;:{\n",
       "&quot;x&quot;:&quot;x&quot;,\n",
       "&quot;y&quot;:&quot;y&quot;\n",
       "},\n",
       "&quot;stat&quot;:&quot;identity&quot;,\n",
       "&quot;data&quot;:{\n",
       "&quot;x&quot;:[6.313099908080359,7.172670777116045],\n",
       "&quot;y&quot;:[-7.500132331340807,-8.011148887927023]\n",
       "},\n",
       "&quot;color&quot;:&quot;#a39999&quot;,\n",
       "&quot;sampling&quot;:&quot;none&quot;,\n",
       "&quot;position&quot;:&quot;identity&quot;,\n",
       "&quot;geom&quot;:&quot;line&quot;\n",
       "},{\n",
       "&quot;mapping&quot;:{\n",
       "&quot;x&quot;:&quot;x&quot;,\n",
       "&quot;y&quot;:&quot;y&quot;\n",
       "},\n",
       "&quot;stat&quot;:&quot;identity&quot;,\n",
       "&quot;data&quot;:{\n",
       "&quot;x&quot;:[6.313099908080359,7.282251570946619],\n",
       "&quot;y&quot;:[-7.500132331340807,-7.253667213395972]\n",
       "},\n",
       "&quot;color&quot;:&quot;#ffffff&quot;,\n",
       "&quot;sampling&quot;:&quot;none&quot;,\n",
       "&quot;position&quot;:&quot;identity&quot;,\n",
       "&quot;geom&quot;:&quot;line&quot;\n",
       "},{\n",
       "&quot;mapping&quot;:{\n",
       "&quot;x&quot;:&quot;x&quot;,\n",
       "&quot;y&quot;:&quot;y&quot;\n",
       "},\n",
       "&quot;stat&quot;:&quot;identity&quot;,\n",
       "&quot;data&quot;:{\n",
       "&quot;x&quot;:[-2.1893296529810167,-1.6530099585850686],\n",
       "&quot;y&quot;:[-9.426709394840067,-10.270724314970652]\n",
       "},\n",
       "&quot;color&quot;:&quot;#a39999&quot;,\n",
       "&quot;sampling&quot;:&quot;none&quot;,\n",
       "&quot;position&quot;:&quot;identity&quot;,\n",
       "&quot;geom&quot;:&quot;line&quot;\n",
       "},{\n",
       "&quot;mapping&quot;:{\n",
       "&quot;x&quot;:&quot;x&quot;,\n",
       "&quot;y&quot;:&quot;y&quot;\n",
       "},\n",
       "&quot;stat&quot;:&quot;identity&quot;,\n",
       "&quot;data&quot;:{\n",
       "&quot;x&quot;:[-2.1893296529810167,-3.033344573111601],\n",
       "&quot;y&quot;:[-9.426709394840067,-9.963029089236015]\n",
       "},\n",
       "&quot;color&quot;:&quot;#a39999&quot;,\n",
       "&quot;sampling&quot;:&quot;none&quot;,\n",
       "&quot;position&quot;:&quot;identity&quot;,\n",
       "&quot;geom&quot;:&quot;line&quot;\n",
       "},{\n",
       "&quot;mapping&quot;:{\n",
       "&quot;x&quot;:&quot;x&quot;,\n",
       "&quot;y&quot;:&quot;y&quot;\n",
       "},\n",
       "&quot;stat&quot;:&quot;identity&quot;,\n",
       "&quot;data&quot;:{\n",
       "&quot;x&quot;:[-2.1893296529810167,-2.4069030336367034],\n",
       "&quot;y&quot;:[-9.426709394840067,-10.402753361078297]\n",
       "},\n",
       "&quot;color&quot;:&quot;#ffffff&quot;,\n",
       "&quot;sampling&quot;:&quot;none&quot;,\n",
       "&quot;position&quot;:&quot;identity&quot;,\n",
       "&quot;geom&quot;:&quot;line&quot;\n",
       "},{\n",
       "&quot;mapping&quot;:{\n",
       "&quot;x&quot;:&quot;x&quot;,\n",
       "&quot;y&quot;:&quot;y&quot;\n",
       "},\n",
       "&quot;stat&quot;:&quot;identity&quot;,\n",
       "&quot;data&quot;:{\n",
       "&quot;x&quot;:[-6.024689726826558,-5.421218614397866],\n",
       "&quot;y&quot;:[-0.3716429271886858,0.4257419337561889]\n",
       "},\n",
       "&quot;color&quot;:&quot;#a39999&quot;,\n",
       "&quot;sampling&quot;:&quot;none&quot;,\n",
       "&quot;position&quot;:&quot;identity&quot;,\n",
       "&quot;geom&quot;:&quot;line&quot;\n",
       "},{\n",
       "&quot;mapping&quot;:{\n",
       "&quot;x&quot;:&quot;x&quot;,\n",
       "&quot;y&quot;:&quot;y&quot;\n",
       "},\n",
       "&quot;stat&quot;:&quot;identity&quot;,\n",
       "&quot;data&quot;:{\n",
       "&quot;x&quot;:[-6.024689726826558,-5.227304865881683],\n",
       "&quot;y&quot;:[-0.3716429271886858,-0.9751140396173776]\n",
       "},\n",
       "&quot;color&quot;:&quot;#a39999&quot;,\n",
       "&quot;sampling&quot;:&quot;none&quot;,\n",
       "&quot;position&quot;:&quot;identity&quot;,\n",
       "&quot;geom&quot;:&quot;line&quot;\n",
       "},{\n",
       "&quot;mapping&quot;:{\n",
       "&quot;x&quot;:&quot;x&quot;,\n",
       "&quot;y&quot;:&quot;y&quot;\n",
       "},\n",
       "&quot;stat&quot;:&quot;identity&quot;,\n",
       "&quot;data&quot;:{\n",
       "&quot;x&quot;:[-6.024689726826558,-5.034134968588427],\n",
       "&quot;y&quot;:[-0.3716429271886858,-0.23452520064759008]\n",
       "},\n",
       "&quot;color&quot;:&quot;#ffffff&quot;,\n",
       "&quot;sampling&quot;:&quot;none&quot;,\n",
       "&quot;position&quot;:&quot;identity&quot;,\n",
       "&quot;geom&quot;:&quot;line&quot;\n",
       "},{\n",
       "&quot;mapping&quot;:{\n",
       "&quot;x&quot;:&quot;x&quot;,\n",
       "&quot;y&quot;:&quot;y&quot;\n",
       "},\n",
       "&quot;stat&quot;:&quot;identity&quot;,\n",
       "&quot;data&quot;:{\n",
       "&quot;x&quot;:[-4.606622009504947,-3.9570362396641214],\n",
       "&quot;y&quot;:[8.760716842260509,9.521005161005643]\n",
       "},\n",
       "&quot;color&quot;:&quot;#a39999&quot;,\n",
       "&quot;sampling&quot;:&quot;none&quot;,\n",
       "&quot;position&quot;:&quot;identity&quot;,\n",
       "&quot;geom&quot;:&quot;line&quot;\n",
       "},{\n",
       "&quot;mapping&quot;:{\n",
       "&quot;x&quot;:&quot;x&quot;,\n",
       "&quot;y&quot;:&quot;y&quot;\n",
       "},\n",
       "&quot;stat&quot;:&quot;identity&quot;,\n",
       "&quot;data&quot;:{\n",
       "&quot;x&quot;:[-4.606622009504947,-3.846333690759813],\n",
       "&quot;y&quot;:[8.760716842260509,8.111131072419683]\n",
       "},\n",
       "&quot;color&quot;:&quot;#a39999&quot;,\n",
       "&quot;sampling&quot;:&quot;none&quot;,\n",
       "&quot;position&quot;:&quot;identity&quot;,\n",
       "&quot;geom&quot;:&quot;line&quot;\n",
       "},{\n",
       "&quot;mapping&quot;:{\n",
       "&quot;x&quot;:&quot;x&quot;,\n",
       "&quot;y&quot;:&quot;y&quot;\n",
       "},\n",
       "&quot;stat&quot;:&quot;identity&quot;,\n",
       "&quot;data&quot;:{\n",
       "&quot;x&quot;:[-4.606622009504947,-3.609690480846612],\n",
       "&quot;y&quot;:[8.760716842260509,8.838995365285381]\n",
       "},\n",
       "&quot;color&quot;:&quot;#ffffff&quot;,\n",
       "&quot;sampling&quot;:&quot;none&quot;,\n",
       "&quot;position&quot;:&quot;identity&quot;,\n",
       "&quot;geom&quot;:&quot;line&quot;\n",
       "},{\n",
       "&quot;mapping&quot;:{\n",
       "&quot;x&quot;:&quot;x&quot;,\n",
       "&quot;y&quot;:&quot;y&quot;\n",
       "},\n",
       "&quot;stat&quot;:&quot;identity&quot;,\n",
       "&quot;data&quot;:{\n",
       "&quot;x&quot;:[1.9093629584957743,0.9715516188392121],\n",
       "&quot;y&quot;:[8.95982508755239,9.30697043349781]\n",
       "},\n",
       "&quot;color&quot;:&quot;#a39999&quot;,\n",
       "&quot;sampling&quot;:&quot;none&quot;,\n",
       "&quot;position&quot;:&quot;identity&quot;,\n",
       "&quot;geom&quot;:&quot;line&quot;\n",
       "},{\n",
       "&quot;mapping&quot;:{\n",
       "&quot;x&quot;:&quot;x&quot;,\n",
       "&quot;y&quot;:&quot;y&quot;\n",
       "},\n",
       "&quot;stat&quot;:&quot;identity&quot;,\n",
       "&quot;data&quot;:{\n",
       "&quot;x&quot;:[1.9093629584957743,2.2565083044411924],\n",
       "&quot;y&quot;:[8.95982508755239,9.897636427208953]\n",
       "},\n",
       "&quot;color&quot;:&quot;#a39999&quot;,\n",
       "&quot;sampling&quot;:&quot;none&quot;,\n",
       "&quot;position&quot;:&quot;identity&quot;,\n",
       "&quot;geom&quot;:&quot;line&quot;\n",
       "},{\n",
       "&quot;mapping&quot;:{\n",
       "&quot;x&quot;:&quot;x&quot;,\n",
       "&quot;y&quot;:&quot;y&quot;\n",
       "},\n",
       "&quot;stat&quot;:&quot;identity&quot;,\n",
       "&quot;data&quot;:{\n",
       "&quot;x&quot;:[1.9093629584957743,1.4916990289263339],\n",
       "&quot;y&quot;:[8.95982508755239,9.868426673472541]\n",
       "},\n",
       "&quot;color&quot;:&quot;#ffffff&quot;,\n",
       "&quot;sampling&quot;:&quot;none&quot;,\n",
       "&quot;position&quot;:&quot;identity&quot;,\n",
       "&quot;geom&quot;:&quot;line&quot;\n",
       "},{\n",
       "&quot;mapping&quot;:{\n",
       "&quot;x&quot;:&quot;x&quot;,\n",
       "&quot;y&quot;:&quot;y&quot;\n",
       "},\n",
       "&quot;stat&quot;:&quot;identity&quot;,\n",
       "&quot;data&quot;:{\n",
       "&quot;x&quot;:[-6.811976597547002,-6.054867467590208],\n",
       "&quot;y&quot;:[-2.5532501483719736,-1.8999617240630258]\n",
       "},\n",
       "&quot;color&quot;:&quot;#a39999&quot;,\n",
       "&quot;sampling&quot;:&quot;none&quot;,\n",
       "&quot;position&quot;:&quot;identity&quot;,\n",
       "&quot;geom&quot;:&quot;line&quot;\n",
       "},{\n",
       "&quot;mapping&quot;:{\n",
       "&quot;x&quot;:&quot;x&quot;,\n",
       "&quot;y&quot;:&quot;y&quot;\n",
       "},\n",
       "&quot;stat&quot;:&quot;identity&quot;,\n",
       "&quot;data&quot;:{\n",
       "&quot;x&quot;:[-6.811976597547002,-6.158688173238054],\n",
       "&quot;y&quot;:[-2.5532501483719736,-3.3103592783287668]\n",
       "},\n",
       "&quot;color&quot;:&quot;#a39999&quot;,\n",
       "&quot;sampling&quot;:&quot;none&quot;,\n",
       "&quot;position&quot;:&quot;identity&quot;,\n",
       "&quot;geom&quot;:&quot;line&quot;\n",
       "},{\n",
       "&quot;mapping&quot;:{\n",
       "&quot;x&quot;:&quot;x&quot;,\n",
       "&quot;y&quot;:&quot;y&quot;\n",
       "},\n",
       "&quot;stat&quot;:&quot;identity&quot;,\n",
       "&quot;data&quot;:{\n",
       "&quot;x&quot;:[-6.811976597547002,-5.814674922756774],\n",
       "&quot;y&quot;:[-2.5532501483719736,-2.6266624733631376]\n",
       "},\n",
       "&quot;color&quot;:&quot;#ffffff&quot;,\n",
       "&quot;sampling&quot;:&quot;none&quot;,\n",
       "&quot;position&quot;:&quot;identity&quot;,\n",
       "&quot;geom&quot;:&quot;line&quot;\n",
       "},{\n",
       "&quot;mapping&quot;:{\n",
       "&quot;x&quot;:&quot;x&quot;,\n",
       "&quot;y&quot;:&quot;y&quot;\n",
       "},\n",
       "&quot;stat&quot;:&quot;identity&quot;,\n",
       "&quot;data&quot;:{\n",
       "&quot;x&quot;:[1.166283176345459,0.20375049617366525],\n",
       "&quot;y&quot;:[-8.16833251973014,-8.439498224791276]\n",
       "},\n",
       "&quot;color&quot;:&quot;#a39999&quot;,\n",
       "&quot;sampling&quot;:&quot;none&quot;,\n",
       "&quot;position&quot;:&quot;identity&quot;,\n",
       "&quot;geom&quot;:&quot;line&quot;\n",
       "},{\n",
       "&quot;mapping&quot;:{\n",
       "&quot;x&quot;:&quot;x&quot;,\n",
       "&quot;y&quot;:&quot;y&quot;\n",
       "},\n",
       "&quot;stat&quot;:&quot;identity&quot;,\n",
       "&quot;data&quot;:{\n",
       "&quot;x&quot;:[1.166283176345459,0.8951174712843224],\n",
       "&quot;y&quot;:[-8.16833251973014,-7.205799839558345]\n",
       "},\n",
       "&quot;color&quot;:&quot;#a39999&quot;,\n",
       "&quot;sampling&quot;:&quot;none&quot;,\n",
       "&quot;position&quot;:&quot;identity&quot;,\n",
       "&quot;geom&quot;:&quot;line&quot;\n",
       "},{\n",
       "&quot;mapping&quot;:{\n",
       "&quot;x&quot;:&quot;x&quot;,\n",
       "&quot;y&quot;:&quot;y&quot;\n",
       "},\n",
       "&quot;stat&quot;:&quot;identity&quot;,\n",
       "&quot;data&quot;:{\n",
       "&quot;x&quot;:[1.166283176345459,0.2939266822083604],\n",
       "&quot;y&quot;:[-8.16833251973014,-7.6794622433409625]\n",
       "},\n",
       "&quot;color&quot;:&quot;#ffffff&quot;,\n",
       "&quot;sampling&quot;:&quot;none&quot;,\n",
       "&quot;position&quot;:&quot;identity&quot;,\n",
       "&quot;geom&quot;:&quot;line&quot;\n",
       "},{\n",
       "&quot;mapping&quot;:{\n",
       "&quot;x&quot;:&quot;x&quot;,\n",
       "&quot;y&quot;:&quot;y&quot;\n",
       "},\n",
       "&quot;stat&quot;:&quot;identity&quot;,\n",
       "&quot;data&quot;:{\n",
       "&quot;x&quot;:[8.192680116316367,7.451936711377872],\n",
       "&quot;y&quot;:[-1.5987531767962053,-0.926965108994965]\n",
       "},\n",
       "&quot;color&quot;:&quot;#a39999&quot;,\n",
       "&quot;sampling&quot;:&quot;none&quot;,\n",
       "&quot;position&quot;:&quot;identity&quot;,\n",
       "&quot;geom&quot;:&quot;line&quot;\n",
       "},{\n",
       "&quot;mapping&quot;:{\n",
       "&quot;x&quot;:&quot;x&quot;,\n",
       "&quot;y&quot;:&quot;y&quot;\n",
       "},\n",
       "&quot;stat&quot;:&quot;identity&quot;,\n",
       "&quot;data&quot;:{\n",
       "&quot;x&quot;:[8.192680116316367,8.864468184117607],\n",
       "&quot;y&quot;:[-1.5987531767962053,-0.8580097718577097]\n",
       "},\n",
       "&quot;color&quot;:&quot;#a39999&quot;,\n",
       "&quot;sampling&quot;:&quot;none&quot;,\n",
       "&quot;position&quot;:&quot;identity&quot;,\n",
       "&quot;geom&quot;:&quot;line&quot;\n",
       "},{\n",
       "&quot;mapping&quot;:{\n",
       "&quot;x&quot;:&quot;x&quot;,\n",
       "&quot;y&quot;:&quot;y&quot;\n",
       "},\n",
       "&quot;stat&quot;:&quot;identity&quot;,\n",
       "&quot;data&quot;:{\n",
       "&quot;x&quot;:[8.192680116316367,8.14392132982761],\n",
       "&quot;y&quot;:[-1.5987531767962053,-0.5999425937825171]\n",
       "},\n",
       "&quot;color&quot;:&quot;#ffffff&quot;,\n",
       "&quot;sampling&quot;:&quot;none&quot;,\n",
       "&quot;position&quot;:&quot;identity&quot;,\n",
       "&quot;geom&quot;:&quot;line&quot;\n",
       "},{\n",
       "&quot;mapping&quot;:{\n",
       "&quot;x&quot;:&quot;x&quot;,\n",
       "&quot;y&quot;:&quot;y&quot;\n",
       "},\n",
       "&quot;stat&quot;:&quot;identity&quot;,\n",
       "&quot;data&quot;:{\n",
       "&quot;x&quot;:[8.635830394783047,9.348865375425241],\n",
       "&quot;y&quot;:[-3.321266224089833,-4.022394683347184]\n",
       "},\n",
       "&quot;color&quot;:&quot;#a39999&quot;,\n",
       "&quot;sampling&quot;:&quot;none&quot;,\n",
       "&quot;position&quot;:&quot;identity&quot;,\n",
       "&quot;geom&quot;:&quot;line&quot;\n",
       "},{\n",
       "&quot;mapping&quot;:{\n",
       "&quot;x&quot;:&quot;x&quot;,\n",
       "&quot;y&quot;:&quot;y&quot;\n",
       "},\n",
       "&quot;stat&quot;:&quot;identity&quot;,\n",
       "&quot;data&quot;:{\n",
       "&quot;x&quot;:[8.635830394783047,7.934701935525696],\n",
       "&quot;y&quot;:[-3.321266224089833,-4.034301204732026]\n",
       "},\n",
       "&quot;color&quot;:&quot;#a39999&quot;,\n",
       "&quot;sampling&quot;:&quot;none&quot;,\n",
       "&quot;position&quot;:&quot;identity&quot;,\n",
       "&quot;geom&quot;:&quot;line&quot;\n",
       "},{\n",
       "&quot;mapping&quot;:{\n",
       "&quot;x&quot;:&quot;x&quot;,\n",
       "&quot;y&quot;:&quot;y&quot;\n",
       "},\n",
       "&quot;stat&quot;:&quot;identity&quot;,\n",
       "&quot;data&quot;:{\n",
       "&quot;x&quot;:[8.635830394783047,8.64424957679461],\n",
       "&quot;y&quot;:[-3.321266224089833,-4.321230782148896]\n",
       "},\n",
       "&quot;color&quot;:&quot;#ffffff&quot;,\n",
       "&quot;sampling&quot;:&quot;none&quot;,\n",
       "&quot;position&quot;:&quot;identity&quot;,\n",
       "&quot;geom&quot;:&quot;line&quot;\n",
       "},{\n",
       "&quot;mapping&quot;:{\n",
       "&quot;x&quot;:&quot;x&quot;,\n",
       "&quot;y&quot;:&quot;y&quot;\n",
       "},\n",
       "&quot;stat&quot;:&quot;identity&quot;,\n",
       "&quot;data&quot;:{\n",
       "&quot;x&quot;:[4.64150296555965,5.556279037140424],\n",
       "&quot;y&quot;:[5.86549367316646,5.4615323645448965]\n",
       "},\n",
       "&quot;color&quot;:&quot;#a39999&quot;,\n",
       "&quot;sampling&quot;:&quot;none&quot;,\n",
       "&quot;position&quot;:&quot;identity&quot;,\n",
       "&quot;geom&quot;:&quot;line&quot;\n",
       "},{\n",
       "&quot;mapping&quot;:{\n",
       "&quot;x&quot;:&quot;x&quot;,\n",
       "&quot;y&quot;:&quot;y&quot;\n",
       "},\n",
       "&quot;stat&quot;:&quot;identity&quot;,\n",
       "&quot;data&quot;:{\n",
       "&quot;x&quot;:[4.64150296555965,4.237541656938086],\n",
       "&quot;y&quot;:[5.86549367316646,4.950717601585686]\n",
       "},\n",
       "&quot;color&quot;:&quot;#a39999&quot;,\n",
       "&quot;sampling&quot;:&quot;none&quot;,\n",
       "&quot;position&quot;:&quot;identity&quot;,\n",
       "&quot;geom&quot;:&quot;line&quot;\n",
       "},{\n",
       "&quot;mapping&quot;:{\n",
       "&quot;x&quot;:&quot;x&quot;,\n",
       "&quot;y&quot;:&quot;y&quot;\n",
       "},\n",
       "&quot;stat&quot;:&quot;identity&quot;,\n",
       "&quot;data&quot;:{\n",
       "&quot;x&quot;:[4.64150296555965,5.002703548378307],\n",
       "&quot;y&quot;:[5.86549367316646,4.933005529021204]\n",
       "},\n",
       "&quot;color&quot;:&quot;#ffffff&quot;,\n",
       "&quot;sampling&quot;:&quot;none&quot;,\n",
       "&quot;position&quot;:&quot;identity&quot;,\n",
       "&quot;geom&quot;:&quot;line&quot;\n",
       "},{\n",
       "&quot;mapping&quot;:{\n",
       "&quot;x&quot;:&quot;x&quot;,\n",
       "&quot;y&quot;:&quot;y&quot;\n",
       "},\n",
       "&quot;stat&quot;:&quot;identity&quot;,\n",
       "&quot;data&quot;:{\n",
       "&quot;x&quot;:[6.618716019817215,5.7139865809204595],\n",
       "&quot;y&quot;:[1.0918410891459047,0.6658544198784704]\n",
       "},\n",
       "&quot;color&quot;:&quot;#a39999&quot;,\n",
       "&quot;sampling&quot;:&quot;none&quot;,\n",
       "&quot;position&quot;:&quot;identity&quot;,\n",
       "&quot;geom&quot;:&quot;line&quot;\n",
       "},{\n",
       "&quot;mapping&quot;:{\n",
       "&quot;x&quot;:&quot;x&quot;,\n",
       "&quot;y&quot;:&quot;y&quot;\n",
       "},\n",
       "&quot;stat&quot;:&quot;identity&quot;,\n",
       "&quot;data&quot;:{\n",
       "&quot;x&quot;:[6.618716019817215,6.19272935054978],\n",
       "&quot;y&quot;:[1.0918410891459047,1.99657052804266]\n",
       "},\n",
       "&quot;color&quot;:&quot;#a39999&quot;,\n",
       "&quot;sampling&quot;:&quot;none&quot;,\n",
       "&quot;position&quot;:&quot;identity&quot;,\n",
       "&quot;geom&quot;:&quot;line&quot;\n",
       "},{\n",
       "&quot;mapping&quot;:{\n",
       "&quot;x&quot;:&quot;x&quot;,\n",
       "&quot;y&quot;:&quot;y&quot;\n",
       "},\n",
       "&quot;stat&quot;:&quot;identity&quot;,\n",
       "&quot;data&quot;:{\n",
       "&quot;x&quot;:[6.618716019817215,5.677757635900145],\n",
       "&quot;y&quot;:[1.0918410891459047,1.4303633479948266]\n",
       "},\n",
       "&quot;color&quot;:&quot;#ffffff&quot;,\n",
       "&quot;sampling&quot;:&quot;none&quot;,\n",
       "&quot;position&quot;:&quot;identity&quot;,\n",
       "&quot;geom&quot;:&quot;line&quot;\n",
       "},{\n",
       "&quot;mapping&quot;:{\n",
       "&quot;x&quot;:&quot;x&quot;,\n",
       "&quot;y&quot;:&quot;y&quot;\n",
       "},\n",
       "&quot;stat&quot;:&quot;identity&quot;,\n",
       "&quot;data&quot;:{\n",
       "&quot;x&quot;:[-2.9073117915601268,-2.29145555482572],\n",
       "&quot;y&quot;:[-8.919200367267818,-8.131341816717445]\n",
       "},\n",
       "&quot;color&quot;:&quot;#a39999&quot;,\n",
       "&quot;sampling&quot;:&quot;none&quot;,\n",
       "&quot;position&quot;:&quot;identity&quot;,\n",
       "&quot;geom&quot;:&quot;line&quot;\n",
       "},{\n",
       "&quot;mapping&quot;:{\n",
       "&quot;x&quot;:&quot;x&quot;,\n",
       "&quot;y&quot;:&quot;y&quot;\n",
       "},\n",
       "&quot;stat&quot;:&quot;identity&quot;,\n",
       "&quot;data&quot;:{\n",
       "&quot;x&quot;:[-2.9073117915601268,-2.119453241009754],\n",
       "&quot;y&quot;:[-8.919200367267818,-9.535056604002225]\n",
       "},\n",
       "&quot;color&quot;:&quot;#a39999&quot;,\n",
       "&quot;sampling&quot;:&quot;none&quot;,\n",
       "&quot;position&quot;:&quot;identity&quot;,\n",
       "&quot;geom&quot;:&quot;line&quot;\n",
       "},{\n",
       "&quot;mapping&quot;:{\n",
       "&quot;x&quot;:&quot;x&quot;,\n",
       "&quot;y&quot;:&quot;y&quot;\n",
       "},\n",
       "&quot;stat&quot;:&quot;identity&quot;,\n",
       "&quot;data&quot;:{\n",
       "&quot;x&quot;:[-2.9073117915601268,-1.914735546619227],\n",
       "&quot;y&quot;:[-8.919200367267818,-8.797576364788771]\n",
       "},\n",
       "&quot;color&quot;:&quot;#ffffff&quot;,\n",
       "&quot;sampling&quot;:&quot;none&quot;,\n",
       "&quot;position&quot;:&quot;identity&quot;,\n",
       "&quot;geom&quot;:&quot;line&quot;\n",
       "},{\n",
       "&quot;mapping&quot;:{\n",
       "&quot;x&quot;:&quot;x&quot;,\n",
       "&quot;y&quot;:&quot;y&quot;\n",
       "},\n",
       "&quot;stat&quot;:&quot;identity&quot;,\n",
       "&quot;data&quot;:{\n",
       "&quot;x&quot;:[0.45842238032975213,0.43699533142763086],\n",
       "&quot;y&quot;:[8.977574524018229,9.977344938451136]\n",
       "},\n",
       "&quot;color&quot;:&quot;#a39999&quot;,\n",
       "&quot;sampling&quot;:&quot;none&quot;,\n",
       "&quot;position&quot;:&quot;identity&quot;,\n",
       "&quot;geom&quot;:&quot;line&quot;\n",
       "},{\n",
       "&quot;mapping&quot;:{\n",
       "&quot;x&quot;:&quot;x&quot;,\n",
       "&quot;y&quot;:&quot;y&quot;\n",
       "},\n",
       "&quot;stat&quot;:&quot;identity&quot;,\n",
       "&quot;data&quot;:{\n",
       "&quot;x&quot;:[0.45842238032975213,1.4581927947626587],\n",
       "&quot;y&quot;:[8.977574524018229,8.99900157292035]\n",
       "},\n",
       "&quot;color&quot;:&quot;#a39999&quot;,\n",
       "&quot;sampling&quot;:&quot;none&quot;,\n",
       "&quot;position&quot;:&quot;identity&quot;,\n",
       "&quot;geom&quot;:&quot;line&quot;\n",
       "},{\n",
       "&quot;mapping&quot;:{\n",
       "&quot;x&quot;:&quot;x&quot;,\n",
       "&quot;y&quot;:&quot;y&quot;\n",
       "},\n",
       "&quot;stat&quot;:&quot;identity&quot;,\n",
       "&quot;data&quot;:{\n",
       "&quot;x&quot;:[0.45842238032975213,1.1502156084254396],\n",
       "&quot;y&quot;:[8.977574524018229,9.699670175272928]\n",
       "},\n",
       "&quot;color&quot;:&quot;#ffffff&quot;,\n",
       "&quot;sampling&quot;:&quot;none&quot;,\n",
       "&quot;position&quot;:&quot;identity&quot;,\n",
       "&quot;geom&quot;:&quot;line&quot;\n",
       "},{\n",
       "&quot;mapping&quot;:{\n",
       "&quot;x&quot;:&quot;x&quot;,\n",
       "&quot;y&quot;:&quot;y&quot;\n",
       "},\n",
       "&quot;stat&quot;:&quot;identity&quot;,\n",
       "&quot;data&quot;:{\n",
       "&quot;x&quot;:[4.036592363815934,4.95072913269158],\n",
       "&quot;y&quot;:[0.17931657646235563,-0.2260893531805053]\n",
       "},\n",
       "&quot;color&quot;:&quot;#a39999&quot;,\n",
       "&quot;sampling&quot;:&quot;none&quot;,\n",
       "&quot;position&quot;:&quot;identity&quot;,\n",
       "&quot;geom&quot;:&quot;line&quot;\n",
       "},{\n",
       "&quot;mapping&quot;:{\n",
       "&quot;x&quot;:&quot;x&quot;,\n",
       "&quot;y&quot;:&quot;y&quot;\n",
       "},\n",
       "&quot;stat&quot;:&quot;identity&quot;,\n",
       "&quot;data&quot;:{\n",
       "&quot;x&quot;:[4.036592363815934,3.6311864341730726],\n",
       "&quot;y&quot;:[0.17931657646235563,-0.7348201924132911]\n",
       "},\n",
       "&quot;color&quot;:&quot;#a39999&quot;,\n",
       "&quot;sampling&quot;:&quot;none&quot;,\n",
       "&quot;position&quot;:&quot;identity&quot;,\n",
       "&quot;geom&quot;:&quot;line&quot;\n",
       "},{\n",
       "&quot;mapping&quot;:{\n",
       "&quot;x&quot;:&quot;x&quot;,\n",
       "&quot;y&quot;:&quot;y&quot;\n",
       "},\n",
       "&quot;stat&quot;:&quot;identity&quot;,\n",
       "&quot;data&quot;:{\n",
       "&quot;x&quot;:[4.036592363815934,4.39631939003616],\n",
       "&quot;y&quot;:[0.17931657646235563,-0.7537410137252772]\n",
       "},\n",
       "&quot;color&quot;:&quot;#ffffff&quot;,\n",
       "&quot;sampling&quot;:&quot;none&quot;,\n",
       "&quot;position&quot;:&quot;identity&quot;,\n",
       "&quot;geom&quot;:&quot;line&quot;\n",
       "},{\n",
       "&quot;mapping&quot;:{\n",
       "&quot;x&quot;:&quot;x&quot;,\n",
       "&quot;y&quot;:&quot;y&quot;\n",
       "},\n",
       "&quot;stat&quot;:&quot;identity&quot;,\n",
       "&quot;data&quot;:{\n",
       "&quot;x&quot;:[0.16780024261425203,0.5554619913454966],\n",
       "&quot;y&quot;:[-5.831350689952782,-4.909548992964415]\n",
       "},\n",
       "&quot;color&quot;:&quot;#a39999&quot;,\n",
       "&quot;sampling&quot;:&quot;none&quot;,\n",
       "&quot;position&quot;:&quot;identity&quot;,\n",
       "&quot;geom&quot;:&quot;line&quot;\n",
       "},{\n",
       "&quot;mapping&quot;:{\n",
       "&quot;x&quot;:&quot;x&quot;,\n",
       "&quot;y&quot;:&quot;y&quot;\n",
       "},\n",
       "&quot;stat&quot;:&quot;identity&quot;,\n",
       "&quot;data&quot;:{\n",
       "&quot;x&quot;:[0.16780024261425203,1.089601939602619],\n",
       "&quot;y&quot;:[-5.831350689952782,-6.219012438684026]\n",
       "},\n",
       "&quot;color&quot;:&quot;#a39999&quot;,\n",
       "&quot;sampling&quot;:&quot;none&quot;,\n",
       "&quot;position&quot;:&quot;identity&quot;,\n",
       "&quot;geom&quot;:&quot;line&quot;\n",
       "},{\n",
       "&quot;mapping&quot;:{\n",
       "&quot;x&quot;:&quot;x&quot;,\n",
       "&quot;y&quot;:&quot;y&quot;\n",
       "},\n",
       "&quot;stat&quot;:&quot;identity&quot;,\n",
       "&quot;data&quot;:{\n",
       "&quot;x&quot;:[0.16780024261425203,1.093730724798492],\n",
       "&quot;y&quot;:[-5.831350689952782,-5.453656710437539]\n",
       "},\n",
       "&quot;color&quot;:&quot;#ffffff&quot;,\n",
       "&quot;sampling&quot;:&quot;none&quot;,\n",
       "&quot;position&quot;:&quot;identity&quot;,\n",
       "&quot;geom&quot;:&quot;line&quot;\n",
       "},{\n",
       "&quot;mapping&quot;:{\n",
       "&quot;x&quot;:&quot;x&quot;,\n",
       "&quot;y&quot;:&quot;y&quot;\n",
       "},\n",
       "&quot;stat&quot;:&quot;identity&quot;,\n",
       "&quot;data&quot;:{\n",
       "&quot;x&quot;:[0.5237705649985823,-0.211443195990357],\n",
       "&quot;y&quot;:[-5.583420218948326,-6.261255542351067]\n",
       "},\n",
       "&quot;color&quot;:&quot;#a39999&quot;,\n",
       "&quot;sampling&quot;:&quot;none&quot;,\n",
       "&quot;position&quot;:&quot;identity&quot;,\n",
       "&quot;geom&quot;:&quot;line&quot;\n",
       "},{\n",
       "&quot;mapping&quot;:{\n",
       "&quot;x&quot;:&quot;x&quot;,\n",
       "&quot;y&quot;:&quot;y&quot;\n",
       "},\n",
       "&quot;stat&quot;:&quot;identity&quot;,\n",
       "&quot;data&quot;:{\n",
       "&quot;x&quot;:[0.5237705649985823,-0.154064758404159],\n",
       "&quot;y&quot;:[-5.583420218948326,-4.848206457959387]\n",
       "},\n",
       "&quot;color&quot;:&quot;#a39999&quot;,\n",
       "&quot;sampling&quot;:&quot;none&quot;,\n",
       "&quot;position&quot;:&quot;identity&quot;,\n",
       "&quot;geom&quot;:&quot;line&quot;\n",
       "},{\n",
       "&quot;mapping&quot;:{\n",
       "&quot;x&quot;:&quot;x&quot;,\n",
       "&quot;y&quot;:&quot;y&quot;\n",
       "},\n",
       "&quot;stat&quot;:&quot;identity&quot;,\n",
       "&quot;data&quot;:{\n",
       "&quot;x&quot;:[0.5237705649985823,-0.4754060247242171],\n",
       "&quot;y&quot;:[-5.583420218948326,-5.542847536637237]\n",
       "},\n",
       "&quot;color&quot;:&quot;#ffffff&quot;,\n",
       "&quot;sampling&quot;:&quot;none&quot;,\n",
       "&quot;position&quot;:&quot;identity&quot;,\n",
       "&quot;geom&quot;:&quot;line&quot;\n",
       "},{\n",
       "&quot;mapping&quot;:{\n",
       "&quot;x&quot;:&quot;x&quot;,\n",
       "&quot;y&quot;:&quot;y&quot;\n",
       "},\n",
       "&quot;stat&quot;:&quot;identity&quot;,\n",
       "&quot;data&quot;:{\n",
       "&quot;x&quot;:[-3.809085205178473,-2.873851255067933],\n",
       "&quot;y&quot;:[-8.148087302714439,-7.7940569953103465]\n",
       "},\n",
       "&quot;color&quot;:&quot;#a39999&quot;,\n",
       "&quot;sampling&quot;:&quot;none&quot;,\n",
       "&quot;position&quot;:&quot;identity&quot;,\n",
       "&quot;geom&quot;:&quot;line&quot;\n",
       "},{\n",
       "&quot;mapping&quot;:{\n",
       "&quot;x&quot;:&quot;x&quot;,\n",
       "&quot;y&quot;:&quot;y&quot;\n",
       "},\n",
       "&quot;stat&quot;:&quot;identity&quot;,\n",
       "&quot;data&quot;:{\n",
       "&quot;x&quot;:[-3.809085205178473,-3.4550548977743807],\n",
       "&quot;y&quot;:[-8.148087302714439,-9.083321252824978]\n",
       "},\n",
       "&quot;color&quot;:&quot;#a39999&quot;,\n",
       "&quot;sampling&quot;:&quot;none&quot;,\n",
       "&quot;position&quot;:&quot;identity&quot;,\n",
       "&quot;geom&quot;:&quot;line&quot;\n",
       "},{\n",
       "&quot;mapping&quot;:{\n",
       "&quot;x&quot;:&quot;x&quot;,\n",
       "&quot;y&quot;:&quot;y&quot;\n",
       "},\n",
       "&quot;stat&quot;:&quot;identity&quot;,\n",
       "&quot;data&quot;:{\n",
       "&quot;x&quot;:[-3.809085205178473,-2.8974377059484375],\n",
       "&quot;y&quot;:[-8.148087302714439,-8.55906033972249]\n",
       "},\n",
       "&quot;color&quot;:&quot;#ffffff&quot;,\n",
       "&quot;sampling&quot;:&quot;none&quot;,\n",
       "&quot;position&quot;:&quot;identity&quot;,\n",
       "&quot;geom&quot;:&quot;line&quot;\n",
       "},{\n",
       "&quot;mapping&quot;:{\n",
       "&quot;x&quot;:&quot;x&quot;,\n",
       "&quot;y&quot;:&quot;y&quot;\n",
       "},\n",
       "&quot;stat&quot;:&quot;identity&quot;,\n",
       "&quot;data&quot;:{\n",
       "&quot;x&quot;:[5.443896592275631,4.557427457733876],\n",
       "&quot;y&quot;:[-2.9565890288781915,-3.419376748577832]\n",
       "},\n",
       "&quot;color&quot;:&quot;#a39999&quot;,\n",
       "&quot;sampling&quot;:&quot;none&quot;,\n",
       "&quot;position&quot;:&quot;identity&quot;,\n",
       "&quot;geom&quot;:&quot;line&quot;\n",
       "},{\n",
       "&quot;mapping&quot;:{\n",
       "&quot;x&quot;:&quot;x&quot;,\n",
       "&quot;y&quot;:&quot;y&quot;\n",
       "},\n",
       "&quot;stat&quot;:&quot;identity&quot;,\n",
       "&quot;data&quot;:{\n",
       "&quot;x&quot;:[5.443896592275631,4.981108872575991],\n",
       "&quot;y&quot;:[-2.9565890288781915,-2.070119894336437]\n",
       "},\n",
       "&quot;color&quot;:&quot;#a39999&quot;,\n",
       "&quot;sampling&quot;:&quot;none&quot;,\n",
       "&quot;position&quot;:&quot;identity&quot;,\n",
       "&quot;geom&quot;:&quot;line&quot;\n",
       "},{\n",
       "&quot;mapping&quot;:{\n",
       "&quot;x&quot;:&quot;x&quot;,\n",
       "&quot;y&quot;:&quot;y&quot;\n",
       "},\n",
       "&quot;stat&quot;:&quot;identity&quot;,\n",
       "&quot;data&quot;:{\n",
       "&quot;x&quot;:[5.443896592275631,4.489827921079112],\n",
       "&quot;y&quot;:[-2.9565890288781915,-2.657001027380622]\n",
       "},\n",
       "&quot;color&quot;:&quot;#ffffff&quot;,\n",
       "&quot;sampling&quot;:&quot;none&quot;,\n",
       "&quot;position&quot;:&quot;identity&quot;,\n",
       "&quot;geom&quot;:&quot;line&quot;\n",
       "},{\n",
       "&quot;mapping&quot;:{\n",
       "&quot;x&quot;:&quot;x&quot;,\n",
       "&quot;y&quot;:&quot;y&quot;\n",
       "},\n",
       "&quot;stat&quot;:&quot;identity&quot;,\n",
       "&quot;data&quot;:{\n",
       "&quot;x&quot;:[-4.807306565767536,-5.32809295464577],\n",
       "&quot;y&quot;:[5.798844363730935,4.94515733843468]\n",
       "},\n",
       "&quot;color&quot;:&quot;#a39999&quot;,\n",
       "&quot;sampling&quot;:&quot;none&quot;,\n",
       "&quot;position&quot;:&quot;identity&quot;,\n",
       "&quot;geom&quot;:&quot;line&quot;\n",
       "},{\n",
       "&quot;mapping&quot;:{\n",
       "&quot;x&quot;:&quot;x&quot;,\n",
       "&quot;y&quot;:&quot;y&quot;\n",
       "},\n",
       "&quot;stat&quot;:&quot;identity&quot;,\n",
       "&quot;data&quot;:{\n",
       "&quot;x&quot;:[-4.807306565767536,-5.66099359106379],\n",
       "&quot;y&quot;:[5.798844363730935,6.319630752609169]\n",
       "},\n",
       "&quot;color&quot;:&quot;#a39999&quot;,\n",
       "&quot;sampling&quot;:&quot;none&quot;,\n",
       "&quot;position&quot;:&quot;identity&quot;,\n",
       "&quot;geom&quot;:&quot;line&quot;\n",
       "},{\n",
       "&quot;mapping&quot;:{\n",
       "&quot;x&quot;:&quot;x&quot;,\n",
       "&quot;y&quot;:&quot;y&quot;\n",
       "},\n",
       "&quot;stat&quot;:&quot;identity&quot;,\n",
       "&quot;data&quot;:{\n",
       "&quot;x&quot;:[-4.807306565767536,-5.779206037490943],\n",
       "&quot;y&quot;:[5.798844363730935,5.563448066258435]\n",
       "},\n",
       "&quot;color&quot;:&quot;#ffffff&quot;,\n",
       "&quot;sampling&quot;:&quot;none&quot;,\n",
       "&quot;position&quot;:&quot;identity&quot;,\n",
       "&quot;geom&quot;:&quot;line&quot;\n",
       "},{\n",
       "&quot;mapping&quot;:{\n",
       "&quot;x&quot;:&quot;x&quot;,\n",
       "&quot;y&quot;:&quot;y&quot;\n",
       "},\n",
       "&quot;stat&quot;:&quot;identity&quot;,\n",
       "&quot;data&quot;:{\n",
       "&quot;x&quot;:[0.6803486886802071,-0.21736164284959802],\n",
       "&quot;y&quot;:[-7.518301256675837,-7.077715100896236]\n",
       "},\n",
       "&quot;color&quot;:&quot;#a39999&quot;,\n",
       "&quot;sampling&quot;:&quot;none&quot;,\n",
       "&quot;position&quot;:&quot;identity&quot;,\n",
       "&quot;geom&quot;:&quot;line&quot;\n",
       "},{\n",
       "&quot;mapping&quot;:{\n",
       "&quot;x&quot;:&quot;x&quot;,\n",
       "&quot;y&quot;:&quot;y&quot;\n",
       "},\n",
       "&quot;stat&quot;:&quot;identity&quot;,\n",
       "&quot;data&quot;:{\n",
       "&quot;x&quot;:[0.6803486886802071,1.1209348444598084],\n",
       "&quot;y&quot;:[-7.518301256675837,-6.620590925146032]\n",
       "},\n",
       "&quot;color&quot;:&quot;#a39999&quot;,\n",
       "&quot;sampling&quot;:&quot;none&quot;,\n",
       "&quot;position&quot;:&quot;identity&quot;,\n",
       "&quot;geom&quot;:&quot;line&quot;\n",
       "},{\n",
       "&quot;mapping&quot;:{\n",
       "&quot;x&quot;:&quot;x&quot;,\n",
       "&quot;y&quot;:&quot;y&quot;\n",
       "},\n",
       "&quot;stat&quot;:&quot;identity&quot;,\n",
       "&quot;data&quot;:{\n",
       "&quot;x&quot;:[0.6803486886802071,0.3571130841629267],\n",
       "&quot;y&quot;:[-7.518301256675837,-6.571982735261219]\n",
       "},\n",
       "&quot;color&quot;:&quot;#ffffff&quot;,\n",
       "&quot;sampling&quot;:&quot;none&quot;,\n",
       "&quot;position&quot;:&quot;identity&quot;,\n",
       "&quot;geom&quot;:&quot;line&quot;\n",
       "},{\n",
       "&quot;mapping&quot;:{\n",
       "&quot;x&quot;:&quot;x&quot;,\n",
       "&quot;y&quot;:&quot;y&quot;\n",
       "},\n",
       "&quot;stat&quot;:&quot;identity&quot;,\n",
       "&quot;data&quot;:{\n",
       "&quot;x&quot;:[-6.563315905916052,-7.558649727829098],\n",
       "&quot;y&quot;:[-6.637092541208195,-6.540601179128637]\n",
       "},\n",
       "&quot;color&quot;:&quot;#a39999&quot;,\n",
       "&quot;sampling&quot;:&quot;none&quot;,\n",
       "&quot;position&quot;:&quot;identity&quot;,\n",
       "&quot;geom&quot;:&quot;line&quot;\n",
       "},{\n",
       "&quot;mapping&quot;:{\n",
       "&quot;x&quot;:&quot;x&quot;,\n",
       "&quot;y&quot;:&quot;y&quot;\n",
       "},\n",
       "&quot;stat&quot;:&quot;identity&quot;,\n",
       "&quot;data&quot;:{\n",
       "&quot;x&quot;:[-6.563315905916052,-6.466824543836494],\n",
       "&quot;y&quot;:[-6.637092541208195,-5.641758719295148]\n",
       "},\n",
       "&quot;color&quot;:&quot;#a39999&quot;,\n",
       "&quot;sampling&quot;:&quot;none&quot;,\n",
       "&quot;position&quot;:&quot;identity&quot;,\n",
       "&quot;geom&quot;:&quot;line&quot;\n",
       "},{\n",
       "&quot;mapping&quot;:{\n",
       "&quot;x&quot;:&quot;x&quot;,\n",
       "&quot;y&quot;:&quot;y&quot;\n",
       "},\n",
       "&quot;stat&quot;:&quot;identity&quot;,\n",
       "&quot;data&quot;:{\n",
       "&quot;x&quot;:[-6.563315905916052,-7.198893504482708],\n",
       "&quot;y&quot;:[-6.637092541208195,-5.865055549736774]\n",
       "},\n",
       "&quot;color&quot;:&quot;#ffffff&quot;,\n",
       "&quot;sampling&quot;:&quot;none&quot;,\n",
       "&quot;position&quot;:&quot;identity&quot;,\n",
       "&quot;geom&quot;:&quot;line&quot;\n",
       "},{\n",
       "&quot;mapping&quot;:{\n",
       "&quot;x&quot;:&quot;x&quot;,\n",
       "&quot;y&quot;:&quot;y&quot;\n",
       "},\n",
       "&quot;stat&quot;:&quot;identity&quot;,\n",
       "&quot;data&quot;:{\n",
       "&quot;x&quot;:[5.368503162207507,5.889574691488428],\n",
       "&quot;y&quot;:[-5.037643760014762,-5.891156771850459]\n",
       "},\n",
       "&quot;color&quot;:&quot;#a39999&quot;,\n",
       "&quot;sampling&quot;:&quot;none&quot;,\n",
       "&quot;position&quot;:&quot;identity&quot;,\n",
       "&quot;geom&quot;:&quot;line&quot;\n",
       "},{\n",
       "&quot;mapping&quot;:{\n",
       "&quot;x&quot;:&quot;x&quot;,\n",
       "&quot;y&quot;:&quot;y&quot;\n",
       "},\n",
       "&quot;stat&quot;:&quot;identity&quot;,\n",
       "&quot;data&quot;:{\n",
       "&quot;x&quot;:[5.368503162207507,4.51499015037181],\n",
       "&quot;y&quot;:[-5.037643760014762,-5.558715289295684]\n",
       "},\n",
       "&quot;color&quot;:&quot;#a39999&quot;,\n",
       "&quot;sampling&quot;:&quot;none&quot;,\n",
       "&quot;position&quot;:&quot;identity&quot;,\n",
       "&quot;geom&quot;:&quot;line&quot;\n",
       "},{\n",
       "&quot;mapping&quot;:{\n",
       "&quot;x&quot;:&quot;x&quot;,\n",
       "&quot;y&quot;:&quot;y&quot;\n",
       "},\n",
       "&quot;stat&quot;:&quot;identity&quot;,\n",
       "&quot;data&quot;:{\n",
       "&quot;x&quot;:[5.368503162207507,5.1334315355453155],\n",
       "&quot;y&quot;:[-5.037643760014762,-6.009621810352521]\n",
       "},\n",
       "&quot;color&quot;:&quot;#ffffff&quot;,\n",
       "&quot;sampling&quot;:&quot;none&quot;,\n",
       "&quot;position&quot;:&quot;identity&quot;,\n",
       "&quot;geom&quot;:&quot;line&quot;\n",
       "},{\n",
       "&quot;mapping&quot;:{\n",
       "&quot;x&quot;:&quot;x&quot;,\n",
       "&quot;y&quot;:&quot;y&quot;\n",
       "},\n",
       "&quot;stat&quot;:&quot;identity&quot;,\n",
       "&quot;data&quot;:{\n",
       "&quot;x&quot;:[-5.507820780280913,-5.968878422634215],\n",
       "&quot;y&quot;:[6.715903797841199,7.6032739857715885]\n",
       "},\n",
       "&quot;color&quot;:&quot;#a39999&quot;,\n",
       "&quot;sampling&quot;:&quot;none&quot;,\n",
       "&quot;position&quot;:&quot;identity&quot;,\n",
       "&quot;geom&quot;:&quot;line&quot;\n",
       "},{\n",
       "&quot;mapping&quot;:{\n",
       "&quot;x&quot;:&quot;x&quot;,\n",
       "&quot;y&quot;:&quot;y&quot;\n",
       "},\n",
       "&quot;stat&quot;:&quot;identity&quot;,\n",
       "&quot;data&quot;:{\n",
       "&quot;x&quot;:[-5.507820780280913,-4.620450592350524],\n",
       "&quot;y&quot;:[6.715903797841199,7.176961440194502]\n",
       "},\n",
       "&quot;color&quot;:&quot;#a39999&quot;,\n",
       "&quot;sampling&quot;:&quot;none&quot;,\n",
       "&quot;position&quot;:&quot;identity&quot;,\n",
       "&quot;geom&quot;:&quot;line&quot;\n",
       "},{\n",
       "&quot;mapping&quot;:{\n",
       "&quot;x&quot;:&quot;x&quot;,\n",
       "&quot;y&quot;:&quot;y&quot;\n",
       "},\n",
       "&quot;stat&quot;:&quot;identity&quot;,\n",
       "&quot;data&quot;:{\n",
       "&quot;x&quot;:[-5.507820780280913,-5.206372288398455],\n",
       "&quot;y&quot;:[6.715903797841199,7.66938626057546]\n",
       "},\n",
       "&quot;color&quot;:&quot;#ffffff&quot;,\n",
       "&quot;sampling&quot;:&quot;none&quot;,\n",
       "&quot;position&quot;:&quot;identity&quot;,\n",
       "&quot;geom&quot;:&quot;line&quot;\n",
       "},{\n",
       "&quot;mapping&quot;:{\n",
       "&quot;x&quot;:&quot;x&quot;,\n",
       "&quot;y&quot;:&quot;y&quot;\n",
       "},\n",
       "&quot;stat&quot;:&quot;identity&quot;,\n",
       "&quot;data&quot;:{\n",
       "&quot;x&quot;:[-3.1091748787240774,-2.1134859640282544],\n",
       "&quot;y&quot;:[-7.366214344478716,-7.273458831694548]\n",
       "},\n",
       "&quot;color&quot;:&quot;#a39999&quot;,\n",
       "&quot;sampling&quot;:&quot;none&quot;,\n",
       "&quot;position&quot;:&quot;identity&quot;,\n",
       "&quot;geom&quot;:&quot;line&quot;\n",
       "},{\n",
       "&quot;mapping&quot;:{\n",
       "&quot;x&quot;:&quot;x&quot;,\n",
       "&quot;y&quot;:&quot;y&quot;\n",
       "},\n",
       "&quot;stat&quot;:&quot;identity&quot;,\n",
       "&quot;data&quot;:{\n",
       "&quot;x&quot;:[-3.1091748787240774,-3.0164193659399086],\n",
       "&quot;y&quot;:[-7.366214344478716,-8.36190325917454]\n",
       "},\n",
       "&quot;color&quot;:&quot;#a39999&quot;,\n",
       "&quot;sampling&quot;:&quot;none&quot;,\n",
       "&quot;position&quot;:&quot;identity&quot;,\n",
       "&quot;geom&quot;:&quot;line&quot;\n",
       "},{\n",
       "&quot;mapping&quot;:{\n",
       "&quot;x&quot;:&quot;x&quot;,\n",
       "&quot;y&quot;:&quot;y&quot;\n",
       "},\n",
       "&quot;stat&quot;:&quot;identity&quot;,\n",
       "&quot;data&quot;:{\n",
       "&quot;x&quot;:[-3.1091748787240774,-2.3395284431082657],\n",
       "&quot;y&quot;:[-7.366214344478716,-8.004684675930285]\n",
       "},\n",
       "&quot;color&quot;:&quot;#ffffff&quot;,\n",
       "&quot;sampling&quot;:&quot;none&quot;,\n",
       "&quot;position&quot;:&quot;identity&quot;,\n",
       "&quot;geom&quot;:&quot;line&quot;\n",
       "},{\n",
       "&quot;mapping&quot;:{\n",
       "&quot;x&quot;:&quot;x&quot;,\n",
       "&quot;y&quot;:&quot;y&quot;\n",
       "},\n",
       "&quot;stat&quot;:&quot;identity&quot;,\n",
       "&quot;data&quot;:{\n",
       "&quot;x&quot;:[-6.004096913093898,-5.236574639368701],\n",
       "&quot;y&quot;:[-0.008417944551774189,0.6326043322340679]\n",
       "},\n",
       "&quot;color&quot;:&quot;#a39999&quot;,\n",
       "&quot;sampling&quot;:&quot;none&quot;,\n",
       "&quot;position&quot;:&quot;identity&quot;,\n",
       "&quot;geom&quot;:&quot;line&quot;\n",
       "},{\n",
       "&quot;mapping&quot;:{\n",
       "&quot;x&quot;:&quot;x&quot;,\n",
       "&quot;y&quot;:&quot;y&quot;\n",
       "},\n",
       "&quot;stat&quot;:&quot;identity&quot;,\n",
       "&quot;data&quot;:{\n",
       "&quot;x&quot;:[-6.004096913093898,-5.363074636308056],\n",
       "&quot;y&quot;:[-0.008417944551774189,-0.7759402182769705]\n",
       "},\n",
       "&quot;color&quot;:&quot;#a39999&quot;,\n",
       "&quot;sampling&quot;:&quot;none&quot;,\n",
       "&quot;position&quot;:&quot;identity&quot;,\n",
       "&quot;geom&quot;:&quot;line&quot;\n",
       "},{\n",
       "&quot;mapping&quot;:{\n",
       "&quot;x&quot;:&quot;x&quot;,\n",
       "&quot;y&quot;:&quot;y&quot;\n",
       "},\n",
       "&quot;stat&quot;:&quot;identity&quot;,\n",
       "&quot;data&quot;:{\n",
       "&quot;x&quot;:[-6.004096913093898,-5.008105509824185],\n",
       "&quot;y&quot;:[-0.008417944551774189,-0.09786695020766914]\n",
       "},\n",
       "&quot;color&quot;:&quot;#ffffff&quot;,\n",
       "&quot;sampling&quot;:&quot;none&quot;,\n",
       "&quot;position&quot;:&quot;identity&quot;,\n",
       "&quot;geom&quot;:&quot;line&quot;\n",
       "},{\n",
       "&quot;mapping&quot;:{\n",
       "&quot;x&quot;:&quot;x&quot;,\n",
       "&quot;y&quot;:&quot;y&quot;\n",
       "},\n",
       "&quot;stat&quot;:&quot;identity&quot;,\n",
       "&quot;data&quot;:{\n",
       "&quot;x&quot;:[-0.7993386861119285,-0.3641506373856819],\n",
       "&quot;y&quot;:[-2.3981067368838644,-1.497767155255998]\n",
       "},\n",
       "&quot;color&quot;:&quot;#a39999&quot;,\n",
       "&quot;sampling&quot;:&quot;none&quot;,\n",
       "&quot;position&quot;:&quot;identity&quot;,\n",
       "&quot;geom&quot;:&quot;line&quot;\n",
       "},{\n",
       "&quot;mapping&quot;:{\n",
       "&quot;x&quot;:&quot;x&quot;,\n",
       "&quot;y&quot;:&quot;y&quot;\n",
       "},\n",
       "&quot;stat&quot;:&quot;identity&quot;,\n",
       "&quot;data&quot;:{\n",
       "&quot;x&quot;:[-0.7993386861119285,0.10100089551593827],\n",
       "&quot;y&quot;:[-2.3981067368838644,-2.8332947856101107]\n",
       "},\n",
       "&quot;color&quot;:&quot;#a39999&quot;,\n",
       "&quot;sampling&quot;:&quot;none&quot;,\n",
       "&quot;position&quot;:&quot;identity&quot;,\n",
       "&quot;geom&quot;:&quot;line&quot;\n",
       "},{\n",
       "&quot;mapping&quot;:{\n",
       "&quot;x&quot;:&quot;x&quot;,\n",
       "&quot;y&quot;:&quot;y&quot;\n",
       "},\n",
       "&quot;stat&quot;:&quot;identity&quot;,\n",
       "&quot;data&quot;:{\n",
       "&quot;x&quot;:[-0.7993386861119285,0.14502195777346583],\n",
       "&quot;y&quot;:[-2.3981067368838644,-2.0691949336898112]\n",
       "},\n",
       "&quot;color&quot;:&quot;#ffffff&quot;,\n",
       "&quot;sampling&quot;:&quot;none&quot;,\n",
       "&quot;position&quot;:&quot;identity&quot;,\n",
       "&quot;geom&quot;:&quot;line&quot;\n",
       "},{\n",
       "&quot;mapping&quot;:{\n",
       "&quot;x&quot;:&quot;x&quot;,\n",
       "&quot;y&quot;:&quot;y&quot;\n",
       "},\n",
       "&quot;stat&quot;:&quot;identity&quot;,\n",
       "&quot;data&quot;:{\n",
       "&quot;x&quot;:[5.278996936007406,5.952356094319446],\n",
       "&quot;y&quot;:[-7.942002314862815,-7.202686790937271]\n",
       "},\n",
       "&quot;color&quot;:&quot;#a39999&quot;,\n",
       "&quot;sampling&quot;:&quot;none&quot;,\n",
       "&quot;position&quot;:&quot;identity&quot;,\n",
       "&quot;geom&quot;:&quot;line&quot;\n",
       "},{\n",
       "&quot;mapping&quot;:{\n",
       "&quot;x&quot;:&quot;x&quot;,\n",
       "&quot;y&quot;:&quot;y&quot;\n",
       "},\n",
       "&quot;stat&quot;:&quot;identity&quot;,\n",
       "&quot;data&quot;:{\n",
       "&quot;x&quot;:[5.278996936007406,6.01831245993295],\n",
       "&quot;y&quot;:[-7.942002314862815,-8.615361473174856]\n",
       "},\n",
       "&quot;color&quot;:&quot;#a39999&quot;,\n",
       "&quot;sampling&quot;:&quot;none&quot;,\n",
       "&quot;position&quot;:&quot;identity&quot;,\n",
       "&quot;geom&quot;:&quot;line&quot;\n",
       "},{\n",
       "&quot;mapping&quot;:{\n",
       "&quot;x&quot;:&quot;x&quot;,\n",
       "&quot;y&quot;:&quot;y&quot;\n",
       "},\n",
       "&quot;stat&quot;:&quot;identity&quot;,\n",
       "&quot;data&quot;:{\n",
       "&quot;x&quot;:[5.278996936007406,6.277908783428153],\n",
       "&quot;y&quot;:[-7.942002314862815,-7.895364121475088]\n",
       "},\n",
       "&quot;color&quot;:&quot;#ffffff&quot;,\n",
       "&quot;sampling&quot;:&quot;none&quot;,\n",
       "&quot;position&quot;:&quot;identity&quot;,\n",
       "&quot;geom&quot;:&quot;line&quot;\n",
       "},{\n",
       "&quot;mapping&quot;:{\n",
       "&quot;x&quot;:&quot;x&quot;,\n",
       "&quot;y&quot;:&quot;y&quot;\n",
       "},\n",
       "&quot;stat&quot;:&quot;identity&quot;,\n",
       "&quot;data&quot;:{\n",
       "&quot;x&quot;:[0.6857949173288435,-0.2320724410902565],\n",
       "&quot;y&quot;:[-0.13452271913775407,0.26236456000928965]\n",
       "},\n",
       "&quot;color&quot;:&quot;#a39999&quot;,\n",
       "&quot;sampling&quot;:&quot;none&quot;,\n",
       "&quot;position&quot;:&quot;identity&quot;,\n",
       "&quot;geom&quot;:&quot;line&quot;\n",
       "},{\n",
       "&quot;mapping&quot;:{\n",
       "&quot;x&quot;:&quot;x&quot;,\n",
       "&quot;y&quot;:&quot;y&quot;\n",
       "},\n",
       "&quot;stat&quot;:&quot;identity&quot;,\n",
       "&quot;data&quot;:{\n",
       "&quot;x&quot;:[0.6857949173288435,1.0826821964758873],\n",
       "&quot;y&quot;:[-0.13452271913775407,0.7833446392813459]\n",
       "},\n",
       "&quot;color&quot;:&quot;#a39999&quot;,\n",
       "&quot;sampling&quot;:&quot;none&quot;,\n",
       "&quot;position&quot;:&quot;identity&quot;,\n",
       "&quot;geom&quot;:&quot;line&quot;\n",
       "},{\n",
       "&quot;mapping&quot;:{\n",
       "&quot;x&quot;:&quot;x&quot;,\n",
       "&quot;y&quot;:&quot;y&quot;\n",
       "},\n",
       "&quot;stat&quot;:&quot;identity&quot;,\n",
       "&quot;data&quot;:{\n",
       "&quot;x&quot;:[0.6857949173288435,0.3174063704124676],\n",
       "&quot;y&quot;:[-0.13452271913775407,0.7951492006817278]\n",
       "},\n",
       "&quot;color&quot;:&quot;#ffffff&quot;,\n",
       "&quot;sampling&quot;:&quot;none&quot;,\n",
       "&quot;position&quot;:&quot;identity&quot;,\n",
       "&quot;geom&quot;:&quot;line&quot;\n",
       "},{\n",
       "&quot;mapping&quot;:{\n",
       "&quot;x&quot;:&quot;x&quot;,\n",
       "&quot;y&quot;:&quot;y&quot;\n",
       "},\n",
       "&quot;stat&quot;:&quot;identity&quot;,\n",
       "&quot;data&quot;:{\n",
       "&quot;x&quot;:[-2.3629650832744833,-1.3723144930981945],\n",
       "&quot;y&quot;:[8.468692899166694,8.60511653415481]\n",
       "},\n",
       "&quot;color&quot;:&quot;#a39999&quot;,\n",
       "&quot;sampling&quot;:&quot;none&quot;,\n",
       "&quot;position&quot;:&quot;identity&quot;,\n",
       "&quot;geom&quot;:&quot;line&quot;\n",
       "},{\n",
       "&quot;mapping&quot;:{\n",
       "&quot;x&quot;:&quot;x&quot;,\n",
       "&quot;y&quot;:&quot;y&quot;\n",
       "},\n",
       "&quot;stat&quot;:&quot;identity&quot;,\n",
       "&quot;data&quot;:{\n",
       "&quot;x&quot;:[-2.3629650832744833,-2.2265414482863677],\n",
       "&quot;y&quot;:[8.468692899166694,7.478042308990405]\n",
       "},\n",
       "&quot;color&quot;:&quot;#a39999&quot;,\n",
       "&quot;sampling&quot;:&quot;none&quot;,\n",
       "&quot;position&quot;:&quot;identity&quot;,\n",
       "&quot;geom&quot;:&quot;line&quot;\n",
       "},{\n",
       "&quot;mapping&quot;:{\n",
       "&quot;x&quot;:&quot;x&quot;,\n",
       "&quot;y&quot;:&quot;y&quot;\n",
       "},\n",
       "&quot;stat&quot;:&quot;identity&quot;,\n",
       "&quot;data&quot;:{\n",
       "&quot;x&quot;:[-2.3629650832744833,-1.5660032557601593],\n",
       "&quot;y&quot;:[8.468692899166694,7.8646632264808]\n",
       "},\n",
       "&quot;color&quot;:&quot;#ffffff&quot;,\n",
       "&quot;sampling&quot;:&quot;none&quot;,\n",
       "&quot;position&quot;:&quot;identity&quot;,\n",
       "&quot;geom&quot;:&quot;line&quot;\n",
       "},{\n",
       "&quot;mapping&quot;:{\n",
       "&quot;x&quot;:&quot;x&quot;,\n",
       "&quot;y&quot;:&quot;y&quot;\n",
       "},\n",
       "&quot;stat&quot;:&quot;identity&quot;,\n",
       "&quot;data&quot;:{\n",
       "&quot;x&quot;:[4.189873519417356,4.232255952773601],\n",
       "&quot;y&quot;:[-3.654021985442882,-2.654920524457661]\n",
       "},\n",
       "&quot;color&quot;:&quot;#a39999&quot;,\n",
       "&quot;sampling&quot;:&quot;none&quot;,\n",
       "&quot;position&quot;:&quot;identity&quot;,\n",
       "&quot;geom&quot;:&quot;line&quot;\n",
       "},{\n",
       "&quot;mapping&quot;:{\n",
       "&quot;x&quot;:&quot;x&quot;,\n",
       "&quot;y&quot;:&quot;y&quot;\n",
       "},\n",
       "&quot;stat&quot;:&quot;identity&quot;,\n",
       "&quot;data&quot;:{\n",
       "&quot;x&quot;:[4.189873519417356,5.188974980402577],\n",
       "&quot;y&quot;:[-3.654021985442882,-3.696404418799127]\n",
       "},\n",
       "&quot;color&quot;:&quot;#a39999&quot;,\n",
       "&quot;sampling&quot;:&quot;none&quot;,\n",
       "&quot;position&quot;:&quot;identity&quot;,\n",
       "&quot;geom&quot;:&quot;line&quot;\n",
       "},{\n",
       "&quot;mapping&quot;:{\n",
       "&quot;x&quot;:&quot;x&quot;,\n",
       "&quot;y&quot;:&quot;y&quot;\n",
       "},\n",
       "&quot;stat&quot;:&quot;identity&quot;,\n",
       "&quot;data&quot;:{\n",
       "&quot;x&quot;:[4.189873519417356,4.926313843602781],\n",
       "&quot;y&quot;:[-3.654021985442882,-2.9775194733162333]\n",
       "},\n",
       "&quot;color&quot;:&quot;#ffffff&quot;,\n",
       "&quot;sampling&quot;:&quot;none&quot;,\n",
       "&quot;position&quot;:&quot;identity&quot;,\n",
       "&quot;geom&quot;:&quot;line&quot;\n",
       "},{\n",
       "&quot;mapping&quot;:{\n",
       "&quot;x&quot;:&quot;x&quot;,\n",
       "&quot;y&quot;:&quot;y&quot;\n",
       "},\n",
       "&quot;stat&quot;:&quot;identity&quot;,\n",
       "&quot;data&quot;:{\n",
       "&quot;x&quot;:[4.031075459236198,3.5765539599466796],\n",
       "&quot;y&quot;:[6.273427880173649,5.382692113134058]\n",
       "},\n",
       "&quot;color&quot;:&quot;#a39999&quot;,\n",
       "&quot;sampling&quot;:&quot;none&quot;,\n",
       "&quot;position&quot;:&quot;identity&quot;,\n",
       "&quot;geom&quot;:&quot;line&quot;\n",
       "},{\n",
       "&quot;mapping&quot;:{\n",
       "&quot;x&quot;:&quot;x&quot;,\n",
       "&quot;y&quot;:&quot;y&quot;\n",
       "},\n",
       "&quot;stat&quot;:&quot;identity&quot;,\n",
       "&quot;data&quot;:{\n",
       "&quot;x&quot;:[4.031075459236198,3.140339692196607],\n",
       "&quot;y&quot;:[6.273427880173649,6.727949379463167]\n",
       "},\n",
       "&quot;color&quot;:&quot;#a39999&quot;,\n",
       "&quot;sampling&quot;:&quot;none&quot;,\n",
       "&quot;position&quot;:&quot;identity&quot;,\n",
       "&quot;geom&quot;:&quot;line&quot;\n",
       "},{\n",
       "&quot;mapping&quot;:{\n",
       "&quot;x&quot;:&quot;x&quot;,\n",
       "&quot;y&quot;:&quot;y&quot;\n",
       "},\n",
       "&quot;stat&quot;:&quot;identity&quot;,\n",
       "&quot;data&quot;:{\n",
       "&quot;x&quot;:[4.031075459236198,3.079834923774407],\n",
       "&quot;y&quot;:[6.273427880173649,5.964977813397248]\n",
       "},\n",
       "&quot;color&quot;:&quot;#ffffff&quot;,\n",
       "&quot;sampling&quot;:&quot;none&quot;,\n",
       "&quot;position&quot;:&quot;identity&quot;,\n",
       "&quot;geom&quot;:&quot;line&quot;\n",
       "},{\n",
       "&quot;mapping&quot;:{\n",
       "&quot;x&quot;:&quot;x&quot;,\n",
       "&quot;y&quot;:&quot;y&quot;\n",
       "},\n",
       "&quot;stat&quot;:&quot;identity&quot;,\n",
       "&quot;data&quot;:{\n",
       "&quot;x&quot;:[-5.300206271016618,-5.029271408020907],\n",
       "&quot;y&quot;:[-1.8495584173360962,-2.8121561006978917]\n",
       "},\n",
       "&quot;color&quot;:&quot;#a39999&quot;,\n",
       "&quot;sampling&quot;:&quot;none&quot;,\n",
       "&quot;position&quot;:&quot;identity&quot;,\n",
       "&quot;geom&quot;:&quot;line&quot;\n",
       "},{\n",
       "&quot;mapping&quot;:{\n",
       "&quot;x&quot;:&quot;x&quot;,\n",
       "&quot;y&quot;:&quot;y&quot;\n",
       "},\n",
       "&quot;stat&quot;:&quot;identity&quot;,\n",
       "&quot;data&quot;:{\n",
       "&quot;x&quot;:[-5.300206271016618,-6.2628039543784135],\n",
       "&quot;y&quot;:[-1.8495584173360962,-2.120493280331807]\n",
       "},\n",
       "&quot;color&quot;:&quot;#a39999&quot;,\n",
       "&quot;sampling&quot;:&quot;none&quot;,\n",
       "&quot;position&quot;:&quot;identity&quot;,\n",
       "&quot;geom&quot;:&quot;line&quot;\n",
       "},{\n",
       "&quot;mapping&quot;:{\n",
       "&quot;x&quot;:&quot;x&quot;,\n",
       "&quot;y&quot;:&quot;y&quot;\n",
       "},\n",
       "&quot;stat&quot;:&quot;identity&quot;,\n",
       "&quot;data&quot;:{\n",
       "&quot;x&quot;:[-5.300206271016618,-5.7892857415920895],\n",
       "&quot;y&quot;:[-1.8495584173360962,-2.721797645679798]\n",
       "},\n",
       "&quot;color&quot;:&quot;#ffffff&quot;,\n",
       "&quot;sampling&quot;:&quot;none&quot;,\n",
       "&quot;position&quot;:&quot;identity&quot;,\n",
       "&quot;geom&quot;:&quot;line&quot;\n",
       "},{\n",
       "&quot;mapping&quot;:{\n",
       "&quot;x&quot;:&quot;x&quot;,\n",
       "&quot;y&quot;:&quot;y&quot;\n",
       "},\n",
       "&quot;stat&quot;:&quot;identity&quot;,\n",
       "&quot;data&quot;:{\n",
       "&quot;x&quot;:[-8.659013563208708,-7.676737276298437],\n",
       "&quot;y&quot;:[3.1423996378052506,2.954960858002962]\n",
       "},\n",
       "&quot;color&quot;:&quot;#a39999&quot;,\n",
       "&quot;sampling&quot;:&quot;none&quot;,\n",
       "&quot;position&quot;:&quot;identity&quot;,\n",
       "&quot;geom&quot;:&quot;line&quot;\n",
       "},{\n",
       "&quot;mapping&quot;:{\n",
       "&quot;x&quot;:&quot;x&quot;,\n",
       "&quot;y&quot;:&quot;y&quot;\n",
       "},\n",
       "&quot;stat&quot;:&quot;identity&quot;,\n",
       "&quot;data&quot;:{\n",
       "&quot;x&quot;:[-8.659013563208708,-8.846452343010997],\n",
       "&quot;y&quot;:[3.1423996378052506,2.1601233508949793]\n",
       "},\n",
       "&quot;color&quot;:&quot;#a39999&quot;,\n",
       "&quot;sampling&quot;:&quot;none&quot;,\n",
       "&quot;position&quot;:&quot;identity&quot;,\n",
       "&quot;geom&quot;:&quot;line&quot;\n",
       "},{\n",
       "&quot;mapping&quot;:{\n",
       "&quot;x&quot;:&quot;x&quot;,\n",
       "&quot;y&quot;:&quot;y&quot;\n",
       "},\n",
       "&quot;stat&quot;:&quot;identity&quot;,\n",
       "&quot;data&quot;:{\n",
       "&quot;x&quot;:[-8.659013563208708,-8.096978571991244],\n",
       "&quot;y&quot;:[3.1423996378052506,2.3152861820767248]\n",
       "},\n",
       "&quot;color&quot;:&quot;#ffffff&quot;,\n",
       "&quot;sampling&quot;:&quot;none&quot;,\n",
       "&quot;position&quot;:&quot;identity&quot;,\n",
       "&quot;geom&quot;:&quot;line&quot;\n",
       "},{\n",
       "&quot;mapping&quot;:{\n",
       "&quot;x&quot;:&quot;x&quot;,\n",
       "&quot;y&quot;:&quot;y&quot;\n",
       "},\n",
       "&quot;stat&quot;:&quot;identity&quot;,\n",
       "&quot;data&quot;:{\n",
       "&quot;x&quot;:[-1.681601750404971,-2.4346832329810995],\n",
       "&quot;y&quot;:[9.41162083968731,8.753693578813479]\n",
       "},\n",
       "&quot;color&quot;:&quot;#a39999&quot;,\n",
       "&quot;sampling&quot;:&quot;none&quot;,\n",
       "&quot;position&quot;:&quot;identity&quot;,\n",
       "&quot;geom&quot;:&quot;line&quot;\n",
       "},{\n",
       "&quot;mapping&quot;:{\n",
       "&quot;x&quot;:&quot;x&quot;,\n",
       "&quot;y&quot;:&quot;y&quot;\n",
       "},\n",
       "&quot;stat&quot;:&quot;identity&quot;,\n",
       "&quot;data&quot;:{\n",
       "&quot;x&quot;:[-1.681601750404971,-2.3395290112788008],\n",
       "&quot;y&quot;:[9.41162083968731,10.164702322263437]\n",
       "},\n",
       "&quot;color&quot;:&quot;#a39999&quot;,\n",
       "&quot;sampling&quot;:&quot;none&quot;,\n",
       "&quot;position&quot;:&quot;identity&quot;,\n",
       "&quot;geom&quot;:&quot;line&quot;\n",
       "},{\n",
       "&quot;mapping&quot;:{\n",
       "&quot;x&quot;:&quot;x&quot;,\n",
       "&quot;y&quot;:&quot;y&quot;\n",
       "},\n",
       "&quot;stat&quot;:&quot;identity&quot;,\n",
       "&quot;data&quot;:{\n",
       "&quot;x&quot;:[-1.681601750404971,-2.679335601211946],\n",
       "&quot;y&quot;:[9.41162083968731,9.478905035111532]\n",
       "},\n",
       "&quot;color&quot;:&quot;#ffffff&quot;,\n",
       "&quot;sampling&quot;:&quot;none&quot;,\n",
       "&quot;position&quot;:&quot;identity&quot;,\n",
       "&quot;geom&quot;:&quot;line&quot;\n",
       "},{\n",
       "&quot;mapping&quot;:{\n",
       "&quot;x&quot;:&quot;x&quot;,\n",
       "&quot;y&quot;:&quot;y&quot;\n",
       "},\n",
       "&quot;stat&quot;:&quot;identity&quot;,\n",
       "&quot;data&quot;:{\n",
       "&quot;x&quot;:[6.286789750091985,5.535892784038775],\n",
       "&quot;y&quot;:[-6.990450223395455,-6.330030851804884]\n",
       "},\n",
       "&quot;color&quot;:&quot;#a39999&quot;,\n",
       "&quot;sampling&quot;:&quot;none&quot;,\n",
       "&quot;position&quot;:&quot;identity&quot;,\n",
       "&quot;geom&quot;:&quot;line&quot;\n",
       "},{\n",
       "&quot;mapping&quot;:{\n",
       "&quot;x&quot;:&quot;x&quot;,\n",
       "&quot;y&quot;:&quot;y&quot;\n",
       "},\n",
       "&quot;stat&quot;:&quot;identity&quot;,\n",
       "&quot;data&quot;:{\n",
       "&quot;x&quot;:[6.286789750091985,6.9472091216825556],\n",
       "&quot;y&quot;:[-6.990450223395455,-6.239553257342245]\n",
       "},\n",
       "&quot;color&quot;:&quot;#a39999&quot;,\n",
       "&quot;sampling&quot;:&quot;none&quot;,\n",
       "&quot;position&quot;:&quot;identity&quot;,\n",
       "&quot;geom&quot;:&quot;line&quot;\n",
       "},{\n",
       "&quot;mapping&quot;:{\n",
       "&quot;x&quot;:&quot;x&quot;,\n",
       "&quot;y&quot;:&quot;y&quot;\n",
       "},\n",
       "&quot;stat&quot;:&quot;identity&quot;,\n",
       "&quot;data&quot;:{\n",
       "&quot;x&quot;:[6.286789750091985,6.222812429502007],\n",
       "&quot;y&quot;:[-6.990450223395455,-5.992498870648174]\n",
       "},\n",
       "&quot;color&quot;:&quot;#ffffff&quot;,\n",
       "&quot;sampling&quot;:&quot;none&quot;,\n",
       "&quot;position&quot;:&quot;identity&quot;,\n",
       "&quot;geom&quot;:&quot;line&quot;\n",
       "},{\n",
       "&quot;mapping&quot;:{\n",
       "&quot;x&quot;:&quot;x&quot;,\n",
       "&quot;y&quot;:&quot;y&quot;\n",
       "},\n",
       "&quot;stat&quot;:&quot;identity&quot;,\n",
       "&quot;data&quot;:{\n",
       "&quot;x&quot;:[-2.2769496906206887,-2.4235494039793837],\n",
       "&quot;y&quot;:[-5.795507106263236,-6.7847030039716465]\n",
       "},\n",
       "&quot;color&quot;:&quot;#a39999&quot;,\n",
       "&quot;sampling&quot;:&quot;none&quot;,\n",
       "&quot;position&quot;:&quot;identity&quot;,\n",
       "&quot;geom&quot;:&quot;line&quot;\n",
       "},{\n",
       "&quot;mapping&quot;:{\n",
       "&quot;x&quot;:&quot;x&quot;,\n",
       "&quot;y&quot;:&quot;y&quot;\n",
       "},\n",
       "&quot;stat&quot;:&quot;identity&quot;,\n",
       "&quot;data&quot;:{\n",
       "&quot;x&quot;:[-2.2769496906206887,-3.2661455883290995],\n",
       "&quot;y&quot;:[-5.795507106263236,-5.648907392904541]\n",
       "},\n",
       "&quot;color&quot;:&quot;#a39999&quot;,\n",
       "&quot;sampling&quot;:&quot;none&quot;,\n",
       "&quot;position&quot;:&quot;identity&quot;,\n",
       "&quot;geom&quot;:&quot;line&quot;\n",
       "},{\n",
       "&quot;mapping&quot;:{\n",
       "&quot;x&quot;:&quot;x&quot;,\n",
       "&quot;y&quot;:&quot;y&quot;\n",
       "},\n",
       "&quot;stat&quot;:&quot;identity&quot;,\n",
       "&quot;data&quot;:{\n",
       "&quot;x&quot;:[-2.2769496906206887,-3.0800784692481575],\n",
       "&quot;y&quot;:[-5.795507106263236,-6.391312582018831]\n",
       "},\n",
       "&quot;color&quot;:&quot;#ffffff&quot;,\n",
       "&quot;sampling&quot;:&quot;none&quot;,\n",
       "&quot;position&quot;:&quot;identity&quot;,\n",
       "&quot;geom&quot;:&quot;line&quot;\n",
       "},{\n",
       "&quot;mapping&quot;:{\n",
       "&quot;x&quot;:&quot;x&quot;,\n",
       "&quot;y&quot;:&quot;y&quot;\n",
       "},\n",
       "&quot;stat&quot;:&quot;identity&quot;,\n",
       "&quot;data&quot;:{\n",
       "&quot;x&quot;:[-1.1330043291577867,-0.13333245885962364],\n",
       "&quot;y&quot;:[2.1878530336932442,2.2134684925915855]\n",
       "},\n",
       "&quot;color&quot;:&quot;#a39999&quot;,\n",
       "&quot;sampling&quot;:&quot;none&quot;,\n",
       "&quot;position&quot;:&quot;identity&quot;,\n",
       "&quot;geom&quot;:&quot;line&quot;\n",
       "},{\n",
       "&quot;mapping&quot;:{\n",
       "&quot;x&quot;:&quot;x&quot;,\n",
       "&quot;y&quot;:&quot;y&quot;\n",
       "},\n",
       "&quot;stat&quot;:&quot;identity&quot;,\n",
       "&quot;data&quot;:{\n",
       "&quot;x&quot;:[-1.1330043291577867,-1.1073888702594452],\n",
       "&quot;y&quot;:[2.1878530336932442,1.1881811633950812]\n",
       "},\n",
       "&quot;color&quot;:&quot;#a39999&quot;,\n",
       "&quot;sampling&quot;:&quot;none&quot;,\n",
       "&quot;position&quot;:&quot;identity&quot;,\n",
       "&quot;geom&quot;:&quot;line&quot;\n",
       "},{\n",
       "&quot;mapping&quot;:{\n",
       "&quot;x&quot;:&quot;x&quot;,\n",
       "&quot;y&quot;:&quot;y&quot;\n",
       "},\n",
       "&quot;stat&quot;:&quot;identity&quot;,\n",
       "&quot;data&quot;:{\n",
       "&quot;x&quot;:[-1.1330043291577867,-0.4080167060182943],\n",
       "&quot;y&quot;:[2.1878530336932442,1.4990911399341968]\n",
       "},\n",
       "&quot;color&quot;:&quot;#ffffff&quot;,\n",
       "&quot;sampling&quot;:&quot;none&quot;,\n",
       "&quot;position&quot;:&quot;identity&quot;,\n",
       "&quot;geom&quot;:&quot;line&quot;\n",
       "},{\n",
       "&quot;mapping&quot;:{\n",
       "&quot;x&quot;:&quot;x&quot;,\n",
       "&quot;y&quot;:&quot;y&quot;\n",
       "},\n",
       "&quot;stat&quot;:&quot;identity&quot;,\n",
       "&quot;data&quot;:{\n",
       "&quot;x&quot;:[9.715180479787445,10.143943362178183],\n",
       "&quot;y&quot;:[2.2569731625805733,1.3535560990467992]\n",
       "},\n",
       "&quot;color&quot;:&quot;#a39999&quot;,\n",
       "&quot;sampling&quot;:&quot;none&quot;,\n",
       "&quot;position&quot;:&quot;identity&quot;,\n",
       "&quot;geom&quot;:&quot;line&quot;\n",
       "},{\n",
       "&quot;mapping&quot;:{\n",
       "&quot;x&quot;:&quot;x&quot;,\n",
       "&quot;y&quot;:&quot;y&quot;\n",
       "},\n",
       "&quot;stat&quot;:&quot;identity&quot;,\n",
       "&quot;data&quot;:{\n",
       "&quot;x&quot;:[9.715180479787445,8.81176341625367],\n",
       "&quot;y&quot;:[2.2569731625805733,1.8282102801898366]\n",
       "},\n",
       "&quot;color&quot;:&quot;#a39999&quot;,\n",
       "&quot;sampling&quot;:&quot;none&quot;,\n",
       "&quot;position&quot;:&quot;identity&quot;,\n",
       "&quot;geom&quot;:&quot;line&quot;\n",
       "},{\n",
       "&quot;mapping&quot;:{\n",
       "&quot;x&quot;:&quot;x&quot;,\n",
       "&quot;y&quot;:&quot;y&quot;\n",
       "},\n",
       "&quot;stat&quot;:&quot;identity&quot;,\n",
       "&quot;data&quot;:{\n",
       "&quot;x&quot;:[9.715180479787445,9.379549289582656],\n",
       "&quot;y&quot;:[2.2569731625805733,1.3149796890566234]\n",
       "},\n",
       "&quot;color&quot;:&quot;#ffffff&quot;,\n",
       "&quot;sampling&quot;:&quot;none&quot;,\n",
       "&quot;position&quot;:&quot;identity&quot;,\n",
       "&quot;geom&quot;:&quot;line&quot;\n",
       "},{\n",
       "&quot;mapping&quot;:{\n",
       "&quot;x&quot;:&quot;x&quot;,\n",
       "&quot;y&quot;:&quot;y&quot;\n",
       "},\n",
       "&quot;stat&quot;:&quot;identity&quot;,\n",
       "&quot;data&quot;:{\n",
       "&quot;x&quot;:[0.7208695285348894,1.4039222132725122],\n",
       "&quot;y&quot;:[1.6190465655128197,0.8886774602840144]\n",
       "},\n",
       "&quot;color&quot;:&quot;#a39999&quot;,\n",
       "&quot;sampling&quot;:&quot;none&quot;,\n",
       "&quot;position&quot;:&quot;identity&quot;,\n",
       "&quot;geom&quot;:&quot;line&quot;\n",
       "},{\n",
       "&quot;mapping&quot;:{\n",
       "&quot;x&quot;:&quot;x&quot;,\n",
       "&quot;y&quot;:&quot;y&quot;\n",
       "},\n",
       "&quot;stat&quot;:&quot;identity&quot;,\n",
       "&quot;data&quot;:{\n",
       "&quot;x&quot;:[0.7208695285348894,-0.009499576693915768],\n",
       "&quot;y&quot;:[1.6190465655128197,0.9359938807751967]\n",
       "},\n",
       "&quot;color&quot;:&quot;#a39999&quot;,\n",
       "&quot;sampling&quot;:&quot;none&quot;,\n",
       "&quot;position&quot;:&quot;identity&quot;,\n",
       "&quot;geom&quot;:&quot;line&quot;\n",
       "},{\n",
       "&quot;mapping&quot;:{\n",
       "&quot;x&quot;:&quot;x&quot;,\n",
       "&quot;y&quot;:&quot;y&quot;\n",
       "},\n",
       "&quot;stat&quot;:&quot;identity&quot;,\n",
       "&quot;data&quot;:{\n",
       "&quot;x&quot;:[0.7208695285348894,0.6874117667441002],\n",
       "&quot;y&quot;:[1.6190465655128197,0.6196064331507303]\n",
       "},\n",
       "&quot;color&quot;:&quot;#ffffff&quot;,\n",
       "&quot;sampling&quot;:&quot;none&quot;,\n",
       "&quot;position&quot;:&quot;identity&quot;,\n",
       "&quot;geom&quot;:&quot;line&quot;\n",
       "},{\n",
       "&quot;mapping&quot;:{\n",
       "&quot;x&quot;:&quot;x&quot;,\n",
       "&quot;y&quot;:&quot;y&quot;\n",
       "},\n",
       "&quot;stat&quot;:&quot;identity&quot;,\n",
       "&quot;data&quot;:{\n",
       "&quot;x&quot;:[5.785749945663884,6.179206656770866],\n",
       "&quot;y&quot;:[-0.8124053604616134,-1.7317485044970042]\n",
       "},\n",
       "&quot;color&quot;:&quot;#a39999&quot;,\n",
       "&quot;sampling&quot;:&quot;none&quot;,\n",
       "&quot;position&quot;:&quot;identity&quot;,\n",
       "&quot;geom&quot;:&quot;line&quot;\n",
       "},{\n",
       "&quot;mapping&quot;:{\n",
       "&quot;x&quot;:&quot;x&quot;,\n",
       "&quot;y&quot;:&quot;y&quot;\n",
       "},\n",
       "&quot;stat&quot;:&quot;identity&quot;,\n",
       "&quot;data&quot;:{\n",
       "&quot;x&quot;:[5.785749945663884,4.866406801628493],\n",
       "&quot;y&quot;:[-0.8124053604616134,-1.2058620715685948]\n",
       "},\n",
       "&quot;color&quot;:&quot;#a39999&quot;,\n",
       "&quot;sampling&quot;:&quot;none&quot;,\n",
       "&quot;position&quot;:&quot;identity&quot;,\n",
       "&quot;geom&quot;:&quot;line&quot;\n",
       "},{\n",
       "&quot;mapping&quot;:{\n",
       "&quot;x&quot;:&quot;x&quot;,\n",
       "&quot;y&quot;:&quot;y&quot;\n",
       "},\n",
       "&quot;stat&quot;:&quot;identity&quot;,\n",
       "&quot;data&quot;:{\n",
       "&quot;x&quot;:[5.785749945663884,5.413892082806202],\n",
       "&quot;y&quot;:[-0.8124053604616134,-1.740695040373502]\n",
       "},\n",
       "&quot;color&quot;:&quot;#ffffff&quot;,\n",
       "&quot;sampling&quot;:&quot;none&quot;,\n",
       "&quot;position&quot;:&quot;identity&quot;,\n",
       "&quot;geom&quot;:&quot;line&quot;\n",
       "},{\n",
       "&quot;mapping&quot;:{\n",
       "&quot;x&quot;:&quot;x&quot;,\n",
       "&quot;y&quot;:&quot;y&quot;\n",
       "},\n",
       "&quot;stat&quot;:&quot;identity&quot;,\n",
       "&quot;data&quot;:{\n",
       "&quot;x&quot;:[-2.36557265133993,-3.0676492749687565],\n",
       "&quot;y&quot;:[8.295400552936805,7.583299145443499]\n",
       "},\n",
       "&quot;color&quot;:&quot;#a39999&quot;,\n",
       "&quot;sampling&quot;:&quot;none&quot;,\n",
       "&quot;position&quot;:&quot;identity&quot;,\n",
       "&quot;geom&quot;:&quot;line&quot;\n",
       "},{\n",
       "&quot;mapping&quot;:{\n",
       "&quot;x&quot;:&quot;x&quot;,\n",
       "&quot;y&quot;:&quot;y&quot;\n",
       "},\n",
       "&quot;stat&quot;:&quot;identity&quot;,\n",
       "&quot;data&quot;:{\n",
       "&quot;x&quot;:[-2.36557265133993,-3.077674058833236],\n",
       "&quot;y&quot;:[8.295400552936805,8.997477176565631]\n",
       "},\n",
       "&quot;color&quot;:&quot;#a39999&quot;,\n",
       "&quot;sampling&quot;:&quot;none&quot;,\n",
       "&quot;position&quot;:&quot;identity&quot;,\n",
       "&quot;geom&quot;:&quot;line&quot;\n",
       "},{\n",
       "&quot;mapping&quot;:{\n",
       "&quot;x&quot;:&quot;x&quot;,\n",
       "&quot;y&quot;:&quot;y&quot;\n",
       "},\n",
       "&quot;stat&quot;:&quot;identity&quot;,\n",
       "&quot;data&quot;:{\n",
       "&quot;x&quot;:[-2.36557265133993,-3.3655475269514303],\n",
       "&quot;y&quot;:[8.295400552936805,8.288311960286302]\n",
       "},\n",
       "&quot;color&quot;:&quot;#ffffff&quot;,\n",
       "&quot;sampling&quot;:&quot;none&quot;,\n",
       "&quot;position&quot;:&quot;identity&quot;,\n",
       "&quot;geom&quot;:&quot;line&quot;\n",
       "},{\n",
       "&quot;mapping&quot;:{\n",
       "&quot;x&quot;:&quot;x&quot;,\n",
       "&quot;y&quot;:&quot;y&quot;\n",
       "},\n",
       "&quot;stat&quot;:&quot;identity&quot;,\n",
       "&quot;data&quot;:{\n",
       "&quot;x&quot;:[-3.893203324672584,-4.4810913368842495],\n",
       "&quot;y&quot;:[0.1840382131040973,0.9929805380555224]\n",
       "},\n",
       "&quot;color&quot;:&quot;#a39999&quot;,\n",
       "&quot;sampling&quot;:&quot;none&quot;,\n",
       "&quot;position&quot;:&quot;identity&quot;,\n",
       "&quot;geom&quot;:&quot;line&quot;\n",
       "},{\n",
       "&quot;mapping&quot;:{\n",
       "&quot;x&quot;:&quot;x&quot;,\n",
       "&quot;y&quot;:&quot;y&quot;\n",
       "},\n",
       "&quot;stat&quot;:&quot;identity&quot;,\n",
       "&quot;data&quot;:{\n",
       "&quot;x&quot;:[-3.893203324672584,-3.084260999721159],\n",
       "&quot;y&quot;:[0.1840382131040973,0.7719262253157626]\n",
       "},\n",
       "&quot;color&quot;:&quot;#a39999&quot;,\n",
       "&quot;sampling&quot;:&quot;none&quot;,\n",
       "&quot;position&quot;:&quot;identity&quot;,\n",
       "&quot;geom&quot;:&quot;line&quot;\n",
       "},{\n",
       "&quot;mapping&quot;:{\n",
       "&quot;x&quot;:&quot;x&quot;,\n",
       "&quot;y&quot;:&quot;y&quot;\n",
       "},\n",
       "&quot;stat&quot;:&quot;identity&quot;,\n",
       "&quot;data&quot;:{\n",
       "&quot;x&quot;:[-3.893203324672584,-3.7368943211237684],\n",
       "&quot;y&quot;:[0.1840382131040973,1.17174641667921]\n",
       "},\n",
       "&quot;color&quot;:&quot;#ffffff&quot;,\n",
       "&quot;sampling&quot;:&quot;none&quot;,\n",
       "&quot;position&quot;:&quot;identity&quot;,\n",
       "&quot;geom&quot;:&quot;line&quot;\n",
       "},{\n",
       "&quot;mapping&quot;:{\n",
       "&quot;x&quot;:&quot;x&quot;,\n",
       "&quot;y&quot;:&quot;y&quot;\n",
       "},\n",
       "&quot;stat&quot;:&quot;identity&quot;,\n",
       "&quot;data&quot;:{\n",
       "&quot;x&quot;:[6.67434741754815,7.613852179998619],\n",
       "&quot;y&quot;:[6.289401310664687,5.9468654711779445]\n",
       "},\n",
       "&quot;color&quot;:&quot;#a39999&quot;,\n",
       "&quot;sampling&quot;:&quot;none&quot;,\n",
       "&quot;position&quot;:&quot;identity&quot;,\n",
       "&quot;geom&quot;:&quot;line&quot;\n",
       "},{\n",
       "&quot;mapping&quot;:{\n",
       "&quot;x&quot;:&quot;x&quot;,\n",
       "&quot;y&quot;:&quot;y&quot;\n",
       "},\n",
       "&quot;stat&quot;:&quot;identity&quot;,\n",
       "&quot;data&quot;:{\n",
       "&quot;x&quot;:[6.67434741754815,6.331811578061408],\n",
       "&quot;y&quot;:[6.289401310664687,5.349896548214217]\n",
       "},\n",
       "&quot;color&quot;:&quot;#a39999&quot;,\n",
       "&quot;sampling&quot;:&quot;none&quot;,\n",
       "&quot;position&quot;:&quot;identity&quot;,\n",
       "&quot;geom&quot;:&quot;line&quot;\n",
       "},{\n",
       "&quot;mapping&quot;:{\n",
       "&quot;x&quot;:&quot;x&quot;,\n",
       "&quot;y&quot;:&quot;y&quot;\n",
       "},\n",
       "&quot;stat&quot;:&quot;identity&quot;,\n",
       "&quot;data&quot;:{\n",
       "&quot;x&quot;:[6.67434741754815,7.096468191133431],\n",
       "&quot;y&quot;:[6.289401310664687,5.382861707278401]\n",
       "},\n",
       "&quot;color&quot;:&quot;#ffffff&quot;,\n",
       "&quot;sampling&quot;:&quot;none&quot;,\n",
       "&quot;position&quot;:&quot;identity&quot;,\n",
       "&quot;geom&quot;:&quot;line&quot;\n",
       "},{\n",
       "&quot;mapping&quot;:{\n",
       "&quot;x&quot;:&quot;x&quot;,\n",
       "&quot;y&quot;:&quot;y&quot;\n",
       "},\n",
       "&quot;stat&quot;:&quot;identity&quot;,\n",
       "&quot;data&quot;:{\n",
       "&quot;x&quot;:[7.294458552957249,8.279267370519978],\n",
       "&quot;y&quot;:[-5.086090900110731,-4.912448759918031]\n",
       "},\n",
       "&quot;color&quot;:&quot;#a39999&quot;,\n",
       "&quot;sampling&quot;:&quot;none&quot;,\n",
       "&quot;position&quot;:&quot;identity&quot;,\n",
       "&quot;geom&quot;:&quot;line&quot;\n",
       "},{\n",
       "&quot;mapping&quot;:{\n",
       "&quot;x&quot;:&quot;x&quot;,\n",
       "&quot;y&quot;:&quot;y&quot;\n",
       "},\n",
       "&quot;stat&quot;:&quot;identity&quot;,\n",
       "&quot;data&quot;:{\n",
       "&quot;x&quot;:[7.294458552957249,7.46810069314995],\n",
       "&quot;y&quot;:[-5.086090900110731,-6.070899717673459]\n",
       "},\n",
       "&quot;color&quot;:&quot;#a39999&quot;,\n",
       "&quot;sampling&quot;:&quot;none&quot;,\n",
       "&quot;position&quot;:&quot;identity&quot;,\n",
       "&quot;geom&quot;:&quot;line&quot;\n",
       "},{\n",
       "&quot;mapping&quot;:{\n",
       "&quot;x&quot;:&quot;x&quot;,\n",
       "&quot;y&quot;:&quot;y&quot;\n",
       "},\n",
       "&quot;stat&quot;:&quot;identity&quot;,\n",
       "&quot;data&quot;:{\n",
       "&quot;x&quot;:[7.294458552957249,8.113607080858163],\n",
       "&quot;y&quot;:[-5.086090900110731,-5.659672358351639]\n",
       "},\n",
       "&quot;color&quot;:&quot;#ffffff&quot;,\n",
       "&quot;sampling&quot;:&quot;none&quot;,\n",
       "&quot;position&quot;:&quot;identity&quot;,\n",
       "&quot;geom&quot;:&quot;line&quot;\n",
       "},{\n",
       "&quot;mapping&quot;:{\n",
       "&quot;x&quot;:&quot;x&quot;,\n",
       "&quot;y&quot;:&quot;y&quot;\n",
       "},\n",
       "&quot;stat&quot;:&quot;identity&quot;,\n",
       "&quot;data&quot;:{\n",
       "&quot;x&quot;:[-2.408506675064619,-1.6094893098549137],\n",
       "&quot;y&quot;:[-4.699466354361067,-5.300774303829009]\n",
       "},\n",
       "&quot;color&quot;:&quot;#a39999&quot;,\n",
       "&quot;sampling&quot;:&quot;none&quot;,\n",
       "&quot;position&quot;:&quot;identity&quot;,\n",
       "&quot;geom&quot;:&quot;line&quot;\n",
       "},{\n",
       "&quot;mapping&quot;:{\n",
       "&quot;x&quot;:&quot;x&quot;,\n",
       "&quot;y&quot;:&quot;y&quot;\n",
       "},\n",
       "&quot;stat&quot;:&quot;identity&quot;,\n",
       "&quot;data&quot;:{\n",
       "&quot;x&quot;:[-2.408506675064619,-3.0098146245325603],\n",
       "&quot;y&quot;:[-4.699466354361067,-5.498483719570772]\n",
       "},\n",
       "&quot;color&quot;:&quot;#a39999&quot;,\n",
       "&quot;sampling&quot;:&quot;none&quot;,\n",
       "&quot;position&quot;:&quot;identity&quot;,\n",
       "&quot;geom&quot;:&quot;line&quot;\n",
       "},{\n",
       "&quot;mapping&quot;:{\n",
       "&quot;x&quot;:&quot;x&quot;,\n",
       "&quot;y&quot;:&quot;y&quot;\n",
       "},\n",
       "&quot;stat&quot;:&quot;identity&quot;,\n",
       "&quot;data&quot;:{\n",
       "&quot;x&quot;:[-2.408506675064619,-2.268705006489187],\n",
       "&quot;y&quot;:[-4.699466354361067,-5.689645880236817]\n",
       "},\n",
       "&quot;color&quot;:&quot;#ffffff&quot;,\n",
       "&quot;sampling&quot;:&quot;none&quot;,\n",
       "&quot;position&quot;:&quot;identity&quot;,\n",
       "&quot;geom&quot;:&quot;line&quot;\n",
       "},{\n",
       "&quot;mapping&quot;:{\n",
       "&quot;x&quot;:&quot;x&quot;,\n",
       "&quot;y&quot;:&quot;y&quot;\n",
       "},\n",
       "&quot;stat&quot;:&quot;identity&quot;,\n",
       "&quot;data&quot;:{\n",
       "&quot;x&quot;:[6.537607124297484,6.922844903844409],\n",
       "&quot;y&quot;:[6.5767962939064635,7.499613639435769]\n",
       "},\n",
       "&quot;color&quot;:&quot;#a39999&quot;,\n",
       "&quot;sampling&quot;:&quot;none&quot;,\n",
       "&quot;position&quot;:&quot;identity&quot;,\n",
       "&quot;geom&quot;:&quot;line&quot;\n",
       "},{\n",
       "&quot;mapping&quot;:{\n",
       "&quot;x&quot;:&quot;x&quot;,\n",
       "&quot;y&quot;:&quot;y&quot;\n",
       "},\n",
       "&quot;stat&quot;:&quot;identity&quot;,\n",
       "&quot;data&quot;:{\n",
       "&quot;x&quot;:[6.537607124297484,7.4604244698267905],\n",
       "&quot;y&quot;:[6.5767962939064635,6.191558514359539]\n",
       "},\n",
       "&quot;color&quot;:&quot;#a39999&quot;,\n",
       "&quot;sampling&quot;:&quot;none&quot;,\n",
       "&quot;position&quot;:&quot;identity&quot;,\n",
       "&quot;geom&quot;:&quot;line&quot;\n",
       "},{\n",
       "&quot;mapping&quot;:{\n",
       "&quot;x&quot;:&quot;x&quot;,\n",
       "&quot;y&quot;:&quot;y&quot;\n",
       "},\n",
       "&quot;stat&quot;:&quot;identity&quot;,\n",
       "&quot;data&quot;:{\n",
       "&quot;x&quot;:[6.537607124297484,7.462541773404705],\n",
       "&quot;y&quot;:[6.5767962939064635,6.956922450439927]\n",
       "},\n",
       "&quot;color&quot;:&quot;#ffffff&quot;,\n",
       "&quot;sampling&quot;:&quot;none&quot;,\n",
       "&quot;position&quot;:&quot;identity&quot;,\n",
       "&quot;geom&quot;:&quot;line&quot;\n",
       "},{\n",
       "&quot;mapping&quot;:{\n",
       "&quot;x&quot;:&quot;x&quot;,\n",
       "&quot;y&quot;:&quot;y&quot;\n",
       "},\n",
       "&quot;stat&quot;:&quot;identity&quot;,\n",
       "&quot;data&quot;:{\n",
       "&quot;x&quot;:[5.691469823750128,6.356344254002055],\n",
       "&quot;y&quot;:[6.926908681279536,7.673863828525458]\n",
       "},\n",
       "&quot;color&quot;:&quot;#a39999&quot;,\n",
       "&quot;sampling&quot;:&quot;none&quot;,\n",
       "&quot;position&quot;:&quot;identity&quot;,\n",
       "&quot;geom&quot;:&quot;line&quot;\n",
       "},{\n",
       "&quot;mapping&quot;:{\n",
       "&quot;x&quot;:&quot;x&quot;,\n",
       "&quot;y&quot;:&quot;y&quot;\n",
       "},\n",
       "&quot;stat&quot;:&quot;identity&quot;,\n",
       "&quot;data&quot;:{\n",
       "&quot;x&quot;:[5.691469823750128,6.43842497099605],\n",
       "&quot;y&quot;:[6.926908681279536,6.262034251027609]\n",
       "},\n",
       "&quot;color&quot;:&quot;#a39999&quot;,\n",
       "&quot;sampling&quot;:&quot;none&quot;,\n",
       "&quot;position&quot;:&quot;identity&quot;,\n",
       "&quot;geom&quot;:&quot;line&quot;\n",
       "},{\n",
       "&quot;mapping&quot;:{\n",
       "&quot;x&quot;:&quot;x&quot;,\n",
       "&quot;y&quot;:&quot;y&quot;\n",
       "},\n",
       "&quot;stat&quot;:&quot;identity&quot;,\n",
       "&quot;data&quot;:{\n",
       "&quot;x&quot;:[5.691469823750128,6.689784091878595],\n",
       "&quot;y&quot;:[6.926908681279536,6.984948512870644]\n",
       "},\n",
       "&quot;color&quot;:&quot;#ffffff&quot;,\n",
       "&quot;sampling&quot;:&quot;none&quot;,\n",
       "&quot;position&quot;:&quot;identity&quot;,\n",
       "&quot;geom&quot;:&quot;line&quot;\n",
       "},{\n",
       "&quot;mapping&quot;:{\n",
       "&quot;x&quot;:&quot;x&quot;,\n",
       "&quot;y&quot;:&quot;y&quot;\n",
       "},\n",
       "&quot;stat&quot;:&quot;identity&quot;,\n",
       "&quot;data&quot;:{\n",
       "&quot;x&quot;:[-9.071447089794892,-10.067059285141209],\n",
       "&quot;y&quot;:[-1.5827935015179369,-1.489218096214577]\n",
       "},\n",
       "&quot;color&quot;:&quot;#a39999&quot;,\n",
       "&quot;sampling&quot;:&quot;none&quot;,\n",
       "&quot;position&quot;:&quot;identity&quot;,\n",
       "&quot;geom&quot;:&quot;line&quot;\n",
       "},{\n",
       "&quot;mapping&quot;:{\n",
       "&quot;x&quot;:&quot;x&quot;,\n",
       "&quot;y&quot;:&quot;y&quot;\n",
       "},\n",
       "&quot;stat&quot;:&quot;identity&quot;,\n",
       "&quot;data&quot;:{\n",
       "&quot;x&quot;:[-9.071447089794892,-8.977871684491532],\n",
       "&quot;y&quot;:[-1.5827935015179369,-0.5871813061716203]\n",
       "},\n",
       "&quot;color&quot;:&quot;#a39999&quot;,\n",
       "&quot;sampling&quot;:&quot;none&quot;,\n",
       "&quot;position&quot;:&quot;identity&quot;,\n",
       "&quot;geom&quot;:&quot;line&quot;\n",
       "},{\n",
       "&quot;mapping&quot;:{\n",
       "&quot;x&quot;:&quot;x&quot;,\n",
       "&quot;y&quot;:&quot;y&quot;\n",
       "},\n",
       "&quot;stat&quot;:&quot;identity&quot;,\n",
       "&quot;data&quot;:{\n",
       "&quot;x&quot;:[-9.071447089794892,-9.709283420914012],\n",
       "&quot;y&quot;:[-1.5827935015179369,-0.8126215631142454]\n",
       "},\n",
       "&quot;color&quot;:&quot;#ffffff&quot;,\n",
       "&quot;sampling&quot;:&quot;none&quot;,\n",
       "&quot;position&quot;:&quot;identity&quot;,\n",
       "&quot;geom&quot;:&quot;line&quot;\n",
       "}]\n",
       "};\n",
       "       var plotContainer = document.getElementById(&quot;gp3NEY&quot;);\n",
       "       LetsPlot.buildPlotFromProcessedSpecs(plotSpec, -1, -1, plotContainer);\n",
       "   &lt;/script>\n",
       "   &lt;/body>\n",
       "&lt;/html>\"></iframe>            <svg xmlns=\"http://www.w3.org/2000/svg\" xmlns:xlink=\"http://www.w3.org/1999/xlink\" display=\"block\" class=\"plt-container\" id=0041abd9-5157-4094-8700-502edf3b4833 width=\"100%\" height=\"100%\" style=\"max-width: 500.0px; max-height: 500.0px;\" viewBox=\"0 0 500.0 500.0\" preserveAspectRatio=\"xMinYMin meet\">\n",
       "  <style type=\"text/css\">\n",
       "  .plt-container {\n",
       "   font-family: Lucida Grande, sans-serif;\n",
       "   user-select: none;\n",
       "   -webkit-user-select: none;\n",
       "   -moz-user-select: none;\n",
       "   -ms-user-select: none;\n",
       "}\n",
       "text {\n",
       "   text-rendering: optimizeLegibility;\n",
       "}\n",
       "#pZVb9os .plot-title {\n",
       "   fill: #474747;\n",
       "   font-family: Lucida Grande, sans-serif;\n",
       "   font-size: 16.0px;\n",
       "   font-weight: normal;\n",
       "   font-style: normal;   \n",
       "}\n",
       "#pZVb9os .plot-subtitle {\n",
       "   fill: #474747;\n",
       "   font-family: Lucida Grande, sans-serif;\n",
       "   font-size: 15.0px;\n",
       "   font-weight: normal;\n",
       "   font-style: normal;   \n",
       "}\n",
       "#pZVb9os .plot-caption {\n",
       "   fill: #474747;\n",
       "   font-family: Lucida Grande, sans-serif;\n",
       "   font-size: 13.0px;\n",
       "   font-weight: normal;\n",
       "   font-style: normal;   \n",
       "}\n",
       "#pZVb9os .legend-title {\n",
       "   fill: #474747;\n",
       "   font-family: Lucida Grande, sans-serif;\n",
       "   font-size: 15.0px;\n",
       "   font-weight: normal;\n",
       "   font-style: normal;   \n",
       "}\n",
       "#pZVb9os .legend-item {\n",
       "   fill: #474747;\n",
       "   font-family: Lucida Grande, sans-serif;\n",
       "   font-size: 13.0px;\n",
       "   font-weight: normal;\n",
       "   font-style: normal;   \n",
       "}\n",
       "#pZVb9os .axis-title-x {\n",
       "   fill: #474747;\n",
       "   font-family: Lucida Grande, sans-serif;\n",
       "   font-size: 15.0px;\n",
       "   font-weight: normal;\n",
       "   font-style: normal;   \n",
       "}\n",
       "#pZVb9os .axis-text-x {\n",
       "   fill: #474747;\n",
       "   font-family: Lucida Grande, sans-serif;\n",
       "   font-size: 13.0px;\n",
       "   font-weight: normal;\n",
       "   font-style: normal;   \n",
       "}\n",
       "#drCyaN1 .axis-tooltip-text-x {\n",
       "   fill: #ffffff;\n",
       "   font-family: Lucida Grande, sans-serif;\n",
       "   font-size: 13.0px;\n",
       "   font-weight: normal;\n",
       "   font-style: normal;   \n",
       "}\n",
       "#pZVb9os .axis-title-y {\n",
       "   fill: #474747;\n",
       "   font-family: Lucida Grande, sans-serif;\n",
       "   font-size: 15.0px;\n",
       "   font-weight: normal;\n",
       "   font-style: normal;   \n",
       "}\n",
       "#pZVb9os .axis-text-y {\n",
       "   fill: #474747;\n",
       "   font-family: Lucida Grande, sans-serif;\n",
       "   font-size: 13.0px;\n",
       "   font-weight: normal;\n",
       "   font-style: normal;   \n",
       "}\n",
       "#drCyaN1 .axis-tooltip-text-y {\n",
       "   fill: #ffffff;\n",
       "   font-family: Lucida Grande, sans-serif;\n",
       "   font-size: 13.0px;\n",
       "   font-weight: normal;\n",
       "   font-style: normal;   \n",
       "}\n",
       "#pZVb9os .facet-strip-text-x {\n",
       "   fill: #474747;\n",
       "   font-family: Lucida Grande, sans-serif;\n",
       "   font-size: 13.0px;\n",
       "   font-weight: normal;\n",
       "   font-style: normal;   \n",
       "}\n",
       "#pZVb9os .facet-strip-text-y {\n",
       "   fill: #474747;\n",
       "   font-family: Lucida Grande, sans-serif;\n",
       "   font-size: 13.0px;\n",
       "   font-weight: normal;\n",
       "   font-style: normal;   \n",
       "}\n",
       "#drCyaN1 .tooltip-text {\n",
       "   fill: #474747;\n",
       "   font-family: Lucida Grande, sans-serif;\n",
       "   font-size: 13.0px;\n",
       "   font-weight: normal;\n",
       "   font-style: normal;   \n",
       "}\n",
       "#drCyaN1 .tooltip-title {\n",
       "   fill: #474747;\n",
       "   font-family: Lucida Grande, sans-serif;\n",
       "   font-size: 13.0px;\n",
       "   font-weight: bold;\n",
       "   font-style: normal;   \n",
       "}\n",
       "#drCyaN1 .tooltip-label {\n",
       "   fill: #474747;\n",
       "   font-family: Lucida Grande, sans-serif;\n",
       "   font-size: 13.0px;\n",
       "   font-weight: bold;\n",
       "   font-style: normal;   \n",
       "}\n",
       "\n",
       "  </style>\n",
       "  <g id=\"pZVb9os\">\n",
       "    <path fill-rule=\"evenodd\" fill=\"rgb(255,255,255)\" fill-opacity=\"1.0\" d=\"M0.0 0.0 L0.0 500.0 L500.0 500.0 L500.0 0.0 Z\">\n",
       "    </path>\n",
       "    <g transform=\"translate(29.5 6.5 ) \">\n",
       "      <g>\n",
       "        <g transform=\"translate(29.941816366404606 0.0 ) \">\n",
       "          <g>\n",
       "            <line x1=\"21.03917871737056\" y1=\"0.0\" x2=\"21.03917871737056\" y2=\"441.0\" stroke=\"rgb(233,233,233)\" stroke-opacity=\"1.0\" stroke-width=\"1.0\" fill=\"none\">\n",
       "            </line>\n",
       "            <line x1=\"118.6588652919379\" y1=\"0.0\" x2=\"118.6588652919379\" y2=\"441.0\" stroke=\"rgb(233,233,233)\" stroke-opacity=\"1.0\" stroke-width=\"1.0\" fill=\"none\">\n",
       "            </line>\n",
       "            <line x1=\"216.27855186650524\" y1=\"0.0\" x2=\"216.27855186650524\" y2=\"441.0\" stroke=\"rgb(233,233,233)\" stroke-opacity=\"1.0\" stroke-width=\"1.0\" fill=\"none\">\n",
       "            </line>\n",
       "            <line x1=\"313.8982384410726\" y1=\"0.0\" x2=\"313.8982384410726\" y2=\"441.0\" stroke=\"rgb(233,233,233)\" stroke-opacity=\"1.0\" stroke-width=\"1.0\" fill=\"none\">\n",
       "            </line>\n",
       "            <line x1=\"411.5179250156399\" y1=\"0.0\" x2=\"411.5179250156399\" y2=\"441.0\" stroke=\"rgb(233,233,233)\" stroke-opacity=\"1.0\" stroke-width=\"1.0\" fill=\"none\">\n",
       "            </line>\n",
       "          </g>\n",
       "        </g>\n",
       "        <g transform=\"translate(29.941816366404606 0.0 ) \">\n",
       "          <g>\n",
       "            <line x1=\"0.0\" y1=\"413.1039154915375\" x2=\"434.0581836335954\" y2=\"413.1039154915375\" stroke=\"rgb(233,233,233)\" stroke-opacity=\"1.0\" stroke-width=\"1.0\" fill=\"none\">\n",
       "            </line>\n",
       "            <line x1=\"0.0\" y1=\"374.11911376578973\" x2=\"434.0581836335954\" y2=\"374.11911376578973\" stroke=\"rgb(233,233,233)\" stroke-opacity=\"1.0\" stroke-width=\"1.0\" fill=\"none\">\n",
       "            </line>\n",
       "            <line x1=\"0.0\" y1=\"335.13431204004195\" x2=\"434.0581836335954\" y2=\"335.13431204004195\" stroke=\"rgb(233,233,233)\" stroke-opacity=\"1.0\" stroke-width=\"1.0\" fill=\"none\">\n",
       "            </line>\n",
       "            <line x1=\"0.0\" y1=\"296.14951031429416\" x2=\"434.0581836335954\" y2=\"296.14951031429416\" stroke=\"rgb(233,233,233)\" stroke-opacity=\"1.0\" stroke-width=\"1.0\" fill=\"none\">\n",
       "            </line>\n",
       "            <line x1=\"0.0\" y1=\"257.1647085885464\" x2=\"434.0581836335954\" y2=\"257.1647085885464\" stroke=\"rgb(233,233,233)\" stroke-opacity=\"1.0\" stroke-width=\"1.0\" fill=\"none\">\n",
       "            </line>\n",
       "            <line x1=\"0.0\" y1=\"218.17990686279862\" x2=\"434.0581836335954\" y2=\"218.17990686279862\" stroke=\"rgb(233,233,233)\" stroke-opacity=\"1.0\" stroke-width=\"1.0\" fill=\"none\">\n",
       "            </line>\n",
       "            <line x1=\"0.0\" y1=\"179.19510513705083\" x2=\"434.0581836335954\" y2=\"179.19510513705083\" stroke=\"rgb(233,233,233)\" stroke-opacity=\"1.0\" stroke-width=\"1.0\" fill=\"none\">\n",
       "            </line>\n",
       "            <line x1=\"0.0\" y1=\"140.21030341130307\" x2=\"434.0581836335954\" y2=\"140.21030341130307\" stroke=\"rgb(233,233,233)\" stroke-opacity=\"1.0\" stroke-width=\"1.0\" fill=\"none\">\n",
       "            </line>\n",
       "            <line x1=\"0.0\" y1=\"101.22550168555529\" x2=\"434.0581836335954\" y2=\"101.22550168555529\" stroke=\"rgb(233,233,233)\" stroke-opacity=\"1.0\" stroke-width=\"1.0\" fill=\"none\">\n",
       "            </line>\n",
       "            <line x1=\"0.0\" y1=\"62.2406999598075\" x2=\"434.0581836335954\" y2=\"62.2406999598075\" stroke=\"rgb(233,233,233)\" stroke-opacity=\"1.0\" stroke-width=\"1.0\" fill=\"none\">\n",
       "            </line>\n",
       "            <line x1=\"0.0\" y1=\"23.255898234059714\" x2=\"434.0581836335954\" y2=\"23.255898234059714\" stroke=\"rgb(233,233,233)\" stroke-opacity=\"1.0\" stroke-width=\"1.0\" fill=\"none\">\n",
       "            </line>\n",
       "          </g>\n",
       "        </g>\n",
       "      </g>\n",
       "      <g clip-path=\"url(#cq6b20r)\" clip-bounds-jfx=\"[rect (29.941816366404606, 0.0), (434.0581836335954, 441.0)]\">\n",
       "        <g transform=\"translate(29.941816366404606 0.0 ) \">\n",
       "          <g>\n",
       "            <g>\n",
       "              <g>\n",
       "                <g >\n",
       "                  <circle fill=\"#ffffff\" stroke=\"#ffffff\" stroke-opacity=\"0.0\" stroke-width=\"0.0\" cx=\"66.1033220247767\" cy=\"157.16066380521704\" r=\"3.3000000000000003\" />\n",
       "                  <circle fill=\"#ffffff\" stroke=\"#ffffff\" stroke-opacity=\"0.0\" stroke-width=\"0.0\" cx=\"186.36591552302627\" cy=\"120.10686084366196\" r=\"3.3000000000000003\" />\n",
       "                  <circle fill=\"#ffffff\" stroke=\"#ffffff\" stroke-opacity=\"0.0\" stroke-width=\"0.0\" cx=\"339.53511873465214\" cy=\"364.3754927898945\" r=\"3.3000000000000003\" />\n",
       "                  <circle fill=\"#ffffff\" stroke=\"#ffffff\" stroke-opacity=\"0.0\" stroke-width=\"0.0\" cx=\"173.5342169600226\" cy=\"401.92910520484054\" r=\"3.3000000000000003\" />\n",
       "                  <circle fill=\"#ffffff\" stroke=\"#ffffff\" stroke-opacity=\"0.0\" stroke-width=\"0.0\" cx=\"98.65288729814039\" cy=\"225.42411977741233\" r=\"3.3000000000000003\" />\n",
       "                  <circle fill=\"#ffffff\" stroke=\"#ffffff\" stroke-opacity=\"0.0\" stroke-width=\"0.0\" cx=\"126.33915251942994\" cy=\"47.41250232732605\" r=\"3.3000000000000003\" />\n",
       "                  <circle fill=\"#ffffff\" stroke=\"#ffffff\" stroke-opacity=\"0.0\" stroke-width=\"0.0\" cx=\"253.55683457959447\" cy=\"43.53140459499326\" r=\"3.3000000000000003\" />\n",
       "                  <circle fill=\"#ffffff\" stroke=\"#ffffff\" stroke-opacity=\"0.0\" stroke-width=\"0.0\" cx=\"83.28194778534004\" cy=\"267.9488822580574\" r=\"3.3000000000000003\" />\n",
       "                  <circle fill=\"#ffffff\" stroke=\"#ffffff\" stroke-opacity=\"0.0\" stroke-width=\"0.0\" cx=\"239.04899149291214\" cy=\"377.4003187186272\" r=\"3.3000000000000003\" />\n",
       "                  <circle fill=\"#ffffff\" stroke=\"#ffffff\" stroke-opacity=\"0.0\" stroke-width=\"0.0\" cx=\"376.231924898604\" cy=\"249.34344466570334\" r=\"3.3000000000000003\" />\n",
       "                  <circle fill=\"#ffffff\" stroke=\"#ffffff\" stroke-opacity=\"0.0\" stroke-width=\"0.0\" cx=\"384.8839631564739\" cy=\"282.9193594750812\" r=\"3.3000000000000003\" />\n",
       "                  <circle fill=\"#ffffff\" stroke=\"#ffffff\" stroke-opacity=\"0.0\" stroke-width=\"0.0\" cx=\"306.8989648130768\" cy=\"103.84735292678737\" r=\"3.3000000000000003\" />\n",
       "                  <circle fill=\"#ffffff\" stroke=\"#ffffff\" stroke-opacity=\"0.0\" stroke-width=\"0.0\" cx=\"345.5019485426301\" cy=\"196.89730267460982\" r=\"3.3000000000000003\" />\n",
       "                  <circle fill=\"#ffffff\" stroke=\"#ffffff\" stroke-opacity=\"0.0\" stroke-width=\"0.0\" cx=\"159.51637869317656\" cy=\"392.03653579787493\" r=\"3.3000000000000003\" />\n",
       "                  <circle fill=\"#ffffff\" stroke=\"#ffffff\" stroke-opacity=\"0.0\" stroke-width=\"0.0\" cx=\"225.22876168381674\" cy=\"43.18542546431104\" r=\"3.3000000000000003\" />\n",
       "                  <circle fill=\"#ffffff\" stroke=\"#ffffff\" stroke-opacity=\"0.0\" stroke-width=\"0.0\" cx=\"295.08872814350593\" cy=\"214.6845962730362\" r=\"3.3000000000000003\" />\n",
       "                  <circle fill=\"#ffffff\" stroke=\"#ffffff\" stroke-opacity=\"0.0\" stroke-width=\"0.0\" cx=\"219.55467328473316\" cy=\"331.8469320833545\" r=\"3.3000000000000003\" />\n",
       "                  <circle fill=\"#ffffff\" stroke=\"#ffffff\" stroke-opacity=\"0.0\" stroke-width=\"0.0\" cx=\"226.50461554493438\" cy=\"327.0141719564145\" r=\"3.3000000000000003\" />\n",
       "                  <circle fill=\"#ffffff\" stroke=\"#ffffff\" stroke-opacity=\"0.0\" stroke-width=\"0.0\" cx=\"141.91021109343643\" cy=\"377.0056908330013\" r=\"3.3000000000000003\" />\n",
       "                  <circle fill=\"#ffffff\" stroke=\"#ffffff\" stroke-opacity=\"0.0\" stroke-width=\"0.0\" cx=\"322.5648476829657\" cy=\"275.81092540046734\" r=\"3.3000000000000003\" />\n",
       "                  <circle fill=\"#ffffff\" stroke=\"#ffffff\" stroke-opacity=\"0.0\" stroke-width=\"0.0\" cx=\"122.42099982288794\" cy=\"105.14650798353834\" r=\"3.3000000000000003\" />\n",
       "                  <circle fill=\"#ffffff\" stroke=\"#ffffff\" stroke-opacity=\"0.0\" stroke-width=\"0.0\" cx=\"229.5616370165812\" cy=\"364.7296487657726\" r=\"3.3000000000000003\" />\n",
       "                  <circle fill=\"#ffffff\" stroke=\"#ffffff\" stroke-opacity=\"0.0\" stroke-width=\"0.0\" cx=\"88.13678354142576\" cy=\"347.55277524001906\" r=\"3.3000000000000003\" />\n",
       "                  <circle fill=\"#ffffff\" stroke=\"#ffffff\" stroke-opacity=\"0.0\" stroke-width=\"0.0\" cx=\"321.0928710803593\" cy=\"316.37567843736167\" r=\"3.3000000000000003\" />\n",
       "                  <circle fill=\"#ffffff\" stroke=\"#ffffff\" stroke-opacity=\"0.0\" stroke-width=\"0.0\" cx=\"108.74420421052291\" cy=\"87.2708178787808\" r=\"3.3000000000000003\" />\n",
       "                  <circle fill=\"#ffffff\" stroke=\"#ffffff\" stroke-opacity=\"0.0\" stroke-width=\"0.0\" cx=\"155.57521643319268\" cy=\"361.76510970722956\" r=\"3.3000000000000003\" />\n",
       "                  <circle fill=\"#ffffff\" stroke=\"#ffffff\" stroke-opacity=\"0.0\" stroke-width=\"0.0\" cx=\"99.05494010259451\" cy=\"218.34399281244325\" r=\"3.3000000000000003\" />\n",
       "                  <circle fill=\"#ffffff\" stroke=\"#ffffff\" stroke-opacity=\"0.0\" stroke-width=\"0.0\" cx=\"200.67231346547067\" cy=\"264.92476469009733\" r=\"3.3000000000000003\" />\n",
       "                  <circle fill=\"#ffffff\" stroke=\"#ffffff\" stroke-opacity=\"0.0\" stroke-width=\"0.0\" cx=\"319.3453571307341\" cy=\"372.988599637977\" r=\"3.3000000000000003\" />\n",
       "                  <circle fill=\"#ffffff\" stroke=\"#ffffff\" stroke-opacity=\"0.0\" stroke-width=\"0.0\" cx=\"229.66796884331984\" cy=\"220.8020776293955\" r=\"3.3000000000000003\" />\n",
       "                  <circle fill=\"#ffffff\" stroke=\"#ffffff\" stroke-opacity=\"0.0\" stroke-width=\"0.0\" cx=\"170.14416970332496\" cy=\"53.10475008766778\" r=\"3.3000000000000003\" />\n",
       "                  <circle fill=\"#ffffff\" stroke=\"#ffffff\" stroke-opacity=\"0.0\" stroke-width=\"0.0\" cx=\"298.08137981702555\" cy=\"289.40556816480563\" r=\"3.3000000000000003\" />\n",
       "                  <circle fill=\"#ffffff\" stroke=\"#ffffff\" stroke-opacity=\"0.0\" stroke-width=\"0.0\" cx=\"294.9810164443188\" cy=\"95.89573583812465\" r=\"3.3000000000000003\" />\n",
       "                  <circle fill=\"#ffffff\" stroke=\"#ffffff\" stroke-opacity=\"0.0\" stroke-width=\"0.0\" cx=\"112.79765687506553\" cy=\"254.2322409528164\" r=\"3.3000000000000003\" />\n",
       "                  <circle fill=\"#ffffff\" stroke=\"#ffffff\" stroke-opacity=\"0.0\" stroke-width=\"0.0\" cx=\"47.220513849432905\" cy=\"156.92699345134895\" r=\"3.3000000000000003\" />\n",
       "                  <circle fill=\"#ffffff\" stroke=\"#ffffff\" stroke-opacity=\"0.0\" stroke-width=\"0.0\" cx=\"183.44706470294983\" cy=\"34.72482068623583\" r=\"3.3000000000000003\" />\n",
       "                  <circle fill=\"#ffffff\" stroke=\"#ffffff\" stroke-opacity=\"0.0\" stroke-width=\"0.0\" cx=\"339.0214408593416\" cy=\"354.44056482918916\" r=\"3.3000000000000003\" />\n",
       "                  <circle fill=\"#ffffff\" stroke=\"#ffffff\" stroke-opacity=\"0.0\" stroke-width=\"0.0\" cx=\"171.8235288376153\" cy=\"331.1482545817159\" r=\"3.3000000000000003\" />\n",
       "                  <circle fill=\"#ffffff\" stroke=\"#ffffff\" stroke-opacity=\"0.0\" stroke-width=\"0.0\" cx=\"194.15784636650304\" cy=\"175.53339850099516\" r=\"3.3000000000000003\" />\n",
       "                  <circle fill=\"#ffffff\" stroke=\"#ffffff\" stroke-opacity=\"0.0\" stroke-width=\"0.0\" cx=\"405.95712655694626\" cy=\"174.18608124102985\" r=\"3.3000000000000003\" />\n",
       "                  <circle fill=\"#ffffff\" stroke=\"#ffffff\" stroke-opacity=\"0.0\" stroke-width=\"0.0\" cx=\"230.35276335385166\" cy=\"186.62080219216352\" r=\"3.3000000000000003\" />\n",
       "                  <circle fill=\"#ffffff\" stroke=\"#ffffff\" stroke-opacity=\"0.0\" stroke-width=\"0.0\" cx=\"329.2391711254109\" cy=\"234.01563781206394\" r=\"3.3000000000000003\" />\n",
       "                  <circle fill=\"#ffffff\" stroke=\"#ffffff\" stroke-opacity=\"0.0\" stroke-width=\"0.0\" cx=\"170.0932597078708\" cy=\"56.48263396684871\" r=\"3.3000000000000003\" />\n",
       "                  <circle fill=\"#ffffff\" stroke=\"#ffffff\" stroke-opacity=\"0.0\" stroke-width=\"0.0\" cx=\"140.267894201385\" cy=\"214.59256023888653\" r=\"3.3000000000000003\" />\n",
       "                  <circle fill=\"#ffffff\" stroke=\"#ffffff\" stroke-opacity=\"0.0\" stroke-width=\"0.0\" cx=\"346.5880924646699\" cy=\"95.5843753278381\" r=\"3.3000000000000003\" />\n",
       "                  <circle fill=\"#ffffff\" stroke=\"#ffffff\" stroke-opacity=\"0.0\" stroke-width=\"0.0\" cx=\"358.695103400677\" cy=\"317.32002951277207\" r=\"3.3000000000000003\" />\n",
       "                  <circle fill=\"#ffffff\" stroke=\"#ffffff\" stroke-opacity=\"0.0\" stroke-width=\"0.0\" cx=\"169.25501851999297\" cy=\"309.7837888835931\" r=\"3.3000000000000003\" />\n",
       "                  <circle fill=\"#ffffff\" stroke=\"#ffffff\" stroke-opacity=\"0.0\" stroke-width=\"0.0\" cx=\"343.91838355082103\" cy=\"89.98235710851046\" r=\"3.3000000000000003\" />\n",
       "                  <circle fill=\"#ffffff\" stroke=\"#ffffff\" stroke-opacity=\"0.0\" stroke-width=\"0.0\" cx=\"327.39845193512434\" cy=\"83.15782610677675\" r=\"3.3000000000000003\" />\n",
       "                  <circle fill=\"#ffffff\" stroke=\"#ffffff\" stroke-opacity=\"0.0\" stroke-width=\"0.0\" cx=\"39.168187529795546\" cy=\"249.03235227753802\" r=\"3.3000000000000003\" />\n",
       "                </g>\n",
       "              </g>\n",
       "            </g>\n",
       "            <g>\n",
       "              <g>\n",
       "                <g >\n",
       "                  <circle fill=\"#3ba272\" stroke=\"#3ba272\" stroke-opacity=\"0.0\" stroke-width=\"0.0\" cx=\"350.0684924288185\" cy=\"243.7958931264649\" r=\"5.5\" />\n",
       "                  <circle fill=\"#3ba272\" stroke=\"#3ba272\" stroke-opacity=\"0.0\" stroke-width=\"0.0\" cx=\"323.95801312701076\" cy=\"245.14412780371364\" r=\"5.5\" />\n",
       "                  <circle fill=\"#3ba272\" stroke=\"#3ba272\" stroke-opacity=\"0.0\" stroke-width=\"0.0\" cx=\"354.41784935034957\" cy=\"272.512610912799\" r=\"5.5\" />\n",
       "                  <circle fill=\"#3ba272\" stroke=\"#3ba272\" stroke-opacity=\"0.0\" stroke-width=\"0.0\" cx=\"259.793020654598\" cy=\"55.87537341823315\" r=\"5.5\" />\n",
       "                  <circle fill=\"#3ba272\" stroke=\"#3ba272\" stroke-opacity=\"0.0\" stroke-width=\"0.0\" cx=\"56.33724128440406\" cy=\"179.36245897427378\" r=\"5.5\" />\n",
       "                  <circle fill=\"#3ba272\" stroke=\"#3ba272\" stroke-opacity=\"0.0\" stroke-width=\"0.0\" cx=\"137.9428282939322\" cy=\"96.15664557102386\" r=\"5.5\" />\n",
       "                  <circle fill=\"#3ba272\" stroke=\"#3ba272\" stroke-opacity=\"0.0\" stroke-width=\"0.0\" cx=\"52.83035886906694\" cy=\"293.738645715125\" r=\"5.5\" />\n",
       "                  <circle fill=\"#3ba272\" stroke=\"#3ba272\" stroke-opacity=\"0.0\" stroke-width=\"0.0\" cx=\"172.271868475208\" cy=\"278.7387325797825\" r=\"5.5\" />\n",
       "                  <circle fill=\"#3ba272\" stroke=\"#3ba272\" stroke-opacity=\"0.0\" stroke-width=\"0.0\" cx=\"253.8226680828585\" cy=\"263.54941952431545\" r=\"5.5\" />\n",
       "                  <circle fill=\"#3ba272\" stroke=\"#3ba272\" stroke-opacity=\"0.0\" stroke-width=\"0.0\" cx=\"181.1692041036867\" cy=\"294.8044062628133\" r=\"5.5\" />\n",
       "                  <circle fill=\"#3ba272\" stroke=\"#3ba272\" stroke-opacity=\"0.0\" stroke-width=\"0.0\" cx=\"255.9714842171049\" cy=\"197.66034738066998\" r=\"5.5\" />\n",
       "                  <circle fill=\"#3ba272\" stroke=\"#3ba272\" stroke-opacity=\"0.0\" stroke-width=\"0.0\" cx=\"95.13818906375823\" cy=\"259.01329134360384\" r=\"5.5\" />\n",
       "                  <circle fill=\"#3ba272\" stroke=\"#3ba272\" stroke-opacity=\"0.0\" stroke-width=\"0.0\" cx=\"131.44596179692033\" cy=\"264.4359003856372\" r=\"5.5\" />\n",
       "                  <circle fill=\"#3ba272\" stroke=\"#3ba272\" stroke-opacity=\"0.0\" stroke-width=\"0.0\" cx=\"241.48552273410198\" cy=\"278.34613855850364\" r=\"5.5\" />\n",
       "                  <circle fill=\"#3ba272\" stroke=\"#3ba272\" stroke-opacity=\"0.0\" stroke-width=\"0.0\" cx=\"208.48328153461287\" cy=\"133.88821830575017\" r=\"5.5\" />\n",
       "                  <circle fill=\"#3ba272\" stroke=\"#3ba272\" stroke-opacity=\"0.0\" stroke-width=\"0.0\" cx=\"161.62457933670257\" cy=\"292.4554859557437\" r=\"5.5\" />\n",
       "                  <circle fill=\"#3ba272\" stroke=\"#3ba272\" stroke-opacity=\"0.0\" stroke-width=\"0.0\" cx=\"390.28336571478553\" cy=\"152.81245277123577\" r=\"5.5\" />\n",
       "                  <circle fill=\"#3ba272\" stroke=\"#3ba272\" stroke-opacity=\"0.0\" stroke-width=\"0.0\" cx=\"131.34351313719313\" cy=\"92.17130455886095\" r=\"5.5\" />\n",
       "                  <circle fill=\"#3ba272\" stroke=\"#3ba272\" stroke-opacity=\"0.0\" stroke-width=\"0.0\" cx=\"133.2680940665449\" cy=\"121.84813816090421\" r=\"5.5\" />\n",
       "                  <circle fill=\"#3ba272\" stroke=\"#3ba272\" stroke-opacity=\"0.0\" stroke-width=\"0.0\" cx=\"106.7365736869859\" cy=\"324.441555961658\" r=\"5.5\" />\n",
       "                  <circle fill=\"#3ba272\" stroke=\"#3ba272\" stroke-opacity=\"0.0\" stroke-width=\"0.0\" cx=\"259.77957596376035\" cy=\"235.73601121171828\" r=\"5.5\" />\n",
       "                  <circle fill=\"#3ba272\" stroke=\"#3ba272\" stroke-opacity=\"0.0\" stroke-width=\"0.0\" cx=\"282.7857716098606\" cy=\"203.87474955152769\" r=\"5.5\" />\n",
       "                  <circle fill=\"#3ba272\" stroke=\"#3ba272\" stroke-opacity=\"0.0\" stroke-width=\"0.0\" cx=\"170.63279956913073\" cy=\"41.214962120955704\" r=\"5.5\" />\n",
       "                  <circle fill=\"#3ba272\" stroke=\"#3ba272\" stroke-opacity=\"0.0\" stroke-width=\"0.0\" cx=\"201.5178574926138\" cy=\"375.53818191503785\" r=\"5.5\" />\n",
       "                  <circle fill=\"#3ba272\" stroke=\"#3ba272\" stroke-opacity=\"0.0\" stroke-width=\"0.0\" cx=\"199.40268835012535\" cy=\"162.89601348828927\" r=\"5.5\" />\n",
       "                  <circle fill=\"#3ba272\" stroke=\"#3ba272\" stroke-opacity=\"0.0\" stroke-width=\"0.0\" cx=\"368.1672887275539\" cy=\"164.6816335934665\" r=\"5.5\" />\n",
       "                  <circle fill=\"#3ba272\" stroke=\"#3ba272\" stroke-opacity=\"0.0\" stroke-width=\"0.0\" cx=\"206.0390886715065\" cy=\"124.04818238263839\" r=\"5.5\" />\n",
       "                  <circle fill=\"#3ba272\" stroke=\"#3ba272\" stroke-opacity=\"0.0\" stroke-width=\"0.0\" cx=\"282.9558630561475\" cy=\"109.4761727664221\" r=\"5.5\" />\n",
       "                  <circle fill=\"#3ba272\" stroke=\"#3ba272\" stroke-opacity=\"0.0\" stroke-width=\"0.0\" cx=\"332.93531759794143\" cy=\"154.6020073161584\" r=\"5.5\" />\n",
       "                  <circle fill=\"#3ba272\" stroke=\"#3ba272\" stroke-opacity=\"0.0\" stroke-width=\"0.0\" cx=\"317.3580188004618\" cy=\"208.6621894514301\" r=\"5.5\" />\n",
       "                  <circle fill=\"#3ba272\" stroke=\"#3ba272\" stroke-opacity=\"0.0\" stroke-width=\"0.0\" cx=\"212.09332332114644\" cy=\"260.91729411863287\" r=\"5.5\" />\n",
       "                  <circle fill=\"#3ba272\" stroke=\"#3ba272\" stroke-opacity=\"0.0\" stroke-width=\"0.0\" cx=\"127.37391986636925\" cy=\"316.6280356087458\" r=\"5.5\" />\n",
       "                  <circle fill=\"#3ba272\" stroke=\"#3ba272\" stroke-opacity=\"0.0\" stroke-width=\"0.0\" cx=\"305.56997412331333\" cy=\"282.26321478490064\" r=\"5.5\" />\n",
       "                  <circle fill=\"#3ba272\" stroke=\"#3ba272\" stroke-opacity=\"0.0\" stroke-width=\"0.0\" cx=\"309.34538678597437\" cy=\"189.48381734990156\" r=\"5.5\" />\n",
       "                  <circle fill=\"#3ba272\" stroke=\"#3ba272\" stroke-opacity=\"0.0\" stroke-width=\"0.0\" cx=\"170.83938577801536\" cy=\"390.4523515771624\" r=\"5.5\" />\n",
       "                  <circle fill=\"#3ba272\" stroke=\"#3ba272\" stroke-opacity=\"0.0\" stroke-width=\"0.0\" cx=\"239.15196002353844\" cy=\"105.58406124247124\" r=\"5.5\" />\n",
       "                  <circle fill=\"#3ba272\" stroke=\"#3ba272\" stroke-opacity=\"0.0\" stroke-width=\"0.0\" cx=\"223.6190313679929\" cy=\"361.9845795295101\" r=\"5.5\" />\n",
       "                  <circle fill=\"#3ba272\" stroke=\"#3ba272\" stroke-opacity=\"0.0\" stroke-width=\"0.0\" cx=\"149.6290058960524\" cy=\"37.74854415915877\" r=\"5.5\" />\n",
       "                  <circle fill=\"#3ba272\" stroke=\"#3ba272\" stroke-opacity=\"0.0\" stroke-width=\"0.0\" cx=\"249.94701539511897\" cy=\"191.81343406961537\" r=\"5.5\" />\n",
       "                  <circle fill=\"#3ba272\" stroke=\"#3ba272\" stroke-opacity=\"0.0\" stroke-width=\"0.0\" cx=\"339.79373158676924\" cy=\"324.70941021865804\" r=\"5.5\" />\n",
       "                  <circle fill=\"#3ba272\" stroke=\"#3ba272\" stroke-opacity=\"0.0\" stroke-width=\"0.0\" cx=\"35.48717795936136\" cy=\"197.18321217243363\" r=\"5.5\" />\n",
       "                  <circle fill=\"#3ba272\" stroke=\"#3ba272\" stroke-opacity=\"0.0\" stroke-width=\"0.0\" cx=\"350.3826121087228\" cy=\"194.8972948001235\" r=\"5.5\" />\n",
       "                  <circle fill=\"#3ba272\" stroke=\"#3ba272\" stroke-opacity=\"0.0\" stroke-width=\"0.0\" cx=\"102.96258258510122\" cy=\"70.03592892144243\" r=\"5.5\" />\n",
       "                  <circle fill=\"#3ba272\" stroke=\"#3ba272\" stroke-opacity=\"0.0\" stroke-width=\"0.0\" cx=\"337.3346978746071\" cy=\"97.29534469277979\" r=\"5.5\" />\n",
       "                  <circle fill=\"#3ba272\" stroke=\"#3ba272\" stroke-opacity=\"0.0\" stroke-width=\"0.0\" cx=\"216.1368999787766\" cy=\"388.55525062378604\" r=\"5.5\" />\n",
       "                  <circle fill=\"#3ba272\" stroke=\"#3ba272\" stroke-opacity=\"0.0\" stroke-width=\"0.0\" cx=\"279.8547145656761\" cy=\"182.362625146949\" r=\"5.5\" />\n",
       "                  <circle fill=\"#3ba272\" stroke=\"#3ba272\" stroke-opacity=\"0.0\" stroke-width=\"0.0\" cx=\"190.8989047739234\" cy=\"408.2101330879875\" r=\"5.5\" />\n",
       "                </g>\n",
       "              </g>\n",
       "            </g>\n",
       "            <g>\n",
       "              <g>\n",
       "                <g >\n",
       "                  <circle fill=\"#ee6666\" stroke=\"#ee6666\" stroke-opacity=\"0.0\" stroke-width=\"0.0\" cx=\"216.27855186650524\" cy=\"218.17990686279862\" r=\"3.3000000000000003\" />\n",
       "                </g>\n",
       "              </g>\n",
       "            </g>\n",
       "            <g>\n",
       "              <g>\n",
       "                <path d=\"M66.1033220247767 157.16066380521704 L66.1033220247767 157.16066380521704 L80.24732887070155 170.59742380238646 \" fill=\"none\" stroke-width=\"1.6500000000000001\" stroke=\"rgb(163,153,153)\" stroke-opacity=\"1.0\">\n",
       "                </path>\n",
       "              </g>\n",
       "            </g>\n",
       "            <g>\n",
       "              <g>\n",
       "                <path d=\"M52.64482290269402 171.28182424540162 L52.64482290269402 171.28182424540162 L66.1033220247767 157.16066380521704 \" fill=\"none\" stroke-width=\"1.6500000000000001\" stroke=\"rgb(163,153,153)\" stroke-opacity=\"1.0\">\n",
       "                </path>\n",
       "              </g>\n",
       "            </g>\n",
       "            <g>\n",
       "              <g>\n",
       "                <path d=\"M66.1033220247767 157.16066380521704 L66.1033220247767 157.16066380521704 L66.58804918486123 176.6470562218694 \" fill=\"none\" stroke-width=\"1.6500000000000001\" stroke=\"rgb(255,255,255)\" stroke-opacity=\"1.0\">\n",
       "                </path>\n",
       "              </g>\n",
       "            </g>\n",
       "            <g>\n",
       "              <g>\n",
       "                <path d=\"M168.68172362785708 128.36715878127973 L168.68172362785708 128.36715878127973 L186.36591552302627 120.10686084366196 \" fill=\"none\" stroke-width=\"1.6500000000000001\" stroke=\"rgb(163,153,153)\" stroke-opacity=\"1.0\">\n",
       "                </path>\n",
       "              </g>\n",
       "            </g>\n",
       "            <g>\n",
       "              <g>\n",
       "                <path d=\"M178.0922533779117 102.45123371289274 L178.0922533779117 102.45123371289274 L186.36591552302627 120.10686084366196 \" fill=\"none\" stroke-width=\"1.6500000000000001\" stroke=\"rgb(163,153,153)\" stroke-opacity=\"1.0\">\n",
       "                </path>\n",
       "              </g>\n",
       "            </g>\n",
       "            <g>\n",
       "              <g>\n",
       "                <path d=\"M168.01094090609098 113.46335985970465 L168.01094090609098 113.46335985970465 L186.36591552302627 120.10686084366196 \" fill=\"none\" stroke-width=\"1.6500000000000001\" stroke=\"rgb(255,255,255)\" stroke-opacity=\"1.0\">\n",
       "                </path>\n",
       "              </g>\n",
       "            </g>\n",
       "            <g>\n",
       "              <g>\n",
       "                <path d=\"M339.53511873465214 364.3754927898945 L339.53511873465214 364.3754927898945 L349.51217395232436 347.62039284060205 \" fill=\"none\" stroke-width=\"1.6500000000000001\" stroke=\"rgb(163,153,153)\" stroke-opacity=\"1.0\">\n",
       "                </path>\n",
       "              </g>\n",
       "            </g>\n",
       "            <g>\n",
       "              <g>\n",
       "                <path d=\"M339.53511873465214 364.3754927898945 L339.53511873465214 364.3754927898945 L356.3173264994306 374.3364323584385 \" fill=\"none\" stroke-width=\"1.6500000000000001\" stroke=\"rgb(163,153,153)\" stroke-opacity=\"1.0\">\n",
       "                </path>\n",
       "              </g>\n",
       "            </g>\n",
       "            <g>\n",
       "              <g>\n",
       "                <path d=\"M339.53511873465214 364.3754927898945 L339.53511873465214 364.3754927898945 L358.45677504909713 359.5712959121983 \" fill=\"none\" stroke-width=\"1.6500000000000001\" stroke=\"rgb(255,255,255)\" stroke-opacity=\"1.0\">\n",
       "                </path>\n",
       "              </g>\n",
       "            </g>\n",
       "            <g>\n",
       "              <g>\n",
       "                <path d=\"M173.5342169600226 401.92910520484054 L173.5342169600226 401.92910520484054 L184.00528905416266 418.3809823622724 \" fill=\"none\" stroke-width=\"1.6500000000000001\" stroke=\"rgb(163,153,153)\" stroke-opacity=\"1.0\">\n",
       "                </path>\n",
       "              </g>\n",
       "            </g>\n",
       "            <g>\n",
       "              <g>\n",
       "                <path d=\"M157.0557225665414 412.38326367866034 L157.0557225665414 412.38326367866034 L173.5342169600226 401.92910520484054 \" fill=\"none\" stroke-width=\"1.6500000000000001\" stroke=\"rgb(163,153,153)\" stroke-opacity=\"1.0\">\n",
       "                </path>\n",
       "              </g>\n",
       "            </g>\n",
       "            <g>\n",
       "              <g>\n",
       "                <path d=\"M169.2863279147072 420.9545454545455 L169.2863279147072 420.9545454545455 L173.5342169600226 401.92910520484054 \" fill=\"none\" stroke-width=\"1.6500000000000001\" stroke=\"rgb(255,255,255)\" stroke-opacity=\"1.0\">\n",
       "                </path>\n",
       "              </g>\n",
       "            </g>\n",
       "            <g>\n",
       "              <g>\n",
       "                <path d=\"M98.65288729814039 225.42411977741233 L98.65288729814039 225.42411977741233 L110.43501946855926 209.88117442588788 \" fill=\"none\" stroke-width=\"1.6500000000000001\" stroke=\"rgb(163,153,153)\" stroke-opacity=\"1.0\">\n",
       "                </path>\n",
       "              </g>\n",
       "            </g>\n",
       "            <g>\n",
       "              <g>\n",
       "                <path d=\"M98.65288729814039 225.42411977741233 L98.65288729814039 225.42411977741233 L114.22097933908911 237.18722061003683 \" fill=\"none\" stroke-width=\"1.6500000000000001\" stroke=\"rgb(163,153,153)\" stroke-opacity=\"1.0\">\n",
       "                </path>\n",
       "              </g>\n",
       "            </g>\n",
       "            <g>\n",
       "              <g>\n",
       "                <path d=\"M98.65288729814039 225.42411977741233 L98.65288729814039 225.42411977741233 L117.9924163049709 222.75136608626738 \" fill=\"none\" stroke-width=\"1.6500000000000001\" stroke=\"rgb(255,255,255)\" stroke-opacity=\"1.0\">\n",
       "                </path>\n",
       "              </g>\n",
       "            </g>\n",
       "            <g>\n",
       "              <g>\n",
       "                <path d=\"M126.33915251942994 47.41250232732605 L126.33915251942994 47.41250232732605 L139.021624370462 32.59265764698546 \" fill=\"none\" stroke-width=\"1.6500000000000001\" stroke=\"rgb(163,153,153)\" stroke-opacity=\"1.0\">\n",
       "                </path>\n",
       "              </g>\n",
       "            </g>\n",
       "            <g>\n",
       "              <g>\n",
       "                <path d=\"M126.33915251942994 47.41250232732605 L126.33915251942994 47.41250232732605 L141.1829739958709 60.07448854788197 \" fill=\"none\" stroke-width=\"1.6500000000000001\" stroke=\"rgb(163,153,153)\" stroke-opacity=\"1.0\">\n",
       "                </path>\n",
       "              </g>\n",
       "            </g>\n",
       "            <g>\n",
       "              <g>\n",
       "                <path d=\"M126.33915251942994 47.41250232732605 L126.33915251942994 47.41250232732605 L145.80318119221613 45.88666597757154 \" fill=\"none\" stroke-width=\"1.6500000000000001\" stroke=\"rgb(255,255,255)\" stroke-opacity=\"1.0\">\n",
       "                </path>\n",
       "              </g>\n",
       "            </g>\n",
       "            <g>\n",
       "              <g>\n",
       "                <path d=\"M235.2470647709247 36.76470835414412 L235.2470647709247 36.76470835414412 L253.55683457959447 43.53140459499326 \" fill=\"none\" stroke-width=\"1.6500000000000001\" stroke=\"rgb(163,153,153)\" stroke-opacity=\"1.0\">\n",
       "                </path>\n",
       "              </g>\n",
       "            </g>\n",
       "            <g>\n",
       "              <g>\n",
       "                <path d=\"M253.55683457959447 43.53140459499326 L253.55683457959447 43.53140459499326 L260.33447855299676 25.25121002865879 \" fill=\"none\" stroke-width=\"1.6500000000000001\" stroke=\"rgb(163,153,153)\" stroke-opacity=\"1.0\">\n",
       "                </path>\n",
       "              </g>\n",
       "            </g>\n",
       "            <g>\n",
       "              <g>\n",
       "                <path d=\"M245.4023901999803 25.820578257594747 L245.4023901999803 25.820578257594747 L253.55683457959447 43.53140459499326 \" fill=\"none\" stroke-width=\"1.6500000000000001\" stroke=\"rgb(255,255,255)\" stroke-opacity=\"1.0\">\n",
       "                </path>\n",
       "              </g>\n",
       "            </g>\n",
       "            <g>\n",
       "              <g>\n",
       "                <path d=\"M83.28194778534004 267.9488822580574 L83.28194778534004 267.9488822580574 L98.06369897916517 255.2147224123521 \" fill=\"none\" stroke-width=\"1.6500000000000001\" stroke=\"rgb(163,153,153)\" stroke-opacity=\"1.0\">\n",
       "                </path>\n",
       "              </g>\n",
       "            </g>\n",
       "            <g>\n",
       "              <g>\n",
       "                <path d=\"M83.28194778534004 267.9488822580574 L83.28194778534004 267.9488822580574 L96.03671003010653 282.7067569161169 \" fill=\"none\" stroke-width=\"1.6500000000000001\" stroke=\"rgb(163,153,153)\" stroke-opacity=\"1.0\">\n",
       "                </path>\n",
       "              </g>\n",
       "            </g>\n",
       "            <g>\n",
       "              <g>\n",
       "                <path d=\"M83.28194778534004 267.9488822580574 L83.28194778534004 267.9488822580574 L102.75320316800267 269.3798647250607 \" fill=\"none\" stroke-width=\"1.6500000000000001\" stroke=\"rgb(255,255,255)\" stroke-opacity=\"1.0\">\n",
       "                </path>\n",
       "              </g>\n",
       "            </g>\n",
       "            <g>\n",
       "              <g>\n",
       "                <path d=\"M220.2565637816824 382.68598934194273 L220.2565637816824 382.68598934194273 L239.04899149291214 377.4003187186272 \" fill=\"none\" stroke-width=\"1.6500000000000001\" stroke=\"rgb(163,153,153)\" stroke-opacity=\"1.0\">\n",
       "                </path>\n",
       "              </g>\n",
       "            </g>\n",
       "            <g>\n",
       "              <g>\n",
       "                <path d=\"M233.7547692653442 358.6382458731023 L233.7547692653442 358.6382458731023 L239.04899149291214 377.4003187186272 \" fill=\"none\" stroke-width=\"1.6500000000000001\" stroke=\"rgb(163,153,153)\" stroke-opacity=\"1.0\">\n",
       "                </path>\n",
       "              </g>\n",
       "            </g>\n",
       "            <g>\n",
       "              <g>\n",
       "                <path d=\"M222.01715798512177 367.8710633213054 L222.01715798512177 367.8710633213054 L239.04899149291214 377.4003187186272 \" fill=\"none\" stroke-width=\"1.6500000000000001\" stroke=\"rgb(255,255,255)\" stroke-opacity=\"1.0\">\n",
       "                </path>\n",
       "              </g>\n",
       "            </g>\n",
       "            <g>\n",
       "              <g>\n",
       "                <path d=\"M361.76969709414925 236.24868235322606 L361.76969709414925 236.24868235322606 L376.231924898604 249.34344466570334 \" fill=\"none\" stroke-width=\"1.6500000000000001\" stroke=\"rgb(163,153,153)\" stroke-opacity=\"1.0\">\n",
       "                </path>\n",
       "              </g>\n",
       "            </g>\n",
       "            <g>\n",
       "              <g>\n",
       "                <path d=\"M376.231924898604 249.34344466570334 L376.231924898604 249.34344466570334 L389.3478730232622 234.90457728011205 \" fill=\"none\" stroke-width=\"1.6500000000000001\" stroke=\"rgb(163,153,153)\" stroke-opacity=\"1.0\">\n",
       "                </path>\n",
       "              </g>\n",
       "            </g>\n",
       "            <g>\n",
       "              <g>\n",
       "                <path d=\"M375.2799614076462 229.87422839551976 L375.2799614076462 229.87422839551976 L376.231924898604 249.34344466570334 \" fill=\"none\" stroke-width=\"1.6500000000000001\" stroke=\"rgb(255,255,255)\" stroke-opacity=\"1.0\">\n",
       "                </path>\n",
       "              </g>\n",
       "            </g>\n",
       "            <g>\n",
       "              <g>\n",
       "                <path d=\"M384.8839631564739 282.9193594750812 L384.8839631564739 282.9193594750812 L398.8052134218726 296.58603645929463 \" fill=\"none\" stroke-width=\"1.6500000000000001\" stroke=\"rgb(163,153,153)\" stroke-opacity=\"1.0\">\n",
       "                </path>\n",
       "              </g>\n",
       "            </g>\n",
       "            <g>\n",
       "              <g>\n",
       "                <path d=\"M371.1951750682315 296.81812314701034 L371.1951750682315 296.81812314701034 L384.8839631564739 282.9193594750812 \" fill=\"none\" stroke-width=\"1.6500000000000001\" stroke=\"rgb(163,153,153)\" stroke-opacity=\"1.0\">\n",
       "                </path>\n",
       "              </g>\n",
       "            </g>\n",
       "            <g>\n",
       "              <g>\n",
       "                <path d=\"M384.8839631564739 282.9193594750812 L384.8839631564739 282.9193594750812 L385.04833873831046 302.41106948943496 \" fill=\"none\" stroke-width=\"1.6500000000000001\" stroke=\"rgb(255,255,255)\" stroke-opacity=\"1.0\">\n",
       "                </path>\n",
       "              </g>\n",
       "            </g>\n",
       "            <g>\n",
       "              <g>\n",
       "                <path d=\"M306.8989648130768 103.84735292678737 L306.8989648130768 103.84735292678737 L324.75899549180264 111.72152868753 \" fill=\"none\" stroke-width=\"1.6500000000000001\" stroke=\"rgb(163,153,153)\" stroke-opacity=\"1.0\">\n",
       "                </path>\n",
       "              </g>\n",
       "            </g>\n",
       "            <g>\n",
       "              <g>\n",
       "                <path d=\"M299.012049545899 121.67853481380483 L299.012049545899 121.67853481380483 L306.8989648130768 103.84735292678737 \" fill=\"none\" stroke-width=\"1.6500000000000001\" stroke=\"rgb(163,153,153)\" stroke-opacity=\"1.0\">\n",
       "                </path>\n",
       "              </g>\n",
       "            </g>\n",
       "            <g>\n",
       "              <g>\n",
       "                <path d=\"M306.8989648130768 103.84735292678737 L306.8989648130768 103.84735292678737 L313.9510223501385 122.02378563234403 \" fill=\"none\" stroke-width=\"1.6500000000000001\" stroke=\"rgb(255,255,255)\" stroke-opacity=\"1.0\">\n",
       "                </path>\n",
       "              </g>\n",
       "            </g>\n",
       "            <g>\n",
       "              <g>\n",
       "                <path d=\"M327.838067690653 205.20080559421112 L327.838067690653 205.20080559421112 L345.5019485426301 196.89730267460982 \" fill=\"none\" stroke-width=\"1.6500000000000001\" stroke=\"rgb(163,153,153)\" stroke-opacity=\"1.0\">\n",
       "                </path>\n",
       "              </g>\n",
       "            </g>\n",
       "            <g>\n",
       "              <g>\n",
       "                <path d=\"M337.18501151486396 179.2619537791913 L337.18501151486396 179.2619537791913 L345.5019485426301 196.89730267460982 \" fill=\"none\" stroke-width=\"1.6500000000000001\" stroke=\"rgb(163,153,153)\" stroke-opacity=\"1.0\">\n",
       "                </path>\n",
       "              </g>\n",
       "            </g>\n",
       "            <g>\n",
       "              <g>\n",
       "                <path d=\"M327.13073603909095 190.29869110412108 L327.13073603909095 190.29869110412108 L345.5019485426301 196.89730267460982 \" fill=\"none\" stroke-width=\"1.6500000000000001\" stroke=\"rgb(255,255,255)\" stroke-opacity=\"1.0\">\n",
       "                </path>\n",
       "              </g>\n",
       "            </g>\n",
       "            <g>\n",
       "              <g>\n",
       "                <path d=\"M159.51637869317656 392.03653579787493 L159.51637869317656 392.03653579787493 L171.54031725417764 376.6792811073043 \" fill=\"none\" stroke-width=\"1.6500000000000001\" stroke=\"rgb(163,153,153)\" stroke-opacity=\"1.0\">\n",
       "                </path>\n",
       "              </g>\n",
       "            </g>\n",
       "            <g>\n",
       "              <g>\n",
       "                <path d=\"M159.51637869317656 392.03653579787493 L159.51637869317656 392.03653579787493 L174.89847964714062 404.041052438203 \" fill=\"none\" stroke-width=\"1.6500000000000001\" stroke=\"rgb(163,153,153)\" stroke-opacity=\"1.0\">\n",
       "                </path>\n",
       "              </g>\n",
       "            </g>\n",
       "            <g>\n",
       "              <g>\n",
       "                <path d=\"M159.51637869317656 392.03653579787493 L159.51637869317656 392.03653579787493 L178.89537507967486 389.6657919870062 \" fill=\"none\" stroke-width=\"1.6500000000000001\" stroke=\"rgb(255,255,255)\" stroke-opacity=\"1.0\">\n",
       "                </path>\n",
       "              </g>\n",
       "            </g>\n",
       "            <g>\n",
       "              <g>\n",
       "                <path d=\"M224.81042132420814 23.69749977534326 L224.81042132420814 23.69749977534326 L225.22876168381674 43.18542546431104 \" fill=\"none\" stroke-width=\"1.6500000000000001\" stroke=\"rgb(163,153,153)\" stroke-opacity=\"1.0\">\n",
       "                </path>\n",
       "              </g>\n",
       "            </g>\n",
       "            <g>\n",
       "              <g>\n",
       "                <path d=\"M225.22876168381674 43.18542546431104 L225.22876168381674 43.18542546431104 L244.74821658450986 42.76776083780251 \" fill=\"none\" stroke-width=\"1.6500000000000001\" stroke=\"rgb(163,153,153)\" stroke-opacity=\"1.0\">\n",
       "                </path>\n",
       "              </g>\n",
       "            </g>\n",
       "            <g>\n",
       "              <g>\n",
       "                <path d=\"M225.22876168381674 43.18542546431104 L225.22876168381674 43.18542546431104 L238.7352893040386 29.110047568716453 \" fill=\"none\" stroke-width=\"1.6500000000000001\" stroke=\"rgb(255,255,255)\" stroke-opacity=\"1.0\">\n",
       "                </path>\n",
       "              </g>\n",
       "            </g>\n",
       "            <g>\n",
       "              <g>\n",
       "                <path d=\"M295.08872814350593 214.6845962730362 L295.08872814350593 214.6845962730362 L312.9362771162916 222.58693116582089 \" fill=\"none\" stroke-width=\"1.6500000000000001\" stroke=\"rgb(163,153,153)\" stroke-opacity=\"1.0\">\n",
       "                </path>\n",
       "              </g>\n",
       "            </g>\n",
       "            <g>\n",
       "              <g>\n",
       "                <path d=\"M287.1736081860645 232.5033166154526 L287.1736081860645 232.5033166154526 L295.08872814350593 214.6845962730362 \" fill=\"none\" stroke-width=\"1.6500000000000001\" stroke=\"rgb(163,153,153)\" stroke-opacity=\"1.0\">\n",
       "                </path>\n",
       "              </g>\n",
       "            </g>\n",
       "            <g>\n",
       "              <g>\n",
       "                <path d=\"M295.08872814350593 214.6845962730362 L295.08872814350593 214.6845962730362 L302.1120160539098 232.87212884912066 \" fill=\"none\" stroke-width=\"1.6500000000000001\" stroke=\"rgb(255,255,255)\" stroke-opacity=\"1.0\">\n",
       "                </path>\n",
       "              </g>\n",
       "            </g>\n",
       "            <g>\n",
       "              <g>\n",
       "                <path d=\"M219.55467328473316 331.8469320833545 L219.55467328473316 331.8469320833545 L227.1233569663517 313.8788038895798 \" fill=\"none\" stroke-width=\"1.6500000000000001\" stroke=\"rgb(163,153,153)\" stroke-opacity=\"1.0\">\n",
       "                </path>\n",
       "              </g>\n",
       "            </g>\n",
       "            <g>\n",
       "              <g>\n",
       "                <path d=\"M219.55467328473316 331.8469320833545 L219.55467328473316 331.8469320833545 L237.5518718335149 339.4033902888266 \" fill=\"none\" stroke-width=\"1.6500000000000001\" stroke=\"rgb(163,153,153)\" stroke-opacity=\"1.0\">\n",
       "                </path>\n",
       "              </g>\n",
       "            </g>\n",
       "            <g>\n",
       "              <g>\n",
       "                <path d=\"M219.55467328473316 331.8469320833545 L219.55467328473316 331.8469320833545 L237.63248197686588 324.4847696311493 \" fill=\"none\" stroke-width=\"1.6500000000000001\" stroke=\"rgb(255,255,255)\" stroke-opacity=\"1.0\">\n",
       "                </path>\n",
       "              </g>\n",
       "            </g>\n",
       "            <g>\n",
       "              <g>\n",
       "                <path d=\"M212.15034816232455 340.2268097991965 L212.15034816232455 340.2268097991965 L226.50461554493438 327.0141719564145 \" fill=\"none\" stroke-width=\"1.6500000000000001\" stroke=\"rgb(163,153,153)\" stroke-opacity=\"1.0\">\n",
       "                </path>\n",
       "              </g>\n",
       "            </g>\n",
       "            <g>\n",
       "              <g>\n",
       "                <path d=\"M213.27060118098515 312.68309060731696 L213.27060118098515 312.68309060731696 L226.50461554493438 327.0141719564145 \" fill=\"none\" stroke-width=\"1.6500000000000001\" stroke=\"rgb(163,153,153)\" stroke-opacity=\"1.0\">\n",
       "                </path>\n",
       "              </g>\n",
       "            </g>\n",
       "            <g>\n",
       "              <g>\n",
       "                <path d=\"M206.9967544406574 326.2233129687247 L206.9967544406574 326.2233129687247 L226.50461554493438 327.0141719564145 \" fill=\"none\" stroke-width=\"1.6500000000000001\" stroke=\"rgb(255,255,255)\" stroke-opacity=\"1.0\">\n",
       "                </path>\n",
       "              </g>\n",
       "            </g>\n",
       "            <g>\n",
       "              <g>\n",
       "                <path d=\"M141.91021109343643 377.0056908330013 L141.91021109343643 377.0056908330013 L160.1696601101735 370.10479016347426 \" fill=\"none\" stroke-width=\"1.6500000000000001\" stroke=\"rgb(163,153,153)\" stroke-opacity=\"1.0\">\n",
       "                </path>\n",
       "              </g>\n",
       "            </g>\n",
       "            <g>\n",
       "              <g>\n",
       "                <path d=\"M141.91021109343643 377.0056908330013 L141.91021109343643 377.0056908330013 L148.82227662277347 395.23564588912495 \" fill=\"none\" stroke-width=\"1.6500000000000001\" stroke=\"rgb(163,153,153)\" stroke-opacity=\"1.0\">\n",
       "                </path>\n",
       "              </g>\n",
       "            </g>\n",
       "            <g>\n",
       "              <g>\n",
       "                <path d=\"M141.91021109343643 377.0056908330013 L141.91021109343643 377.0056908330013 L159.70915972170127 385.016542014195 \" fill=\"none\" stroke-width=\"1.6500000000000001\" stroke=\"rgb(255,255,255)\" stroke-opacity=\"1.0\">\n",
       "                </path>\n",
       "              </g>\n",
       "            </g>\n",
       "            <g>\n",
       "              <g>\n",
       "                <path d=\"M305.25747986856686 284.83176914726806 L305.25747986856686 284.83176914726806 L322.5648476829657 275.81092540046734 \" fill=\"none\" stroke-width=\"1.6500000000000001\" stroke=\"rgb(163,153,153)\" stroke-opacity=\"1.0\">\n",
       "                </path>\n",
       "              </g>\n",
       "            </g>\n",
       "            <g>\n",
       "              <g>\n",
       "                <path d=\"M313.5294092534382 258.5315136774146 L313.5294092534382 258.5315136774146 L322.5648476829657 275.81092540046734 \" fill=\"none\" stroke-width=\"1.6500000000000001\" stroke=\"rgb(163,153,153)\" stroke-opacity=\"1.0\">\n",
       "                </path>\n",
       "              </g>\n",
       "            </g>\n",
       "            <g>\n",
       "              <g>\n",
       "                <path d=\"M303.9376707524021 269.97123598156946 L303.9376707524021 269.97123598156946 L322.5648476829657 275.81092540046734 \" fill=\"none\" stroke-width=\"1.6500000000000001\" stroke=\"rgb(255,255,255)\" stroke-opacity=\"1.0\">\n",
       "                </path>\n",
       "              </g>\n",
       "            </g>\n",
       "            <g>\n",
       "              <g>\n",
       "                <path d=\"M112.25319901196913 121.78691769204731 L112.25319901196913 121.78691769204731 L122.42099982288794 105.14650798353834 \" fill=\"none\" stroke-width=\"1.6500000000000001\" stroke=\"rgb(163,153,153)\" stroke-opacity=\"1.0\">\n",
       "                </path>\n",
       "              </g>\n",
       "            </g>\n",
       "            <g>\n",
       "              <g>\n",
       "                <path d=\"M105.7536678544489 94.99513092759528 L105.7536678544489 94.99513092759528 L122.42099982288794 105.14650798353834 \" fill=\"none\" stroke-width=\"1.6500000000000001\" stroke=\"rgb(163,153,153)\" stroke-opacity=\"1.0\">\n",
       "                </path>\n",
       "              </g>\n",
       "            </g>\n",
       "            <g>\n",
       "              <g>\n",
       "                <path d=\"M103.44569546056262 109.73494697550862 L103.44569546056262 109.73494697550862 L122.42099982288794 105.14650798353834 \" fill=\"none\" stroke-width=\"1.6500000000000001\" stroke=\"rgb(255,255,255)\" stroke-opacity=\"1.0\">\n",
       "                </path>\n",
       "              </g>\n",
       "            </g>\n",
       "            <g>\n",
       "              <g>\n",
       "                <path d=\"M212.03479677684308 356.141566802684 L212.03479677684308 356.141566802684 L229.5616370165812 364.7296487657726 \" fill=\"none\" stroke-width=\"1.6500000000000001\" stroke=\"rgb(163,153,153)\" stroke-opacity=\"1.0\">\n",
       "                </path>\n",
       "              </g>\n",
       "            </g>\n",
       "            <g>\n",
       "              <g>\n",
       "                <path d=\"M229.5616370165812 364.7296487657726 L229.5616370165812 364.7296487657726 L238.16361350384082 347.2311191248502 \" fill=\"none\" stroke-width=\"1.6500000000000001\" stroke=\"rgb(163,153,153)\" stroke-opacity=\"1.0\">\n",
       "                </path>\n",
       "              </g>\n",
       "            </g>\n",
       "            <g>\n",
       "              <g>\n",
       "                <path d=\"M223.25080533603764 346.2836288023967 L223.25080533603764 346.2836288023967 L229.5616370165812 364.7296487657726 \" fill=\"none\" stroke-width=\"1.6500000000000001\" stroke=\"rgb(255,255,255)\" stroke-opacity=\"1.0\">\n",
       "                </path>\n",
       "              </g>\n",
       "            </g>\n",
       "            <g>\n",
       "              <g>\n",
       "                <path d=\"M68.70394839498218 345.6719269305596 L68.70394839498218 345.6719269305596 L88.13678354142576 347.55277524001906 \" fill=\"none\" stroke-width=\"1.6500000000000001\" stroke=\"rgb(163,153,153)\" stroke-opacity=\"1.0\">\n",
       "                </path>\n",
       "              </g>\n",
       "            </g>\n",
       "            <g>\n",
       "              <g>\n",
       "                <path d=\"M88.13678354142576 347.55277524001906 L88.13678354142576 347.55277524001906 L90.02067484609765 328.15132939091365 \" fill=\"none\" stroke-width=\"1.6500000000000001\" stroke=\"rgb(163,153,153)\" stroke-opacity=\"1.0\">\n",
       "                </path>\n",
       "              </g>\n",
       "            </g>\n",
       "            <g>\n",
       "              <g>\n",
       "                <path d=\"M75.7278063482471 332.503920721291 L75.7278063482471 332.503920721291 L88.13678354142576 347.55277524001906 \" fill=\"none\" stroke-width=\"1.6500000000000001\" stroke=\"rgb(255,255,255)\" stroke-opacity=\"1.0\">\n",
       "                </path>\n",
       "              </g>\n",
       "            </g>\n",
       "            <g>\n",
       "              <g>\n",
       "                <path d=\"M321.0928710803593 316.37567843736167 L321.0928710803593 316.37567843736167 L331.26623895462615 333.01269620574186 \" fill=\"none\" stroke-width=\"1.6500000000000001\" stroke=\"rgb(163,153,153)\" stroke-opacity=\"1.0\">\n",
       "                </path>\n",
       "              </g>\n",
       "            </g>\n",
       "            <g>\n",
       "              <g>\n",
       "                <path d=\"M304.42893653981616 326.5326135643361 L304.42893653981616 326.5326135643361 L321.0928710803593 316.37567843736167 \" fill=\"none\" stroke-width=\"1.6500000000000001\" stroke=\"rgb(163,153,153)\" stroke-opacity=\"1.0\">\n",
       "                </path>\n",
       "              </g>\n",
       "            </g>\n",
       "            <g>\n",
       "              <g>\n",
       "                <path d=\"M316.50334737689195 335.32186422445983 L316.50334737689195 335.32186422445983 L321.0928710803593 316.37567843736167 \" fill=\"none\" stroke-width=\"1.6500000000000001\" stroke=\"rgb(255,255,255)\" stroke-opacity=\"1.0\">\n",
       "                </path>\n",
       "              </g>\n",
       "            </g>\n",
       "            <g>\n",
       "              <g>\n",
       "                <path d=\"M99.74254370265525 69.9738424618779 L99.74254370265525 69.9738424618779 L108.74420421052291 87.2708178787808 \" fill=\"none\" stroke-width=\"1.6500000000000001\" stroke=\"rgb(163,153,153)\" stroke-opacity=\"1.0\">\n",
       "                </path>\n",
       "              </g>\n",
       "            </g>\n",
       "            <g>\n",
       "              <g>\n",
       "                <path d=\"M108.74420421052291 87.2708178787808 L108.74420421052291 87.2708178787808 L126.06916413479881 78.28369749313867 \" fill=\"none\" stroke-width=\"1.6500000000000001\" stroke=\"rgb(163,153,153)\" stroke-opacity=\"1.0\">\n",
       "                </path>\n",
       "              </g>\n",
       "            </g>\n",
       "            <g>\n",
       "              <g>\n",
       "                <path d=\"M108.74420421052291 87.2708178787808 L108.74420421052291 87.2708178787808 L114.62966566971122 68.68515549944436 \" fill=\"none\" stroke-width=\"1.6500000000000001\" stroke=\"rgb(255,255,255)\" stroke-opacity=\"1.0\">\n",
       "                </path>\n",
       "              </g>\n",
       "            </g>\n",
       "            <g>\n",
       "              <g>\n",
       "                <path d=\"M155.57521643319268 361.76510970722956 L155.57521643319268 361.76510970722956 L175.01498438886813 359.9570820697991 \" fill=\"none\" stroke-width=\"1.6500000000000001\" stroke=\"rgb(163,153,153)\" stroke-opacity=\"1.0\">\n",
       "                </path>\n",
       "              </g>\n",
       "            </g>\n",
       "            <g>\n",
       "              <g>\n",
       "                <path d=\"M155.57521643319268 361.76510970722956 L155.57521643319268 361.76510970722956 L157.38616925040344 381.1734771672004 \" fill=\"none\" stroke-width=\"1.6500000000000001\" stroke=\"rgb(163,153,153)\" stroke-opacity=\"1.0\">\n",
       "                </path>\n",
       "              </g>\n",
       "            </g>\n",
       "            <g>\n",
       "              <g>\n",
       "                <path d=\"M155.57521643319268 361.76510970722956 L155.57521643319268 361.76510970722956 L170.60174519680237 374.2104293469355 \" fill=\"none\" stroke-width=\"1.6500000000000001\" stroke=\"rgb(255,255,255)\" stroke-opacity=\"1.0\">\n",
       "                </path>\n",
       "              </g>\n",
       "            </g>\n",
       "            <g>\n",
       "              <g>\n",
       "                <path d=\"M99.05494010259451 218.34399281244325 L99.05494010259451 218.34399281244325 L114.03999686260512 205.8489296313015 \" fill=\"none\" stroke-width=\"1.6500000000000001\" stroke=\"rgb(163,153,153)\" stroke-opacity=\"1.0\">\n",
       "                </path>\n",
       "              </g>\n",
       "            </g>\n",
       "            <g>\n",
       "              <g>\n",
       "                <path d=\"M99.05494010259451 218.34399281244325 L99.05494010259451 218.34399281244325 L111.57021885202441 233.30484464307918 \" fill=\"none\" stroke-width=\"1.6500000000000001\" stroke=\"rgb(163,153,153)\" stroke-opacity=\"1.0\">\n",
       "                </path>\n",
       "              </g>\n",
       "            </g>\n",
       "            <g>\n",
       "              <g>\n",
       "                <path d=\"M99.05494010259451 218.34399281244325 L99.05494010259451 218.34399281244325 L118.50061382622509 220.08756868747344 \" fill=\"none\" stroke-width=\"1.6500000000000001\" stroke=\"rgb(255,255,255)\" stroke-opacity=\"1.0\">\n",
       "                </path>\n",
       "              </g>\n",
       "            </g>\n",
       "            <g>\n",
       "              <g>\n",
       "                <path d=\"M200.67231346547067 264.92476469009733 L200.67231346547067 264.92476469009733 L209.1688976490014 247.3749846522948 \" fill=\"none\" stroke-width=\"1.6500000000000001\" stroke=\"rgb(163,153,153)\" stroke-opacity=\"1.0\">\n",
       "                </path>\n",
       "              </g>\n",
       "            </g>\n",
       "            <g>\n",
       "              <g>\n",
       "                <path d=\"M200.67231346547067 264.92476469009733 L200.67231346547067 264.92476469009733 L218.25048701930854 273.40762458660123 \" fill=\"none\" stroke-width=\"1.6500000000000001\" stroke=\"rgb(163,153,153)\" stroke-opacity=\"1.0\">\n",
       "                </path>\n",
       "              </g>\n",
       "            </g>\n",
       "            <g>\n",
       "              <g>\n",
       "                <path d=\"M200.67231346547067 264.92476469009733 L200.67231346547067 264.92476469009733 L219.1099514793604 258.51348397370816 \" fill=\"none\" stroke-width=\"1.6500000000000001\" stroke=\"rgb(255,255,255)\" stroke-opacity=\"1.0\">\n",
       "                </path>\n",
       "              </g>\n",
       "            </g>\n",
       "            <g>\n",
       "              <g>\n",
       "                <path d=\"M319.3453571307341 372.988599637977 L319.3453571307341 372.988599637977 L332.49197912804124 358.57756508147463 \" fill=\"none\" stroke-width=\"1.6500000000000001\" stroke=\"rgb(163,153,153)\" stroke-opacity=\"1.0\">\n",
       "                </path>\n",
       "              </g>\n",
       "            </g>\n",
       "            <g>\n",
       "              <g>\n",
       "                <path d=\"M319.3453571307341 372.988599637977 L319.3453571307341 372.988599637977 L333.7797070757988 386.11398627648265 \" fill=\"none\" stroke-width=\"1.6500000000000001\" stroke=\"rgb(163,153,153)\" stroke-opacity=\"1.0\">\n",
       "                </path>\n",
       "              </g>\n",
       "            </g>\n",
       "            <g>\n",
       "              <g>\n",
       "                <path d=\"M319.3453571307341 372.988599637977 L319.3453571307341 372.988599637977 L338.84804942290117 372.07950927694316 \" fill=\"none\" stroke-width=\"1.6500000000000001\" stroke=\"rgb(255,255,255)\" stroke-opacity=\"1.0\">\n",
       "                </path>\n",
       "              </g>\n",
       "            </g>\n",
       "            <g>\n",
       "              <g>\n",
       "                <path d=\"M211.74758407414012 213.065791686886 L211.74758407414012 213.065791686886 L229.66796884331984 220.8020776293955 \" fill=\"none\" stroke-width=\"1.6500000000000001\" stroke=\"rgb(163,153,153)\" stroke-opacity=\"1.0\">\n",
       "                </path>\n",
       "              </g>\n",
       "            </g>\n",
       "            <g>\n",
       "              <g>\n",
       "                <path d=\"M229.66796884331984 220.8020776293955 L229.66796884331984 220.8020776293955 L237.41677120247329 202.91063914014327 \" fill=\"none\" stroke-width=\"1.6500000000000001\" stroke=\"rgb(163,153,153)\" stroke-opacity=\"1.0\">\n",
       "                </path>\n",
       "              </g>\n",
       "            </g>\n",
       "            <g>\n",
       "              <g>\n",
       "                <path d=\"M222.47557394579246 202.68053989731663 L222.47557394579246 202.68053989731663 L229.66796884331984 220.8020776293955 \" fill=\"none\" stroke-width=\"1.6500000000000001\" stroke=\"rgb(255,255,255)\" stroke-opacity=\"1.0\">\n",
       "                </path>\n",
       "              </g>\n",
       "            </g>\n",
       "            <g>\n",
       "              <g>\n",
       "                <path d=\"M170.14416970332496 53.10475008766778 L170.14416970332496 53.10475008766778 L189.48556972690884 50.44552590730902 \" fill=\"none\" stroke-width=\"1.6500000000000001\" stroke=\"rgb(163,153,153)\" stroke-opacity=\"1.0\">\n",
       "                </path>\n",
       "              </g>\n",
       "            </g>\n",
       "            <g>\n",
       "              <g>\n",
       "                <path d=\"M170.14416970332496 53.10475008766778 L170.14416970332496 53.10475008766778 L172.80769620110556 72.4149085064266 \" fill=\"none\" stroke-width=\"1.6500000000000001\" stroke=\"rgb(163,153,153)\" stroke-opacity=\"1.0\">\n",
       "                </path>\n",
       "              </g>\n",
       "            </g>\n",
       "            <g>\n",
       "              <g>\n",
       "                <path d=\"M170.14416970332496 53.10475008766778 L170.14416970332496 53.10475008766778 L185.70400246609347 64.87873860073174 \" fill=\"none\" stroke-width=\"1.6500000000000001\" stroke=\"rgb(255,255,255)\" stroke-opacity=\"1.0\">\n",
       "                </path>\n",
       "              </g>\n",
       "            </g>\n",
       "            <g>\n",
       "              <g>\n",
       "                <path d=\"M298.08137981702555 289.40556816480563 L298.08137981702555 289.40556816480563 L298.9088517891264 269.9306819845987 \" fill=\"none\" stroke-width=\"1.6500000000000001\" stroke=\"rgb(163,153,153)\" stroke-opacity=\"1.0\">\n",
       "                </path>\n",
       "              </g>\n",
       "            </g>\n",
       "            <g>\n",
       "              <g>\n",
       "                <path d=\"M298.08137981702555 289.40556816480563 L298.08137981702555 289.40556816480563 L317.5877741125395 290.2317035453296 \" fill=\"none\" stroke-width=\"1.6500000000000001\" stroke=\"rgb(163,153,153)\" stroke-opacity=\"1.0\">\n",
       "                </path>\n",
       "              </g>\n",
       "            </g>\n",
       "            <g>\n",
       "              <g>\n",
       "                <path d=\"M298.08137981702555 289.40556816480563 L298.08137981702555 289.40556816480563 L312.4595945425964 276.21891001369175 \" fill=\"none\" stroke-width=\"1.6500000000000001\" stroke=\"rgb(255,255,255)\" stroke-opacity=\"1.0\">\n",
       "                </path>\n",
       "              </g>\n",
       "            </g>\n",
       "            <g>\n",
       "              <g>\n",
       "                <path d=\"M286.1069671839098 113.25831447215982 L286.1069671839098 113.25831447215982 L294.9810164443188 95.89573583812465 \" fill=\"none\" stroke-width=\"1.6500000000000001\" stroke=\"rgb(163,153,153)\" stroke-opacity=\"1.0\">\n",
       "                </path>\n",
       "              </g>\n",
       "            </g>\n",
       "            <g>\n",
       "              <g>\n",
       "                <path d=\"M277.59034716448645 87.03602057317892 L277.59034716448645 87.03602057317892 L294.9810164443188 95.89573583812465 \" fill=\"none\" stroke-width=\"1.6500000000000001\" stroke=\"rgb(163,153,153)\" stroke-opacity=\"1.0\">\n",
       "                </path>\n",
       "              </g>\n",
       "            </g>\n",
       "            <g>\n",
       "              <g>\n",
       "                <path d=\"M276.4090558585581 101.90816818591048 L276.4090558585581 101.90816818591048 L294.9810164443188 95.89573583812465 \" fill=\"none\" stroke-width=\"1.6500000000000001\" stroke=\"rgb(255,255,255)\" stroke-opacity=\"1.0\">\n",
       "                </path>\n",
       "              </g>\n",
       "            </g>\n",
       "            <g>\n",
       "              <g>\n",
       "                <path d=\"M112.79765687506553 254.2322409528164 L112.79765687506553 254.2322409528164 L118.08737215661846 272.9955808665783 \" fill=\"none\" stroke-width=\"1.6500000000000001\" stroke=\"rgb(163,153,153)\" stroke-opacity=\"1.0\">\n",
       "                </path>\n",
       "              </g>\n",
       "            </g>\n",
       "            <g>\n",
       "              <g>\n",
       "                <path d=\"M94.0039600456289 259.5134119100566 L94.0039600456289 259.5134119100566 L112.79765687506553 254.2322409528164 \" fill=\"none\" stroke-width=\"1.6500000000000001\" stroke=\"rgb(163,153,153)\" stroke-opacity=\"1.0\">\n",
       "                </path>\n",
       "              </g>\n",
       "            </g>\n",
       "            <g>\n",
       "              <g>\n",
       "                <path d=\"M103.24889994953895 271.23427764001565 L103.24889994953895 271.23427764001565 L112.79765687506553 254.2322409528164 \" fill=\"none\" stroke-width=\"1.6500000000000001\" stroke=\"rgb(255,255,255)\" stroke-opacity=\"1.0\">\n",
       "                </path>\n",
       "              </g>\n",
       "            </g>\n",
       "            <g>\n",
       "              <g>\n",
       "                <path d=\"M47.220513849432905 156.92699345134895 L47.220513849432905 156.92699345134895 L66.39841450099502 160.58062528450313 \" fill=\"none\" stroke-width=\"1.6500000000000001\" stroke=\"rgb(163,153,153)\" stroke-opacity=\"1.0\">\n",
       "                </path>\n",
       "              </g>\n",
       "            </g>\n",
       "            <g>\n",
       "              <g>\n",
       "                <path d=\"M43.56097086218915 176.0739165938993 L43.56097086218915 176.0739165938993 L47.220513849432905 156.92699345134895 \" fill=\"none\" stroke-width=\"1.6500000000000001\" stroke=\"rgb(163,153,153)\" stroke-opacity=\"1.0\">\n",
       "                </path>\n",
       "              </g>\n",
       "            </g>\n",
       "            <g>\n",
       "              <g>\n",
       "                <path d=\"M47.220513849432905 156.92699345134895 L47.220513849432905 156.92699345134895 L58.193649786750626 173.04942048948627 \" fill=\"none\" stroke-width=\"1.6500000000000001\" stroke=\"rgb(255,255,255)\" stroke-opacity=\"1.0\">\n",
       "                </path>\n",
       "              </g>\n",
       "            </g>\n",
       "            <g>\n",
       "              <g>\n",
       "                <path d=\"M168.7439490441114 47.54940259380112 L168.7439490441114 47.54940259380112 L183.44706470294983 34.72482068623583 \" fill=\"none\" stroke-width=\"1.6500000000000001\" stroke=\"rgb(163,153,153)\" stroke-opacity=\"1.0\">\n",
       "                </path>\n",
       "              </g>\n",
       "            </g>\n",
       "            <g>\n",
       "              <g>\n",
       "                <path d=\"M170.60173410387645 20.04545454545456 L170.60173410387645 20.04545454545456 L183.44706470294983 34.72482068623583 \" fill=\"none\" stroke-width=\"1.6500000000000001\" stroke=\"rgb(163,153,153)\" stroke-opacity=\"1.0\">\n",
       "                </path>\n",
       "              </g>\n",
       "            </g>\n",
       "            <g>\n",
       "              <g>\n",
       "                <path d=\"M163.9673715428272 33.41329017729092 L163.9673715428272 33.41329017729092 L183.44706470294983 34.72482068623583 \" fill=\"none\" stroke-width=\"1.6500000000000001\" stroke=\"rgb(255,255,255)\" stroke-opacity=\"1.0\">\n",
       "                </path>\n",
       "              </g>\n",
       "            </g>\n",
       "            <g>\n",
       "              <g>\n",
       "                <path d=\"M324.36097556416007 341.5674057005385 L324.36097556416007 341.5674057005385 L339.0214408593416 354.44056482918916 \" fill=\"none\" stroke-width=\"1.6500000000000001\" stroke=\"rgb(163,153,153)\" stroke-opacity=\"1.0\">\n",
       "                </path>\n",
       "              </g>\n",
       "            </g>\n",
       "            <g>\n",
       "              <g>\n",
       "                <path d=\"M339.0214408593416 354.44056482918916 L339.0214408593416 354.44056482918916 L351.9154272718305 339.8037801601642 \" fill=\"none\" stroke-width=\"1.6500000000000001\" stroke=\"rgb(163,153,153)\" stroke-opacity=\"1.0\">\n",
       "                </path>\n",
       "              </g>\n",
       "            </g>\n",
       "            <g>\n",
       "              <g>\n",
       "                <path d=\"M337.7723516625668 334.9880970197919 L337.7723516625668 334.9880970197919 L339.0214408593416 354.44056482918916 \" fill=\"none\" stroke-width=\"1.6500000000000001\" stroke=\"rgb(255,255,255)\" stroke-opacity=\"1.0\">\n",
       "                </path>\n",
       "              </g>\n",
       "            </g>\n",
       "            <g>\n",
       "              <g>\n",
       "                <path d=\"M168.96132522361586 350.43005755175864 L168.96132522361586 350.43005755175864 L171.8235288376153 331.1482545817159 \" fill=\"none\" stroke-width=\"1.6500000000000001\" stroke=\"rgb(163,153,153)\" stroke-opacity=\"1.0\">\n",
       "                </path>\n",
       "              </g>\n",
       "            </g>\n",
       "            <g>\n",
       "              <g>\n",
       "                <path d=\"M152.51053013858672 328.2906742025458 L152.51053013858672 328.2906742025458 L171.8235288376153 331.1482545817159 \" fill=\"none\" stroke-width=\"1.6500000000000001\" stroke=\"rgb(163,153,153)\" stroke-opacity=\"1.0\">\n",
       "                </path>\n",
       "              </g>\n",
       "            </g>\n",
       "            <g>\n",
       "              <g>\n",
       "                <path d=\"M156.1432929078896 342.7619337514392 L156.1432929078896 342.7619337514392 L171.8235288376153 331.1482545817159 \" fill=\"none\" stroke-width=\"1.6500000000000001\" stroke=\"rgb(255,255,255)\" stroke-opacity=\"1.0\">\n",
       "                </path>\n",
       "              </g>\n",
       "            </g>\n",
       "            <g>\n",
       "              <g>\n",
       "                <path d=\"M194.15784636650304 175.53339850099516 L194.15784636650304 175.53339850099516 L213.67537729768668 175.03409170786222 \" fill=\"none\" stroke-width=\"1.6500000000000001\" stroke=\"rgb(163,153,153)\" stroke-opacity=\"1.0\">\n",
       "                </path>\n",
       "              </g>\n",
       "            </g>\n",
       "            <g>\n",
       "              <g>\n",
       "                <path d=\"M194.15784636650304 175.53339850099516 L194.15784636650304 175.53339850099516 L194.65796098032698 195.01940332818583 \" fill=\"none\" stroke-width=\"1.6500000000000001\" stroke=\"rgb(163,153,153)\" stroke-opacity=\"1.0\">\n",
       "                </path>\n",
       "              </g>\n",
       "            </g>\n",
       "            <g>\n",
       "              <g>\n",
       "                <path d=\"M194.15784636650304 175.53339850099516 L194.15784636650304 175.53339850099516 L208.31245927476658 188.95902143321868 \" fill=\"none\" stroke-width=\"1.6500000000000001\" stroke=\"rgb(255,255,255)\" stroke-opacity=\"1.0\">\n",
       "                </path>\n",
       "              </g>\n",
       "            </g>\n",
       "            <g>\n",
       "              <g>\n",
       "                <path d=\"M405.95712655694626 174.18608124102985 L405.95712655694626 174.18608124102985 L414.32826619570466 191.79584878979057 \" fill=\"none\" stroke-width=\"1.6500000000000001\" stroke=\"rgb(163,153,153)\" stroke-opacity=\"1.0\">\n",
       "                </path>\n",
       "              </g>\n",
       "            </g>\n",
       "            <g>\n",
       "              <g>\n",
       "                <path d=\"M388.31886843928964 182.54369921971133 L388.31886843928964 182.54369921971133 L405.95712655694626 174.18608124102985 \" fill=\"none\" stroke-width=\"1.6500000000000001\" stroke=\"rgb(163,153,153)\" stroke-opacity=\"1.0\">\n",
       "                </path>\n",
       "              </g>\n",
       "            </g>\n",
       "            <g>\n",
       "              <g>\n",
       "                <path d=\"M399.40428423845816 192.54779563716966 L399.40428423845816 192.54779563716966 L405.95712655694626 174.18608124102985 \" fill=\"none\" stroke-width=\"1.6500000000000001\" stroke=\"rgb(255,255,255)\" stroke-opacity=\"1.0\">\n",
       "                </path>\n",
       "              </g>\n",
       "            </g>\n",
       "            <g>\n",
       "              <g>\n",
       "                <path d=\"M230.35276335385166 186.62080219216352 L230.35276335385166 186.62080219216352 L243.68864115345235 200.85744956914192 \" fill=\"none\" stroke-width=\"1.6500000000000001\" stroke=\"rgb(163,153,153)\" stroke-opacity=\"1.0\">\n",
       "                </path>\n",
       "              </g>\n",
       "            </g>\n",
       "            <g>\n",
       "              <g>\n",
       "                <path d=\"M216.09308272661502 199.9351389335315 L216.09308272661502 199.9351389335315 L230.35276335385166 186.62080219216352 \" fill=\"none\" stroke-width=\"1.6500000000000001\" stroke=\"rgb(163,153,153)\" stroke-opacity=\"1.0\">\n",
       "                </path>\n",
       "              </g>\n",
       "            </g>\n",
       "            <g>\n",
       "              <g>\n",
       "                <path d=\"M229.69953610995097 206.10228989060911 L229.69953610995097 206.10228989060911 L230.35276335385166 186.62080219216352 \" fill=\"none\" stroke-width=\"1.6500000000000001\" stroke=\"rgb(255,255,255)\" stroke-opacity=\"1.0\">\n",
       "                </path>\n",
       "              </g>\n",
       "            </g>\n",
       "            <g>\n",
       "              <g>\n",
       "                <path d=\"M329.2391711254109 234.01563781206394 L329.2391711254109 234.01563781206394 L336.9209952891956 251.9358429061366 \" fill=\"none\" stroke-width=\"1.6500000000000001\" stroke=\"rgb(163,153,153)\" stroke-opacity=\"1.0\">\n",
       "                </path>\n",
       "              </g>\n",
       "            </g>\n",
       "            <g>\n",
       "              <g>\n",
       "                <path d=\"M311.2899732103685 241.6850537471492 L311.2899732103685 241.6850537471492 L329.2391711254109 234.01563781206394 \" fill=\"none\" stroke-width=\"1.6500000000000001\" stroke=\"rgb(163,153,153)\" stroke-opacity=\"1.0\">\n",
       "                </path>\n",
       "              </g>\n",
       "            </g>\n",
       "            <g>\n",
       "              <g>\n",
       "                <path d=\"M321.97904152091985 252.11023236977536 L321.97904152091985 252.11023236977536 L329.2391711254109 234.01563781206394 \" fill=\"none\" stroke-width=\"1.6500000000000001\" stroke=\"rgb(255,255,255)\" stroke-opacity=\"1.0\">\n",
       "                </path>\n",
       "              </g>\n",
       "            </g>\n",
       "            <g>\n",
       "              <g>\n",
       "                <path d=\"M156.3859597178755 70.36320005672493 L156.3859597178755 70.36320005672493 L170.0932597078708 56.48263396684871 \" fill=\"none\" stroke-width=\"1.6500000000000001\" stroke=\"rgb(163,153,153)\" stroke-opacity=\"1.0\">\n",
       "                </path>\n",
       "              </g>\n",
       "            </g>\n",
       "            <g>\n",
       "              <g>\n",
       "                <path d=\"M156.19023646610984 42.79747498262259 L156.19023646610984 42.79747498262259 L170.0932597078708 56.48263396684871 \" fill=\"none\" stroke-width=\"1.6500000000000001\" stroke=\"rgb(163,153,153)\" stroke-opacity=\"1.0\">\n",
       "                </path>\n",
       "              </g>\n",
       "            </g>\n",
       "            <g>\n",
       "              <g>\n",
       "                <path d=\"M150.56981291994347 56.62080765634593 L150.56981291994347 56.62080765634593 L170.0932597078708 56.48263396684871 \" fill=\"none\" stroke-width=\"1.6500000000000001\" stroke=\"rgb(255,255,255)\" stroke-opacity=\"1.0\">\n",
       "                </path>\n",
       "              </g>\n",
       "            </g>\n",
       "            <g>\n",
       "              <g>\n",
       "                <path d=\"M128.79000550277536 198.82433216598818 L128.79000550277536 198.82433216598818 L140.267894201385 214.59256023888653 \" fill=\"none\" stroke-width=\"1.6500000000000001\" stroke=\"rgb(163,153,153)\" stroke-opacity=\"1.0\">\n",
       "                </path>\n",
       "              </g>\n",
       "            </g>\n",
       "            <g>\n",
       "              <g>\n",
       "                <path d=\"M140.267894201385 214.59256023888653 L140.267894201385 214.59256023888653 L156.06163344511697 203.13321144237867 \" fill=\"none\" stroke-width=\"1.6500000000000001\" stroke=\"rgb(163,153,153)\" stroke-opacity=\"1.0\">\n",
       "                </path>\n",
       "              </g>\n",
       "            </g>\n",
       "            <g>\n",
       "              <g>\n",
       "                <path d=\"M140.267894201385 214.59256023888653 L140.267894201385 214.59256023888653 L143.31966138842867 195.3397559992514 \" fill=\"none\" stroke-width=\"1.6500000000000001\" stroke=\"rgb(255,255,255)\" stroke-opacity=\"1.0\">\n",
       "                </path>\n",
       "              </g>\n",
       "            </g>\n",
       "            <g>\n",
       "              <g>\n",
       "                <path d=\"M346.5880924646699 95.5843753278381 L346.5880924646699 95.5843753278381 L364.93092455381554 102.26122122101471 \" fill=\"none\" stroke-width=\"1.6500000000000001\" stroke=\"rgb(163,153,153)\" stroke-opacity=\"1.0\">\n",
       "                </path>\n",
       "              </g>\n",
       "            </g>\n",
       "            <g>\n",
       "              <g>\n",
       "                <path d=\"M339.9004442064195 113.89757877010176 L339.9004442064195 113.89757877010176 L346.5880924646699 95.5843753278381 \" fill=\"none\" stroke-width=\"1.6500000000000001\" stroke=\"rgb(163,153,153)\" stroke-opacity=\"1.0\">\n",
       "                </path>\n",
       "              </g>\n",
       "            </g>\n",
       "            <g>\n",
       "              <g>\n",
       "                <path d=\"M346.5880924646699 95.5843753278381 L346.5880924646699 95.5843753278381 L354.82955198747175 113.25500867511428 \" fill=\"none\" stroke-width=\"1.6500000000000001\" stroke=\"rgb(255,255,255)\" stroke-opacity=\"1.0\">\n",
       "                </path>\n",
       "              </g>\n",
       "            </g>\n",
       "            <g>\n",
       "              <g>\n",
       "                <path d=\"M358.695103400677 317.32002951277207 L358.695103400677 317.32002951277207 L377.92244902194574 313.9353273094486 \" fill=\"none\" stroke-width=\"1.6500000000000001\" stroke=\"rgb(163,153,153)\" stroke-opacity=\"1.0\">\n",
       "                </path>\n",
       "              </g>\n",
       "            </g>\n",
       "            <g>\n",
       "              <g>\n",
       "                <path d=\"M358.695103400677 317.32002951277207 L358.695103400677 317.32002951277207 L362.08528166102667 336.5163177579976 \" fill=\"none\" stroke-width=\"1.6500000000000001\" stroke=\"rgb(163,153,153)\" stroke-opacity=\"1.0\">\n",
       "                </path>\n",
       "              </g>\n",
       "            </g>\n",
       "            <g>\n",
       "              <g>\n",
       "                <path d=\"M358.695103400677 317.32002951277207 L358.695103400677 317.32002951277207 L374.68810791101805 328.5005092243156 \" fill=\"none\" stroke-width=\"1.6500000000000001\" stroke=\"rgb(255,255,255)\" stroke-opacity=\"1.0\">\n",
       "                </path>\n",
       "              </g>\n",
       "            </g>\n",
       "            <g>\n",
       "              <g>\n",
       "                <path d=\"M169.25501851999297 309.7837888835931 L169.25501851999297 309.7837888835931 L184.85498347187456 321.5047244766549 \" fill=\"none\" stroke-width=\"1.6500000000000001\" stroke=\"rgb(163,153,153)\" stroke-opacity=\"1.0\">\n",
       "                </path>\n",
       "              </g>\n",
       "            </g>\n",
       "            <g>\n",
       "              <g>\n",
       "                <path d=\"M157.51511980762172 325.358555662658 L157.51511980762172 325.358555662658 L169.25501851999297 309.7837888835931 \" fill=\"none\" stroke-width=\"1.6500000000000001\" stroke=\"rgb(163,153,153)\" stroke-opacity=\"1.0\">\n",
       "                </path>\n",
       "              </g>\n",
       "            </g>\n",
       "            <g>\n",
       "              <g>\n",
       "                <path d=\"M169.25501851999297 309.7837888835931 L169.25501851999297 309.7837888835931 L171.98449753378 329.0847651281736 \" fill=\"none\" stroke-width=\"1.6500000000000001\" stroke=\"rgb(255,255,255)\" stroke-opacity=\"1.0\">\n",
       "                </path>\n",
       "              </g>\n",
       "            </g>\n",
       "            <g>\n",
       "              <g>\n",
       "                <path d=\"M343.91838355082103 89.98235710851046 L343.91838355082103 89.98235710851046 L351.4397418100316 71.99443148624005 \" fill=\"none\" stroke-width=\"1.6500000000000001\" stroke=\"rgb(163,153,153)\" stroke-opacity=\"1.0\">\n",
       "                </path>\n",
       "              </g>\n",
       "            </g>\n",
       "            <g>\n",
       "              <g>\n",
       "                <path d=\"M343.91838355082103 89.98235710851046 L343.91838355082103 89.98235710851046 L361.9354115580501 97.49156633496257 \" fill=\"none\" stroke-width=\"1.6500000000000001\" stroke=\"rgb(163,153,153)\" stroke-opacity=\"1.0\">\n",
       "                </path>\n",
       "              </g>\n",
       "            </g>\n",
       "            <g>\n",
       "              <g>\n",
       "                <path d=\"M343.91838355082103 89.98235710851046 L343.91838355082103 89.98235710851046 L361.97674966038187 82.57278568689665 \" fill=\"none\" stroke-width=\"1.6500000000000001\" stroke=\"rgb(255,255,255)\" stroke-opacity=\"1.0\">\n",
       "                </path>\n",
       "              </g>\n",
       "            </g>\n",
       "            <g>\n",
       "              <g>\n",
       "                <path d=\"M327.39845193512434 83.15782610677675 L327.39845193512434 83.15782610677675 L340.37941863365177 68.59787695007225 \" fill=\"none\" stroke-width=\"1.6500000000000001\" stroke=\"rgb(163,153,153)\" stroke-opacity=\"1.0\">\n",
       "                </path>\n",
       "              </g>\n",
       "            </g>\n",
       "            <g>\n",
       "              <g>\n",
       "                <path d=\"M327.39845193512434 83.15782610677675 L327.39845193512434 83.15782610677675 L341.98195740700567 96.1178250247222 \" fill=\"none\" stroke-width=\"1.6500000000000001\" stroke=\"rgb(163,153,153)\" stroke-opacity=\"1.0\">\n",
       "                </path>\n",
       "              </g>\n",
       "            </g>\n",
       "            <g>\n",
       "              <g>\n",
       "                <path d=\"M327.39845193512434 83.15782610677675 L327.39845193512434 83.15782610677675 L346.8894771266482 82.02649044338918 \" fill=\"none\" stroke-width=\"1.6500000000000001\" stroke=\"rgb(255,255,255)\" stroke-opacity=\"1.0\">\n",
       "                </path>\n",
       "              </g>\n",
       "            </g>\n",
       "            <g>\n",
       "              <g>\n",
       "                <path d=\"M19.72991743789069 247.20834296645904 L19.72991743789069 247.20834296645904 L39.168187529795546 249.03235227753802 \" fill=\"none\" stroke-width=\"1.6500000000000001\" stroke=\"rgb(163,153,153)\" stroke-opacity=\"1.0\">\n",
       "                </path>\n",
       "              </g>\n",
       "            </g>\n",
       "            <g>\n",
       "              <g>\n",
       "                <path d=\"M39.168187529795546 249.03235227753802 L39.168187529795546 249.03235227753802 L40.99514787715597 229.62548026188173 \" fill=\"none\" stroke-width=\"1.6500000000000001\" stroke=\"rgb(163,153,153)\" stroke-opacity=\"1.0\">\n",
       "                </path>\n",
       "              </g>\n",
       "            </g>\n",
       "            <g>\n",
       "              <g>\n",
       "                <path d=\"M26.715110983851474 234.01985212083667 L26.715110983851474 234.01985212083667 L39.168187529795546 249.03235227753802 \" fill=\"none\" stroke-width=\"1.6500000000000001\" stroke=\"rgb(255,255,255)\" stroke-opacity=\"1.0\">\n",
       "                </path>\n",
       "              </g>\n",
       "            </g>\n",
       "          </g>\n",
       "        </g>\n",
       "        <defs>\n",
       "          <clipPath id=\"cjGWaJn\">\n",
       "            <rect x=\"29.941816366404606\" y=\"0.0\" width=\"434.0581836335954\" height=\"441.0\">\n",
       "            </rect>\n",
       "          </clipPath>\n",
       "        </defs>\n",
       "        <defs>\n",
       "          <clipPath id=\"clHM7zY\">\n",
       "            <rect x=\"29.941816366404606\" y=\"0.0\" width=\"434.0581836335954\" height=\"441.0\">\n",
       "            </rect>\n",
       "          </clipPath>\n",
       "        </defs>\n",
       "        <defs>\n",
       "          <clipPath id=\"c7A5wS5\">\n",
       "            <rect x=\"29.941816366404606\" y=\"0.0\" width=\"434.0581836335954\" height=\"441.0\">\n",
       "            </rect>\n",
       "          </clipPath>\n",
       "        </defs>\n",
       "        <defs>\n",
       "          <clipPath id=\"c2FVW3H\">\n",
       "            <rect x=\"29.941816366404606\" y=\"0.0\" width=\"434.0581836335954\" height=\"441.0\">\n",
       "            </rect>\n",
       "          </clipPath>\n",
       "        </defs>\n",
       "        <defs>\n",
       "          <clipPath id=\"cdOepdN\">\n",
       "            <rect x=\"29.941816366404606\" y=\"0.0\" width=\"434.0581836335954\" height=\"441.0\">\n",
       "            </rect>\n",
       "          </clipPath>\n",
       "        </defs>\n",
       "        <defs>\n",
       "          <clipPath id=\"c26Hwn5\">\n",
       "            <rect x=\"29.941816366404606\" y=\"0.0\" width=\"434.0581836335954\" height=\"441.0\">\n",
       "            </rect>\n",
       "          </clipPath>\n",
       "        </defs>\n",
       "        <defs>\n",
       "          <clipPath id=\"c2613xW\">\n",
       "            <rect x=\"29.941816366404606\" y=\"0.0\" width=\"434.0581836335954\" height=\"441.0\">\n",
       "            </rect>\n",
       "          </clipPath>\n",
       "        </defs>\n",
       "        <defs>\n",
       "          <clipPath id=\"cCDur6o\">\n",
       "            <rect x=\"29.941816366404606\" y=\"0.0\" width=\"434.0581836335954\" height=\"441.0\">\n",
       "            </rect>\n",
       "          </clipPath>\n",
       "        </defs>\n",
       "        <defs>\n",
       "          <clipPath id=\"c94yMMH\">\n",
       "            <rect x=\"29.941816366404606\" y=\"0.0\" width=\"434.0581836335954\" height=\"441.0\">\n",
       "            </rect>\n",
       "          </clipPath>\n",
       "        </defs>\n",
       "        <defs>\n",
       "          <clipPath id=\"cAaB4s8\">\n",
       "            <rect x=\"29.941816366404606\" y=\"0.0\" width=\"434.0581836335954\" height=\"441.0\">\n",
       "            </rect>\n",
       "          </clipPath>\n",
       "        </defs>\n",
       "        <defs>\n",
       "          <clipPath id=\"cEfjejf\">\n",
       "            <rect x=\"29.941816366404606\" y=\"0.0\" width=\"434.0581836335954\" height=\"441.0\">\n",
       "            </rect>\n",
       "          </clipPath>\n",
       "        </defs>\n",
       "        <defs>\n",
       "          <clipPath id=\"c3Hy4NO\">\n",
       "            <rect x=\"29.941816366404606\" y=\"0.0\" width=\"434.0581836335954\" height=\"441.0\">\n",
       "            </rect>\n",
       "          </clipPath>\n",
       "        </defs>\n",
       "        <defs>\n",
       "          <clipPath id=\"cy489an\">\n",
       "            <rect x=\"29.941816366404606\" y=\"0.0\" width=\"434.0581836335954\" height=\"441.0\">\n",
       "            </rect>\n",
       "          </clipPath>\n",
       "        </defs>\n",
       "        <defs>\n",
       "          <clipPath id=\"cEUTPMI\">\n",
       "            <rect x=\"29.941816366404606\" y=\"0.0\" width=\"434.0581836335954\" height=\"441.0\">\n",
       "            </rect>\n",
       "          </clipPath>\n",
       "        </defs>\n",
       "        <defs>\n",
       "          <clipPath id=\"cF4Jsi4\">\n",
       "            <rect x=\"29.941816366404606\" y=\"0.0\" width=\"434.0581836335954\" height=\"441.0\">\n",
       "            </rect>\n",
       "          </clipPath>\n",
       "        </defs>\n",
       "        <defs>\n",
       "          <clipPath id=\"c0XP176\">\n",
       "            <rect x=\"29.941816366404606\" y=\"0.0\" width=\"434.0581836335954\" height=\"441.0\">\n",
       "            </rect>\n",
       "          </clipPath>\n",
       "        </defs>\n",
       "        <defs>\n",
       "          <clipPath id=\"ccCR79b\">\n",
       "            <rect x=\"29.941816366404606\" y=\"0.0\" width=\"434.0581836335954\" height=\"441.0\">\n",
       "            </rect>\n",
       "          </clipPath>\n",
       "        </defs>\n",
       "        <defs>\n",
       "          <clipPath id=\"cSpauVW\">\n",
       "            <rect x=\"29.941816366404606\" y=\"0.0\" width=\"434.0581836335954\" height=\"441.0\">\n",
       "            </rect>\n",
       "          </clipPath>\n",
       "        </defs>\n",
       "        <defs>\n",
       "          <clipPath id=\"cC233Z3\">\n",
       "            <rect x=\"29.941816366404606\" y=\"0.0\" width=\"434.0581836335954\" height=\"441.0\">\n",
       "            </rect>\n",
       "          </clipPath>\n",
       "        </defs>\n",
       "        <defs>\n",
       "          <clipPath id=\"cjBEJrv\">\n",
       "            <rect x=\"29.941816366404606\" y=\"0.0\" width=\"434.0581836335954\" height=\"441.0\">\n",
       "            </rect>\n",
       "          </clipPath>\n",
       "        </defs>\n",
       "        <defs>\n",
       "          <clipPath id=\"cB53rwi\">\n",
       "            <rect x=\"29.941816366404606\" y=\"0.0\" width=\"434.0581836335954\" height=\"441.0\">\n",
       "            </rect>\n",
       "          </clipPath>\n",
       "        </defs>\n",
       "        <defs>\n",
       "          <clipPath id=\"cgfSe2R\">\n",
       "            <rect x=\"29.941816366404606\" y=\"0.0\" width=\"434.0581836335954\" height=\"441.0\">\n",
       "            </rect>\n",
       "          </clipPath>\n",
       "        </defs>\n",
       "        <defs>\n",
       "          <clipPath id=\"cVRrLSu\">\n",
       "            <rect x=\"29.941816366404606\" y=\"0.0\" width=\"434.0581836335954\" height=\"441.0\">\n",
       "            </rect>\n",
       "          </clipPath>\n",
       "        </defs>\n",
       "        <defs>\n",
       "          <clipPath id=\"cGgFDke\">\n",
       "            <rect x=\"29.941816366404606\" y=\"0.0\" width=\"434.0581836335954\" height=\"441.0\">\n",
       "            </rect>\n",
       "          </clipPath>\n",
       "        </defs>\n",
       "        <defs>\n",
       "          <clipPath id=\"ceVOwxO\">\n",
       "            <rect x=\"29.941816366404606\" y=\"0.0\" width=\"434.0581836335954\" height=\"441.0\">\n",
       "            </rect>\n",
       "          </clipPath>\n",
       "        </defs>\n",
       "        <defs>\n",
       "          <clipPath id=\"cPw7jQa\">\n",
       "            <rect x=\"29.941816366404606\" y=\"0.0\" width=\"434.0581836335954\" height=\"441.0\">\n",
       "            </rect>\n",
       "          </clipPath>\n",
       "        </defs>\n",
       "        <defs>\n",
       "          <clipPath id=\"cwSS7qY\">\n",
       "            <rect x=\"29.941816366404606\" y=\"0.0\" width=\"434.0581836335954\" height=\"441.0\">\n",
       "            </rect>\n",
       "          </clipPath>\n",
       "        </defs>\n",
       "        <defs>\n",
       "          <clipPath id=\"cyvAzxv\">\n",
       "            <rect x=\"29.941816366404606\" y=\"0.0\" width=\"434.0581836335954\" height=\"441.0\">\n",
       "            </rect>\n",
       "          </clipPath>\n",
       "        </defs>\n",
       "        <defs>\n",
       "          <clipPath id=\"cj25ADy\">\n",
       "            <rect x=\"29.941816366404606\" y=\"0.0\" width=\"434.0581836335954\" height=\"441.0\">\n",
       "            </rect>\n",
       "          </clipPath>\n",
       "        </defs>\n",
       "        <defs>\n",
       "          <clipPath id=\"cZtswYr\">\n",
       "            <rect x=\"29.941816366404606\" y=\"0.0\" width=\"434.0581836335954\" height=\"441.0\">\n",
       "            </rect>\n",
       "          </clipPath>\n",
       "        </defs>\n",
       "        <defs>\n",
       "          <clipPath id=\"c484Jw9\">\n",
       "            <rect x=\"29.941816366404606\" y=\"0.0\" width=\"434.0581836335954\" height=\"441.0\">\n",
       "            </rect>\n",
       "          </clipPath>\n",
       "        </defs>\n",
       "        <defs>\n",
       "          <clipPath id=\"cWtsJpk\">\n",
       "            <rect x=\"29.941816366404606\" y=\"0.0\" width=\"434.0581836335954\" height=\"441.0\">\n",
       "            </rect>\n",
       "          </clipPath>\n",
       "        </defs>\n",
       "        <defs>\n",
       "          <clipPath id=\"cFjtuZd\">\n",
       "            <rect x=\"29.941816366404606\" y=\"0.0\" width=\"434.0581836335954\" height=\"441.0\">\n",
       "            </rect>\n",
       "          </clipPath>\n",
       "        </defs>\n",
       "        <defs>\n",
       "          <clipPath id=\"cZvhzIv\">\n",
       "            <rect x=\"29.941816366404606\" y=\"0.0\" width=\"434.0581836335954\" height=\"441.0\">\n",
       "            </rect>\n",
       "          </clipPath>\n",
       "        </defs>\n",
       "        <defs>\n",
       "          <clipPath id=\"c4CplUp\">\n",
       "            <rect x=\"29.941816366404606\" y=\"0.0\" width=\"434.0581836335954\" height=\"441.0\">\n",
       "            </rect>\n",
       "          </clipPath>\n",
       "        </defs>\n",
       "        <defs>\n",
       "          <clipPath id=\"cvWO1pI\">\n",
       "            <rect x=\"29.941816366404606\" y=\"0.0\" width=\"434.0581836335954\" height=\"441.0\">\n",
       "            </rect>\n",
       "          </clipPath>\n",
       "        </defs>\n",
       "        <defs>\n",
       "          <clipPath id=\"cXIBuex\">\n",
       "            <rect x=\"29.941816366404606\" y=\"0.0\" width=\"434.0581836335954\" height=\"441.0\">\n",
       "            </rect>\n",
       "          </clipPath>\n",
       "        </defs>\n",
       "        <defs>\n",
       "          <clipPath id=\"cYWRB1D\">\n",
       "            <rect x=\"29.941816366404606\" y=\"0.0\" width=\"434.0581836335954\" height=\"441.0\">\n",
       "            </rect>\n",
       "          </clipPath>\n",
       "        </defs>\n",
       "        <defs>\n",
       "          <clipPath id=\"ctvLPRK\">\n",
       "            <rect x=\"29.941816366404606\" y=\"0.0\" width=\"434.0581836335954\" height=\"441.0\">\n",
       "            </rect>\n",
       "          </clipPath>\n",
       "        </defs>\n",
       "        <defs>\n",
       "          <clipPath id=\"crhjyof\">\n",
       "            <rect x=\"29.941816366404606\" y=\"0.0\" width=\"434.0581836335954\" height=\"441.0\">\n",
       "            </rect>\n",
       "          </clipPath>\n",
       "        </defs>\n",
       "        <defs>\n",
       "          <clipPath id=\"cUmyTrc\">\n",
       "            <rect x=\"29.941816366404606\" y=\"0.0\" width=\"434.0581836335954\" height=\"441.0\">\n",
       "            </rect>\n",
       "          </clipPath>\n",
       "        </defs>\n",
       "        <defs>\n",
       "          <clipPath id=\"c1QoIqa\">\n",
       "            <rect x=\"29.941816366404606\" y=\"0.0\" width=\"434.0581836335954\" height=\"441.0\">\n",
       "            </rect>\n",
       "          </clipPath>\n",
       "        </defs>\n",
       "        <defs>\n",
       "          <clipPath id=\"cfJ7SFT\">\n",
       "            <rect x=\"29.941816366404606\" y=\"0.0\" width=\"434.0581836335954\" height=\"441.0\">\n",
       "            </rect>\n",
       "          </clipPath>\n",
       "        </defs>\n",
       "        <defs>\n",
       "          <clipPath id=\"cInQrse\">\n",
       "            <rect x=\"29.941816366404606\" y=\"0.0\" width=\"434.0581836335954\" height=\"441.0\">\n",
       "            </rect>\n",
       "          </clipPath>\n",
       "        </defs>\n",
       "        <defs>\n",
       "          <clipPath id=\"cWnlo5f\">\n",
       "            <rect x=\"29.941816366404606\" y=\"0.0\" width=\"434.0581836335954\" height=\"441.0\">\n",
       "            </rect>\n",
       "          </clipPath>\n",
       "        </defs>\n",
       "        <defs>\n",
       "          <clipPath id=\"cArgs4C\">\n",
       "            <rect x=\"29.941816366404606\" y=\"0.0\" width=\"434.0581836335954\" height=\"441.0\">\n",
       "            </rect>\n",
       "          </clipPath>\n",
       "        </defs>\n",
       "        <defs>\n",
       "          <clipPath id=\"cgjs3gm\">\n",
       "            <rect x=\"29.941816366404606\" y=\"0.0\" width=\"434.0581836335954\" height=\"441.0\">\n",
       "            </rect>\n",
       "          </clipPath>\n",
       "        </defs>\n",
       "        <defs>\n",
       "          <clipPath id=\"cVzkzf6\">\n",
       "            <rect x=\"29.941816366404606\" y=\"0.0\" width=\"434.0581836335954\" height=\"441.0\">\n",
       "            </rect>\n",
       "          </clipPath>\n",
       "        </defs>\n",
       "        <defs>\n",
       "          <clipPath id=\"cRSz15L\">\n",
       "            <rect x=\"29.941816366404606\" y=\"0.0\" width=\"434.0581836335954\" height=\"441.0\">\n",
       "            </rect>\n",
       "          </clipPath>\n",
       "        </defs>\n",
       "        <defs>\n",
       "          <clipPath id=\"cKiu862\">\n",
       "            <rect x=\"29.941816366404606\" y=\"0.0\" width=\"434.0581836335954\" height=\"441.0\">\n",
       "            </rect>\n",
       "          </clipPath>\n",
       "        </defs>\n",
       "        <defs>\n",
       "          <clipPath id=\"c2ttdmq\">\n",
       "            <rect x=\"29.941816366404606\" y=\"0.0\" width=\"434.0581836335954\" height=\"441.0\">\n",
       "            </rect>\n",
       "          </clipPath>\n",
       "        </defs>\n",
       "        <defs>\n",
       "          <clipPath id=\"cwafECF\">\n",
       "            <rect x=\"29.941816366404606\" y=\"0.0\" width=\"434.0581836335954\" height=\"441.0\">\n",
       "            </rect>\n",
       "          </clipPath>\n",
       "        </defs>\n",
       "        <defs>\n",
       "          <clipPath id=\"cgpKx1x\">\n",
       "            <rect x=\"29.941816366404606\" y=\"0.0\" width=\"434.0581836335954\" height=\"441.0\">\n",
       "            </rect>\n",
       "          </clipPath>\n",
       "        </defs>\n",
       "        <defs>\n",
       "          <clipPath id=\"c1pGSjh\">\n",
       "            <rect x=\"29.941816366404606\" y=\"0.0\" width=\"434.0581836335954\" height=\"441.0\">\n",
       "            </rect>\n",
       "          </clipPath>\n",
       "        </defs>\n",
       "        <defs>\n",
       "          <clipPath id=\"cUJiODF\">\n",
       "            <rect x=\"29.941816366404606\" y=\"0.0\" width=\"434.0581836335954\" height=\"441.0\">\n",
       "            </rect>\n",
       "          </clipPath>\n",
       "        </defs>\n",
       "        <defs>\n",
       "          <clipPath id=\"ckeoFga\">\n",
       "            <rect x=\"29.941816366404606\" y=\"0.0\" width=\"434.0581836335954\" height=\"441.0\">\n",
       "            </rect>\n",
       "          </clipPath>\n",
       "        </defs>\n",
       "        <defs>\n",
       "          <clipPath id=\"c1ztztE\">\n",
       "            <rect x=\"29.941816366404606\" y=\"0.0\" width=\"434.0581836335954\" height=\"441.0\">\n",
       "            </rect>\n",
       "          </clipPath>\n",
       "        </defs>\n",
       "        <defs>\n",
       "          <clipPath id=\"cslM9wv\">\n",
       "            <rect x=\"29.941816366404606\" y=\"0.0\" width=\"434.0581836335954\" height=\"441.0\">\n",
       "            </rect>\n",
       "          </clipPath>\n",
       "        </defs>\n",
       "        <defs>\n",
       "          <clipPath id=\"crIvxOw\">\n",
       "            <rect x=\"29.941816366404606\" y=\"0.0\" width=\"434.0581836335954\" height=\"441.0\">\n",
       "            </rect>\n",
       "          </clipPath>\n",
       "        </defs>\n",
       "        <defs>\n",
       "          <clipPath id=\"cvwNwv4\">\n",
       "            <rect x=\"29.941816366404606\" y=\"0.0\" width=\"434.0581836335954\" height=\"441.0\">\n",
       "            </rect>\n",
       "          </clipPath>\n",
       "        </defs>\n",
       "        <defs>\n",
       "          <clipPath id=\"crDxcXJ\">\n",
       "            <rect x=\"29.941816366404606\" y=\"0.0\" width=\"434.0581836335954\" height=\"441.0\">\n",
       "            </rect>\n",
       "          </clipPath>\n",
       "        </defs>\n",
       "        <defs>\n",
       "          <clipPath id=\"cHOfi06\">\n",
       "            <rect x=\"29.941816366404606\" y=\"0.0\" width=\"434.0581836335954\" height=\"441.0\">\n",
       "            </rect>\n",
       "          </clipPath>\n",
       "        </defs>\n",
       "        <defs>\n",
       "          <clipPath id=\"cCQwUqW\">\n",
       "            <rect x=\"29.941816366404606\" y=\"0.0\" width=\"434.0581836335954\" height=\"441.0\">\n",
       "            </rect>\n",
       "          </clipPath>\n",
       "        </defs>\n",
       "        <defs>\n",
       "          <clipPath id=\"c3OnZ3s\">\n",
       "            <rect x=\"29.941816366404606\" y=\"0.0\" width=\"434.0581836335954\" height=\"441.0\">\n",
       "            </rect>\n",
       "          </clipPath>\n",
       "        </defs>\n",
       "        <defs>\n",
       "          <clipPath id=\"clbkPYj\">\n",
       "            <rect x=\"29.941816366404606\" y=\"0.0\" width=\"434.0581836335954\" height=\"441.0\">\n",
       "            </rect>\n",
       "          </clipPath>\n",
       "        </defs>\n",
       "        <defs>\n",
       "          <clipPath id=\"cWKx00Y\">\n",
       "            <rect x=\"29.941816366404606\" y=\"0.0\" width=\"434.0581836335954\" height=\"441.0\">\n",
       "            </rect>\n",
       "          </clipPath>\n",
       "        </defs>\n",
       "        <defs>\n",
       "          <clipPath id=\"crUYg9X\">\n",
       "            <rect x=\"29.941816366404606\" y=\"0.0\" width=\"434.0581836335954\" height=\"441.0\">\n",
       "            </rect>\n",
       "          </clipPath>\n",
       "        </defs>\n",
       "        <defs>\n",
       "          <clipPath id=\"cIMBc0w\">\n",
       "            <rect x=\"29.941816366404606\" y=\"0.0\" width=\"434.0581836335954\" height=\"441.0\">\n",
       "            </rect>\n",
       "          </clipPath>\n",
       "        </defs>\n",
       "        <defs>\n",
       "          <clipPath id=\"cAAhWDr\">\n",
       "            <rect x=\"29.941816366404606\" y=\"0.0\" width=\"434.0581836335954\" height=\"441.0\">\n",
       "            </rect>\n",
       "          </clipPath>\n",
       "        </defs>\n",
       "        <defs>\n",
       "          <clipPath id=\"ckCieSk\">\n",
       "            <rect x=\"29.941816366404606\" y=\"0.0\" width=\"434.0581836335954\" height=\"441.0\">\n",
       "            </rect>\n",
       "          </clipPath>\n",
       "        </defs>\n",
       "        <defs>\n",
       "          <clipPath id=\"cQallee\">\n",
       "            <rect x=\"29.941816366404606\" y=\"0.0\" width=\"434.0581836335954\" height=\"441.0\">\n",
       "            </rect>\n",
       "          </clipPath>\n",
       "        </defs>\n",
       "        <defs>\n",
       "          <clipPath id=\"cvbw74C\">\n",
       "            <rect x=\"29.941816366404606\" y=\"0.0\" width=\"434.0581836335954\" height=\"441.0\">\n",
       "            </rect>\n",
       "          </clipPath>\n",
       "        </defs>\n",
       "        <defs>\n",
       "          <clipPath id=\"cXtiJ08\">\n",
       "            <rect x=\"29.941816366404606\" y=\"0.0\" width=\"434.0581836335954\" height=\"441.0\">\n",
       "            </rect>\n",
       "          </clipPath>\n",
       "        </defs>\n",
       "        <defs>\n",
       "          <clipPath id=\"cyZVbtv\">\n",
       "            <rect x=\"29.941816366404606\" y=\"0.0\" width=\"434.0581836335954\" height=\"441.0\">\n",
       "            </rect>\n",
       "          </clipPath>\n",
       "        </defs>\n",
       "        <defs>\n",
       "          <clipPath id=\"cVNrL7b\">\n",
       "            <rect x=\"29.941816366404606\" y=\"0.0\" width=\"434.0581836335954\" height=\"441.0\">\n",
       "            </rect>\n",
       "          </clipPath>\n",
       "        </defs>\n",
       "        <defs>\n",
       "          <clipPath id=\"cItjLiD\">\n",
       "            <rect x=\"29.941816366404606\" y=\"0.0\" width=\"434.0581836335954\" height=\"441.0\">\n",
       "            </rect>\n",
       "          </clipPath>\n",
       "        </defs>\n",
       "        <defs>\n",
       "          <clipPath id=\"ctS3YCZ\">\n",
       "            <rect x=\"29.941816366404606\" y=\"0.0\" width=\"434.0581836335954\" height=\"441.0\">\n",
       "            </rect>\n",
       "          </clipPath>\n",
       "        </defs>\n",
       "        <defs>\n",
       "          <clipPath id=\"cYhwF7u\">\n",
       "            <rect x=\"29.941816366404606\" y=\"0.0\" width=\"434.0581836335954\" height=\"441.0\">\n",
       "            </rect>\n",
       "          </clipPath>\n",
       "        </defs>\n",
       "        <defs>\n",
       "          <clipPath id=\"cEQ1u9s\">\n",
       "            <rect x=\"29.941816366404606\" y=\"0.0\" width=\"434.0581836335954\" height=\"441.0\">\n",
       "            </rect>\n",
       "          </clipPath>\n",
       "        </defs>\n",
       "        <defs>\n",
       "          <clipPath id=\"cF7mwAO\">\n",
       "            <rect x=\"29.941816366404606\" y=\"0.0\" width=\"434.0581836335954\" height=\"441.0\">\n",
       "            </rect>\n",
       "          </clipPath>\n",
       "        </defs>\n",
       "        <defs>\n",
       "          <clipPath id=\"cB6tdUl\">\n",
       "            <rect x=\"29.941816366404606\" y=\"0.0\" width=\"434.0581836335954\" height=\"441.0\">\n",
       "            </rect>\n",
       "          </clipPath>\n",
       "        </defs>\n",
       "        <defs>\n",
       "          <clipPath id=\"c82qCxv\">\n",
       "            <rect x=\"29.941816366404606\" y=\"0.0\" width=\"434.0581836335954\" height=\"441.0\">\n",
       "            </rect>\n",
       "          </clipPath>\n",
       "        </defs>\n",
       "        <defs>\n",
       "          <clipPath id=\"cAgN2xg\">\n",
       "            <rect x=\"29.941816366404606\" y=\"0.0\" width=\"434.0581836335954\" height=\"441.0\">\n",
       "            </rect>\n",
       "          </clipPath>\n",
       "        </defs>\n",
       "        <defs>\n",
       "          <clipPath id=\"cFByCAO\">\n",
       "            <rect x=\"29.941816366404606\" y=\"0.0\" width=\"434.0581836335954\" height=\"441.0\">\n",
       "            </rect>\n",
       "          </clipPath>\n",
       "        </defs>\n",
       "        <defs>\n",
       "          <clipPath id=\"cZIdzvf\">\n",
       "            <rect x=\"29.941816366404606\" y=\"0.0\" width=\"434.0581836335954\" height=\"441.0\">\n",
       "            </rect>\n",
       "          </clipPath>\n",
       "        </defs>\n",
       "        <defs>\n",
       "          <clipPath id=\"czVG2KT\">\n",
       "            <rect x=\"29.941816366404606\" y=\"0.0\" width=\"434.0581836335954\" height=\"441.0\">\n",
       "            </rect>\n",
       "          </clipPath>\n",
       "        </defs>\n",
       "        <defs>\n",
       "          <clipPath id=\"cXdQreP\">\n",
       "            <rect x=\"29.941816366404606\" y=\"0.0\" width=\"434.0581836335954\" height=\"441.0\">\n",
       "            </rect>\n",
       "          </clipPath>\n",
       "        </defs>\n",
       "        <defs>\n",
       "          <clipPath id=\"cKEEsWV\">\n",
       "            <rect x=\"29.941816366404606\" y=\"0.0\" width=\"434.0581836335954\" height=\"441.0\">\n",
       "            </rect>\n",
       "          </clipPath>\n",
       "        </defs>\n",
       "        <defs>\n",
       "          <clipPath id=\"cP2Syh5\">\n",
       "            <rect x=\"29.941816366404606\" y=\"0.0\" width=\"434.0581836335954\" height=\"441.0\">\n",
       "            </rect>\n",
       "          </clipPath>\n",
       "        </defs>\n",
       "        <defs>\n",
       "          <clipPath id=\"cE3Sh7f\">\n",
       "            <rect x=\"29.941816366404606\" y=\"0.0\" width=\"434.0581836335954\" height=\"441.0\">\n",
       "            </rect>\n",
       "          </clipPath>\n",
       "        </defs>\n",
       "        <defs>\n",
       "          <clipPath id=\"c4mk5hb\">\n",
       "            <rect x=\"29.941816366404606\" y=\"0.0\" width=\"434.0581836335954\" height=\"441.0\">\n",
       "            </rect>\n",
       "          </clipPath>\n",
       "        </defs>\n",
       "        <defs>\n",
       "          <clipPath id=\"c2sE8Wj\">\n",
       "            <rect x=\"29.941816366404606\" y=\"0.0\" width=\"434.0581836335954\" height=\"441.0\">\n",
       "            </rect>\n",
       "          </clipPath>\n",
       "        </defs>\n",
       "        <defs>\n",
       "          <clipPath id=\"ckWZSze\">\n",
       "            <rect x=\"29.941816366404606\" y=\"0.0\" width=\"434.0581836335954\" height=\"441.0\">\n",
       "            </rect>\n",
       "          </clipPath>\n",
       "        </defs>\n",
       "        <defs>\n",
       "          <clipPath id=\"cJTM86s\">\n",
       "            <rect x=\"29.941816366404606\" y=\"0.0\" width=\"434.0581836335954\" height=\"441.0\">\n",
       "            </rect>\n",
       "          </clipPath>\n",
       "        </defs>\n",
       "        <defs>\n",
       "          <clipPath id=\"cZPsIFV\">\n",
       "            <rect x=\"29.941816366404606\" y=\"0.0\" width=\"434.0581836335954\" height=\"441.0\">\n",
       "            </rect>\n",
       "          </clipPath>\n",
       "        </defs>\n",
       "        <defs>\n",
       "          <clipPath id=\"clFEi6A\">\n",
       "            <rect x=\"29.941816366404606\" y=\"0.0\" width=\"434.0581836335954\" height=\"441.0\">\n",
       "            </rect>\n",
       "          </clipPath>\n",
       "        </defs>\n",
       "        <defs>\n",
       "          <clipPath id=\"c5HmGx8\">\n",
       "            <rect x=\"29.941816366404606\" y=\"0.0\" width=\"434.0581836335954\" height=\"441.0\">\n",
       "            </rect>\n",
       "          </clipPath>\n",
       "        </defs>\n",
       "        <defs>\n",
       "          <clipPath id=\"cSPnqbe\">\n",
       "            <rect x=\"29.941816366404606\" y=\"0.0\" width=\"434.0581836335954\" height=\"441.0\">\n",
       "            </rect>\n",
       "          </clipPath>\n",
       "        </defs>\n",
       "        <defs>\n",
       "          <clipPath id=\"coXoPSb\">\n",
       "            <rect x=\"29.941816366404606\" y=\"0.0\" width=\"434.0581836335954\" height=\"441.0\">\n",
       "            </rect>\n",
       "          </clipPath>\n",
       "        </defs>\n",
       "        <defs>\n",
       "          <clipPath id=\"c1fpH78\">\n",
       "            <rect x=\"29.941816366404606\" y=\"0.0\" width=\"434.0581836335954\" height=\"441.0\">\n",
       "            </rect>\n",
       "          </clipPath>\n",
       "        </defs>\n",
       "        <defs>\n",
       "          <clipPath id=\"conOAVm\">\n",
       "            <rect x=\"29.941816366404606\" y=\"0.0\" width=\"434.0581836335954\" height=\"441.0\">\n",
       "            </rect>\n",
       "          </clipPath>\n",
       "        </defs>\n",
       "        <defs>\n",
       "          <clipPath id=\"c7APVdR\">\n",
       "            <rect x=\"29.941816366404606\" y=\"0.0\" width=\"434.0581836335954\" height=\"441.0\">\n",
       "            </rect>\n",
       "          </clipPath>\n",
       "        </defs>\n",
       "        <defs>\n",
       "          <clipPath id=\"cQsXRE1\">\n",
       "            <rect x=\"29.941816366404606\" y=\"0.0\" width=\"434.0581836335954\" height=\"441.0\">\n",
       "            </rect>\n",
       "          </clipPath>\n",
       "        </defs>\n",
       "        <defs>\n",
       "          <clipPath id=\"cgATScV\">\n",
       "            <rect x=\"29.941816366404606\" y=\"0.0\" width=\"434.0581836335954\" height=\"441.0\">\n",
       "            </rect>\n",
       "          </clipPath>\n",
       "        </defs>\n",
       "        <defs>\n",
       "          <clipPath id=\"c8EgKWE\">\n",
       "            <rect x=\"29.941816366404606\" y=\"0.0\" width=\"434.0581836335954\" height=\"441.0\">\n",
       "            </rect>\n",
       "          </clipPath>\n",
       "        </defs>\n",
       "        <defs>\n",
       "          <clipPath id=\"caD98Vg\">\n",
       "            <rect x=\"29.941816366404606\" y=\"0.0\" width=\"434.0581836335954\" height=\"441.0\">\n",
       "            </rect>\n",
       "          </clipPath>\n",
       "        </defs>\n",
       "        <defs>\n",
       "          <clipPath id=\"cf1ovwc\">\n",
       "            <rect x=\"29.941816366404606\" y=\"0.0\" width=\"434.0581836335954\" height=\"441.0\">\n",
       "            </rect>\n",
       "          </clipPath>\n",
       "        </defs>\n",
       "        <defs>\n",
       "          <clipPath id=\"cgh2h6M\">\n",
       "            <rect x=\"29.941816366404606\" y=\"0.0\" width=\"434.0581836335954\" height=\"441.0\">\n",
       "            </rect>\n",
       "          </clipPath>\n",
       "        </defs>\n",
       "        <defs>\n",
       "          <clipPath id=\"cj9koEq\">\n",
       "            <rect x=\"29.941816366404606\" y=\"0.0\" width=\"434.0581836335954\" height=\"441.0\">\n",
       "            </rect>\n",
       "          </clipPath>\n",
       "        </defs>\n",
       "        <defs>\n",
       "          <clipPath id=\"cP7zFYy\">\n",
       "            <rect x=\"29.941816366404606\" y=\"0.0\" width=\"434.0581836335954\" height=\"441.0\">\n",
       "            </rect>\n",
       "          </clipPath>\n",
       "        </defs>\n",
       "        <defs>\n",
       "          <clipPath id=\"c87bF8f\">\n",
       "            <rect x=\"29.941816366404606\" y=\"0.0\" width=\"434.0581836335954\" height=\"441.0\">\n",
       "            </rect>\n",
       "          </clipPath>\n",
       "        </defs>\n",
       "        <defs>\n",
       "          <clipPath id=\"cnkYJQD\">\n",
       "            <rect x=\"29.941816366404606\" y=\"0.0\" width=\"434.0581836335954\" height=\"441.0\">\n",
       "            </rect>\n",
       "          </clipPath>\n",
       "        </defs>\n",
       "        <defs>\n",
       "          <clipPath id=\"cw8DOUN\">\n",
       "            <rect x=\"29.941816366404606\" y=\"0.0\" width=\"434.0581836335954\" height=\"441.0\">\n",
       "            </rect>\n",
       "          </clipPath>\n",
       "        </defs>\n",
       "        <defs>\n",
       "          <clipPath id=\"c7gRSpa\">\n",
       "            <rect x=\"29.941816366404606\" y=\"0.0\" width=\"434.0581836335954\" height=\"441.0\">\n",
       "            </rect>\n",
       "          </clipPath>\n",
       "        </defs>\n",
       "        <defs>\n",
       "          <clipPath id=\"cR3ELE9\">\n",
       "            <rect x=\"29.941816366404606\" y=\"0.0\" width=\"434.0581836335954\" height=\"441.0\">\n",
       "            </rect>\n",
       "          </clipPath>\n",
       "        </defs>\n",
       "        <defs>\n",
       "          <clipPath id=\"cdIoAHL\">\n",
       "            <rect x=\"29.941816366404606\" y=\"0.0\" width=\"434.0581836335954\" height=\"441.0\">\n",
       "            </rect>\n",
       "          </clipPath>\n",
       "        </defs>\n",
       "        <defs>\n",
       "          <clipPath id=\"cA4PnT7\">\n",
       "            <rect x=\"29.941816366404606\" y=\"0.0\" width=\"434.0581836335954\" height=\"441.0\">\n",
       "            </rect>\n",
       "          </clipPath>\n",
       "        </defs>\n",
       "        <defs>\n",
       "          <clipPath id=\"chktXmy\">\n",
       "            <rect x=\"29.941816366404606\" y=\"0.0\" width=\"434.0581836335954\" height=\"441.0\">\n",
       "            </rect>\n",
       "          </clipPath>\n",
       "        </defs>\n",
       "        <defs>\n",
       "          <clipPath id=\"cgBq6WN\">\n",
       "            <rect x=\"29.941816366404606\" y=\"0.0\" width=\"434.0581836335954\" height=\"441.0\">\n",
       "            </rect>\n",
       "          </clipPath>\n",
       "        </defs>\n",
       "        <defs>\n",
       "          <clipPath id=\"czmqZxD\">\n",
       "            <rect x=\"29.941816366404606\" y=\"0.0\" width=\"434.0581836335954\" height=\"441.0\">\n",
       "            </rect>\n",
       "          </clipPath>\n",
       "        </defs>\n",
       "        <defs>\n",
       "          <clipPath id=\"cPZMuwe\">\n",
       "            <rect x=\"29.941816366404606\" y=\"0.0\" width=\"434.0581836335954\" height=\"441.0\">\n",
       "            </rect>\n",
       "          </clipPath>\n",
       "        </defs>\n",
       "        <defs>\n",
       "          <clipPath id=\"chZZva2\">\n",
       "            <rect x=\"29.941816366404606\" y=\"0.0\" width=\"434.0581836335954\" height=\"441.0\">\n",
       "            </rect>\n",
       "          </clipPath>\n",
       "        </defs>\n",
       "        <defs>\n",
       "          <clipPath id=\"cGgeYcU\">\n",
       "            <rect x=\"29.941816366404606\" y=\"0.0\" width=\"434.0581836335954\" height=\"441.0\">\n",
       "            </rect>\n",
       "          </clipPath>\n",
       "        </defs>\n",
       "        <defs>\n",
       "          <clipPath id=\"ctrJCtp\">\n",
       "            <rect x=\"29.941816366404606\" y=\"0.0\" width=\"434.0581836335954\" height=\"441.0\">\n",
       "            </rect>\n",
       "          </clipPath>\n",
       "        </defs>\n",
       "        <defs>\n",
       "          <clipPath id=\"cZoMMXq\">\n",
       "            <rect x=\"29.941816366404606\" y=\"0.0\" width=\"434.0581836335954\" height=\"441.0\">\n",
       "            </rect>\n",
       "          </clipPath>\n",
       "        </defs>\n",
       "        <defs>\n",
       "          <clipPath id=\"cvp1o1k\">\n",
       "            <rect x=\"29.941816366404606\" y=\"0.0\" width=\"434.0581836335954\" height=\"441.0\">\n",
       "            </rect>\n",
       "          </clipPath>\n",
       "        </defs>\n",
       "        <defs>\n",
       "          <clipPath id=\"cnNAbv9\">\n",
       "            <rect x=\"29.941816366404606\" y=\"0.0\" width=\"434.0581836335954\" height=\"441.0\">\n",
       "            </rect>\n",
       "          </clipPath>\n",
       "        </defs>\n",
       "        <defs>\n",
       "          <clipPath id=\"cFpong1\">\n",
       "            <rect x=\"29.941816366404606\" y=\"0.0\" width=\"434.0581836335954\" height=\"441.0\">\n",
       "            </rect>\n",
       "          </clipPath>\n",
       "        </defs>\n",
       "        <defs>\n",
       "          <clipPath id=\"cUXDINy\">\n",
       "            <rect x=\"29.941816366404606\" y=\"0.0\" width=\"434.0581836335954\" height=\"441.0\">\n",
       "            </rect>\n",
       "          </clipPath>\n",
       "        </defs>\n",
       "        <defs>\n",
       "          <clipPath id=\"cELwyzQ\">\n",
       "            <rect x=\"29.941816366404606\" y=\"0.0\" width=\"434.0581836335954\" height=\"441.0\">\n",
       "            </rect>\n",
       "          </clipPath>\n",
       "        </defs>\n",
       "        <defs>\n",
       "          <clipPath id=\"c8LGk7I\">\n",
       "            <rect x=\"29.941816366404606\" y=\"0.0\" width=\"434.0581836335954\" height=\"441.0\">\n",
       "            </rect>\n",
       "          </clipPath>\n",
       "        </defs>\n",
       "        <defs>\n",
       "          <clipPath id=\"c8PkVsG\">\n",
       "            <rect x=\"29.941816366404606\" y=\"0.0\" width=\"434.0581836335954\" height=\"441.0\">\n",
       "            </rect>\n",
       "          </clipPath>\n",
       "        </defs>\n",
       "        <defs>\n",
       "          <clipPath id=\"cYxiRUR\">\n",
       "            <rect x=\"29.941816366404606\" y=\"0.0\" width=\"434.0581836335954\" height=\"441.0\">\n",
       "            </rect>\n",
       "          </clipPath>\n",
       "        </defs>\n",
       "        <defs>\n",
       "          <clipPath id=\"cWJzeYQ\">\n",
       "            <rect x=\"29.941816366404606\" y=\"0.0\" width=\"434.0581836335954\" height=\"441.0\">\n",
       "            </rect>\n",
       "          </clipPath>\n",
       "        </defs>\n",
       "        <defs>\n",
       "          <clipPath id=\"cPXuzYt\">\n",
       "            <rect x=\"29.941816366404606\" y=\"0.0\" width=\"434.0581836335954\" height=\"441.0\">\n",
       "            </rect>\n",
       "          </clipPath>\n",
       "        </defs>\n",
       "        <defs>\n",
       "          <clipPath id=\"cC11CeN\">\n",
       "            <rect x=\"29.941816366404606\" y=\"0.0\" width=\"434.0581836335954\" height=\"441.0\">\n",
       "            </rect>\n",
       "          </clipPath>\n",
       "        </defs>\n",
       "        <defs>\n",
       "          <clipPath id=\"cyfdS43\">\n",
       "            <rect x=\"29.941816366404606\" y=\"0.0\" width=\"434.0581836335954\" height=\"441.0\">\n",
       "            </rect>\n",
       "          </clipPath>\n",
       "        </defs>\n",
       "        <defs>\n",
       "          <clipPath id=\"ckeaaoT\">\n",
       "            <rect x=\"29.941816366404606\" y=\"0.0\" width=\"434.0581836335954\" height=\"441.0\">\n",
       "            </rect>\n",
       "          </clipPath>\n",
       "        </defs>\n",
       "        <defs>\n",
       "          <clipPath id=\"co6WGVi\">\n",
       "            <rect x=\"29.941816366404606\" y=\"0.0\" width=\"434.0581836335954\" height=\"441.0\">\n",
       "            </rect>\n",
       "          </clipPath>\n",
       "        </defs>\n",
       "        <defs>\n",
       "          <clipPath id=\"cdAdmtD\">\n",
       "            <rect x=\"29.941816366404606\" y=\"0.0\" width=\"434.0581836335954\" height=\"441.0\">\n",
       "            </rect>\n",
       "          </clipPath>\n",
       "        </defs>\n",
       "        <defs>\n",
       "          <clipPath id=\"cwgXopc\">\n",
       "            <rect x=\"29.941816366404606\" y=\"0.0\" width=\"434.0581836335954\" height=\"441.0\">\n",
       "            </rect>\n",
       "          </clipPath>\n",
       "        </defs>\n",
       "        <defs>\n",
       "          <clipPath id=\"cNNU5C3\">\n",
       "            <rect x=\"29.941816366404606\" y=\"0.0\" width=\"434.0581836335954\" height=\"441.0\">\n",
       "            </rect>\n",
       "          </clipPath>\n",
       "        </defs>\n",
       "        <defs>\n",
       "          <clipPath id=\"cxv04GF\">\n",
       "            <rect x=\"29.941816366404606\" y=\"0.0\" width=\"434.0581836335954\" height=\"441.0\">\n",
       "            </rect>\n",
       "          </clipPath>\n",
       "        </defs>\n",
       "        <defs>\n",
       "          <clipPath id=\"cYwsyrr\">\n",
       "            <rect x=\"29.941816366404606\" y=\"0.0\" width=\"434.0581836335954\" height=\"441.0\">\n",
       "            </rect>\n",
       "          </clipPath>\n",
       "        </defs>\n",
       "        <defs>\n",
       "          <clipPath id=\"cGzgWxp\">\n",
       "            <rect x=\"29.941816366404606\" y=\"0.0\" width=\"434.0581836335954\" height=\"441.0\">\n",
       "            </rect>\n",
       "          </clipPath>\n",
       "        </defs>\n",
       "        <defs>\n",
       "          <clipPath id=\"ciZpmYx\">\n",
       "            <rect x=\"29.941816366404606\" y=\"0.0\" width=\"434.0581836335954\" height=\"441.0\">\n",
       "            </rect>\n",
       "          </clipPath>\n",
       "        </defs>\n",
       "        <defs>\n",
       "          <clipPath id=\"coj9HvS\">\n",
       "            <rect x=\"29.941816366404606\" y=\"0.0\" width=\"434.0581836335954\" height=\"441.0\">\n",
       "            </rect>\n",
       "          </clipPath>\n",
       "        </defs>\n",
       "        <defs>\n",
       "          <clipPath id=\"cQCHPo5\">\n",
       "            <rect x=\"29.941816366404606\" y=\"0.0\" width=\"434.0581836335954\" height=\"441.0\">\n",
       "            </rect>\n",
       "          </clipPath>\n",
       "        </defs>\n",
       "        <defs>\n",
       "          <clipPath id=\"cb09iQT\">\n",
       "            <rect x=\"29.941816366404606\" y=\"0.0\" width=\"434.0581836335954\" height=\"441.0\">\n",
       "            </rect>\n",
       "          </clipPath>\n",
       "        </defs>\n",
       "        <defs>\n",
       "          <clipPath id=\"cA7afqc\">\n",
       "            <rect x=\"29.941816366404606\" y=\"0.0\" width=\"434.0581836335954\" height=\"441.0\">\n",
       "            </rect>\n",
       "          </clipPath>\n",
       "        </defs>\n",
       "        <defs>\n",
       "          <clipPath id=\"cINcp0J\">\n",
       "            <rect x=\"29.941816366404606\" y=\"0.0\" width=\"434.0581836335954\" height=\"441.0\">\n",
       "            </rect>\n",
       "          </clipPath>\n",
       "        </defs>\n",
       "        <defs>\n",
       "          <clipPath id=\"cSxi7xs\">\n",
       "            <rect x=\"29.941816366404606\" y=\"0.0\" width=\"434.0581836335954\" height=\"441.0\">\n",
       "            </rect>\n",
       "          </clipPath>\n",
       "        </defs>\n",
       "        <defs>\n",
       "          <clipPath id=\"cq6b20r\">\n",
       "            <rect x=\"29.941816366404606\" y=\"0.0\" width=\"434.0581836335954\" height=\"441.0\">\n",
       "            </rect>\n",
       "          </clipPath>\n",
       "        </defs>\n",
       "      </g>\n",
       "      <g>\n",
       "        <g transform=\"translate(29.941816366404606 441.0 ) \">\n",
       "          <g transform=\"translate(21.03917871737056 0.0 ) \">\n",
       "            <line stroke-width=\"1.0\" stroke=\"rgb(71,71,71)\" stroke-opacity=\"1.0\" x2=\"0.0\" y2=\"4.0\">\n",
       "            </line>\n",
       "            <g transform=\"translate(0.0 7.0 ) \">\n",
       "              <text class=\"axis-text-x\" text-anchor=\"middle\" dy=\"0.7em\">\n",
       "                <tspan>-10</tspan>\n",
       "              </text>\n",
       "            </g>\n",
       "          </g>\n",
       "          <g transform=\"translate(118.6588652919379 0.0 ) \">\n",
       "            <line stroke-width=\"1.0\" stroke=\"rgb(71,71,71)\" stroke-opacity=\"1.0\" x2=\"0.0\" y2=\"4.0\">\n",
       "            </line>\n",
       "            <g transform=\"translate(0.0 7.0 ) \">\n",
       "              <text class=\"axis-text-x\" text-anchor=\"middle\" dy=\"0.7em\">\n",
       "                <tspan>-5</tspan>\n",
       "              </text>\n",
       "            </g>\n",
       "          </g>\n",
       "          <g transform=\"translate(216.27855186650524 0.0 ) \">\n",
       "            <line stroke-width=\"1.0\" stroke=\"rgb(71,71,71)\" stroke-opacity=\"1.0\" x2=\"0.0\" y2=\"4.0\">\n",
       "            </line>\n",
       "            <g transform=\"translate(0.0 7.0 ) \">\n",
       "              <text class=\"axis-text-x\" text-anchor=\"middle\" dy=\"0.7em\">\n",
       "                <tspan>0</tspan>\n",
       "              </text>\n",
       "            </g>\n",
       "          </g>\n",
       "          <g transform=\"translate(313.8982384410726 0.0 ) \">\n",
       "            <line stroke-width=\"1.0\" stroke=\"rgb(71,71,71)\" stroke-opacity=\"1.0\" x2=\"0.0\" y2=\"4.0\">\n",
       "            </line>\n",
       "            <g transform=\"translate(0.0 7.0 ) \">\n",
       "              <text class=\"axis-text-x\" text-anchor=\"middle\" dy=\"0.7em\">\n",
       "                <tspan>5</tspan>\n",
       "              </text>\n",
       "            </g>\n",
       "          </g>\n",
       "          <g transform=\"translate(411.5179250156399 0.0 ) \">\n",
       "            <line stroke-width=\"1.0\" stroke=\"rgb(71,71,71)\" stroke-opacity=\"1.0\" x2=\"0.0\" y2=\"4.0\">\n",
       "            </line>\n",
       "            <g transform=\"translate(0.0 7.0 ) \">\n",
       "              <text class=\"axis-text-x\" text-anchor=\"middle\" dy=\"0.7em\">\n",
       "                <tspan>10</tspan>\n",
       "              </text>\n",
       "            </g>\n",
       "          </g>\n",
       "          <line x1=\"0.0\" y1=\"0.0\" x2=\"434.0581836335954\" y2=\"0.0\" stroke-width=\"1.0\" stroke=\"rgb(71,71,71)\" stroke-opacity=\"1.0\">\n",
       "          </line>\n",
       "        </g>\n",
       "        <g transform=\"translate(29.941816366404606 0.0 ) \">\n",
       "          <g transform=\"translate(0.0 413.1039154915375 ) \">\n",
       "            <g transform=\"translate(-3.0 0.0 ) \">\n",
       "              <text class=\"axis-text-y\" text-anchor=\"end\" dy=\"0.35em\">\n",
       "                <tspan>-10</tspan>\n",
       "              </text>\n",
       "            </g>\n",
       "          </g>\n",
       "          <g transform=\"translate(0.0 374.11911376578973 ) \">\n",
       "            <g transform=\"translate(-3.0 0.0 ) \">\n",
       "              <text class=\"axis-text-y\" text-anchor=\"end\" dy=\"0.35em\">\n",
       "                <tspan>-8</tspan>\n",
       "              </text>\n",
       "            </g>\n",
       "          </g>\n",
       "          <g transform=\"translate(0.0 335.13431204004195 ) \">\n",
       "            <g transform=\"translate(-3.0 0.0 ) \">\n",
       "              <text class=\"axis-text-y\" text-anchor=\"end\" dy=\"0.35em\">\n",
       "                <tspan>-6</tspan>\n",
       "              </text>\n",
       "            </g>\n",
       "          </g>\n",
       "          <g transform=\"translate(0.0 296.14951031429416 ) \">\n",
       "            <g transform=\"translate(-3.0 0.0 ) \">\n",
       "              <text class=\"axis-text-y\" text-anchor=\"end\" dy=\"0.35em\">\n",
       "                <tspan>-4</tspan>\n",
       "              </text>\n",
       "            </g>\n",
       "          </g>\n",
       "          <g transform=\"translate(0.0 257.1647085885464 ) \">\n",
       "            <g transform=\"translate(-3.0 0.0 ) \">\n",
       "              <text class=\"axis-text-y\" text-anchor=\"end\" dy=\"0.35em\">\n",
       "                <tspan>-2</tspan>\n",
       "              </text>\n",
       "            </g>\n",
       "          </g>\n",
       "          <g transform=\"translate(0.0 218.17990686279862 ) \">\n",
       "            <g transform=\"translate(-3.0 0.0 ) \">\n",
       "              <text class=\"axis-text-y\" text-anchor=\"end\" dy=\"0.35em\">\n",
       "                <tspan>0</tspan>\n",
       "              </text>\n",
       "            </g>\n",
       "          </g>\n",
       "          <g transform=\"translate(0.0 179.19510513705083 ) \">\n",
       "            <g transform=\"translate(-3.0 0.0 ) \">\n",
       "              <text class=\"axis-text-y\" text-anchor=\"end\" dy=\"0.35em\">\n",
       "                <tspan>2</tspan>\n",
       "              </text>\n",
       "            </g>\n",
       "          </g>\n",
       "          <g transform=\"translate(0.0 140.21030341130307 ) \">\n",
       "            <g transform=\"translate(-3.0 0.0 ) \">\n",
       "              <text class=\"axis-text-y\" text-anchor=\"end\" dy=\"0.35em\">\n",
       "                <tspan>4</tspan>\n",
       "              </text>\n",
       "            </g>\n",
       "          </g>\n",
       "          <g transform=\"translate(0.0 101.22550168555529 ) \">\n",
       "            <g transform=\"translate(-3.0 0.0 ) \">\n",
       "              <text class=\"axis-text-y\" text-anchor=\"end\" dy=\"0.35em\">\n",
       "                <tspan>6</tspan>\n",
       "              </text>\n",
       "            </g>\n",
       "          </g>\n",
       "          <g transform=\"translate(0.0 62.2406999598075 ) \">\n",
       "            <g transform=\"translate(-3.0 0.0 ) \">\n",
       "              <text class=\"axis-text-y\" text-anchor=\"end\" dy=\"0.35em\">\n",
       "                <tspan>8</tspan>\n",
       "              </text>\n",
       "            </g>\n",
       "          </g>\n",
       "          <g transform=\"translate(0.0 23.255898234059714 ) \">\n",
       "            <g transform=\"translate(-3.0 0.0 ) \">\n",
       "              <text class=\"axis-text-y\" text-anchor=\"end\" dy=\"0.35em\">\n",
       "                <tspan>10</tspan>\n",
       "              </text>\n",
       "            </g>\n",
       "          </g>\n",
       "        </g>\n",
       "      </g>\n",
       "    </g>\n",
       "    <g transform=\"translate(16.0 227.0 ) rotate(-90.0 ) \">\n",
       "      <text class=\"axis-title-y\" y=\"0.0\" text-anchor=\"middle\">\n",
       "        <tspan>y</tspan>\n",
       "      </text>\n",
       "    </g>\n",
       "    <g transform=\"translate(276.4709081832023 493.0 ) \">\n",
       "      <text class=\"axis-title-x\" y=\"0.0\" text-anchor=\"middle\">\n",
       "        <tspan>x</tspan>\n",
       "      </text>\n",
       "    </g>\n",
       "    <path fill=\"rgb(0,0,0)\" fill-opacity=\"0.0\" stroke=\"rgb(71,71,71)\" stroke-opacity=\"1.0\" stroke-width=\"0.0\" d=\"M0.0 0.0 L0.0 500.0 L500.0 500.0 L500.0 0.0 Z\">\n",
       "    </path>\n",
       "  </g>\n",
       "  <g id=\"drCyaN1\">\n",
       "  </g>\n",
       "</svg>\n",
       "        <script>document.getElementById(\"0041abd9-5157-4094-8700-502edf3b4833\").style.display = \"none\";</script>"
      ],
      "application/plot+json": {
       "output_type": "lets_plot_spec",
       "output": {
        "mapping": {},
        "data": {},
        "ggsize": {
         "width": 500.0,
         "height": 500.0
        },
        "kind": "plot",
        "scales": [
         {
          "aesthetic": "x",
          "limits": [
           null,
           null
          ]
         },
         {
          "aesthetic": "y",
          "limits": [
           null,
           null
          ]
         },
         {
          "aesthetic": "x",
          "limits": [
           null,
           null
          ]
         },
         {
          "aesthetic": "y",
          "limits": [
           null,
           null
          ]
         },
         {
          "aesthetic": "x",
          "limits": [
           null,
           null
          ]
         },
         {
          "aesthetic": "y",
          "limits": [
           null,
           null
          ]
         },
         {
          "aesthetic": "x",
          "limits": [
           null,
           null
          ]
         },
         {
          "aesthetic": "y",
          "limits": [
           null,
           null
          ]
         },
         {
          "aesthetic": "x",
          "limits": [
           null,
           null
          ]
         },
         {
          "aesthetic": "y",
          "limits": [
           null,
           null
          ]
         },
         {
          "aesthetic": "x",
          "limits": [
           null,
           null
          ]
         },
         {
          "aesthetic": "y",
          "limits": [
           null,
           null
          ]
         },
         {
          "aesthetic": "x",
          "limits": [
           null,
           null
          ]
         },
         {
          "aesthetic": "y",
          "limits": [
           null,
           null
          ]
         },
         {
          "aesthetic": "x",
          "limits": [
           null,
           null
          ]
         },
         {
          "aesthetic": "y",
          "limits": [
           null,
           null
          ]
         },
         {
          "aesthetic": "x",
          "limits": [
           null,
           null
          ]
         },
         {
          "aesthetic": "y",
          "limits": [
           null,
           null
          ]
         },
         {
          "aesthetic": "x",
          "limits": [
           null,
           null
          ]
         },
         {
          "aesthetic": "y",
          "limits": [
           null,
           null
          ]
         },
         {
          "aesthetic": "x",
          "limits": [
           null,
           null
          ]
         },
         {
          "aesthetic": "y",
          "limits": [
           null,
           null
          ]
         },
         {
          "aesthetic": "x",
          "limits": [
           null,
           null
          ]
         },
         {
          "aesthetic": "y",
          "limits": [
           null,
           null
          ]
         },
         {
          "aesthetic": "x",
          "limits": [
           null,
           null
          ]
         },
         {
          "aesthetic": "y",
          "limits": [
           null,
           null
          ]
         },
         {
          "aesthetic": "x",
          "limits": [
           null,
           null
          ]
         },
         {
          "aesthetic": "y",
          "limits": [
           null,
           null
          ]
         },
         {
          "aesthetic": "x",
          "limits": [
           null,
           null
          ]
         },
         {
          "aesthetic": "y",
          "limits": [
           null,
           null
          ]
         },
         {
          "aesthetic": "x",
          "limits": [
           null,
           null
          ]
         },
         {
          "aesthetic": "y",
          "limits": [
           null,
           null
          ]
         },
         {
          "aesthetic": "x",
          "limits": [
           null,
           null
          ]
         },
         {
          "aesthetic": "y",
          "limits": [
           null,
           null
          ]
         },
         {
          "aesthetic": "x",
          "limits": [
           null,
           null
          ]
         },
         {
          "aesthetic": "y",
          "limits": [
           null,
           null
          ]
         },
         {
          "aesthetic": "x",
          "limits": [
           null,
           null
          ]
         },
         {
          "aesthetic": "y",
          "limits": [
           null,
           null
          ]
         },
         {
          "aesthetic": "x",
          "limits": [
           null,
           null
          ]
         },
         {
          "aesthetic": "y",
          "limits": [
           null,
           null
          ]
         },
         {
          "aesthetic": "x",
          "limits": [
           null,
           null
          ]
         },
         {
          "aesthetic": "y",
          "limits": [
           null,
           null
          ]
         },
         {
          "aesthetic": "x",
          "limits": [
           null,
           null
          ]
         },
         {
          "aesthetic": "y",
          "limits": [
           null,
           null
          ]
         },
         {
          "aesthetic": "x",
          "limits": [
           null,
           null
          ]
         },
         {
          "aesthetic": "y",
          "limits": [
           null,
           null
          ]
         },
         {
          "aesthetic": "x",
          "limits": [
           null,
           null
          ]
         },
         {
          "aesthetic": "y",
          "limits": [
           null,
           null
          ]
         },
         {
          "aesthetic": "x",
          "limits": [
           null,
           null
          ]
         },
         {
          "aesthetic": "y",
          "limits": [
           null,
           null
          ]
         },
         {
          "aesthetic": "x",
          "limits": [
           null,
           null
          ]
         },
         {
          "aesthetic": "y",
          "limits": [
           null,
           null
          ]
         },
         {
          "aesthetic": "x",
          "limits": [
           null,
           null
          ]
         },
         {
          "aesthetic": "y",
          "limits": [
           null,
           null
          ]
         },
         {
          "aesthetic": "x",
          "limits": [
           null,
           null
          ]
         },
         {
          "aesthetic": "y",
          "limits": [
           null,
           null
          ]
         },
         {
          "aesthetic": "x",
          "limits": [
           null,
           null
          ]
         },
         {
          "aesthetic": "y",
          "limits": [
           null,
           null
          ]
         },
         {
          "aesthetic": "x",
          "limits": [
           null,
           null
          ]
         },
         {
          "aesthetic": "y",
          "limits": [
           null,
           null
          ]
         },
         {
          "aesthetic": "x",
          "limits": [
           null,
           null
          ]
         },
         {
          "aesthetic": "y",
          "limits": [
           null,
           null
          ]
         },
         {
          "aesthetic": "x",
          "limits": [
           null,
           null
          ]
         },
         {
          "aesthetic": "y",
          "limits": [
           null,
           null
          ]
         },
         {
          "aesthetic": "x",
          "limits": [
           null,
           null
          ]
         },
         {
          "aesthetic": "y",
          "limits": [
           null,
           null
          ]
         },
         {
          "aesthetic": "x",
          "limits": [
           null,
           null
          ]
         },
         {
          "aesthetic": "y",
          "limits": [
           null,
           null
          ]
         },
         {
          "aesthetic": "x",
          "limits": [
           null,
           null
          ]
         },
         {
          "aesthetic": "y",
          "limits": [
           null,
           null
          ]
         },
         {
          "aesthetic": "x",
          "limits": [
           null,
           null
          ]
         },
         {
          "aesthetic": "y",
          "limits": [
           null,
           null
          ]
         },
         {
          "aesthetic": "x",
          "limits": [
           null,
           null
          ]
         },
         {
          "aesthetic": "y",
          "limits": [
           null,
           null
          ]
         },
         {
          "aesthetic": "x",
          "limits": [
           null,
           null
          ]
         },
         {
          "aesthetic": "y",
          "limits": [
           null,
           null
          ]
         },
         {
          "aesthetic": "x",
          "limits": [
           null,
           null
          ]
         },
         {
          "aesthetic": "y",
          "limits": [
           null,
           null
          ]
         },
         {
          "aesthetic": "x",
          "limits": [
           null,
           null
          ]
         },
         {
          "aesthetic": "y",
          "limits": [
           null,
           null
          ]
         },
         {
          "aesthetic": "x",
          "limits": [
           null,
           null
          ]
         },
         {
          "aesthetic": "y",
          "limits": [
           null,
           null
          ]
         },
         {
          "aesthetic": "x",
          "limits": [
           null,
           null
          ]
         },
         {
          "aesthetic": "y",
          "limits": [
           null,
           null
          ]
         },
         {
          "aesthetic": "x",
          "limits": [
           null,
           null
          ]
         },
         {
          "aesthetic": "y",
          "limits": [
           null,
           null
          ]
         },
         {
          "aesthetic": "x",
          "limits": [
           null,
           null
          ]
         },
         {
          "aesthetic": "y",
          "limits": [
           null,
           null
          ]
         },
         {
          "aesthetic": "x",
          "limits": [
           null,
           null
          ]
         },
         {
          "aesthetic": "y",
          "limits": [
           null,
           null
          ]
         },
         {
          "aesthetic": "x",
          "limits": [
           null,
           null
          ]
         },
         {
          "aesthetic": "y",
          "limits": [
           null,
           null
          ]
         },
         {
          "aesthetic": "x",
          "limits": [
           null,
           null
          ]
         },
         {
          "aesthetic": "y",
          "limits": [
           null,
           null
          ]
         },
         {
          "aesthetic": "x",
          "limits": [
           null,
           null
          ]
         },
         {
          "aesthetic": "y",
          "limits": [
           null,
           null
          ]
         },
         {
          "aesthetic": "x",
          "limits": [
           null,
           null
          ]
         },
         {
          "aesthetic": "y",
          "limits": [
           null,
           null
          ]
         },
         {
          "aesthetic": "x",
          "limits": [
           null,
           null
          ]
         },
         {
          "aesthetic": "y",
          "limits": [
           null,
           null
          ]
         },
         {
          "aesthetic": "x",
          "limits": [
           null,
           null
          ]
         },
         {
          "aesthetic": "y",
          "limits": [
           null,
           null
          ]
         },
         {
          "aesthetic": "x",
          "limits": [
           null,
           null
          ]
         },
         {
          "aesthetic": "y",
          "limits": [
           null,
           null
          ]
         },
         {
          "aesthetic": "x",
          "limits": [
           null,
           null
          ]
         },
         {
          "aesthetic": "y",
          "limits": [
           null,
           null
          ]
         },
         {
          "aesthetic": "x",
          "limits": [
           null,
           null
          ]
         },
         {
          "aesthetic": "y",
          "limits": [
           null,
           null
          ]
         },
         {
          "aesthetic": "x",
          "limits": [
           null,
           null
          ]
         },
         {
          "aesthetic": "y",
          "limits": [
           null,
           null
          ]
         },
         {
          "aesthetic": "x",
          "limits": [
           null,
           null
          ]
         },
         {
          "aesthetic": "y",
          "limits": [
           null,
           null
          ]
         },
         {
          "aesthetic": "x",
          "limits": [
           null,
           null
          ]
         },
         {
          "aesthetic": "y",
          "limits": [
           null,
           null
          ]
         },
         {
          "aesthetic": "x",
          "limits": [
           null,
           null
          ]
         },
         {
          "aesthetic": "y",
          "limits": [
           null,
           null
          ]
         },
         {
          "aesthetic": "x",
          "limits": [
           null,
           null
          ]
         },
         {
          "aesthetic": "y",
          "limits": [
           null,
           null
          ]
         },
         {
          "aesthetic": "x",
          "limits": [
           null,
           null
          ]
         },
         {
          "aesthetic": "y",
          "limits": [
           null,
           null
          ]
         },
         {
          "aesthetic": "x",
          "limits": [
           null,
           null
          ]
         },
         {
          "aesthetic": "y",
          "limits": [
           null,
           null
          ]
         },
         {
          "aesthetic": "x",
          "limits": [
           null,
           null
          ]
         },
         {
          "aesthetic": "y",
          "limits": [
           null,
           null
          ]
         },
         {
          "aesthetic": "x",
          "limits": [
           null,
           null
          ]
         },
         {
          "aesthetic": "y",
          "limits": [
           null,
           null
          ]
         },
         {
          "aesthetic": "x",
          "limits": [
           null,
           null
          ]
         },
         {
          "aesthetic": "y",
          "limits": [
           null,
           null
          ]
         },
         {
          "aesthetic": "x",
          "limits": [
           null,
           null
          ]
         },
         {
          "aesthetic": "y",
          "limits": [
           null,
           null
          ]
         },
         {
          "aesthetic": "x",
          "limits": [
           null,
           null
          ]
         },
         {
          "aesthetic": "y",
          "limits": [
           null,
           null
          ]
         },
         {
          "aesthetic": "x",
          "limits": [
           null,
           null
          ]
         },
         {
          "aesthetic": "y",
          "limits": [
           null,
           null
          ]
         },
         {
          "aesthetic": "x",
          "limits": [
           null,
           null
          ]
         },
         {
          "aesthetic": "y",
          "limits": [
           null,
           null
          ]
         },
         {
          "aesthetic": "x",
          "limits": [
           null,
           null
          ]
         },
         {
          "aesthetic": "y",
          "limits": [
           null,
           null
          ]
         },
         {
          "aesthetic": "x",
          "limits": [
           null,
           null
          ]
         },
         {
          "aesthetic": "y",
          "limits": [
           null,
           null
          ]
         },
         {
          "aesthetic": "x",
          "limits": [
           null,
           null
          ]
         },
         {
          "aesthetic": "y",
          "limits": [
           null,
           null
          ]
         },
         {
          "aesthetic": "x",
          "limits": [
           null,
           null
          ]
         },
         {
          "aesthetic": "y",
          "limits": [
           null,
           null
          ]
         },
         {
          "aesthetic": "x",
          "limits": [
           null,
           null
          ]
         },
         {
          "aesthetic": "y",
          "limits": [
           null,
           null
          ]
         },
         {
          "aesthetic": "x",
          "limits": [
           null,
           null
          ]
         },
         {
          "aesthetic": "y",
          "limits": [
           null,
           null
          ]
         },
         {
          "aesthetic": "x",
          "limits": [
           null,
           null
          ]
         },
         {
          "aesthetic": "y",
          "limits": [
           null,
           null
          ]
         },
         {
          "aesthetic": "x",
          "limits": [
           null,
           null
          ]
         },
         {
          "aesthetic": "y",
          "limits": [
           null,
           null
          ]
         },
         {
          "aesthetic": "x",
          "limits": [
           null,
           null
          ]
         },
         {
          "aesthetic": "y",
          "limits": [
           null,
           null
          ]
         },
         {
          "aesthetic": "x",
          "limits": [
           null,
           null
          ]
         },
         {
          "aesthetic": "y",
          "limits": [
           null,
           null
          ]
         },
         {
          "aesthetic": "x",
          "limits": [
           null,
           null
          ]
         },
         {
          "aesthetic": "y",
          "limits": [
           null,
           null
          ]
         },
         {
          "aesthetic": "x",
          "limits": [
           null,
           null
          ]
         },
         {
          "aesthetic": "y",
          "limits": [
           null,
           null
          ]
         },
         {
          "aesthetic": "x",
          "limits": [
           null,
           null
          ]
         },
         {
          "aesthetic": "y",
          "limits": [
           null,
           null
          ]
         },
         {
          "aesthetic": "x",
          "limits": [
           null,
           null
          ]
         },
         {
          "aesthetic": "y",
          "limits": [
           null,
           null
          ]
         },
         {
          "aesthetic": "x",
          "limits": [
           null,
           null
          ]
         },
         {
          "aesthetic": "y",
          "limits": [
           null,
           null
          ]
         },
         {
          "aesthetic": "x",
          "limits": [
           null,
           null
          ]
         },
         {
          "aesthetic": "y",
          "limits": [
           null,
           null
          ]
         },
         {
          "aesthetic": "x",
          "limits": [
           null,
           null
          ]
         },
         {
          "aesthetic": "y",
          "limits": [
           null,
           null
          ]
         },
         {
          "aesthetic": "x",
          "limits": [
           null,
           null
          ]
         },
         {
          "aesthetic": "y",
          "limits": [
           null,
           null
          ]
         },
         {
          "aesthetic": "x",
          "limits": [
           null,
           null
          ]
         },
         {
          "aesthetic": "y",
          "limits": [
           null,
           null
          ]
         },
         {
          "aesthetic": "x",
          "limits": [
           null,
           null
          ]
         },
         {
          "aesthetic": "y",
          "limits": [
           null,
           null
          ]
         },
         {
          "aesthetic": "x",
          "limits": [
           null,
           null
          ]
         },
         {
          "aesthetic": "y",
          "limits": [
           null,
           null
          ]
         },
         {
          "aesthetic": "x",
          "limits": [
           null,
           null
          ]
         },
         {
          "aesthetic": "y",
          "limits": [
           null,
           null
          ]
         },
         {
          "aesthetic": "x",
          "limits": [
           null,
           null
          ]
         },
         {
          "aesthetic": "y",
          "limits": [
           null,
           null
          ]
         },
         {
          "aesthetic": "x",
          "limits": [
           null,
           null
          ]
         },
         {
          "aesthetic": "y",
          "limits": [
           null,
           null
          ]
         },
         {
          "aesthetic": "x",
          "limits": [
           null,
           null
          ]
         },
         {
          "aesthetic": "y",
          "limits": [
           null,
           null
          ]
         },
         {
          "aesthetic": "x",
          "limits": [
           null,
           null
          ]
         },
         {
          "aesthetic": "y",
          "limits": [
           null,
           null
          ]
         },
         {
          "aesthetic": "x",
          "limits": [
           null,
           null
          ]
         },
         {
          "aesthetic": "y",
          "limits": [
           null,
           null
          ]
         },
         {
          "aesthetic": "x",
          "limits": [
           null,
           null
          ]
         },
         {
          "aesthetic": "y",
          "limits": [
           null,
           null
          ]
         },
         {
          "aesthetic": "x",
          "limits": [
           null,
           null
          ]
         },
         {
          "aesthetic": "y",
          "limits": [
           null,
           null
          ]
         },
         {
          "aesthetic": "x",
          "limits": [
           null,
           null
          ]
         },
         {
          "aesthetic": "y",
          "limits": [
           null,
           null
          ]
         },
         {
          "aesthetic": "x",
          "limits": [
           null,
           null
          ]
         },
         {
          "aesthetic": "y",
          "limits": [
           null,
           null
          ]
         },
         {
          "aesthetic": "x",
          "limits": [
           null,
           null
          ]
         },
         {
          "aesthetic": "y",
          "limits": [
           null,
           null
          ]
         },
         {
          "aesthetic": "x",
          "limits": [
           null,
           null
          ]
         },
         {
          "aesthetic": "y",
          "limits": [
           null,
           null
          ]
         },
         {
          "aesthetic": "x",
          "limits": [
           null,
           null
          ]
         },
         {
          "aesthetic": "y",
          "limits": [
           null,
           null
          ]
         },
         {
          "aesthetic": "x",
          "limits": [
           null,
           null
          ]
         },
         {
          "aesthetic": "y",
          "limits": [
           null,
           null
          ]
         },
         {
          "aesthetic": "x",
          "limits": [
           null,
           null
          ]
         },
         {
          "aesthetic": "y",
          "limits": [
           null,
           null
          ]
         },
         {
          "aesthetic": "x",
          "limits": [
           null,
           null
          ]
         },
         {
          "aesthetic": "y",
          "limits": [
           null,
           null
          ]
         },
         {
          "aesthetic": "x",
          "limits": [
           null,
           null
          ]
         },
         {
          "aesthetic": "y",
          "limits": [
           null,
           null
          ]
         },
         {
          "aesthetic": "x",
          "limits": [
           null,
           null
          ]
         },
         {
          "aesthetic": "y",
          "limits": [
           null,
           null
          ]
         },
         {
          "aesthetic": "x",
          "limits": [
           null,
           null
          ]
         },
         {
          "aesthetic": "y",
          "limits": [
           null,
           null
          ]
         },
         {
          "aesthetic": "x",
          "limits": [
           null,
           null
          ]
         },
         {
          "aesthetic": "y",
          "limits": [
           null,
           null
          ]
         },
         {
          "aesthetic": "x",
          "limits": [
           null,
           null
          ]
         },
         {
          "aesthetic": "y",
          "limits": [
           null,
           null
          ]
         },
         {
          "aesthetic": "x",
          "limits": [
           null,
           null
          ]
         },
         {
          "aesthetic": "y",
          "limits": [
           null,
           null
          ]
         },
         {
          "aesthetic": "x",
          "limits": [
           null,
           null
          ]
         },
         {
          "aesthetic": "y",
          "limits": [
           null,
           null
          ]
         },
         {
          "aesthetic": "x",
          "limits": [
           null,
           null
          ]
         },
         {
          "aesthetic": "y",
          "limits": [
           null,
           null
          ]
         },
         {
          "aesthetic": "x",
          "limits": [
           null,
           null
          ]
         },
         {
          "aesthetic": "y",
          "limits": [
           null,
           null
          ]
         },
         {
          "aesthetic": "x",
          "limits": [
           null,
           null
          ]
         },
         {
          "aesthetic": "y",
          "limits": [
           null,
           null
          ]
         },
         {
          "aesthetic": "x",
          "limits": [
           null,
           null
          ]
         },
         {
          "aesthetic": "y",
          "limits": [
           null,
           null
          ]
         },
         {
          "aesthetic": "x",
          "limits": [
           null,
           null
          ]
         },
         {
          "aesthetic": "y",
          "limits": [
           null,
           null
          ]
         },
         {
          "aesthetic": "x",
          "limits": [
           null,
           null
          ]
         },
         {
          "aesthetic": "y",
          "limits": [
           null,
           null
          ]
         },
         {
          "aesthetic": "x",
          "limits": [
           null,
           null
          ]
         },
         {
          "aesthetic": "y",
          "limits": [
           null,
           null
          ]
         },
         {
          "aesthetic": "x",
          "limits": [
           null,
           null
          ]
         },
         {
          "aesthetic": "y",
          "limits": [
           null,
           null
          ]
         },
         {
          "aesthetic": "x",
          "limits": [
           null,
           null
          ]
         },
         {
          "aesthetic": "y",
          "limits": [
           null,
           null
          ]
         },
         {
          "aesthetic": "x",
          "limits": [
           null,
           null
          ]
         },
         {
          "aesthetic": "y",
          "limits": [
           null,
           null
          ]
         },
         {
          "aesthetic": "x",
          "limits": [
           null,
           null
          ]
         },
         {
          "aesthetic": "y",
          "limits": [
           null,
           null
          ]
         },
         {
          "aesthetic": "x",
          "limits": [
           null,
           null
          ]
         },
         {
          "aesthetic": "y",
          "limits": [
           null,
           null
          ]
         },
         {
          "aesthetic": "x",
          "limits": [
           null,
           null
          ]
         },
         {
          "aesthetic": "y",
          "limits": [
           null,
           null
          ]
         },
         {
          "aesthetic": "x",
          "limits": [
           null,
           null
          ]
         },
         {
          "aesthetic": "y",
          "limits": [
           null,
           null
          ]
         },
         {
          "aesthetic": "x",
          "limits": [
           null,
           null
          ]
         },
         {
          "aesthetic": "y",
          "limits": [
           null,
           null
          ]
         },
         {
          "aesthetic": "x",
          "limits": [
           null,
           null
          ]
         },
         {
          "aesthetic": "y",
          "limits": [
           null,
           null
          ]
         },
         {
          "aesthetic": "x",
          "limits": [
           null,
           null
          ]
         },
         {
          "aesthetic": "y",
          "limits": [
           null,
           null
          ]
         },
         {
          "aesthetic": "x",
          "limits": [
           null,
           null
          ]
         },
         {
          "aesthetic": "y",
          "limits": [
           null,
           null
          ]
         },
         {
          "aesthetic": "x",
          "limits": [
           null,
           null
          ]
         },
         {
          "aesthetic": "y",
          "limits": [
           null,
           null
          ]
         },
         {
          "aesthetic": "x",
          "limits": [
           null,
           null
          ]
         },
         {
          "aesthetic": "y",
          "limits": [
           null,
           null
          ]
         },
         {
          "aesthetic": "x",
          "limits": [
           null,
           null
          ]
         },
         {
          "aesthetic": "y",
          "limits": [
           null,
           null
          ]
         },
         {
          "aesthetic": "x",
          "limits": [
           null,
           null
          ]
         },
         {
          "aesthetic": "y",
          "limits": [
           null,
           null
          ]
         },
         {
          "aesthetic": "x",
          "limits": [
           null,
           null
          ]
         },
         {
          "aesthetic": "y",
          "limits": [
           null,
           null
          ]
         },
         {
          "aesthetic": "x",
          "limits": [
           null,
           null
          ]
         },
         {
          "aesthetic": "y",
          "limits": [
           null,
           null
          ]
         },
         {
          "aesthetic": "x",
          "limits": [
           null,
           null
          ]
         },
         {
          "aesthetic": "y",
          "limits": [
           null,
           null
          ]
         },
         {
          "aesthetic": "x",
          "limits": [
           null,
           null
          ]
         },
         {
          "aesthetic": "y",
          "limits": [
           null,
           null
          ]
         },
         {
          "aesthetic": "x",
          "limits": [
           null,
           null
          ]
         },
         {
          "aesthetic": "y",
          "limits": [
           null,
           null
          ]
         },
         {
          "aesthetic": "x",
          "limits": [
           null,
           null
          ]
         },
         {
          "aesthetic": "y",
          "limits": [
           null,
           null
          ]
         },
         {
          "aesthetic": "x",
          "limits": [
           null,
           null
          ]
         },
         {
          "aesthetic": "y",
          "limits": [
           null,
           null
          ]
         },
         {
          "aesthetic": "x",
          "limits": [
           null,
           null
          ]
         },
         {
          "aesthetic": "y",
          "limits": [
           null,
           null
          ]
         },
         {
          "aesthetic": "x",
          "limits": [
           null,
           null
          ]
         },
         {
          "aesthetic": "y",
          "limits": [
           null,
           null
          ]
         },
         {
          "aesthetic": "x",
          "limits": [
           null,
           null
          ]
         },
         {
          "aesthetic": "y",
          "limits": [
           null,
           null
          ]
         },
         {
          "aesthetic": "x",
          "limits": [
           null,
           null
          ]
         },
         {
          "aesthetic": "y",
          "limits": [
           null,
           null
          ]
         },
         {
          "aesthetic": "x",
          "limits": [
           null,
           null
          ]
         },
         {
          "aesthetic": "y",
          "limits": [
           null,
           null
          ]
         },
         {
          "aesthetic": "x",
          "limits": [
           null,
           null
          ]
         },
         {
          "aesthetic": "y",
          "limits": [
           null,
           null
          ]
         },
         {
          "aesthetic": "x",
          "limits": [
           null,
           null
          ]
         },
         {
          "aesthetic": "y",
          "limits": [
           null,
           null
          ]
         },
         {
          "aesthetic": "x",
          "limits": [
           null,
           null
          ]
         },
         {
          "aesthetic": "y",
          "limits": [
           null,
           null
          ]
         },
         {
          "aesthetic": "x",
          "limits": [
           null,
           null
          ]
         },
         {
          "aesthetic": "y",
          "limits": [
           null,
           null
          ]
         },
         {
          "aesthetic": "x",
          "limits": [
           null,
           null
          ]
         },
         {
          "aesthetic": "y",
          "limits": [
           null,
           null
          ]
         },
         {
          "aesthetic": "x",
          "limits": [
           null,
           null
          ]
         },
         {
          "aesthetic": "y",
          "limits": [
           null,
           null
          ]
         },
         {
          "aesthetic": "x",
          "limits": [
           null,
           null
          ]
         },
         {
          "aesthetic": "y",
          "limits": [
           null,
           null
          ]
         }
        ],
        "layers": [
         {
          "mapping": {
           "x": "x",
           "y": "y"
          },
          "stat": "identity",
          "data": {
           "x": [
            -7.691851670053066,
            -1.5321006137747646,
            6.313099908080359,
            -2.1893296529810167,
            -6.024689726826558,
            -4.606622009504947,
            1.9093629584957743,
            -6.811976597547002,
            1.166283176345459,
            8.192680116316367,
            8.635830394783047,
            4.64150296555965,
            6.618716019817215,
            -2.9073117915601268,
            0.45842238032975213,
            4.036592363815934,
            0.16780024261425203,
            0.5237705649985823,
            -3.809085205178473,
            5.443896592275631,
            -4.807306565767536,
            0.6803486886802071,
            -6.563315905916052,
            5.368503162207507,
            -5.507820780280913,
            -3.1091748787240774,
            -6.004096913093898,
            -0.7993386861119285,
            5.278996936007406,
            0.6857949173288435,
            -2.3629650832744833,
            4.189873519417356,
            4.031075459236198,
            -5.300206271016618,
            -8.659013563208708,
            -1.681601750404971,
            6.286789750091985,
            -2.2769496906206887,
            -1.1330043291577867,
            9.715180479787445,
            0.7208695285348894,
            5.785749945663884,
            -2.36557265133993,
            -3.893203324672584,
            6.67434741754815,
            7.294458552957249,
            -2.408506675064619,
            6.537607124297484,
            5.691469823750128,
            -9.071447089794892
           ],
           "y": [
            3.130411871110326,
            5.031347688212745,
            -7.500132331340807,
            -9.426709394840067,
            -0.3716429271886858,
            8.760716842260509,
            8.95982508755239,
            -2.5532501483719736,
            -8.16833251973014,
            -1.5987531767962053,
            -3.321266224089833,
            5.86549367316646,
            1.0918410891459047,
            -8.919200367267818,
            8.977574524018229,
            0.17931657646235563,
            -5.831350689952782,
            -5.583420218948326,
            -8.148087302714439,
            -2.9565890288781915,
            5.798844363730935,
            -7.518301256675837,
            -6.637092541208195,
            -5.037643760014762,
            6.715903797841199,
            -7.366214344478716,
            -0.008417944551774189,
            -2.3981067368838644,
            -7.942002314862815,
            -0.13452271913775407,
            8.468692899166694,
            -3.654021985442882,
            6.273427880173649,
            -1.8495584173360962,
            3.1423996378052506,
            9.41162083968731,
            -6.990450223395455,
            -5.795507106263236,
            2.1878530336932442,
            2.2569731625805733,
            1.6190465655128197,
            -0.8124053604616134,
            8.295400552936805,
            0.1840382131040973,
            6.289401310664687,
            -5.086090900110731,
            -4.699466354361067,
            6.5767962939064635,
            6.926908681279536,
            -1.5827935015179369
           ]
          },
          "color": "#ffffff",
          "sampling": "none",
          "position": "identity",
          "geom": "point"
         },
         {
          "mapping": {
           "x": "x",
           "y": "y"
          },
          "stat": "identity",
          "data": {
           "x": [
            6.852610639152025,
            5.515253379668144,
            7.075381120913859,
            2.2287752765347184,
            -8.192062287555549,
            -4.0122912867957155,
            -8.371681918512794,
            -2.2539861033912705,
            1.9229787317374245,
            -1.7982718954951815,
            2.0330393255401398,
            -6.204709677602441,
            -4.345055441495659,
            1.2910803011205254,
            -0.3992673304650444,
            -2.7993314897633343,
            8.912383349815704,
            -4.350302777526028,
            -4.251727326360156,
            -5.610649963306586,
            2.2280866505357295,
            3.4064450561697632,
            -2.337937863717057,
            -0.7560306169707068,
            -0.8643678395488986,
            7.779616089272508,
            -0.5244568772087411,
            3.415157000054002,
            5.975063525855886,
            5.177207102419165,
            -0.21436396142093095,
            -4.553622077664923,
            4.5734331562621,
            4.766806685472173,
            -2.3273566881297514,
            1.1715571397353959,
            0.37597331844948045,
            -3.4137348883794156,
            1.7244709909458624,
            6.326345845513253,
            -9.259985370320022,
            6.868699590619022,
            -5.803950681343716,
            6.200396162695752,
            -0.007255293102198283,
            3.256318726787134,
            -1.2999246352422713
           ],
           "y": [
            -1.3141524455540858,
            -1.383319639822937,
            -2.787378755045249,
            8.326554260111592,
            1.9914144061370254,
            6.260042677666546,
            -3.876317719088107,
            -3.1067915206036503,
            -2.3275487191487887,
            -3.9309934132309574,
            1.0526953363252,
            -2.0948360731990876,
            -2.373026998995277,
            -3.0866506449854705,
            4.324335886073133,
            -3.810489001096512,
            3.353483983395019,
            6.464498816250971,
            4.942016603268828,
            -5.451439760878824,
            -0.9006640317128828,
            0.7338838048686545,
            9.078663320478821,
            -8.07280109614157,
            2.8361767112949923,
            2.7445707507086694,
            4.829149838563385,
            5.5767237120296755,
            3.2616761780091217,
            0.48827835413011633,
            -2.1925153066820933,
            -5.050590198637661,
            -3.2876046605504605,
            1.4721680369067787,
            -8.837928479219906,
            5.77639698733995,
            -7.3774735948822165,
            9.256497646079996,
            1.3526539382535485,
            -5.4651812316645065,
            1.0771733476072844,
            1.1944455804323333,
            7.60008882351265,
            6.2016250856127755,
            -8.740603323292618,
            1.8374997501754051,
            -9.748938961496997
           ]
          },
          "color": "#3ba272",
          "size": 5.0,
          "sampling": "none",
          "position": "identity",
          "geom": "point"
         },
         {
          "mapping": {
           "x": "x",
           "y": "y"
          },
          "stat": "identity",
          "data": {
           "x": [
            0.0
           ],
           "y": [
            0.0
           ]
          },
          "color": "#ee6666",
          "sampling": "none",
          "position": "identity",
          "geom": "point"
         },
         {
          "mapping": {
           "x": "x",
           "y": "y"
          },
          "stat": "identity",
          "data": {
           "x": [
            -7.691851670053066,
            -6.967407280697192
           ],
           "y": [
            3.130411871110326,
            2.4410786231592394
           ]
          },
          "color": "#a39999",
          "sampling": "none",
          "position": "identity",
          "geom": "line"
         },
         {
          "mapping": {
           "x": "x",
           "y": "y"
          },
          "stat": "identity",
          "data": {
           "x": [
            -7.691851670053066,
            -8.381184918004152
           ],
           "y": [
            3.130411871110326,
            2.405967481754452
           ]
          },
          "color": "#a39999",
          "sampling": "none",
          "position": "identity",
          "geom": "line"
         },
         {
          "mapping": {
           "x": "x",
           "y": "y"
          },
          "stat": "identity",
          "data": {
           "x": [
            -7.691851670053066,
            -7.667024343870541
           ],
           "y": [
            3.130411871110326,
            2.1307201166806786
           ]
          },
          "color": "#ffffff",
          "sampling": "none",
          "position": "identity",
          "geom": "line"
         },
         {
          "mapping": {
           "x": "x",
           "y": "y"
          },
          "stat": "identity",
          "data": {
           "x": [
            -1.5321006137747646,
            -2.4378703675867195
           ],
           "y": [
            5.031347688212745,
            4.607577522817126
           ]
          },
          "color": "#a39999",
          "sampling": "none",
          "position": "identity",
          "geom": "line"
         },
         {
          "mapping": {
           "x": "x",
           "y": "y"
          },
          "stat": "identity",
          "data": {
           "x": [
            -1.5321006137747646,
            -1.9558707791703842
           ],
           "y": [
            5.031347688212745,
            5.937117442024699
           ]
          },
          "color": "#a39999",
          "sampling": "none",
          "position": "identity",
          "geom": "line"
         },
         {
          "mapping": {
           "x": "x",
           "y": "y"
          },
          "stat": "identity",
          "data": {
           "x": [
            -1.5321006137747646,
            -2.4722273065046547
           ],
           "y": [
            5.031347688212745,
            5.37217286571106
           ]
          },
          "color": "#ffffff",
          "sampling": "none",
          "position": "identity",
          "geom": "line"
         },
         {
          "mapping": {
           "x": "x",
           "y": "y"
          },
          "stat": "identity",
          "data": {
           "x": [
            6.313099908080359,
            6.8241164646665755
           ],
           "y": [
            -7.500132331340807,
            -6.64056146230512
           ]
          },
          "color": "#a39999",
          "sampling": "none",
          "position": "identity",
          "geom": "line"
         },
         {
          "mapping": {
           "x": "x",
           "y": "y"
          },
          "stat": "identity",
          "data": {
           "x": [
            6.313099908080359,
            7.172670777116045
           ],
           "y": [
            -7.500132331340807,
            -8.011148887927023
           ]
          },
          "color": "#a39999",
          "sampling": "none",
          "position": "identity",
          "geom": "line"
         },
         {
          "mapping": {
           "x": "x",
           "y": "y"
          },
          "stat": "identity",
          "data": {
           "x": [
            6.313099908080359,
            7.282251570946619
           ],
           "y": [
            -7.500132331340807,
            -7.253667213395972
           ]
          },
          "color": "#ffffff",
          "sampling": "none",
          "position": "identity",
          "geom": "line"
         },
         {
          "mapping": {
           "x": "x",
           "y": "y"
          },
          "stat": "identity",
          "data": {
           "x": [
            -2.1893296529810167,
            -1.6530099585850686
           ],
           "y": [
            -9.426709394840067,
            -10.270724314970652
           ]
          },
          "color": "#a39999",
          "sampling": "none",
          "position": "identity",
          "geom": "line"
         },
         {
          "mapping": {
           "x": "x",
           "y": "y"
          },
          "stat": "identity",
          "data": {
           "x": [
            -2.1893296529810167,
            -3.033344573111601
           ],
           "y": [
            -9.426709394840067,
            -9.963029089236015
           ]
          },
          "color": "#a39999",
          "sampling": "none",
          "position": "identity",
          "geom": "line"
         },
         {
          "mapping": {
           "x": "x",
           "y": "y"
          },
          "stat": "identity",
          "data": {
           "x": [
            -2.1893296529810167,
            -2.4069030336367034
           ],
           "y": [
            -9.426709394840067,
            -10.402753361078297
           ]
          },
          "color": "#ffffff",
          "sampling": "none",
          "position": "identity",
          "geom": "line"
         },
         {
          "mapping": {
           "x": "x",
           "y": "y"
          },
          "stat": "identity",
          "data": {
           "x": [
            -6.024689726826558,
            -5.421218614397866
           ],
           "y": [
            -0.3716429271886858,
            0.4257419337561889
           ]
          },
          "color": "#a39999",
          "sampling": "none",
          "position": "identity",
          "geom": "line"
         },
         {
          "mapping": {
           "x": "x",
           "y": "y"
          },
          "stat": "identity",
          "data": {
           "x": [
            -6.024689726826558,
            -5.227304865881683
           ],
           "y": [
            -0.3716429271886858,
            -0.9751140396173776
           ]
          },
          "color": "#a39999",
          "sampling": "none",
          "position": "identity",
          "geom": "line"
         },
         {
          "mapping": {
           "x": "x",
           "y": "y"
          },
          "stat": "identity",
          "data": {
           "x": [
            -6.024689726826558,
            -5.034134968588427
           ],
           "y": [
            -0.3716429271886858,
            -0.23452520064759008
           ]
          },
          "color": "#ffffff",
          "sampling": "none",
          "position": "identity",
          "geom": "line"
         },
         {
          "mapping": {
           "x": "x",
           "y": "y"
          },
          "stat": "identity",
          "data": {
           "x": [
            -4.606622009504947,
            -3.9570362396641214
           ],
           "y": [
            8.760716842260509,
            9.521005161005643
           ]
          },
          "color": "#a39999",
          "sampling": "none",
          "position": "identity",
          "geom": "line"
         },
         {
          "mapping": {
           "x": "x",
           "y": "y"
          },
          "stat": "identity",
          "data": {
           "x": [
            -4.606622009504947,
            -3.846333690759813
           ],
           "y": [
            8.760716842260509,
            8.111131072419683
           ]
          },
          "color": "#a39999",
          "sampling": "none",
          "position": "identity",
          "geom": "line"
         },
         {
          "mapping": {
           "x": "x",
           "y": "y"
          },
          "stat": "identity",
          "data": {
           "x": [
            -4.606622009504947,
            -3.609690480846612
           ],
           "y": [
            8.760716842260509,
            8.838995365285381
           ]
          },
          "color": "#ffffff",
          "sampling": "none",
          "position": "identity",
          "geom": "line"
         },
         {
          "mapping": {
           "x": "x",
           "y": "y"
          },
          "stat": "identity",
          "data": {
           "x": [
            1.9093629584957743,
            0.9715516188392121
           ],
           "y": [
            8.95982508755239,
            9.30697043349781
           ]
          },
          "color": "#a39999",
          "sampling": "none",
          "position": "identity",
          "geom": "line"
         },
         {
          "mapping": {
           "x": "x",
           "y": "y"
          },
          "stat": "identity",
          "data": {
           "x": [
            1.9093629584957743,
            2.2565083044411924
           ],
           "y": [
            8.95982508755239,
            9.897636427208953
           ]
          },
          "color": "#a39999",
          "sampling": "none",
          "position": "identity",
          "geom": "line"
         },
         {
          "mapping": {
           "x": "x",
           "y": "y"
          },
          "stat": "identity",
          "data": {
           "x": [
            1.9093629584957743,
            1.4916990289263339
           ],
           "y": [
            8.95982508755239,
            9.868426673472541
           ]
          },
          "color": "#ffffff",
          "sampling": "none",
          "position": "identity",
          "geom": "line"
         },
         {
          "mapping": {
           "x": "x",
           "y": "y"
          },
          "stat": "identity",
          "data": {
           "x": [
            -6.811976597547002,
            -6.054867467590208
           ],
           "y": [
            -2.5532501483719736,
            -1.8999617240630258
           ]
          },
          "color": "#a39999",
          "sampling": "none",
          "position": "identity",
          "geom": "line"
         },
         {
          "mapping": {
           "x": "x",
           "y": "y"
          },
          "stat": "identity",
          "data": {
           "x": [
            -6.811976597547002,
            -6.158688173238054
           ],
           "y": [
            -2.5532501483719736,
            -3.3103592783287668
           ]
          },
          "color": "#a39999",
          "sampling": "none",
          "position": "identity",
          "geom": "line"
         },
         {
          "mapping": {
           "x": "x",
           "y": "y"
          },
          "stat": "identity",
          "data": {
           "x": [
            -6.811976597547002,
            -5.814674922756774
           ],
           "y": [
            -2.5532501483719736,
            -2.6266624733631376
           ]
          },
          "color": "#ffffff",
          "sampling": "none",
          "position": "identity",
          "geom": "line"
         },
         {
          "mapping": {
           "x": "x",
           "y": "y"
          },
          "stat": "identity",
          "data": {
           "x": [
            1.166283176345459,
            0.20375049617366525
           ],
           "y": [
            -8.16833251973014,
            -8.439498224791276
           ]
          },
          "color": "#a39999",
          "sampling": "none",
          "position": "identity",
          "geom": "line"
         },
         {
          "mapping": {
           "x": "x",
           "y": "y"
          },
          "stat": "identity",
          "data": {
           "x": [
            1.166283176345459,
            0.8951174712843224
           ],
           "y": [
            -8.16833251973014,
            -7.205799839558345
           ]
          },
          "color": "#a39999",
          "sampling": "none",
          "position": "identity",
          "geom": "line"
         },
         {
          "mapping": {
           "x": "x",
           "y": "y"
          },
          "stat": "identity",
          "data": {
           "x": [
            1.166283176345459,
            0.2939266822083604
           ],
           "y": [
            -8.16833251973014,
            -7.6794622433409625
           ]
          },
          "color": "#ffffff",
          "sampling": "none",
          "position": "identity",
          "geom": "line"
         },
         {
          "mapping": {
           "x": "x",
           "y": "y"
          },
          "stat": "identity",
          "data": {
           "x": [
            8.192680116316367,
            7.451936711377872
           ],
           "y": [
            -1.5987531767962053,
            -0.926965108994965
           ]
          },
          "color": "#a39999",
          "sampling": "none",
          "position": "identity",
          "geom": "line"
         },
         {
          "mapping": {
           "x": "x",
           "y": "y"
          },
          "stat": "identity",
          "data": {
           "x": [
            8.192680116316367,
            8.864468184117607
           ],
           "y": [
            -1.5987531767962053,
            -0.8580097718577097
           ]
          },
          "color": "#a39999",
          "sampling": "none",
          "position": "identity",
          "geom": "line"
         },
         {
          "mapping": {
           "x": "x",
           "y": "y"
          },
          "stat": "identity",
          "data": {
           "x": [
            8.192680116316367,
            8.14392132982761
           ],
           "y": [
            -1.5987531767962053,
            -0.5999425937825171
           ]
          },
          "color": "#ffffff",
          "sampling": "none",
          "position": "identity",
          "geom": "line"
         },
         {
          "mapping": {
           "x": "x",
           "y": "y"
          },
          "stat": "identity",
          "data": {
           "x": [
            8.635830394783047,
            9.348865375425241
           ],
           "y": [
            -3.321266224089833,
            -4.022394683347184
           ]
          },
          "color": "#a39999",
          "sampling": "none",
          "position": "identity",
          "geom": "line"
         },
         {
          "mapping": {
           "x": "x",
           "y": "y"
          },
          "stat": "identity",
          "data": {
           "x": [
            8.635830394783047,
            7.934701935525696
           ],
           "y": [
            -3.321266224089833,
            -4.034301204732026
           ]
          },
          "color": "#a39999",
          "sampling": "none",
          "position": "identity",
          "geom": "line"
         },
         {
          "mapping": {
           "x": "x",
           "y": "y"
          },
          "stat": "identity",
          "data": {
           "x": [
            8.635830394783047,
            8.64424957679461
           ],
           "y": [
            -3.321266224089833,
            -4.321230782148896
           ]
          },
          "color": "#ffffff",
          "sampling": "none",
          "position": "identity",
          "geom": "line"
         },
         {
          "mapping": {
           "x": "x",
           "y": "y"
          },
          "stat": "identity",
          "data": {
           "x": [
            4.64150296555965,
            5.556279037140424
           ],
           "y": [
            5.86549367316646,
            5.4615323645448965
           ]
          },
          "color": "#a39999",
          "sampling": "none",
          "position": "identity",
          "geom": "line"
         },
         {
          "mapping": {
           "x": "x",
           "y": "y"
          },
          "stat": "identity",
          "data": {
           "x": [
            4.64150296555965,
            4.237541656938086
           ],
           "y": [
            5.86549367316646,
            4.950717601585686
           ]
          },
          "color": "#a39999",
          "sampling": "none",
          "position": "identity",
          "geom": "line"
         },
         {
          "mapping": {
           "x": "x",
           "y": "y"
          },
          "stat": "identity",
          "data": {
           "x": [
            4.64150296555965,
            5.002703548378307
           ],
           "y": [
            5.86549367316646,
            4.933005529021204
           ]
          },
          "color": "#ffffff",
          "sampling": "none",
          "position": "identity",
          "geom": "line"
         },
         {
          "mapping": {
           "x": "x",
           "y": "y"
          },
          "stat": "identity",
          "data": {
           "x": [
            6.618716019817215,
            5.7139865809204595
           ],
           "y": [
            1.0918410891459047,
            0.6658544198784704
           ]
          },
          "color": "#a39999",
          "sampling": "none",
          "position": "identity",
          "geom": "line"
         },
         {
          "mapping": {
           "x": "x",
           "y": "y"
          },
          "stat": "identity",
          "data": {
           "x": [
            6.618716019817215,
            6.19272935054978
           ],
           "y": [
            1.0918410891459047,
            1.99657052804266
           ]
          },
          "color": "#a39999",
          "sampling": "none",
          "position": "identity",
          "geom": "line"
         },
         {
          "mapping": {
           "x": "x",
           "y": "y"
          },
          "stat": "identity",
          "data": {
           "x": [
            6.618716019817215,
            5.677757635900145
           ],
           "y": [
            1.0918410891459047,
            1.4303633479948266
           ]
          },
          "color": "#ffffff",
          "sampling": "none",
          "position": "identity",
          "geom": "line"
         },
         {
          "mapping": {
           "x": "x",
           "y": "y"
          },
          "stat": "identity",
          "data": {
           "x": [
            -2.9073117915601268,
            -2.29145555482572
           ],
           "y": [
            -8.919200367267818,
            -8.131341816717445
           ]
          },
          "color": "#a39999",
          "sampling": "none",
          "position": "identity",
          "geom": "line"
         },
         {
          "mapping": {
           "x": "x",
           "y": "y"
          },
          "stat": "identity",
          "data": {
           "x": [
            -2.9073117915601268,
            -2.119453241009754
           ],
           "y": [
            -8.919200367267818,
            -9.535056604002225
           ]
          },
          "color": "#a39999",
          "sampling": "none",
          "position": "identity",
          "geom": "line"
         },
         {
          "mapping": {
           "x": "x",
           "y": "y"
          },
          "stat": "identity",
          "data": {
           "x": [
            -2.9073117915601268,
            -1.914735546619227
           ],
           "y": [
            -8.919200367267818,
            -8.797576364788771
           ]
          },
          "color": "#ffffff",
          "sampling": "none",
          "position": "identity",
          "geom": "line"
         },
         {
          "mapping": {
           "x": "x",
           "y": "y"
          },
          "stat": "identity",
          "data": {
           "x": [
            0.45842238032975213,
            0.43699533142763086
           ],
           "y": [
            8.977574524018229,
            9.977344938451136
           ]
          },
          "color": "#a39999",
          "sampling": "none",
          "position": "identity",
          "geom": "line"
         },
         {
          "mapping": {
           "x": "x",
           "y": "y"
          },
          "stat": "identity",
          "data": {
           "x": [
            0.45842238032975213,
            1.4581927947626587
           ],
           "y": [
            8.977574524018229,
            8.99900157292035
           ]
          },
          "color": "#a39999",
          "sampling": "none",
          "position": "identity",
          "geom": "line"
         },
         {
          "mapping": {
           "x": "x",
           "y": "y"
          },
          "stat": "identity",
          "data": {
           "x": [
            0.45842238032975213,
            1.1502156084254396
           ],
           "y": [
            8.977574524018229,
            9.699670175272928
           ]
          },
          "color": "#ffffff",
          "sampling": "none",
          "position": "identity",
          "geom": "line"
         },
         {
          "mapping": {
           "x": "x",
           "y": "y"
          },
          "stat": "identity",
          "data": {
           "x": [
            4.036592363815934,
            4.95072913269158
           ],
           "y": [
            0.17931657646235563,
            -0.2260893531805053
           ]
          },
          "color": "#a39999",
          "sampling": "none",
          "position": "identity",
          "geom": "line"
         },
         {
          "mapping": {
           "x": "x",
           "y": "y"
          },
          "stat": "identity",
          "data": {
           "x": [
            4.036592363815934,
            3.6311864341730726
           ],
           "y": [
            0.17931657646235563,
            -0.7348201924132911
           ]
          },
          "color": "#a39999",
          "sampling": "none",
          "position": "identity",
          "geom": "line"
         },
         {
          "mapping": {
           "x": "x",
           "y": "y"
          },
          "stat": "identity",
          "data": {
           "x": [
            4.036592363815934,
            4.39631939003616
           ],
           "y": [
            0.17931657646235563,
            -0.7537410137252772
           ]
          },
          "color": "#ffffff",
          "sampling": "none",
          "position": "identity",
          "geom": "line"
         },
         {
          "mapping": {
           "x": "x",
           "y": "y"
          },
          "stat": "identity",
          "data": {
           "x": [
            0.16780024261425203,
            0.5554619913454966
           ],
           "y": [
            -5.831350689952782,
            -4.909548992964415
           ]
          },
          "color": "#a39999",
          "sampling": "none",
          "position": "identity",
          "geom": "line"
         },
         {
          "mapping": {
           "x": "x",
           "y": "y"
          },
          "stat": "identity",
          "data": {
           "x": [
            0.16780024261425203,
            1.089601939602619
           ],
           "y": [
            -5.831350689952782,
            -6.219012438684026
           ]
          },
          "color": "#a39999",
          "sampling": "none",
          "position": "identity",
          "geom": "line"
         },
         {
          "mapping": {
           "x": "x",
           "y": "y"
          },
          "stat": "identity",
          "data": {
           "x": [
            0.16780024261425203,
            1.093730724798492
           ],
           "y": [
            -5.831350689952782,
            -5.453656710437539
           ]
          },
          "color": "#ffffff",
          "sampling": "none",
          "position": "identity",
          "geom": "line"
         },
         {
          "mapping": {
           "x": "x",
           "y": "y"
          },
          "stat": "identity",
          "data": {
           "x": [
            0.5237705649985823,
            -0.211443195990357
           ],
           "y": [
            -5.583420218948326,
            -6.261255542351067
           ]
          },
          "color": "#a39999",
          "sampling": "none",
          "position": "identity",
          "geom": "line"
         },
         {
          "mapping": {
           "x": "x",
           "y": "y"
          },
          "stat": "identity",
          "data": {
           "x": [
            0.5237705649985823,
            -0.154064758404159
           ],
           "y": [
            -5.583420218948326,
            -4.848206457959387
           ]
          },
          "color": "#a39999",
          "sampling": "none",
          "position": "identity",
          "geom": "line"
         },
         {
          "mapping": {
           "x": "x",
           "y": "y"
          },
          "stat": "identity",
          "data": {
           "x": [
            0.5237705649985823,
            -0.4754060247242171
           ],
           "y": [
            -5.583420218948326,
            -5.542847536637237
           ]
          },
          "color": "#ffffff",
          "sampling": "none",
          "position": "identity",
          "geom": "line"
         },
         {
          "mapping": {
           "x": "x",
           "y": "y"
          },
          "stat": "identity",
          "data": {
           "x": [
            -3.809085205178473,
            -2.873851255067933
           ],
           "y": [
            -8.148087302714439,
            -7.7940569953103465
           ]
          },
          "color": "#a39999",
          "sampling": "none",
          "position": "identity",
          "geom": "line"
         },
         {
          "mapping": {
           "x": "x",
           "y": "y"
          },
          "stat": "identity",
          "data": {
           "x": [
            -3.809085205178473,
            -3.4550548977743807
           ],
           "y": [
            -8.148087302714439,
            -9.083321252824978
           ]
          },
          "color": "#a39999",
          "sampling": "none",
          "position": "identity",
          "geom": "line"
         },
         {
          "mapping": {
           "x": "x",
           "y": "y"
          },
          "stat": "identity",
          "data": {
           "x": [
            -3.809085205178473,
            -2.8974377059484375
           ],
           "y": [
            -8.148087302714439,
            -8.55906033972249
           ]
          },
          "color": "#ffffff",
          "sampling": "none",
          "position": "identity",
          "geom": "line"
         },
         {
          "mapping": {
           "x": "x",
           "y": "y"
          },
          "stat": "identity",
          "data": {
           "x": [
            5.443896592275631,
            4.557427457733876
           ],
           "y": [
            -2.9565890288781915,
            -3.419376748577832
           ]
          },
          "color": "#a39999",
          "sampling": "none",
          "position": "identity",
          "geom": "line"
         },
         {
          "mapping": {
           "x": "x",
           "y": "y"
          },
          "stat": "identity",
          "data": {
           "x": [
            5.443896592275631,
            4.981108872575991
           ],
           "y": [
            -2.9565890288781915,
            -2.070119894336437
           ]
          },
          "color": "#a39999",
          "sampling": "none",
          "position": "identity",
          "geom": "line"
         },
         {
          "mapping": {
           "x": "x",
           "y": "y"
          },
          "stat": "identity",
          "data": {
           "x": [
            5.443896592275631,
            4.489827921079112
           ],
           "y": [
            -2.9565890288781915,
            -2.657001027380622
           ]
          },
          "color": "#ffffff",
          "sampling": "none",
          "position": "identity",
          "geom": "line"
         },
         {
          "mapping": {
           "x": "x",
           "y": "y"
          },
          "stat": "identity",
          "data": {
           "x": [
            -4.807306565767536,
            -5.32809295464577
           ],
           "y": [
            5.798844363730935,
            4.94515733843468
           ]
          },
          "color": "#a39999",
          "sampling": "none",
          "position": "identity",
          "geom": "line"
         },
         {
          "mapping": {
           "x": "x",
           "y": "y"
          },
          "stat": "identity",
          "data": {
           "x": [
            -4.807306565767536,
            -5.66099359106379
           ],
           "y": [
            5.798844363730935,
            6.319630752609169
           ]
          },
          "color": "#a39999",
          "sampling": "none",
          "position": "identity",
          "geom": "line"
         },
         {
          "mapping": {
           "x": "x",
           "y": "y"
          },
          "stat": "identity",
          "data": {
           "x": [
            -4.807306565767536,
            -5.779206037490943
           ],
           "y": [
            5.798844363730935,
            5.563448066258435
           ]
          },
          "color": "#ffffff",
          "sampling": "none",
          "position": "identity",
          "geom": "line"
         },
         {
          "mapping": {
           "x": "x",
           "y": "y"
          },
          "stat": "identity",
          "data": {
           "x": [
            0.6803486886802071,
            -0.21736164284959802
           ],
           "y": [
            -7.518301256675837,
            -7.077715100896236
           ]
          },
          "color": "#a39999",
          "sampling": "none",
          "position": "identity",
          "geom": "line"
         },
         {
          "mapping": {
           "x": "x",
           "y": "y"
          },
          "stat": "identity",
          "data": {
           "x": [
            0.6803486886802071,
            1.1209348444598084
           ],
           "y": [
            -7.518301256675837,
            -6.620590925146032
           ]
          },
          "color": "#a39999",
          "sampling": "none",
          "position": "identity",
          "geom": "line"
         },
         {
          "mapping": {
           "x": "x",
           "y": "y"
          },
          "stat": "identity",
          "data": {
           "x": [
            0.6803486886802071,
            0.3571130841629267
           ],
           "y": [
            -7.518301256675837,
            -6.571982735261219
           ]
          },
          "color": "#ffffff",
          "sampling": "none",
          "position": "identity",
          "geom": "line"
         },
         {
          "mapping": {
           "x": "x",
           "y": "y"
          },
          "stat": "identity",
          "data": {
           "x": [
            -6.563315905916052,
            -7.558649727829098
           ],
           "y": [
            -6.637092541208195,
            -6.540601179128637
           ]
          },
          "color": "#a39999",
          "sampling": "none",
          "position": "identity",
          "geom": "line"
         },
         {
          "mapping": {
           "x": "x",
           "y": "y"
          },
          "stat": "identity",
          "data": {
           "x": [
            -6.563315905916052,
            -6.466824543836494
           ],
           "y": [
            -6.637092541208195,
            -5.641758719295148
           ]
          },
          "color": "#a39999",
          "sampling": "none",
          "position": "identity",
          "geom": "line"
         },
         {
          "mapping": {
           "x": "x",
           "y": "y"
          },
          "stat": "identity",
          "data": {
           "x": [
            -6.563315905916052,
            -7.198893504482708
           ],
           "y": [
            -6.637092541208195,
            -5.865055549736774
           ]
          },
          "color": "#ffffff",
          "sampling": "none",
          "position": "identity",
          "geom": "line"
         },
         {
          "mapping": {
           "x": "x",
           "y": "y"
          },
          "stat": "identity",
          "data": {
           "x": [
            5.368503162207507,
            5.889574691488428
           ],
           "y": [
            -5.037643760014762,
            -5.891156771850459
           ]
          },
          "color": "#a39999",
          "sampling": "none",
          "position": "identity",
          "geom": "line"
         },
         {
          "mapping": {
           "x": "x",
           "y": "y"
          },
          "stat": "identity",
          "data": {
           "x": [
            5.368503162207507,
            4.51499015037181
           ],
           "y": [
            -5.037643760014762,
            -5.558715289295684
           ]
          },
          "color": "#a39999",
          "sampling": "none",
          "position": "identity",
          "geom": "line"
         },
         {
          "mapping": {
           "x": "x",
           "y": "y"
          },
          "stat": "identity",
          "data": {
           "x": [
            5.368503162207507,
            5.1334315355453155
           ],
           "y": [
            -5.037643760014762,
            -6.009621810352521
           ]
          },
          "color": "#ffffff",
          "sampling": "none",
          "position": "identity",
          "geom": "line"
         },
         {
          "mapping": {
           "x": "x",
           "y": "y"
          },
          "stat": "identity",
          "data": {
           "x": [
            -5.507820780280913,
            -5.968878422634215
           ],
           "y": [
            6.715903797841199,
            7.6032739857715885
           ]
          },
          "color": "#a39999",
          "sampling": "none",
          "position": "identity",
          "geom": "line"
         },
         {
          "mapping": {
           "x": "x",
           "y": "y"
          },
          "stat": "identity",
          "data": {
           "x": [
            -5.507820780280913,
            -4.620450592350524
           ],
           "y": [
            6.715903797841199,
            7.176961440194502
           ]
          },
          "color": "#a39999",
          "sampling": "none",
          "position": "identity",
          "geom": "line"
         },
         {
          "mapping": {
           "x": "x",
           "y": "y"
          },
          "stat": "identity",
          "data": {
           "x": [
            -5.507820780280913,
            -5.206372288398455
           ],
           "y": [
            6.715903797841199,
            7.66938626057546
           ]
          },
          "color": "#ffffff",
          "sampling": "none",
          "position": "identity",
          "geom": "line"
         },
         {
          "mapping": {
           "x": "x",
           "y": "y"
          },
          "stat": "identity",
          "data": {
           "x": [
            -3.1091748787240774,
            -2.1134859640282544
           ],
           "y": [
            -7.366214344478716,
            -7.273458831694548
           ]
          },
          "color": "#a39999",
          "sampling": "none",
          "position": "identity",
          "geom": "line"
         },
         {
          "mapping": {
           "x": "x",
           "y": "y"
          },
          "stat": "identity",
          "data": {
           "x": [
            -3.1091748787240774,
            -3.0164193659399086
           ],
           "y": [
            -7.366214344478716,
            -8.36190325917454
           ]
          },
          "color": "#a39999",
          "sampling": "none",
          "position": "identity",
          "geom": "line"
         },
         {
          "mapping": {
           "x": "x",
           "y": "y"
          },
          "stat": "identity",
          "data": {
           "x": [
            -3.1091748787240774,
            -2.3395284431082657
           ],
           "y": [
            -7.366214344478716,
            -8.004684675930285
           ]
          },
          "color": "#ffffff",
          "sampling": "none",
          "position": "identity",
          "geom": "line"
         },
         {
          "mapping": {
           "x": "x",
           "y": "y"
          },
          "stat": "identity",
          "data": {
           "x": [
            -6.004096913093898,
            -5.236574639368701
           ],
           "y": [
            -0.008417944551774189,
            0.6326043322340679
           ]
          },
          "color": "#a39999",
          "sampling": "none",
          "position": "identity",
          "geom": "line"
         },
         {
          "mapping": {
           "x": "x",
           "y": "y"
          },
          "stat": "identity",
          "data": {
           "x": [
            -6.004096913093898,
            -5.363074636308056
           ],
           "y": [
            -0.008417944551774189,
            -0.7759402182769705
           ]
          },
          "color": "#a39999",
          "sampling": "none",
          "position": "identity",
          "geom": "line"
         },
         {
          "mapping": {
           "x": "x",
           "y": "y"
          },
          "stat": "identity",
          "data": {
           "x": [
            -6.004096913093898,
            -5.008105509824185
           ],
           "y": [
            -0.008417944551774189,
            -0.09786695020766914
           ]
          },
          "color": "#ffffff",
          "sampling": "none",
          "position": "identity",
          "geom": "line"
         },
         {
          "mapping": {
           "x": "x",
           "y": "y"
          },
          "stat": "identity",
          "data": {
           "x": [
            -0.7993386861119285,
            -0.3641506373856819
           ],
           "y": [
            -2.3981067368838644,
            -1.497767155255998
           ]
          },
          "color": "#a39999",
          "sampling": "none",
          "position": "identity",
          "geom": "line"
         },
         {
          "mapping": {
           "x": "x",
           "y": "y"
          },
          "stat": "identity",
          "data": {
           "x": [
            -0.7993386861119285,
            0.10100089551593827
           ],
           "y": [
            -2.3981067368838644,
            -2.8332947856101107
           ]
          },
          "color": "#a39999",
          "sampling": "none",
          "position": "identity",
          "geom": "line"
         },
         {
          "mapping": {
           "x": "x",
           "y": "y"
          },
          "stat": "identity",
          "data": {
           "x": [
            -0.7993386861119285,
            0.14502195777346583
           ],
           "y": [
            -2.3981067368838644,
            -2.0691949336898112
           ]
          },
          "color": "#ffffff",
          "sampling": "none",
          "position": "identity",
          "geom": "line"
         },
         {
          "mapping": {
           "x": "x",
           "y": "y"
          },
          "stat": "identity",
          "data": {
           "x": [
            5.278996936007406,
            5.952356094319446
           ],
           "y": [
            -7.942002314862815,
            -7.202686790937271
           ]
          },
          "color": "#a39999",
          "sampling": "none",
          "position": "identity",
          "geom": "line"
         },
         {
          "mapping": {
           "x": "x",
           "y": "y"
          },
          "stat": "identity",
          "data": {
           "x": [
            5.278996936007406,
            6.01831245993295
           ],
           "y": [
            -7.942002314862815,
            -8.615361473174856
           ]
          },
          "color": "#a39999",
          "sampling": "none",
          "position": "identity",
          "geom": "line"
         },
         {
          "mapping": {
           "x": "x",
           "y": "y"
          },
          "stat": "identity",
          "data": {
           "x": [
            5.278996936007406,
            6.277908783428153
           ],
           "y": [
            -7.942002314862815,
            -7.895364121475088
           ]
          },
          "color": "#ffffff",
          "sampling": "none",
          "position": "identity",
          "geom": "line"
         },
         {
          "mapping": {
           "x": "x",
           "y": "y"
          },
          "stat": "identity",
          "data": {
           "x": [
            0.6857949173288435,
            -0.2320724410902565
           ],
           "y": [
            -0.13452271913775407,
            0.26236456000928965
           ]
          },
          "color": "#a39999",
          "sampling": "none",
          "position": "identity",
          "geom": "line"
         },
         {
          "mapping": {
           "x": "x",
           "y": "y"
          },
          "stat": "identity",
          "data": {
           "x": [
            0.6857949173288435,
            1.0826821964758873
           ],
           "y": [
            -0.13452271913775407,
            0.7833446392813459
           ]
          },
          "color": "#a39999",
          "sampling": "none",
          "position": "identity",
          "geom": "line"
         },
         {
          "mapping": {
           "x": "x",
           "y": "y"
          },
          "stat": "identity",
          "data": {
           "x": [
            0.6857949173288435,
            0.3174063704124676
           ],
           "y": [
            -0.13452271913775407,
            0.7951492006817278
           ]
          },
          "color": "#ffffff",
          "sampling": "none",
          "position": "identity",
          "geom": "line"
         },
         {
          "mapping": {
           "x": "x",
           "y": "y"
          },
          "stat": "identity",
          "data": {
           "x": [
            -2.3629650832744833,
            -1.3723144930981945
           ],
           "y": [
            8.468692899166694,
            8.60511653415481
           ]
          },
          "color": "#a39999",
          "sampling": "none",
          "position": "identity",
          "geom": "line"
         },
         {
          "mapping": {
           "x": "x",
           "y": "y"
          },
          "stat": "identity",
          "data": {
           "x": [
            -2.3629650832744833,
            -2.2265414482863677
           ],
           "y": [
            8.468692899166694,
            7.478042308990405
           ]
          },
          "color": "#a39999",
          "sampling": "none",
          "position": "identity",
          "geom": "line"
         },
         {
          "mapping": {
           "x": "x",
           "y": "y"
          },
          "stat": "identity",
          "data": {
           "x": [
            -2.3629650832744833,
            -1.5660032557601593
           ],
           "y": [
            8.468692899166694,
            7.8646632264808
           ]
          },
          "color": "#ffffff",
          "sampling": "none",
          "position": "identity",
          "geom": "line"
         },
         {
          "mapping": {
           "x": "x",
           "y": "y"
          },
          "stat": "identity",
          "data": {
           "x": [
            4.189873519417356,
            4.232255952773601
           ],
           "y": [
            -3.654021985442882,
            -2.654920524457661
           ]
          },
          "color": "#a39999",
          "sampling": "none",
          "position": "identity",
          "geom": "line"
         },
         {
          "mapping": {
           "x": "x",
           "y": "y"
          },
          "stat": "identity",
          "data": {
           "x": [
            4.189873519417356,
            5.188974980402577
           ],
           "y": [
            -3.654021985442882,
            -3.696404418799127
           ]
          },
          "color": "#a39999",
          "sampling": "none",
          "position": "identity",
          "geom": "line"
         },
         {
          "mapping": {
           "x": "x",
           "y": "y"
          },
          "stat": "identity",
          "data": {
           "x": [
            4.189873519417356,
            4.926313843602781
           ],
           "y": [
            -3.654021985442882,
            -2.9775194733162333
           ]
          },
          "color": "#ffffff",
          "sampling": "none",
          "position": "identity",
          "geom": "line"
         },
         {
          "mapping": {
           "x": "x",
           "y": "y"
          },
          "stat": "identity",
          "data": {
           "x": [
            4.031075459236198,
            3.5765539599466796
           ],
           "y": [
            6.273427880173649,
            5.382692113134058
           ]
          },
          "color": "#a39999",
          "sampling": "none",
          "position": "identity",
          "geom": "line"
         },
         {
          "mapping": {
           "x": "x",
           "y": "y"
          },
          "stat": "identity",
          "data": {
           "x": [
            4.031075459236198,
            3.140339692196607
           ],
           "y": [
            6.273427880173649,
            6.727949379463167
           ]
          },
          "color": "#a39999",
          "sampling": "none",
          "position": "identity",
          "geom": "line"
         },
         {
          "mapping": {
           "x": "x",
           "y": "y"
          },
          "stat": "identity",
          "data": {
           "x": [
            4.031075459236198,
            3.079834923774407
           ],
           "y": [
            6.273427880173649,
            5.964977813397248
           ]
          },
          "color": "#ffffff",
          "sampling": "none",
          "position": "identity",
          "geom": "line"
         },
         {
          "mapping": {
           "x": "x",
           "y": "y"
          },
          "stat": "identity",
          "data": {
           "x": [
            -5.300206271016618,
            -5.029271408020907
           ],
           "y": [
            -1.8495584173360962,
            -2.8121561006978917
           ]
          },
          "color": "#a39999",
          "sampling": "none",
          "position": "identity",
          "geom": "line"
         },
         {
          "mapping": {
           "x": "x",
           "y": "y"
          },
          "stat": "identity",
          "data": {
           "x": [
            -5.300206271016618,
            -6.2628039543784135
           ],
           "y": [
            -1.8495584173360962,
            -2.120493280331807
           ]
          },
          "color": "#a39999",
          "sampling": "none",
          "position": "identity",
          "geom": "line"
         },
         {
          "mapping": {
           "x": "x",
           "y": "y"
          },
          "stat": "identity",
          "data": {
           "x": [
            -5.300206271016618,
            -5.7892857415920895
           ],
           "y": [
            -1.8495584173360962,
            -2.721797645679798
           ]
          },
          "color": "#ffffff",
          "sampling": "none",
          "position": "identity",
          "geom": "line"
         },
         {
          "mapping": {
           "x": "x",
           "y": "y"
          },
          "stat": "identity",
          "data": {
           "x": [
            -8.659013563208708,
            -7.676737276298437
           ],
           "y": [
            3.1423996378052506,
            2.954960858002962
           ]
          },
          "color": "#a39999",
          "sampling": "none",
          "position": "identity",
          "geom": "line"
         },
         {
          "mapping": {
           "x": "x",
           "y": "y"
          },
          "stat": "identity",
          "data": {
           "x": [
            -8.659013563208708,
            -8.846452343010997
           ],
           "y": [
            3.1423996378052506,
            2.1601233508949793
           ]
          },
          "color": "#a39999",
          "sampling": "none",
          "position": "identity",
          "geom": "line"
         },
         {
          "mapping": {
           "x": "x",
           "y": "y"
          },
          "stat": "identity",
          "data": {
           "x": [
            -8.659013563208708,
            -8.096978571991244
           ],
           "y": [
            3.1423996378052506,
            2.3152861820767248
           ]
          },
          "color": "#ffffff",
          "sampling": "none",
          "position": "identity",
          "geom": "line"
         },
         {
          "mapping": {
           "x": "x",
           "y": "y"
          },
          "stat": "identity",
          "data": {
           "x": [
            -1.681601750404971,
            -2.4346832329810995
           ],
           "y": [
            9.41162083968731,
            8.753693578813479
           ]
          },
          "color": "#a39999",
          "sampling": "none",
          "position": "identity",
          "geom": "line"
         },
         {
          "mapping": {
           "x": "x",
           "y": "y"
          },
          "stat": "identity",
          "data": {
           "x": [
            -1.681601750404971,
            -2.3395290112788008
           ],
           "y": [
            9.41162083968731,
            10.164702322263437
           ]
          },
          "color": "#a39999",
          "sampling": "none",
          "position": "identity",
          "geom": "line"
         },
         {
          "mapping": {
           "x": "x",
           "y": "y"
          },
          "stat": "identity",
          "data": {
           "x": [
            -1.681601750404971,
            -2.679335601211946
           ],
           "y": [
            9.41162083968731,
            9.478905035111532
           ]
          },
          "color": "#ffffff",
          "sampling": "none",
          "position": "identity",
          "geom": "line"
         },
         {
          "mapping": {
           "x": "x",
           "y": "y"
          },
          "stat": "identity",
          "data": {
           "x": [
            6.286789750091985,
            5.535892784038775
           ],
           "y": [
            -6.990450223395455,
            -6.330030851804884
           ]
          },
          "color": "#a39999",
          "sampling": "none",
          "position": "identity",
          "geom": "line"
         },
         {
          "mapping": {
           "x": "x",
           "y": "y"
          },
          "stat": "identity",
          "data": {
           "x": [
            6.286789750091985,
            6.9472091216825556
           ],
           "y": [
            -6.990450223395455,
            -6.239553257342245
           ]
          },
          "color": "#a39999",
          "sampling": "none",
          "position": "identity",
          "geom": "line"
         },
         {
          "mapping": {
           "x": "x",
           "y": "y"
          },
          "stat": "identity",
          "data": {
           "x": [
            6.286789750091985,
            6.222812429502007
           ],
           "y": [
            -6.990450223395455,
            -5.992498870648174
           ]
          },
          "color": "#ffffff",
          "sampling": "none",
          "position": "identity",
          "geom": "line"
         },
         {
          "mapping": {
           "x": "x",
           "y": "y"
          },
          "stat": "identity",
          "data": {
           "x": [
            -2.2769496906206887,
            -2.4235494039793837
           ],
           "y": [
            -5.795507106263236,
            -6.7847030039716465
           ]
          },
          "color": "#a39999",
          "sampling": "none",
          "position": "identity",
          "geom": "line"
         },
         {
          "mapping": {
           "x": "x",
           "y": "y"
          },
          "stat": "identity",
          "data": {
           "x": [
            -2.2769496906206887,
            -3.2661455883290995
           ],
           "y": [
            -5.795507106263236,
            -5.648907392904541
           ]
          },
          "color": "#a39999",
          "sampling": "none",
          "position": "identity",
          "geom": "line"
         },
         {
          "mapping": {
           "x": "x",
           "y": "y"
          },
          "stat": "identity",
          "data": {
           "x": [
            -2.2769496906206887,
            -3.0800784692481575
           ],
           "y": [
            -5.795507106263236,
            -6.391312582018831
           ]
          },
          "color": "#ffffff",
          "sampling": "none",
          "position": "identity",
          "geom": "line"
         },
         {
          "mapping": {
           "x": "x",
           "y": "y"
          },
          "stat": "identity",
          "data": {
           "x": [
            -1.1330043291577867,
            -0.13333245885962364
           ],
           "y": [
            2.1878530336932442,
            2.2134684925915855
           ]
          },
          "color": "#a39999",
          "sampling": "none",
          "position": "identity",
          "geom": "line"
         },
         {
          "mapping": {
           "x": "x",
           "y": "y"
          },
          "stat": "identity",
          "data": {
           "x": [
            -1.1330043291577867,
            -1.1073888702594452
           ],
           "y": [
            2.1878530336932442,
            1.1881811633950812
           ]
          },
          "color": "#a39999",
          "sampling": "none",
          "position": "identity",
          "geom": "line"
         },
         {
          "mapping": {
           "x": "x",
           "y": "y"
          },
          "stat": "identity",
          "data": {
           "x": [
            -1.1330043291577867,
            -0.4080167060182943
           ],
           "y": [
            2.1878530336932442,
            1.4990911399341968
           ]
          },
          "color": "#ffffff",
          "sampling": "none",
          "position": "identity",
          "geom": "line"
         },
         {
          "mapping": {
           "x": "x",
           "y": "y"
          },
          "stat": "identity",
          "data": {
           "x": [
            9.715180479787445,
            10.143943362178183
           ],
           "y": [
            2.2569731625805733,
            1.3535560990467992
           ]
          },
          "color": "#a39999",
          "sampling": "none",
          "position": "identity",
          "geom": "line"
         },
         {
          "mapping": {
           "x": "x",
           "y": "y"
          },
          "stat": "identity",
          "data": {
           "x": [
            9.715180479787445,
            8.81176341625367
           ],
           "y": [
            2.2569731625805733,
            1.8282102801898366
           ]
          },
          "color": "#a39999",
          "sampling": "none",
          "position": "identity",
          "geom": "line"
         },
         {
          "mapping": {
           "x": "x",
           "y": "y"
          },
          "stat": "identity",
          "data": {
           "x": [
            9.715180479787445,
            9.379549289582656
           ],
           "y": [
            2.2569731625805733,
            1.3149796890566234
           ]
          },
          "color": "#ffffff",
          "sampling": "none",
          "position": "identity",
          "geom": "line"
         },
         {
          "mapping": {
           "x": "x",
           "y": "y"
          },
          "stat": "identity",
          "data": {
           "x": [
            0.7208695285348894,
            1.4039222132725122
           ],
           "y": [
            1.6190465655128197,
            0.8886774602840144
           ]
          },
          "color": "#a39999",
          "sampling": "none",
          "position": "identity",
          "geom": "line"
         },
         {
          "mapping": {
           "x": "x",
           "y": "y"
          },
          "stat": "identity",
          "data": {
           "x": [
            0.7208695285348894,
            -0.009499576693915768
           ],
           "y": [
            1.6190465655128197,
            0.9359938807751967
           ]
          },
          "color": "#a39999",
          "sampling": "none",
          "position": "identity",
          "geom": "line"
         },
         {
          "mapping": {
           "x": "x",
           "y": "y"
          },
          "stat": "identity",
          "data": {
           "x": [
            0.7208695285348894,
            0.6874117667441002
           ],
           "y": [
            1.6190465655128197,
            0.6196064331507303
           ]
          },
          "color": "#ffffff",
          "sampling": "none",
          "position": "identity",
          "geom": "line"
         },
         {
          "mapping": {
           "x": "x",
           "y": "y"
          },
          "stat": "identity",
          "data": {
           "x": [
            5.785749945663884,
            6.179206656770866
           ],
           "y": [
            -0.8124053604616134,
            -1.7317485044970042
           ]
          },
          "color": "#a39999",
          "sampling": "none",
          "position": "identity",
          "geom": "line"
         },
         {
          "mapping": {
           "x": "x",
           "y": "y"
          },
          "stat": "identity",
          "data": {
           "x": [
            5.785749945663884,
            4.866406801628493
           ],
           "y": [
            -0.8124053604616134,
            -1.2058620715685948
           ]
          },
          "color": "#a39999",
          "sampling": "none",
          "position": "identity",
          "geom": "line"
         },
         {
          "mapping": {
           "x": "x",
           "y": "y"
          },
          "stat": "identity",
          "data": {
           "x": [
            5.785749945663884,
            5.413892082806202
           ],
           "y": [
            -0.8124053604616134,
            -1.740695040373502
           ]
          },
          "color": "#ffffff",
          "sampling": "none",
          "position": "identity",
          "geom": "line"
         },
         {
          "mapping": {
           "x": "x",
           "y": "y"
          },
          "stat": "identity",
          "data": {
           "x": [
            -2.36557265133993,
            -3.0676492749687565
           ],
           "y": [
            8.295400552936805,
            7.583299145443499
           ]
          },
          "color": "#a39999",
          "sampling": "none",
          "position": "identity",
          "geom": "line"
         },
         {
          "mapping": {
           "x": "x",
           "y": "y"
          },
          "stat": "identity",
          "data": {
           "x": [
            -2.36557265133993,
            -3.077674058833236
           ],
           "y": [
            8.295400552936805,
            8.997477176565631
           ]
          },
          "color": "#a39999",
          "sampling": "none",
          "position": "identity",
          "geom": "line"
         },
         {
          "mapping": {
           "x": "x",
           "y": "y"
          },
          "stat": "identity",
          "data": {
           "x": [
            -2.36557265133993,
            -3.3655475269514303
           ],
           "y": [
            8.295400552936805,
            8.288311960286302
           ]
          },
          "color": "#ffffff",
          "sampling": "none",
          "position": "identity",
          "geom": "line"
         },
         {
          "mapping": {
           "x": "x",
           "y": "y"
          },
          "stat": "identity",
          "data": {
           "x": [
            -3.893203324672584,
            -4.4810913368842495
           ],
           "y": [
            0.1840382131040973,
            0.9929805380555224
           ]
          },
          "color": "#a39999",
          "sampling": "none",
          "position": "identity",
          "geom": "line"
         },
         {
          "mapping": {
           "x": "x",
           "y": "y"
          },
          "stat": "identity",
          "data": {
           "x": [
            -3.893203324672584,
            -3.084260999721159
           ],
           "y": [
            0.1840382131040973,
            0.7719262253157626
           ]
          },
          "color": "#a39999",
          "sampling": "none",
          "position": "identity",
          "geom": "line"
         },
         {
          "mapping": {
           "x": "x",
           "y": "y"
          },
          "stat": "identity",
          "data": {
           "x": [
            -3.893203324672584,
            -3.7368943211237684
           ],
           "y": [
            0.1840382131040973,
            1.17174641667921
           ]
          },
          "color": "#ffffff",
          "sampling": "none",
          "position": "identity",
          "geom": "line"
         },
         {
          "mapping": {
           "x": "x",
           "y": "y"
          },
          "stat": "identity",
          "data": {
           "x": [
            6.67434741754815,
            7.613852179998619
           ],
           "y": [
            6.289401310664687,
            5.9468654711779445
           ]
          },
          "color": "#a39999",
          "sampling": "none",
          "position": "identity",
          "geom": "line"
         },
         {
          "mapping": {
           "x": "x",
           "y": "y"
          },
          "stat": "identity",
          "data": {
           "x": [
            6.67434741754815,
            6.331811578061408
           ],
           "y": [
            6.289401310664687,
            5.349896548214217
           ]
          },
          "color": "#a39999",
          "sampling": "none",
          "position": "identity",
          "geom": "line"
         },
         {
          "mapping": {
           "x": "x",
           "y": "y"
          },
          "stat": "identity",
          "data": {
           "x": [
            6.67434741754815,
            7.096468191133431
           ],
           "y": [
            6.289401310664687,
            5.382861707278401
           ]
          },
          "color": "#ffffff",
          "sampling": "none",
          "position": "identity",
          "geom": "line"
         },
         {
          "mapping": {
           "x": "x",
           "y": "y"
          },
          "stat": "identity",
          "data": {
           "x": [
            7.294458552957249,
            8.279267370519978
           ],
           "y": [
            -5.086090900110731,
            -4.912448759918031
           ]
          },
          "color": "#a39999",
          "sampling": "none",
          "position": "identity",
          "geom": "line"
         },
         {
          "mapping": {
           "x": "x",
           "y": "y"
          },
          "stat": "identity",
          "data": {
           "x": [
            7.294458552957249,
            7.46810069314995
           ],
           "y": [
            -5.086090900110731,
            -6.070899717673459
           ]
          },
          "color": "#a39999",
          "sampling": "none",
          "position": "identity",
          "geom": "line"
         },
         {
          "mapping": {
           "x": "x",
           "y": "y"
          },
          "stat": "identity",
          "data": {
           "x": [
            7.294458552957249,
            8.113607080858163
           ],
           "y": [
            -5.086090900110731,
            -5.659672358351639
           ]
          },
          "color": "#ffffff",
          "sampling": "none",
          "position": "identity",
          "geom": "line"
         },
         {
          "mapping": {
           "x": "x",
           "y": "y"
          },
          "stat": "identity",
          "data": {
           "x": [
            -2.408506675064619,
            -1.6094893098549137
           ],
           "y": [
            -4.699466354361067,
            -5.300774303829009
           ]
          },
          "color": "#a39999",
          "sampling": "none",
          "position": "identity",
          "geom": "line"
         },
         {
          "mapping": {
           "x": "x",
           "y": "y"
          },
          "stat": "identity",
          "data": {
           "x": [
            -2.408506675064619,
            -3.0098146245325603
           ],
           "y": [
            -4.699466354361067,
            -5.498483719570772
           ]
          },
          "color": "#a39999",
          "sampling": "none",
          "position": "identity",
          "geom": "line"
         },
         {
          "mapping": {
           "x": "x",
           "y": "y"
          },
          "stat": "identity",
          "data": {
           "x": [
            -2.408506675064619,
            -2.268705006489187
           ],
           "y": [
            -4.699466354361067,
            -5.689645880236817
           ]
          },
          "color": "#ffffff",
          "sampling": "none",
          "position": "identity",
          "geom": "line"
         },
         {
          "mapping": {
           "x": "x",
           "y": "y"
          },
          "stat": "identity",
          "data": {
           "x": [
            6.537607124297484,
            6.922844903844409
           ],
           "y": [
            6.5767962939064635,
            7.499613639435769
           ]
          },
          "color": "#a39999",
          "sampling": "none",
          "position": "identity",
          "geom": "line"
         },
         {
          "mapping": {
           "x": "x",
           "y": "y"
          },
          "stat": "identity",
          "data": {
           "x": [
            6.537607124297484,
            7.4604244698267905
           ],
           "y": [
            6.5767962939064635,
            6.191558514359539
           ]
          },
          "color": "#a39999",
          "sampling": "none",
          "position": "identity",
          "geom": "line"
         },
         {
          "mapping": {
           "x": "x",
           "y": "y"
          },
          "stat": "identity",
          "data": {
           "x": [
            6.537607124297484,
            7.462541773404705
           ],
           "y": [
            6.5767962939064635,
            6.956922450439927
           ]
          },
          "color": "#ffffff",
          "sampling": "none",
          "position": "identity",
          "geom": "line"
         },
         {
          "mapping": {
           "x": "x",
           "y": "y"
          },
          "stat": "identity",
          "data": {
           "x": [
            5.691469823750128,
            6.356344254002055
           ],
           "y": [
            6.926908681279536,
            7.673863828525458
           ]
          },
          "color": "#a39999",
          "sampling": "none",
          "position": "identity",
          "geom": "line"
         },
         {
          "mapping": {
           "x": "x",
           "y": "y"
          },
          "stat": "identity",
          "data": {
           "x": [
            5.691469823750128,
            6.43842497099605
           ],
           "y": [
            6.926908681279536,
            6.262034251027609
           ]
          },
          "color": "#a39999",
          "sampling": "none",
          "position": "identity",
          "geom": "line"
         },
         {
          "mapping": {
           "x": "x",
           "y": "y"
          },
          "stat": "identity",
          "data": {
           "x": [
            5.691469823750128,
            6.689784091878595
           ],
           "y": [
            6.926908681279536,
            6.984948512870644
           ]
          },
          "color": "#ffffff",
          "sampling": "none",
          "position": "identity",
          "geom": "line"
         },
         {
          "mapping": {
           "x": "x",
           "y": "y"
          },
          "stat": "identity",
          "data": {
           "x": [
            -9.071447089794892,
            -10.067059285141209
           ],
           "y": [
            -1.5827935015179369,
            -1.489218096214577
           ]
          },
          "color": "#a39999",
          "sampling": "none",
          "position": "identity",
          "geom": "line"
         },
         {
          "mapping": {
           "x": "x",
           "y": "y"
          },
          "stat": "identity",
          "data": {
           "x": [
            -9.071447089794892,
            -8.977871684491532
           ],
           "y": [
            -1.5827935015179369,
            -0.5871813061716203
           ]
          },
          "color": "#a39999",
          "sampling": "none",
          "position": "identity",
          "geom": "line"
         },
         {
          "mapping": {
           "x": "x",
           "y": "y"
          },
          "stat": "identity",
          "data": {
           "x": [
            -9.071447089794892,
            -9.709283420914012
           ],
           "y": [
            -1.5827935015179369,
            -0.8126215631142454
           ]
          },
          "color": "#ffffff",
          "sampling": "none",
          "position": "identity",
          "geom": "line"
         }
        ]
       },
       "apply_color_scheme": true,
       "swing_enabled": true
      }
     },
     "execution_count": 55,
     "metadata": {},
     "output_type": "execute_result"
    }
   ],
   "execution_count": 55
  },
  {
   "metadata": {
    "ExecuteTime": {
     "end_time": "2024-12-10T09:27:29.258502400Z",
     "start_time": "2024-12-10T09:27:28.878762500Z"
    }
   },
   "cell_type": "code",
   "source": [
    "fun interference(fov: Double, B: Double, A: Double): Double {\n",
    "\n",
    "    val R = 10.0\n",
    "    val circleArea = PI * R * R\n",
    "\n",
    "    val D = 0.1\n",
    "\n",
    "    val receiverPoint = Point(0, 0)\n",
    "\n",
    "    val bv = circleArea * B\n",
    "    val av = circleArea * A\n",
    "\n",
    "    val interfereObjectDistribution = PoissonDistribution(bv)\n",
    "    val blockObjectDistribution =  PoissonDistribution(av)\n",
    "\n",
    "    val results = ArrayList<Double>()\n",
    "    val f = 1_000_000_000\n",
    "    val gain = 2.0 / (1 - cos(fov / 2.0))\n",
    "    val logGain = 10.0 * log(gain, 10.0)\n",
    "\n",
    "    repeat(1000) {\n",
    "        val interfereObjects = HashSet<Sector>()\n",
    "\n",
    "        repeat(interfereObjectDistribution.sample()) {\n",
    "            interfereObjects.add(Sector(Generator.nextPointInCircle(R), rand.nextDouble(0.0, 2 * PI), fov))\n",
    "        }\n",
    "\n",
    "        val blockObjects = ArrayList<Point>()\n",
    "\n",
    "        repeat(blockObjectDistribution.sample()) {\n",
    "            blockObjects.add(Generator.nextPointInCircle(R))\n",
    "        }\n",
    "\n",
    "        var interfereCounter = 0\n",
    "\n",
    "        val interGain = ArrayList<Double>()\n",
    "\n",
    "        for (sector in interfereObjects) {\n",
    "            if (sector.contains(receiverPoint)) {\n",
    "                var rejected = false\n",
    "                interp@for (i in sector.pivot.interpolate(receiverPoint)) {\n",
    "                    for (block in blockObjects) {\n",
    "                        if (i.isInCircle(block, D)) {\n",
    "                            rejected = true\n",
    "                            break@interp\n",
    "                        }\n",
    "                    }\n",
    "                }\n",
    "                if (!rejected) {\n",
    "                    ++interfereCounter\n",
    "                    val fspl = fspl(sector.pivot.distTo(receiverPoint), f)\n",
    "                    interGain.add(fspl + logGain)\n",
    "                }\n",
    "            }\n",
    "        }\n",
    "\n",
    "        results.add(interGain.sum())\n",
    "    }\n",
    "\n",
    "    return results.average()\n",
    "}"
   ],
   "outputs": [],
   "execution_count": 46
  },
  {
   "metadata": {
    "ExecuteTime": {
     "end_time": "2024-12-10T09:28:41.834253Z",
     "start_time": "2024-12-10T09:27:31.394905600Z"
    }
   },
   "cell_type": "code",
   "source": [
    "val fovs = (1..180).map { it * PI / 180 }\n",
    "\n",
    "val values = fovs.map { interference(it, 0.05, 0.05) }\n",
    "\n",
    "plot {\n",
    "    line {\n",
    "        x(fovs)\n",
    "        y(values)\n",
    "    }\n",
    "    layout {\n",
    "        xAxisLabel = \"fov, rad\"\n",
    "        yAxisLabel = \"interference, dBm\"\n",
    "    }\n",
    "}"
   ],
   "outputs": [
    {
     "data": {
      "text/html": [
       "            <iframe src='about:blank' style='border:none !important;' width='600' height='400' srcdoc=\"&lt;html lang=&quot;en&quot;>\n",
       "   &lt;head>\n",
       "       &lt;meta charset=&quot;UTF-8&quot;>\n",
       "       &lt;style> html, body { margin: 0; overflow: hidden; } &lt;/style>\n",
       "       &lt;script type=&quot;text/javascript&quot; data-lets-plot-script=&quot;library&quot; src=&quot;https://cdn.jsdelivr.net/gh/JetBrains/lets-plot@v4.3.3/js-package/distr/lets-plot.min.js&quot;>&lt;/script>\n",
       "   &lt;/head>\n",
       "   &lt;body>\n",
       "          &lt;div id=&quot;CLUAS7&quot;>&lt;/div>\n",
       "   &lt;script type=&quot;text/javascript&quot; data-lets-plot-script=&quot;plot&quot;>\n",
       "       var plotSpec={\n",
       "&quot;mapping&quot;:{\n",
       "},\n",
       "&quot;data&quot;:{\n",
       "},\n",
       "&quot;kind&quot;:&quot;plot&quot;,\n",
       "&quot;scales&quot;:[{\n",
       "&quot;aesthetic&quot;:&quot;x&quot;,\n",
       "&quot;limits&quot;:[null,null]\n",
       "},{\n",
       "&quot;aesthetic&quot;:&quot;y&quot;,\n",
       "&quot;limits&quot;:[null,null]\n",
       "},{\n",
       "&quot;aesthetic&quot;:&quot;x&quot;,\n",
       "&quot;name&quot;:&quot;fov, rad&quot;\n",
       "},{\n",
       "&quot;aesthetic&quot;:&quot;y&quot;,\n",
       "&quot;name&quot;:&quot;interference, dBm&quot;\n",
       "}],\n",
       "&quot;layers&quot;:[{\n",
       "&quot;mapping&quot;:{\n",
       "&quot;x&quot;:&quot;x&quot;,\n",
       "&quot;y&quot;:&quot;y&quot;\n",
       "},\n",
       "&quot;stat&quot;:&quot;identity&quot;,\n",
       "&quot;data&quot;:{\n",
       "&quot;x&quot;:[0.017453292519943295,0.03490658503988659,0.05235987755982988,0.06981317007977318,0.08726646259971647,0.10471975511965977,0.12217304763960307,0.13962634015954636,0.15707963267948966,0.17453292519943295,0.19198621771937624,0.20943951023931953,0.22689280275926285,0.24434609527920614,0.2617993877991494,0.2792526803190927,0.29670597283903605,0.3141592653589793,0.3316125578789226,0.3490658503988659,0.3665191429188092,0.3839724354387525,0.40142572795869574,0.41887902047863906,0.4363323129985824,0.4537856055185257,0.47123889803846897,0.4886921905584123,0.5061454830783556,0.5235987755982988,0.5410520681182421,0.5585053606381855,0.5759586531581288,0.5934119456780721,0.6108652381980153,0.6283185307179586,0.6457718232379019,0.6632251157578452,0.6806784082777885,0.6981317007977318,0.715584993317675,0.7330382858376184,0.7504915783575616,0.767944870877505,0.7853981633974483,0.8028514559173915,0.8203047484373349,0.8377580409572781,0.8552113334772214,0.8726646259971648,0.890117918517108,0.9075712110370514,0.9250245035569946,0.9424777960769379,0.9599310885968813,0.9773843811168246,0.9948376736367678,1.0122909661567112,1.0297442586766543,1.0471975511965976,1.064650843716541,1.0821041362364843,1.0995574287564276,1.117010721276371,1.1344640137963142,1.1519173063162575,1.1693705988362006,1.1868238913561442,1.2042771838760873,1.2217304763960306,1.239183768915974,1.2566370614359172,1.2740903539558606,1.2915436464758039,1.3089969389957472,1.3264502315156903,1.3439035240356338,1.361356816555577,1.3788101090755203,1.3962634015954636,1.413716694115407,1.43116998663535,1.4486232791552935,1.4660765716752369,1.4835298641951802,1.5009831567151233,1.5184364492350666,1.53588974175501,1.5533430342749535,1.5707963267948966,1.5882496193148399,1.605702911834783,1.6231562043547263,1.6406094968746698,1.6580627893946132,1.6755160819145563,1.6929693744344996,1.710422666954443,1.7278759594743864,1.7453292519943295,1.7627825445142729,1.780235837034216,1.7976891295541593,1.8151424220741028,1.8325957145940461,1.8500490071139892,1.8675022996339325,1.8849555921538759,1.902408884673819,1.9198621771937625,1.9373154697137058,1.9547687622336491,1.9722220547535922,1.9896753472735356,2.007128639793479,2.0245819323134224,2.0420352248333655,2.0594885173533086,2.076941809873252,2.0943951023931953,2.111848394913139,2.129301687433082,2.1467549799530254,2.1642082724729685,2.1816615649929116,2.199114857512855,2.2165681500327987,2.234021442552742,2.251474735072685,2.2689280275926285,2.286381320112572,2.303834612632515,2.321287905152458,2.3387411976724013,2.356194490192345,2.3736477827122884,2.3911010752322315,2.4085543677521746,2.426007660272118,2.443460952792061,2.4609142453120043,2.478367537831948,2.4958208303518914,2.5132741228718345,2.5307274153917776,2.548180707911721,2.5656340004316647,2.5830872929516078,2.600540585471551,2.6179938779914944,2.6354471705114375,2.6529004630313806,2.670353755551324,2.6878070480712677,2.705260340591211,2.722713633111154,2.740166925631097,2.7576202181510405,2.775073510670984,2.792526803190927,2.8099800957108703,2.827433388230814,2.844886680750757,2.8623399732707,2.8797932657906435,2.897246558310587,2.9146998508305306,2.9321531433504737,2.949606435870417,2.9670597283903604,2.9845130209103035,3.0019663134302466,3.01941960595019,3.036872898470133,3.0543261909900763,3.07177948351002,3.0892327760299634,3.106686068549907,3.12413936106985,3.141592653589793],\n",
       "&quot;y&quot;:[3.0700892663737873,8.47922896118506,10.239675812471518,12.556165374659098,19.413065596004795,21.421059473879044,21.77323084824333,26.097380621754358,29.26987923387566,30.696355034325272,31.635402326617267,35.381337130885264,39.509308171808975,37.53319576497546,41.619049108493556,47.60099926802349,50.425668431836144,53.106767467647266,49.895374293462844,56.712441655463095,56.69156887452839,61.220597949156364,64.5052518566702,63.0862457788111,66.8113743142754,70.92757440134433,70.54029003346596,75.028217930925,77.98236281185108,78.25116648684408,81.63586845105425,84.48451490773276,85.76112706380782,92.11977127034417,86.65034369258697,90.21400216946189,91.11336368708795,98.68934067925174,98.75685252616069,101.56433403751564,99.04005836887865,104.36806040047479,108.10480785353596,108.86500327614495,108.04178686143615,109.88534278910684,111.45064181776284,116.11568373592199,116.74985971936968,121.2922469635339,120.26226811690898,125.58867892290633,128.42280091570672,127.06439739997018,127.88489234425246,128.88780581540288,134.5594301125551,135.19513551893075,139.867800776853,138.4006031972243,145.4574169998927,143.28607688843806,150.21402051086287,152.15056889666766,141.38226271212804,153.30145250621928,147.35390346185756,150.3995039159812,158.10861860688243,162.31720310381576,156.77645051945345,166.24150012478574,159.2292596156871,166.2059131022074,162.725187294696,168.9673493584726,173.37251117186923,172.77435382080196,168.04007837934176,181.98565478334666,179.46038726019745,187.011742365895,181.30895204908146,188.80116429773707,186.21189496210286,189.4969358905922,187.80861668802592,188.28181958147294,189.72001445644028,195.98181279401376,195.78924634685978,201.57779916285597,198.89462847419603,203.28421795801017,204.7743342042842,206.9574785213688,206.38098984645114,208.7804934971644,204.67106077701175,207.38519541920235,209.2983189549182,207.9194356084762,215.86831073176592,212.3612844450976,221.8405538267613,221.85260201022894,225.9857408187543,219.4909222088697,224.78099942506796,230.28628603820954,225.24621406614375,233.47284644245426,233.3510117734869,231.3993132358542,228.65913734993407,231.50202174719482,232.66909515680092,240.26420014789733,243.69307628541037,243.7808914168288,238.1050835505781,250.30553384421017,248.19517617041265,248.57888662322023,245.4702772551647,255.45496009738147,256.41842421282695,256.16386872024583,255.40182384757273,255.1835070836629,255.12101290052053,268.1762237217096,265.23406659465707,262.04864759369264,262.4840672923434,265.25171194880585,261.50096832556653,272.5114837223685,273.65017323167046,270.0053075292395,271.44381233997996,277.32667299631555,276.7549825633042,276.499771465064,280.69831464280566,275.999569752171,280.325152683881,288.34803306092607,280.35284791564914,290.8906231640896,296.5426993070457,294.5286001218254,288.8210102903963,294.14939429424146,295.60021313409175,289.2566306055349,293.42468646815985,296.46419441041485,298.61236406454924,303.82879098315755,294.11317259224614,304.872299446733,296.57657072602666,308.6898588628977,302.0124332701935,311.62886339515154,312.931366997096,312.5832809843605,316.13277155460776,316.2355596271547,315.11348000301933,313.9462931411036,323.765839968923,314.9464323039934,319.10291925367636,327.07649961219505,326.36343416724554,325.1646412080419,327.5058135674595,325.7286811972958]\n",
       "},\n",
       "&quot;sampling&quot;:&quot;none&quot;,\n",
       "&quot;position&quot;:&quot;identity&quot;,\n",
       "&quot;geom&quot;:&quot;line&quot;\n",
       "}]\n",
       "};\n",
       "       var plotContainer = document.getElementById(&quot;CLUAS7&quot;);\n",
       "       LetsPlot.buildPlotFromProcessedSpecs(plotSpec, -1, -1, plotContainer);\n",
       "   &lt;/script>\n",
       "   &lt;/body>\n",
       "&lt;/html>\"></iframe>            <svg xmlns=\"http://www.w3.org/2000/svg\" xmlns:xlink=\"http://www.w3.org/1999/xlink\" display=\"block\" class=\"plt-container\" id=912c7dfd-e130-483d-9612-d25b46078c18 width=\"100%\" height=\"100%\" style=\"max-width: 600.0px; max-height: 400.0px;\" viewBox=\"0 0 600.0 400.0\" preserveAspectRatio=\"xMinYMin meet\">\n",
       "  <style type=\"text/css\">\n",
       "  .plt-container {\n",
       "   font-family: Lucida Grande, sans-serif;\n",
       "   user-select: none;\n",
       "   -webkit-user-select: none;\n",
       "   -moz-user-select: none;\n",
       "   -ms-user-select: none;\n",
       "}\n",
       "text {\n",
       "   text-rendering: optimizeLegibility;\n",
       "}\n",
       "#pyPGjME .plot-title {\n",
       "   fill: #474747;\n",
       "   font-family: Lucida Grande, sans-serif;\n",
       "   font-size: 16.0px;\n",
       "   font-weight: normal;\n",
       "   font-style: normal;   \n",
       "}\n",
       "#pyPGjME .plot-subtitle {\n",
       "   fill: #474747;\n",
       "   font-family: Lucida Grande, sans-serif;\n",
       "   font-size: 15.0px;\n",
       "   font-weight: normal;\n",
       "   font-style: normal;   \n",
       "}\n",
       "#pyPGjME .plot-caption {\n",
       "   fill: #474747;\n",
       "   font-family: Lucida Grande, sans-serif;\n",
       "   font-size: 13.0px;\n",
       "   font-weight: normal;\n",
       "   font-style: normal;   \n",
       "}\n",
       "#pyPGjME .legend-title {\n",
       "   fill: #474747;\n",
       "   font-family: Lucida Grande, sans-serif;\n",
       "   font-size: 15.0px;\n",
       "   font-weight: normal;\n",
       "   font-style: normal;   \n",
       "}\n",
       "#pyPGjME .legend-item {\n",
       "   fill: #474747;\n",
       "   font-family: Lucida Grande, sans-serif;\n",
       "   font-size: 13.0px;\n",
       "   font-weight: normal;\n",
       "   font-style: normal;   \n",
       "}\n",
       "#pyPGjME .axis-title-x {\n",
       "   fill: #474747;\n",
       "   font-family: Lucida Grande, sans-serif;\n",
       "   font-size: 15.0px;\n",
       "   font-weight: normal;\n",
       "   font-style: normal;   \n",
       "}\n",
       "#pyPGjME .axis-text-x {\n",
       "   fill: #474747;\n",
       "   font-family: Lucida Grande, sans-serif;\n",
       "   font-size: 13.0px;\n",
       "   font-weight: normal;\n",
       "   font-style: normal;   \n",
       "}\n",
       "#d3Z1XFs .axis-tooltip-text-x {\n",
       "   fill: #ffffff;\n",
       "   font-family: Lucida Grande, sans-serif;\n",
       "   font-size: 13.0px;\n",
       "   font-weight: normal;\n",
       "   font-style: normal;   \n",
       "}\n",
       "#pyPGjME .axis-title-y {\n",
       "   fill: #474747;\n",
       "   font-family: Lucida Grande, sans-serif;\n",
       "   font-size: 15.0px;\n",
       "   font-weight: normal;\n",
       "   font-style: normal;   \n",
       "}\n",
       "#pyPGjME .axis-text-y {\n",
       "   fill: #474747;\n",
       "   font-family: Lucida Grande, sans-serif;\n",
       "   font-size: 13.0px;\n",
       "   font-weight: normal;\n",
       "   font-style: normal;   \n",
       "}\n",
       "#d3Z1XFs .axis-tooltip-text-y {\n",
       "   fill: #ffffff;\n",
       "   font-family: Lucida Grande, sans-serif;\n",
       "   font-size: 13.0px;\n",
       "   font-weight: normal;\n",
       "   font-style: normal;   \n",
       "}\n",
       "#pyPGjME .facet-strip-text-x {\n",
       "   fill: #474747;\n",
       "   font-family: Lucida Grande, sans-serif;\n",
       "   font-size: 13.0px;\n",
       "   font-weight: normal;\n",
       "   font-style: normal;   \n",
       "}\n",
       "#pyPGjME .facet-strip-text-y {\n",
       "   fill: #474747;\n",
       "   font-family: Lucida Grande, sans-serif;\n",
       "   font-size: 13.0px;\n",
       "   font-weight: normal;\n",
       "   font-style: normal;   \n",
       "}\n",
       "#d3Z1XFs .tooltip-text {\n",
       "   fill: #474747;\n",
       "   font-family: Lucida Grande, sans-serif;\n",
       "   font-size: 13.0px;\n",
       "   font-weight: normal;\n",
       "   font-style: normal;   \n",
       "}\n",
       "#d3Z1XFs .tooltip-title {\n",
       "   fill: #474747;\n",
       "   font-family: Lucida Grande, sans-serif;\n",
       "   font-size: 13.0px;\n",
       "   font-weight: bold;\n",
       "   font-style: normal;   \n",
       "}\n",
       "#d3Z1XFs .tooltip-label {\n",
       "   fill: #474747;\n",
       "   font-family: Lucida Grande, sans-serif;\n",
       "   font-size: 13.0px;\n",
       "   font-weight: bold;\n",
       "   font-style: normal;   \n",
       "}\n",
       "\n",
       "  </style>\n",
       "  <g id=\"pyPGjME\">\n",
       "    <path fill-rule=\"evenodd\" fill=\"rgb(255,255,255)\" fill-opacity=\"1.0\" d=\"M0.0 0.0 L0.0 400.0 L600.0 400.0 L600.0 0.0 Z\">\n",
       "    </path>\n",
       "    <g transform=\"translate(29.5 6.5 ) \">\n",
       "      <g>\n",
       "        <g transform=\"translate(29.941816366404606 0.0 ) \">\n",
       "          <g>\n",
       "            <line x1=\"21.563039918167007\" y1=\"0.0\" x2=\"21.563039918167007\" y2=\"341.0\" stroke=\"rgb(233,233,233)\" stroke-opacity=\"1.0\" stroke-width=\"1.0\" fill=\"none\">\n",
       "            </line>\n",
       "            <line x1=\"99.26562990452483\" y1=\"0.0\" x2=\"99.26562990452483\" y2=\"341.0\" stroke=\"rgb(233,233,233)\" stroke-opacity=\"1.0\" stroke-width=\"1.0\" fill=\"none\">\n",
       "            </line>\n",
       "            <line x1=\"176.96821989088266\" y1=\"0.0\" x2=\"176.96821989088266\" y2=\"341.0\" stroke=\"rgb(233,233,233)\" stroke-opacity=\"1.0\" stroke-width=\"1.0\" fill=\"none\">\n",
       "            </line>\n",
       "            <line x1=\"254.67080987724046\" y1=\"0.0\" x2=\"254.67080987724046\" y2=\"341.0\" stroke=\"rgb(233,233,233)\" stroke-opacity=\"1.0\" stroke-width=\"1.0\" fill=\"none\">\n",
       "            </line>\n",
       "            <line x1=\"332.3733998635983\" y1=\"0.0\" x2=\"332.3733998635983\" y2=\"341.0\" stroke=\"rgb(233,233,233)\" stroke-opacity=\"1.0\" stroke-width=\"1.0\" fill=\"none\">\n",
       "            </line>\n",
       "            <line x1=\"410.0759898499561\" y1=\"0.0\" x2=\"410.0759898499561\" y2=\"341.0\" stroke=\"rgb(233,233,233)\" stroke-opacity=\"1.0\" stroke-width=\"1.0\" fill=\"none\">\n",
       "            </line>\n",
       "            <line x1=\"487.77857983631395\" y1=\"0.0\" x2=\"487.77857983631395\" y2=\"341.0\" stroke=\"rgb(233,233,233)\" stroke-opacity=\"1.0\" stroke-width=\"1.0\" fill=\"none\">\n",
       "            </line>\n",
       "          </g>\n",
       "        </g>\n",
       "        <g transform=\"translate(29.941816366404606 0.0 ) \">\n",
       "          <g>\n",
       "            <line x1=\"0.0\" y1=\"328.4334860537511\" x2=\"534.0581836335954\" y2=\"328.4334860537511\" stroke=\"rgb(233,233,233)\" stroke-opacity=\"1.0\" stroke-width=\"1.0\" fill=\"none\">\n",
       "            </line>\n",
       "            <line x1=\"0.0\" y1=\"280.6582293880716\" x2=\"534.0581836335954\" y2=\"280.6582293880716\" stroke=\"rgb(233,233,233)\" stroke-opacity=\"1.0\" stroke-width=\"1.0\" fill=\"none\">\n",
       "            </line>\n",
       "            <line x1=\"0.0\" y1=\"232.8829727223921\" x2=\"534.0581836335954\" y2=\"232.8829727223921\" stroke=\"rgb(233,233,233)\" stroke-opacity=\"1.0\" stroke-width=\"1.0\" fill=\"none\">\n",
       "            </line>\n",
       "            <line x1=\"0.0\" y1=\"185.1077160567126\" x2=\"534.0581836335954\" y2=\"185.1077160567126\" stroke=\"rgb(233,233,233)\" stroke-opacity=\"1.0\" stroke-width=\"1.0\" fill=\"none\">\n",
       "            </line>\n",
       "            <line x1=\"0.0\" y1=\"137.33245939103313\" x2=\"534.0581836335954\" y2=\"137.33245939103313\" stroke=\"rgb(233,233,233)\" stroke-opacity=\"1.0\" stroke-width=\"1.0\" fill=\"none\">\n",
       "            </line>\n",
       "            <line x1=\"0.0\" y1=\"89.55720272535362\" x2=\"534.0581836335954\" y2=\"89.55720272535362\" stroke=\"rgb(233,233,233)\" stroke-opacity=\"1.0\" stroke-width=\"1.0\" fill=\"none\">\n",
       "            </line>\n",
       "            <line x1=\"0.0\" y1=\"41.78194605967411\" x2=\"534.0581836335954\" y2=\"41.78194605967411\" stroke=\"rgb(233,233,233)\" stroke-opacity=\"1.0\" stroke-width=\"1.0\" fill=\"none\">\n",
       "            </line>\n",
       "          </g>\n",
       "        </g>\n",
       "      </g>\n",
       "      <g clip-path=\"url(#cW7VPp8)\" clip-bounds-jfx=\"[rect (29.941816366404606, 0.0), (534.0581836335954, 341.0)]\">\n",
       "        <g transform=\"translate(29.941816366404606 0.0 ) \">\n",
       "          <g>\n",
       "            <g>\n",
       "              <g>\n",
       "                <path d=\"M24.275371983345245 325.5 L24.275371983345245 325.5 L26.987704048523486 320.3315392547975 L29.700036113701728 318.64942325146757 L32.412368178879966 316.43600558352995 L35.124700244058204 309.88420222341506 L37.83703230923645 307.965553765444 L40.54936437441468 307.62905220943276 L43.261696439592924 303.4973049036262 L45.97402850477116 300.46596619431403 L48.6863605699494 299.10296124443687 L51.398692635127645 298.2056967362276 L54.11102470030588 294.6264368016915 L56.82335676548412 290.68213928191904 L59.53568883066236 292.57032483065313 L62.2480208958406 288.6662709869551 L64.96035296101884 282.9504869022982 L67.67268502619709 280.2515010163626 L70.38501709137532 277.68969712472295 L73.09734915655355 280.7581997877444 L75.8096812217318 274.24445692920864 L78.52201328691004 274.2644009785383 L81.23434535208827 269.9368904488048 L83.9466774172665 266.79838677901677 L86.65900948244476 268.1542543706143 L89.37134154762299 264.59487493272525 L92.08367361280123 260.661824619785 L94.79600567797948 261.0318768213449 L97.50833774315771 256.74363867738157 L100.22066980833596 253.9209380791046 L102.93300187351419 253.66409478779522 L105.64533393869243 250.42999468625584 L108.35766600387068 247.70809837390394 L111.06999806904892 246.4882889055237 L113.78233013422717 240.4125717252635 L116.49466219940538 245.63863785209742 L119.20699426458363 242.23354388406693 L121.91932632976187 241.3741993372705 L124.6316583949401 234.13531443139237 L127.34399046011835 234.0708065151114 L130.0563225252966 231.38824351932874 L132.7686545904748 233.80020187860998 L135.48098665565306 228.70926858711465 L138.19331872083131 225.1387872138182 L140.90565078600955 224.41241658519382 L143.61798285118778 225.19900409527608 L146.330314916366 223.43747694283604 L149.04264698154427 221.94182568578447 L151.7549790467225 217.4843541858603 L154.46731111190076 216.87839577825184 L157.17964317707896 212.53812144895477 L159.89197524225722 213.52227152410927 L162.60430730743548 208.43285865684186 L165.31663937261368 205.72484054428412 L168.02897143779194 207.02280207668161 L170.7413035029702 206.23881494556207 L173.4536355681484 205.2805259756085 L176.16596763332666 199.86125984545345 L178.87829969850492 199.25384006638632 L181.59063176368312 194.78908442618555 L184.30296382886138 196.190999245106 L187.01529589403958 189.44817743181818 L189.72762795921784 191.5229040544828 L192.4399600243961 184.90321835994874 L195.15229208957436 183.05283643640212 L197.86462415475256 193.3420082728222 L200.57695621993082 181.95316123962908 L203.28928828510902 187.63607488215104 L206.00162035028734 184.7259880142137 L208.71395241546554 177.35988935375437 L211.42628448064374 173.33856526295057 L214.138616545822 178.6327827997293 L216.85094861100026 169.58887931476653 L219.56328067617852 176.28911111723977 L222.27561274135672 169.62288289751947 L224.98794480653498 172.9487342742537 L227.70027687171319 166.98431637933982 L230.41260893689144 162.77516165356232 L233.1249410020697 163.34670407303636 L235.8372730672479 167.87032855987206 L238.54960513242617 154.5452587188285 L241.26193719760442 156.95816480018766 L243.97426926278263 149.74280623321985 L246.6866013279609 155.19185165514625 L249.39893339313915 148.03300439168083 L252.1112654583174 150.5070645334108 L254.8235975234956 147.368191063094 L257.5359295886738 148.981388727818 L260.24826165385207 148.52924093403053 L262.9605937190303 147.1550383482939 L265.6729257842086 141.17185789296795 L268.3852578493868 141.35585612172756 L271.097589914565 135.82486419158636 L273.80992197974325 138.3886475581575 L276.5222540449215 134.1943722732337 L279.23458611009977 132.7705585506849 L281.94691817527803 130.68455294894616 L284.65925024045623 131.23539083712717 L287.3715823056345 128.94265278146594 L290.08391437081275 132.86923684057862 L292.79624643599095 130.27586725746127 L295.5085785011692 128.44786789842175 L298.2209105663474 129.7653980141877 L300.9332426315257 122.17020702981566 L303.64557469670393 125.52118864939294 L306.3579067618822 116.46369809515093 L309.0702388270604 116.4521859940005 L311.78257089223865 112.5029506457569 L314.4949029574169 118.70878316744225 L317.2072350225951 113.65408723173957 L319.9195670877734 108.3937576125202 L322.63189915295163 113.20957225409902 L325.34423121812983 105.34898278865055 L328.0565632833081 105.46539644026441 L330.7688953484863 107.33025441165307 L333.48122741366456 109.94850653683187 L336.1935594788428 107.23211590183212 L338.905891544021 106.1169712679997 L341.6182236091993 98.85980946095142 L344.33055567437754 95.58350071006123 L347.04288773955574 95.4995929012083 L349.755219804734 100.92285645311253 L352.4675518699122 89.26526356880976 L355.1798839350905 91.28172115925102 L357.8922160002687 90.91508385188732 L360.6045480654469 93.88537606053109 L363.3168801306252 84.34496035028482 L366.0292121958035 83.42436544221323 L368.7415442609817 83.66759452208765 L371.4538763261599 84.39573230974213 L374.16620839133816 84.60433509834635 L376.8785404565165 84.66404861114114 L379.5908725216947 72.18972765500382 L382.3032045868729 75.00097389291773 L385.0155366520511 78.04465810009387 L387.72786871722934 77.62861234288721 L390.44020078240766 74.98411366644942 L393.15253284758586 78.56796845219779 L395.86486491276406 68.04736447012522 L398.5771969779423 66.95934079873683 L401.2895290431205 70.4420286876483 L404.0018611082987 69.0675299566895 L406.71419317347704 63.446426400992266 L409.4265252386553 63.99267954440086 L412.1388573038335 64.236535058848 L414.8511893690117 60.22480550007708 L417.56352143419 64.71448036320947 L420.2758534993683 60.58136366738694 L422.9881855645465 52.91546028315952 L425.7005176297247 60.55490073126418 L428.41284969490295 50.48600238767443 L431.1251817600812 45.08541461920055 L433.8375138252594 47.009896729681316 L436.54984589043767 52.46352811246027 L439.2621779556159 47.37222984452018 L441.9745100207941 45.9859649955352 L444.6868420859724 52.04729066516967 L447.3991741511506 48.06469189249373 L450.11150621632885 45.16042645092165 L452.8238382815071 43.10783931916774 L455.5361703466853 38.1235166208823 L458.24850241186357 47.40683986671405 L460.96083447704183 37.126438927279764 L463.67316654222003 45.05305030449165 L466.38549860739823 33.47874130840478 L469.0978306725765 39.859055739553185 L471.8101627377548 30.67050739100432 L474.52249480293307 29.42595851318697 L477.23482686811127 29.75855648519041 L479.9471589332895 26.367000024670972 L482.6594909984678 26.268785493708947 L485.371823063646 27.34093833455688 L488.0841551288242 28.456191372653564 L490.79648719400245 19.073563971858903 L493.50881925918065 27.500553268484396 L496.22115132435886 23.529008651511333 L498.9334833895372 15.910211688058325 L501.64581545471543 16.591549381096115 L504.3581475198937 17.737002207395392 L507.07047958507195 15.5 L509.78281165025015 17.198059102269156 \" fill=\"none\" stroke-width=\"1.6500000000000001\" stroke=\"rgb(71,71,71)\" stroke-opacity=\"1.0\">\n",
       "                </path>\n",
       "              </g>\n",
       "            </g>\n",
       "          </g>\n",
       "        </g>\n",
       "        <defs>\n",
       "          <clipPath id=\"cW7VPp8\">\n",
       "            <rect x=\"29.941816366404606\" y=\"0.0\" width=\"534.0581836335954\" height=\"341.0\">\n",
       "            </rect>\n",
       "          </clipPath>\n",
       "        </defs>\n",
       "      </g>\n",
       "      <g>\n",
       "        <g transform=\"translate(29.941816366404606 341.0 ) \">\n",
       "          <g transform=\"translate(21.563039918167007 0.0 ) \">\n",
       "            <line stroke-width=\"1.0\" stroke=\"rgb(71,71,71)\" stroke-opacity=\"1.0\" x2=\"0.0\" y2=\"4.0\">\n",
       "            </line>\n",
       "            <g transform=\"translate(0.0 7.0 ) \">\n",
       "              <text class=\"axis-text-x\" text-anchor=\"middle\" dy=\"0.7em\">\n",
       "                <tspan>0.0</tspan>\n",
       "              </text>\n",
       "            </g>\n",
       "          </g>\n",
       "          <g transform=\"translate(99.26562990452483 0.0 ) \">\n",
       "            <line stroke-width=\"1.0\" stroke=\"rgb(71,71,71)\" stroke-opacity=\"1.0\" x2=\"0.0\" y2=\"4.0\">\n",
       "            </line>\n",
       "            <g transform=\"translate(0.0 7.0 ) \">\n",
       "              <text class=\"axis-text-x\" text-anchor=\"middle\" dy=\"0.7em\">\n",
       "                <tspan>0.5</tspan>\n",
       "              </text>\n",
       "            </g>\n",
       "          </g>\n",
       "          <g transform=\"translate(176.96821989088266 0.0 ) \">\n",
       "            <line stroke-width=\"1.0\" stroke=\"rgb(71,71,71)\" stroke-opacity=\"1.0\" x2=\"0.0\" y2=\"4.0\">\n",
       "            </line>\n",
       "            <g transform=\"translate(0.0 7.0 ) \">\n",
       "              <text class=\"axis-text-x\" text-anchor=\"middle\" dy=\"0.7em\">\n",
       "                <tspan>1.0</tspan>\n",
       "              </text>\n",
       "            </g>\n",
       "          </g>\n",
       "          <g transform=\"translate(254.67080987724046 0.0 ) \">\n",
       "            <line stroke-width=\"1.0\" stroke=\"rgb(71,71,71)\" stroke-opacity=\"1.0\" x2=\"0.0\" y2=\"4.0\">\n",
       "            </line>\n",
       "            <g transform=\"translate(0.0 7.0 ) \">\n",
       "              <text class=\"axis-text-x\" text-anchor=\"middle\" dy=\"0.7em\">\n",
       "                <tspan>1.5</tspan>\n",
       "              </text>\n",
       "            </g>\n",
       "          </g>\n",
       "          <g transform=\"translate(332.3733998635983 0.0 ) \">\n",
       "            <line stroke-width=\"1.0\" stroke=\"rgb(71,71,71)\" stroke-opacity=\"1.0\" x2=\"0.0\" y2=\"4.0\">\n",
       "            </line>\n",
       "            <g transform=\"translate(0.0 7.0 ) \">\n",
       "              <text class=\"axis-text-x\" text-anchor=\"middle\" dy=\"0.7em\">\n",
       "                <tspan>2.0</tspan>\n",
       "              </text>\n",
       "            </g>\n",
       "          </g>\n",
       "          <g transform=\"translate(410.0759898499561 0.0 ) \">\n",
       "            <line stroke-width=\"1.0\" stroke=\"rgb(71,71,71)\" stroke-opacity=\"1.0\" x2=\"0.0\" y2=\"4.0\">\n",
       "            </line>\n",
       "            <g transform=\"translate(0.0 7.0 ) \">\n",
       "              <text class=\"axis-text-x\" text-anchor=\"middle\" dy=\"0.7em\">\n",
       "                <tspan>2.5</tspan>\n",
       "              </text>\n",
       "            </g>\n",
       "          </g>\n",
       "          <g transform=\"translate(487.77857983631395 0.0 ) \">\n",
       "            <line stroke-width=\"1.0\" stroke=\"rgb(71,71,71)\" stroke-opacity=\"1.0\" x2=\"0.0\" y2=\"4.0\">\n",
       "            </line>\n",
       "            <g transform=\"translate(0.0 7.0 ) \">\n",
       "              <text class=\"axis-text-x\" text-anchor=\"middle\" dy=\"0.7em\">\n",
       "                <tspan>3.0</tspan>\n",
       "              </text>\n",
       "            </g>\n",
       "          </g>\n",
       "          <line x1=\"0.0\" y1=\"0.0\" x2=\"534.0581836335954\" y2=\"0.0\" stroke-width=\"1.0\" stroke=\"rgb(71,71,71)\" stroke-opacity=\"1.0\">\n",
       "          </line>\n",
       "        </g>\n",
       "        <g transform=\"translate(29.941816366404606 0.0 ) \">\n",
       "          <g transform=\"translate(0.0 328.4334860537511 ) \">\n",
       "            <g transform=\"translate(-3.0 0.0 ) \">\n",
       "              <text class=\"axis-text-y\" text-anchor=\"end\" dy=\"0.35em\">\n",
       "                <tspan>0</tspan>\n",
       "              </text>\n",
       "            </g>\n",
       "          </g>\n",
       "          <g transform=\"translate(0.0 280.6582293880716 ) \">\n",
       "            <g transform=\"translate(-3.0 0.0 ) \">\n",
       "              <text class=\"axis-text-y\" text-anchor=\"end\" dy=\"0.35em\">\n",
       "                <tspan>50</tspan>\n",
       "              </text>\n",
       "            </g>\n",
       "          </g>\n",
       "          <g transform=\"translate(0.0 232.8829727223921 ) \">\n",
       "            <g transform=\"translate(-3.0 0.0 ) \">\n",
       "              <text class=\"axis-text-y\" text-anchor=\"end\" dy=\"0.35em\">\n",
       "                <tspan>100</tspan>\n",
       "              </text>\n",
       "            </g>\n",
       "          </g>\n",
       "          <g transform=\"translate(0.0 185.1077160567126 ) \">\n",
       "            <g transform=\"translate(-3.0 0.0 ) \">\n",
       "              <text class=\"axis-text-y\" text-anchor=\"end\" dy=\"0.35em\">\n",
       "                <tspan>150</tspan>\n",
       "              </text>\n",
       "            </g>\n",
       "          </g>\n",
       "          <g transform=\"translate(0.0 137.33245939103313 ) \">\n",
       "            <g transform=\"translate(-3.0 0.0 ) \">\n",
       "              <text class=\"axis-text-y\" text-anchor=\"end\" dy=\"0.35em\">\n",
       "                <tspan>200</tspan>\n",
       "              </text>\n",
       "            </g>\n",
       "          </g>\n",
       "          <g transform=\"translate(0.0 89.55720272535362 ) \">\n",
       "            <g transform=\"translate(-3.0 0.0 ) \">\n",
       "              <text class=\"axis-text-y\" text-anchor=\"end\" dy=\"0.35em\">\n",
       "                <tspan>250</tspan>\n",
       "              </text>\n",
       "            </g>\n",
       "          </g>\n",
       "          <g transform=\"translate(0.0 41.78194605967411 ) \">\n",
       "            <g transform=\"translate(-3.0 0.0 ) \">\n",
       "              <text class=\"axis-text-y\" text-anchor=\"end\" dy=\"0.35em\">\n",
       "                <tspan>300</tspan>\n",
       "              </text>\n",
       "            </g>\n",
       "          </g>\n",
       "        </g>\n",
       "      </g>\n",
       "    </g>\n",
       "    <g transform=\"translate(16.0 177.0 ) rotate(-90.0 ) \">\n",
       "      <text class=\"axis-title-y\" y=\"0.0\" text-anchor=\"middle\">\n",
       "        <tspan>interference, dBm</tspan>\n",
       "      </text>\n",
       "    </g>\n",
       "    <g transform=\"translate(326.4709081832023 393.0 ) \">\n",
       "      <text class=\"axis-title-x\" y=\"0.0\" text-anchor=\"middle\">\n",
       "        <tspan>fov, rad</tspan>\n",
       "      </text>\n",
       "    </g>\n",
       "    <path fill=\"rgb(0,0,0)\" fill-opacity=\"0.0\" stroke=\"rgb(71,71,71)\" stroke-opacity=\"1.0\" stroke-width=\"0.0\" d=\"M0.0 0.0 L0.0 400.0 L600.0 400.0 L600.0 0.0 Z\">\n",
       "    </path>\n",
       "  </g>\n",
       "  <g id=\"d3Z1XFs\">\n",
       "  </g>\n",
       "</svg>\n",
       "        <script>document.getElementById(\"912c7dfd-e130-483d-9612-d25b46078c18\").style.display = \"none\";</script>"
      ],
      "application/plot+json": {
       "output_type": "lets_plot_spec",
       "output": {
        "mapping": {},
        "data": {},
        "kind": "plot",
        "scales": [
         {
          "aesthetic": "x",
          "limits": [
           null,
           null
          ]
         },
         {
          "aesthetic": "y",
          "limits": [
           null,
           null
          ]
         },
         {
          "aesthetic": "x",
          "name": "fov, rad"
         },
         {
          "aesthetic": "y",
          "name": "interference, dBm"
         }
        ],
        "layers": [
         {
          "mapping": {
           "x": "x",
           "y": "y"
          },
          "stat": "identity",
          "data": {
           "x": [
            0.017453292519943295,
            0.03490658503988659,
            0.05235987755982988,
            0.06981317007977318,
            0.08726646259971647,
            0.10471975511965977,
            0.12217304763960307,
            0.13962634015954636,
            0.15707963267948966,
            0.17453292519943295,
            0.19198621771937624,
            0.20943951023931953,
            0.22689280275926285,
            0.24434609527920614,
            0.2617993877991494,
            0.2792526803190927,
            0.29670597283903605,
            0.3141592653589793,
            0.3316125578789226,
            0.3490658503988659,
            0.3665191429188092,
            0.3839724354387525,
            0.40142572795869574,
            0.41887902047863906,
            0.4363323129985824,
            0.4537856055185257,
            0.47123889803846897,
            0.4886921905584123,
            0.5061454830783556,
            0.5235987755982988,
            0.5410520681182421,
            0.5585053606381855,
            0.5759586531581288,
            0.5934119456780721,
            0.6108652381980153,
            0.6283185307179586,
            0.6457718232379019,
            0.6632251157578452,
            0.6806784082777885,
            0.6981317007977318,
            0.715584993317675,
            0.7330382858376184,
            0.7504915783575616,
            0.767944870877505,
            0.7853981633974483,
            0.8028514559173915,
            0.8203047484373349,
            0.8377580409572781,
            0.8552113334772214,
            0.8726646259971648,
            0.890117918517108,
            0.9075712110370514,
            0.9250245035569946,
            0.9424777960769379,
            0.9599310885968813,
            0.9773843811168246,
            0.9948376736367678,
            1.0122909661567112,
            1.0297442586766543,
            1.0471975511965976,
            1.064650843716541,
            1.0821041362364843,
            1.0995574287564276,
            1.117010721276371,
            1.1344640137963142,
            1.1519173063162575,
            1.1693705988362006,
            1.1868238913561442,
            1.2042771838760873,
            1.2217304763960306,
            1.239183768915974,
            1.2566370614359172,
            1.2740903539558606,
            1.2915436464758039,
            1.3089969389957472,
            1.3264502315156903,
            1.3439035240356338,
            1.361356816555577,
            1.3788101090755203,
            1.3962634015954636,
            1.413716694115407,
            1.43116998663535,
            1.4486232791552935,
            1.4660765716752369,
            1.4835298641951802,
            1.5009831567151233,
            1.5184364492350666,
            1.53588974175501,
            1.5533430342749535,
            1.5707963267948966,
            1.5882496193148399,
            1.605702911834783,
            1.6231562043547263,
            1.6406094968746698,
            1.6580627893946132,
            1.6755160819145563,
            1.6929693744344996,
            1.710422666954443,
            1.7278759594743864,
            1.7453292519943295,
            1.7627825445142729,
            1.780235837034216,
            1.7976891295541593,
            1.8151424220741028,
            1.8325957145940461,
            1.8500490071139892,
            1.8675022996339325,
            1.8849555921538759,
            1.902408884673819,
            1.9198621771937625,
            1.9373154697137058,
            1.9547687622336491,
            1.9722220547535922,
            1.9896753472735356,
            2.007128639793479,
            2.0245819323134224,
            2.0420352248333655,
            2.0594885173533086,
            2.076941809873252,
            2.0943951023931953,
            2.111848394913139,
            2.129301687433082,
            2.1467549799530254,
            2.1642082724729685,
            2.1816615649929116,
            2.199114857512855,
            2.2165681500327987,
            2.234021442552742,
            2.251474735072685,
            2.2689280275926285,
            2.286381320112572,
            2.303834612632515,
            2.321287905152458,
            2.3387411976724013,
            2.356194490192345,
            2.3736477827122884,
            2.3911010752322315,
            2.4085543677521746,
            2.426007660272118,
            2.443460952792061,
            2.4609142453120043,
            2.478367537831948,
            2.4958208303518914,
            2.5132741228718345,
            2.5307274153917776,
            2.548180707911721,
            2.5656340004316647,
            2.5830872929516078,
            2.600540585471551,
            2.6179938779914944,
            2.6354471705114375,
            2.6529004630313806,
            2.670353755551324,
            2.6878070480712677,
            2.705260340591211,
            2.722713633111154,
            2.740166925631097,
            2.7576202181510405,
            2.775073510670984,
            2.792526803190927,
            2.8099800957108703,
            2.827433388230814,
            2.844886680750757,
            2.8623399732707,
            2.8797932657906435,
            2.897246558310587,
            2.9146998508305306,
            2.9321531433504737,
            2.949606435870417,
            2.9670597283903604,
            2.9845130209103035,
            3.0019663134302466,
            3.01941960595019,
            3.036872898470133,
            3.0543261909900763,
            3.07177948351002,
            3.0892327760299634,
            3.106686068549907,
            3.12413936106985,
            3.141592653589793
           ],
           "y": [
            3.0700892663737873,
            8.47922896118506,
            10.239675812471518,
            12.556165374659098,
            19.413065596004795,
            21.421059473879044,
            21.77323084824333,
            26.097380621754358,
            29.26987923387566,
            30.696355034325272,
            31.635402326617267,
            35.381337130885264,
            39.509308171808975,
            37.53319576497546,
            41.619049108493556,
            47.60099926802349,
            50.425668431836144,
            53.106767467647266,
            49.895374293462844,
            56.712441655463095,
            56.69156887452839,
            61.220597949156364,
            64.5052518566702,
            63.0862457788111,
            66.8113743142754,
            70.92757440134433,
            70.54029003346596,
            75.028217930925,
            77.98236281185108,
            78.25116648684408,
            81.63586845105425,
            84.48451490773276,
            85.76112706380782,
            92.11977127034417,
            86.65034369258697,
            90.21400216946189,
            91.11336368708795,
            98.68934067925174,
            98.75685252616069,
            101.56433403751564,
            99.04005836887865,
            104.36806040047479,
            108.10480785353596,
            108.86500327614495,
            108.04178686143615,
            109.88534278910684,
            111.45064181776284,
            116.11568373592199,
            116.74985971936968,
            121.2922469635339,
            120.26226811690898,
            125.58867892290633,
            128.42280091570672,
            127.06439739997018,
            127.88489234425246,
            128.88780581540288,
            134.5594301125551,
            135.19513551893075,
            139.867800776853,
            138.4006031972243,
            145.4574169998927,
            143.28607688843806,
            150.21402051086287,
            152.15056889666766,
            141.38226271212804,
            153.30145250621928,
            147.35390346185756,
            150.3995039159812,
            158.10861860688243,
            162.31720310381576,
            156.77645051945345,
            166.24150012478574,
            159.2292596156871,
            166.2059131022074,
            162.725187294696,
            168.9673493584726,
            173.37251117186923,
            172.77435382080196,
            168.04007837934176,
            181.98565478334666,
            179.46038726019745,
            187.011742365895,
            181.30895204908146,
            188.80116429773707,
            186.21189496210286,
            189.4969358905922,
            187.80861668802592,
            188.28181958147294,
            189.72001445644028,
            195.98181279401376,
            195.78924634685978,
            201.57779916285597,
            198.89462847419603,
            203.28421795801017,
            204.7743342042842,
            206.9574785213688,
            206.38098984645114,
            208.7804934971644,
            204.67106077701175,
            207.38519541920235,
            209.2983189549182,
            207.9194356084762,
            215.86831073176592,
            212.3612844450976,
            221.8405538267613,
            221.85260201022894,
            225.9857408187543,
            219.4909222088697,
            224.78099942506796,
            230.28628603820954,
            225.24621406614375,
            233.47284644245426,
            233.3510117734869,
            231.3993132358542,
            228.65913734993407,
            231.50202174719482,
            232.66909515680092,
            240.26420014789733,
            243.69307628541037,
            243.7808914168288,
            238.1050835505781,
            250.30553384421017,
            248.19517617041265,
            248.57888662322023,
            245.4702772551647,
            255.45496009738147,
            256.41842421282695,
            256.16386872024583,
            255.40182384757273,
            255.1835070836629,
            255.12101290052053,
            268.1762237217096,
            265.23406659465707,
            262.04864759369264,
            262.4840672923434,
            265.25171194880585,
            261.50096832556653,
            272.5114837223685,
            273.65017323167046,
            270.0053075292395,
            271.44381233997996,
            277.32667299631555,
            276.7549825633042,
            276.499771465064,
            280.69831464280566,
            275.999569752171,
            280.325152683881,
            288.34803306092607,
            280.35284791564914,
            290.8906231640896,
            296.5426993070457,
            294.5286001218254,
            288.8210102903963,
            294.14939429424146,
            295.60021313409175,
            289.2566306055349,
            293.42468646815985,
            296.46419441041485,
            298.61236406454924,
            303.82879098315755,
            294.11317259224614,
            304.872299446733,
            296.57657072602666,
            308.6898588628977,
            302.0124332701935,
            311.62886339515154,
            312.931366997096,
            312.5832809843605,
            316.13277155460776,
            316.2355596271547,
            315.11348000301933,
            313.9462931411036,
            323.765839968923,
            314.9464323039934,
            319.10291925367636,
            327.07649961219505,
            326.36343416724554,
            325.1646412080419,
            327.5058135674595,
            325.7286811972958
           ]
          },
          "sampling": "none",
          "position": "identity",
          "geom": "line"
         }
        ]
       },
       "apply_color_scheme": true,
       "swing_enabled": true
      }
     },
     "execution_count": 47,
     "metadata": {},
     "output_type": "execute_result"
    }
   ],
   "execution_count": 47
  },
  {
   "metadata": {
    "ExecuteTime": {
     "end_time": "2024-12-10T09:29:25.728050400Z",
     "start_time": "2024-12-10T09:29:23.445252800Z"
    }
   },
   "cell_type": "code",
   "source": [
    "val interferingObjects = (1..10).map { it / 100.0}\n",
    "\n",
    "val values = interferingObjects.map { interference(PI / 180 * 45, it, 0.05) }\n",
    "\n",
    "plot {\n",
    "    line {\n",
    "        x(interferingObjects)\n",
    "        y(values)\n",
    "    }\n",
    "    layout {\n",
    "        xAxisLabel = \"interfering objects rate\"\n",
    "        yAxisLabel = \"interference, dBm\"\n",
    "    }\n",
    "}"
   ],
   "outputs": [
    {
     "data": {
      "text/html": [
       "            <iframe src='about:blank' style='border:none !important;' width='600' height='400' srcdoc=\"&lt;html lang=&quot;en&quot;>\n",
       "   &lt;head>\n",
       "       &lt;meta charset=&quot;UTF-8&quot;>\n",
       "       &lt;style> html, body { margin: 0; overflow: hidden; } &lt;/style>\n",
       "       &lt;script type=&quot;text/javascript&quot; data-lets-plot-script=&quot;library&quot; src=&quot;https://cdn.jsdelivr.net/gh/JetBrains/lets-plot@v4.3.3/js-package/distr/lets-plot.min.js&quot;>&lt;/script>\n",
       "   &lt;/head>\n",
       "   &lt;body>\n",
       "          &lt;div id=&quot;cvSIPV&quot;>&lt;/div>\n",
       "   &lt;script type=&quot;text/javascript&quot; data-lets-plot-script=&quot;plot&quot;>\n",
       "       var plotSpec={\n",
       "&quot;mapping&quot;:{\n",
       "},\n",
       "&quot;data&quot;:{\n",
       "},\n",
       "&quot;kind&quot;:&quot;plot&quot;,\n",
       "&quot;scales&quot;:[{\n",
       "&quot;aesthetic&quot;:&quot;x&quot;,\n",
       "&quot;limits&quot;:[null,null]\n",
       "},{\n",
       "&quot;aesthetic&quot;:&quot;y&quot;,\n",
       "&quot;limits&quot;:[null,null]\n",
       "},{\n",
       "&quot;aesthetic&quot;:&quot;x&quot;,\n",
       "&quot;name&quot;:&quot;interfering objects rate&quot;\n",
       "},{\n",
       "&quot;aesthetic&quot;:&quot;y&quot;,\n",
       "&quot;name&quot;:&quot;interference, dBm&quot;\n",
       "}],\n",
       "&quot;layers&quot;:[{\n",
       "&quot;mapping&quot;:{\n",
       "&quot;x&quot;:&quot;x&quot;,\n",
       "&quot;y&quot;:&quot;y&quot;\n",
       "},\n",
       "&quot;stat&quot;:&quot;identity&quot;,\n",
       "&quot;data&quot;:{\n",
       "&quot;x&quot;:[0.01,0.02,0.03,0.04,0.05,0.06,0.07,0.08,0.09,0.1],\n",
       "&quot;y&quot;:[21.90199590710819,44.190531099800644,65.57696602880569,87.91996717881142,109.00436100910152,132.44292494500078,160.76986684305692,172.3256354452861,198.89358980019222,214.31165008810694]\n",
       "},\n",
       "&quot;sampling&quot;:&quot;none&quot;,\n",
       "&quot;position&quot;:&quot;identity&quot;,\n",
       "&quot;geom&quot;:&quot;line&quot;\n",
       "}]\n",
       "};\n",
       "       var plotContainer = document.getElementById(&quot;cvSIPV&quot;);\n",
       "       LetsPlot.buildPlotFromProcessedSpecs(plotSpec, -1, -1, plotContainer);\n",
       "   &lt;/script>\n",
       "   &lt;/body>\n",
       "&lt;/html>\"></iframe>            <svg xmlns=\"http://www.w3.org/2000/svg\" xmlns:xlink=\"http://www.w3.org/1999/xlink\" display=\"block\" class=\"plt-container\" id=dea17b08-f265-400c-86bd-166d63bf37c2 width=\"100%\" height=\"100%\" style=\"max-width: 600.0px; max-height: 400.0px;\" viewBox=\"0 0 600.0 400.0\" preserveAspectRatio=\"xMinYMin meet\">\n",
       "  <style type=\"text/css\">\n",
       "  .plt-container {\n",
       "   font-family: Lucida Grande, sans-serif;\n",
       "   user-select: none;\n",
       "   -webkit-user-select: none;\n",
       "   -moz-user-select: none;\n",
       "   -ms-user-select: none;\n",
       "}\n",
       "text {\n",
       "   text-rendering: optimizeLegibility;\n",
       "}\n",
       "#pUaP1jz .plot-title {\n",
       "   fill: #474747;\n",
       "   font-family: Lucida Grande, sans-serif;\n",
       "   font-size: 16.0px;\n",
       "   font-weight: normal;\n",
       "   font-style: normal;   \n",
       "}\n",
       "#pUaP1jz .plot-subtitle {\n",
       "   fill: #474747;\n",
       "   font-family: Lucida Grande, sans-serif;\n",
       "   font-size: 15.0px;\n",
       "   font-weight: normal;\n",
       "   font-style: normal;   \n",
       "}\n",
       "#pUaP1jz .plot-caption {\n",
       "   fill: #474747;\n",
       "   font-family: Lucida Grande, sans-serif;\n",
       "   font-size: 13.0px;\n",
       "   font-weight: normal;\n",
       "   font-style: normal;   \n",
       "}\n",
       "#pUaP1jz .legend-title {\n",
       "   fill: #474747;\n",
       "   font-family: Lucida Grande, sans-serif;\n",
       "   font-size: 15.0px;\n",
       "   font-weight: normal;\n",
       "   font-style: normal;   \n",
       "}\n",
       "#pUaP1jz .legend-item {\n",
       "   fill: #474747;\n",
       "   font-family: Lucida Grande, sans-serif;\n",
       "   font-size: 13.0px;\n",
       "   font-weight: normal;\n",
       "   font-style: normal;   \n",
       "}\n",
       "#pUaP1jz .axis-title-x {\n",
       "   fill: #474747;\n",
       "   font-family: Lucida Grande, sans-serif;\n",
       "   font-size: 15.0px;\n",
       "   font-weight: normal;\n",
       "   font-style: normal;   \n",
       "}\n",
       "#pUaP1jz .axis-text-x {\n",
       "   fill: #474747;\n",
       "   font-family: Lucida Grande, sans-serif;\n",
       "   font-size: 13.0px;\n",
       "   font-weight: normal;\n",
       "   font-style: normal;   \n",
       "}\n",
       "#dz4CmMh .axis-tooltip-text-x {\n",
       "   fill: #ffffff;\n",
       "   font-family: Lucida Grande, sans-serif;\n",
       "   font-size: 13.0px;\n",
       "   font-weight: normal;\n",
       "   font-style: normal;   \n",
       "}\n",
       "#pUaP1jz .axis-title-y {\n",
       "   fill: #474747;\n",
       "   font-family: Lucida Grande, sans-serif;\n",
       "   font-size: 15.0px;\n",
       "   font-weight: normal;\n",
       "   font-style: normal;   \n",
       "}\n",
       "#pUaP1jz .axis-text-y {\n",
       "   fill: #474747;\n",
       "   font-family: Lucida Grande, sans-serif;\n",
       "   font-size: 13.0px;\n",
       "   font-weight: normal;\n",
       "   font-style: normal;   \n",
       "}\n",
       "#dz4CmMh .axis-tooltip-text-y {\n",
       "   fill: #ffffff;\n",
       "   font-family: Lucida Grande, sans-serif;\n",
       "   font-size: 13.0px;\n",
       "   font-weight: normal;\n",
       "   font-style: normal;   \n",
       "}\n",
       "#pUaP1jz .facet-strip-text-x {\n",
       "   fill: #474747;\n",
       "   font-family: Lucida Grande, sans-serif;\n",
       "   font-size: 13.0px;\n",
       "   font-weight: normal;\n",
       "   font-style: normal;   \n",
       "}\n",
       "#pUaP1jz .facet-strip-text-y {\n",
       "   fill: #474747;\n",
       "   font-family: Lucida Grande, sans-serif;\n",
       "   font-size: 13.0px;\n",
       "   font-weight: normal;\n",
       "   font-style: normal;   \n",
       "}\n",
       "#dz4CmMh .tooltip-text {\n",
       "   fill: #474747;\n",
       "   font-family: Lucida Grande, sans-serif;\n",
       "   font-size: 13.0px;\n",
       "   font-weight: normal;\n",
       "   font-style: normal;   \n",
       "}\n",
       "#dz4CmMh .tooltip-title {\n",
       "   fill: #474747;\n",
       "   font-family: Lucida Grande, sans-serif;\n",
       "   font-size: 13.0px;\n",
       "   font-weight: bold;\n",
       "   font-style: normal;   \n",
       "}\n",
       "#dz4CmMh .tooltip-label {\n",
       "   fill: #474747;\n",
       "   font-family: Lucida Grande, sans-serif;\n",
       "   font-size: 13.0px;\n",
       "   font-weight: bold;\n",
       "   font-style: normal;   \n",
       "}\n",
       "\n",
       "  </style>\n",
       "  <g id=\"pUaP1jz\">\n",
       "    <path fill-rule=\"evenodd\" fill=\"rgb(255,255,255)\" fill-opacity=\"1.0\" d=\"M0.0 0.0 L0.0 400.0 L600.0 400.0 L600.0 0.0 Z\">\n",
       "    </path>\n",
       "    <g transform=\"translate(29.5 6.5 ) \">\n",
       "      <g>\n",
       "        <g transform=\"translate(29.941816366404606 0.0 ) \">\n",
       "          <g>\n",
       "            <line x1=\"24.275371983345245\" y1=\"0.0\" x2=\"24.275371983345245\" y2=\"341.0\" stroke=\"rgb(233,233,233)\" stroke-opacity=\"1.0\" stroke-width=\"1.0\" fill=\"none\">\n",
       "            </line>\n",
       "            <line x1=\"78.22064305744578\" y1=\"0.0\" x2=\"78.22064305744578\" y2=\"341.0\" stroke=\"rgb(233,233,233)\" stroke-opacity=\"1.0\" stroke-width=\"1.0\" fill=\"none\">\n",
       "            </line>\n",
       "            <line x1=\"132.1659141315463\" y1=\"0.0\" x2=\"132.1659141315463\" y2=\"341.0\" stroke=\"rgb(233,233,233)\" stroke-opacity=\"1.0\" stroke-width=\"1.0\" fill=\"none\">\n",
       "            </line>\n",
       "            <line x1=\"186.11118520564685\" y1=\"0.0\" x2=\"186.11118520564685\" y2=\"341.0\" stroke=\"rgb(233,233,233)\" stroke-opacity=\"1.0\" stroke-width=\"1.0\" fill=\"none\">\n",
       "            </line>\n",
       "            <line x1=\"240.0564562797474\" y1=\"0.0\" x2=\"240.0564562797474\" y2=\"341.0\" stroke=\"rgb(233,233,233)\" stroke-opacity=\"1.0\" stroke-width=\"1.0\" fill=\"none\">\n",
       "            </line>\n",
       "            <line x1=\"294.00172735384797\" y1=\"0.0\" x2=\"294.00172735384797\" y2=\"341.0\" stroke=\"rgb(233,233,233)\" stroke-opacity=\"1.0\" stroke-width=\"1.0\" fill=\"none\">\n",
       "            </line>\n",
       "            <line x1=\"347.94699842794853\" y1=\"0.0\" x2=\"347.94699842794853\" y2=\"341.0\" stroke=\"rgb(233,233,233)\" stroke-opacity=\"1.0\" stroke-width=\"1.0\" fill=\"none\">\n",
       "            </line>\n",
       "            <line x1=\"401.89226950204903\" y1=\"0.0\" x2=\"401.89226950204903\" y2=\"341.0\" stroke=\"rgb(233,233,233)\" stroke-opacity=\"1.0\" stroke-width=\"1.0\" fill=\"none\">\n",
       "            </line>\n",
       "            <line x1=\"455.83754057614954\" y1=\"0.0\" x2=\"455.83754057614954\" y2=\"341.0\" stroke=\"rgb(233,233,233)\" stroke-opacity=\"1.0\" stroke-width=\"1.0\" fill=\"none\">\n",
       "            </line>\n",
       "            <line x1=\"509.7828116502501\" y1=\"0.0\" x2=\"509.7828116502501\" y2=\"341.0\" stroke=\"rgb(233,233,233)\" stroke-opacity=\"1.0\" stroke-width=\"1.0\" fill=\"none\">\n",
       "            </line>\n",
       "          </g>\n",
       "        </g>\n",
       "        <g transform=\"translate(29.941816366404606 0.0 ) \">\n",
       "          <g>\n",
       "            <line x1=\"0.0\" y1=\"280.2300196246772\" x2=\"534.0581836335954\" y2=\"280.2300196246772\" stroke=\"rgb(233,233,233)\" stroke-opacity=\"1.0\" stroke-width=\"1.0\" fill=\"none\">\n",
       "            </line>\n",
       "            <line x1=\"0.0\" y1=\"199.672731239245\" x2=\"534.0581836335954\" y2=\"199.672731239245\" stroke=\"rgb(233,233,233)\" stroke-opacity=\"1.0\" stroke-width=\"1.0\" fill=\"none\">\n",
       "            </line>\n",
       "            <line x1=\"0.0\" y1=\"119.1154428538128\" x2=\"534.0581836335954\" y2=\"119.1154428538128\" stroke=\"rgb(233,233,233)\" stroke-opacity=\"1.0\" stroke-width=\"1.0\" fill=\"none\">\n",
       "            </line>\n",
       "            <line x1=\"0.0\" y1=\"38.558154468380565\" x2=\"534.0581836335954\" y2=\"38.558154468380565\" stroke=\"rgb(233,233,233)\" stroke-opacity=\"1.0\" stroke-width=\"1.0\" fill=\"none\">\n",
       "            </line>\n",
       "          </g>\n",
       "        </g>\n",
       "      </g>\n",
       "      <g clip-path=\"url(#ceIOv49)\" clip-bounds-jfx=\"[rect (29.941816366404606, 0.0), (534.0581836335954, 341.0)]\">\n",
       "        <g transform=\"translate(29.941816366404606 0.0 ) \">\n",
       "          <g>\n",
       "            <g>\n",
       "              <g>\n",
       "                <path d=\"M24.275371983345245 325.5 L24.275371983345245 325.5 L78.22064305744578 289.5899208558684 L132.1659141315463 255.13325673362561 L186.11118520564685 219.1354249928845 L240.0564562797474 185.16539310851036 L294.0017273538479 147.4024500220178 L347.94699842794853 101.76361747083598 L401.89226950204903 83.14558979473395 L455.83754057614954 40.34074257915057 L509.7828116502501 15.5 \" fill=\"none\" stroke-width=\"1.6500000000000001\" stroke=\"rgb(71,71,71)\" stroke-opacity=\"1.0\">\n",
       "                </path>\n",
       "              </g>\n",
       "            </g>\n",
       "          </g>\n",
       "        </g>\n",
       "        <defs>\n",
       "          <clipPath id=\"ceIOv49\">\n",
       "            <rect x=\"29.941816366404606\" y=\"0.0\" width=\"534.0581836335954\" height=\"341.0\">\n",
       "            </rect>\n",
       "          </clipPath>\n",
       "        </defs>\n",
       "      </g>\n",
       "      <g>\n",
       "        <g transform=\"translate(29.941816366404606 341.0 ) \">\n",
       "          <g transform=\"translate(24.275371983345245 0.0 ) \">\n",
       "            <line stroke-width=\"1.0\" stroke=\"rgb(71,71,71)\" stroke-opacity=\"1.0\" x2=\"0.0\" y2=\"4.0\">\n",
       "            </line>\n",
       "            <g transform=\"translate(0.0 7.0 ) \">\n",
       "              <text class=\"axis-text-x\" text-anchor=\"middle\" dy=\"0.7em\">\n",
       "                <tspan>0.01</tspan>\n",
       "              </text>\n",
       "            </g>\n",
       "          </g>\n",
       "          <g transform=\"translate(78.22064305744578 0.0 ) \">\n",
       "            <line stroke-width=\"1.0\" stroke=\"rgb(71,71,71)\" stroke-opacity=\"1.0\" x2=\"0.0\" y2=\"4.0\">\n",
       "            </line>\n",
       "            <g transform=\"translate(0.0 7.0 ) \">\n",
       "              <text class=\"axis-text-x\" text-anchor=\"middle\" dy=\"0.7em\">\n",
       "                <tspan>0.02</tspan>\n",
       "              </text>\n",
       "            </g>\n",
       "          </g>\n",
       "          <g transform=\"translate(132.1659141315463 0.0 ) \">\n",
       "            <line stroke-width=\"1.0\" stroke=\"rgb(71,71,71)\" stroke-opacity=\"1.0\" x2=\"0.0\" y2=\"4.0\">\n",
       "            </line>\n",
       "            <g transform=\"translate(0.0 7.0 ) \">\n",
       "              <text class=\"axis-text-x\" text-anchor=\"middle\" dy=\"0.7em\">\n",
       "                <tspan>0.03</tspan>\n",
       "              </text>\n",
       "            </g>\n",
       "          </g>\n",
       "          <g transform=\"translate(186.11118520564685 0.0 ) \">\n",
       "            <line stroke-width=\"1.0\" stroke=\"rgb(71,71,71)\" stroke-opacity=\"1.0\" x2=\"0.0\" y2=\"4.0\">\n",
       "            </line>\n",
       "            <g transform=\"translate(0.0 7.0 ) \">\n",
       "              <text class=\"axis-text-x\" text-anchor=\"middle\" dy=\"0.7em\">\n",
       "                <tspan>0.04</tspan>\n",
       "              </text>\n",
       "            </g>\n",
       "          </g>\n",
       "          <g transform=\"translate(240.0564562797474 0.0 ) \">\n",
       "            <line stroke-width=\"1.0\" stroke=\"rgb(71,71,71)\" stroke-opacity=\"1.0\" x2=\"0.0\" y2=\"4.0\">\n",
       "            </line>\n",
       "            <g transform=\"translate(0.0 7.0 ) \">\n",
       "              <text class=\"axis-text-x\" text-anchor=\"middle\" dy=\"0.7em\">\n",
       "                <tspan>0.05</tspan>\n",
       "              </text>\n",
       "            </g>\n",
       "          </g>\n",
       "          <g transform=\"translate(294.00172735384797 0.0 ) \">\n",
       "            <line stroke-width=\"1.0\" stroke=\"rgb(71,71,71)\" stroke-opacity=\"1.0\" x2=\"0.0\" y2=\"4.0\">\n",
       "            </line>\n",
       "            <g transform=\"translate(0.0 7.0 ) \">\n",
       "              <text class=\"axis-text-x\" text-anchor=\"middle\" dy=\"0.7em\">\n",
       "                <tspan>0.06</tspan>\n",
       "              </text>\n",
       "            </g>\n",
       "          </g>\n",
       "          <g transform=\"translate(347.94699842794853 0.0 ) \">\n",
       "            <line stroke-width=\"1.0\" stroke=\"rgb(71,71,71)\" stroke-opacity=\"1.0\" x2=\"0.0\" y2=\"4.0\">\n",
       "            </line>\n",
       "            <g transform=\"translate(0.0 7.0 ) \">\n",
       "              <text class=\"axis-text-x\" text-anchor=\"middle\" dy=\"0.7em\">\n",
       "                <tspan>0.07</tspan>\n",
       "              </text>\n",
       "            </g>\n",
       "          </g>\n",
       "          <g transform=\"translate(401.89226950204903 0.0 ) \">\n",
       "            <line stroke-width=\"1.0\" stroke=\"rgb(71,71,71)\" stroke-opacity=\"1.0\" x2=\"0.0\" y2=\"4.0\">\n",
       "            </line>\n",
       "            <g transform=\"translate(0.0 7.0 ) \">\n",
       "              <text class=\"axis-text-x\" text-anchor=\"middle\" dy=\"0.7em\">\n",
       "                <tspan>0.08</tspan>\n",
       "              </text>\n",
       "            </g>\n",
       "          </g>\n",
       "          <g transform=\"translate(455.83754057614954 0.0 ) \">\n",
       "            <line stroke-width=\"1.0\" stroke=\"rgb(71,71,71)\" stroke-opacity=\"1.0\" x2=\"0.0\" y2=\"4.0\">\n",
       "            </line>\n",
       "            <g transform=\"translate(0.0 7.0 ) \">\n",
       "              <text class=\"axis-text-x\" text-anchor=\"middle\" dy=\"0.7em\">\n",
       "                <tspan>0.09</tspan>\n",
       "              </text>\n",
       "            </g>\n",
       "          </g>\n",
       "          <g transform=\"translate(509.7828116502501 0.0 ) \">\n",
       "            <line stroke-width=\"1.0\" stroke=\"rgb(71,71,71)\" stroke-opacity=\"1.0\" x2=\"0.0\" y2=\"4.0\">\n",
       "            </line>\n",
       "            <g transform=\"translate(0.0 7.0 ) \">\n",
       "              <text class=\"axis-text-x\" text-anchor=\"middle\" dy=\"0.7em\">\n",
       "                <tspan>0.10</tspan>\n",
       "              </text>\n",
       "            </g>\n",
       "          </g>\n",
       "          <line x1=\"0.0\" y1=\"0.0\" x2=\"534.0581836335954\" y2=\"0.0\" stroke-width=\"1.0\" stroke=\"rgb(71,71,71)\" stroke-opacity=\"1.0\">\n",
       "          </line>\n",
       "        </g>\n",
       "        <g transform=\"translate(29.941816366404606 0.0 ) \">\n",
       "          <g transform=\"translate(0.0 280.2300196246772 ) \">\n",
       "            <g transform=\"translate(-3.0 0.0 ) \">\n",
       "              <text class=\"axis-text-y\" text-anchor=\"end\" dy=\"0.35em\">\n",
       "                <tspan>50</tspan>\n",
       "              </text>\n",
       "            </g>\n",
       "          </g>\n",
       "          <g transform=\"translate(0.0 199.672731239245 ) \">\n",
       "            <g transform=\"translate(-3.0 0.0 ) \">\n",
       "              <text class=\"axis-text-y\" text-anchor=\"end\" dy=\"0.35em\">\n",
       "                <tspan>100</tspan>\n",
       "              </text>\n",
       "            </g>\n",
       "          </g>\n",
       "          <g transform=\"translate(0.0 119.1154428538128 ) \">\n",
       "            <g transform=\"translate(-3.0 0.0 ) \">\n",
       "              <text class=\"axis-text-y\" text-anchor=\"end\" dy=\"0.35em\">\n",
       "                <tspan>150</tspan>\n",
       "              </text>\n",
       "            </g>\n",
       "          </g>\n",
       "          <g transform=\"translate(0.0 38.558154468380565 ) \">\n",
       "            <g transform=\"translate(-3.0 0.0 ) \">\n",
       "              <text class=\"axis-text-y\" text-anchor=\"end\" dy=\"0.35em\">\n",
       "                <tspan>200</tspan>\n",
       "              </text>\n",
       "            </g>\n",
       "          </g>\n",
       "        </g>\n",
       "      </g>\n",
       "    </g>\n",
       "    <g transform=\"translate(16.0 177.0 ) rotate(-90.0 ) \">\n",
       "      <text class=\"axis-title-y\" y=\"0.0\" text-anchor=\"middle\">\n",
       "        <tspan>interference, dBm</tspan>\n",
       "      </text>\n",
       "    </g>\n",
       "    <g transform=\"translate(326.4709081832023 393.0 ) \">\n",
       "      <text class=\"axis-title-x\" y=\"0.0\" text-anchor=\"middle\">\n",
       "        <tspan>interfering objects rate</tspan>\n",
       "      </text>\n",
       "    </g>\n",
       "    <path fill=\"rgb(0,0,0)\" fill-opacity=\"0.0\" stroke=\"rgb(71,71,71)\" stroke-opacity=\"1.0\" stroke-width=\"0.0\" d=\"M0.0 0.0 L0.0 400.0 L600.0 400.0 L600.0 0.0 Z\">\n",
       "    </path>\n",
       "  </g>\n",
       "  <g id=\"dz4CmMh\">\n",
       "  </g>\n",
       "</svg>\n",
       "        <script>document.getElementById(\"dea17b08-f265-400c-86bd-166d63bf37c2\").style.display = \"none\";</script>"
      ],
      "application/plot+json": {
       "output_type": "lets_plot_spec",
       "output": {
        "mapping": {},
        "data": {},
        "kind": "plot",
        "scales": [
         {
          "aesthetic": "x",
          "limits": [
           null,
           null
          ]
         },
         {
          "aesthetic": "y",
          "limits": [
           null,
           null
          ]
         },
         {
          "aesthetic": "x",
          "name": "interfering objects rate"
         },
         {
          "aesthetic": "y",
          "name": "interference, dBm"
         }
        ],
        "layers": [
         {
          "mapping": {
           "x": "x",
           "y": "y"
          },
          "stat": "identity",
          "data": {
           "x": [
            0.01,
            0.02,
            0.03,
            0.04,
            0.05,
            0.06,
            0.07,
            0.08,
            0.09,
            0.1
           ],
           "y": [
            21.90199590710819,
            44.190531099800644,
            65.57696602880569,
            87.91996717881142,
            109.00436100910152,
            132.44292494500078,
            160.76986684305692,
            172.3256354452861,
            198.89358980019222,
            214.31165008810694
           ]
          },
          "sampling": "none",
          "position": "identity",
          "geom": "line"
         }
        ]
       },
       "apply_color_scheme": true,
       "swing_enabled": true
      }
     },
     "execution_count": 48,
     "metadata": {},
     "output_type": "execute_result"
    }
   ],
   "execution_count": 48
  },
  {
   "metadata": {
    "ExecuteTime": {
     "end_time": "2024-12-10T09:29:50.188692400Z",
     "start_time": "2024-12-10T09:29:27.662675700Z"
    }
   },
   "cell_type": "code",
   "source": [
    "val blockingObjects = (1..20).map { it / 100.0}\n",
    "\n",
    "val values = blockingObjects.map { interference(PI / 180 * 45, 0.10, it) }\n",
    "\n",
    "plot {\n",
    "    line {\n",
    "        x(blockingObjects)\n",
    "        y(values)\n",
    "    }\n",
    "    layout {\n",
    "        xAxisLabel = \"blocking objects rate\"\n",
    "        yAxisLabel = \"interference, dBm\"\n",
    "    }\n",
    "}"
   ],
   "outputs": [
    {
     "data": {
      "text/html": [
       "            <iframe src='about:blank' style='border:none !important;' width='600' height='400' srcdoc=\"&lt;html lang=&quot;en&quot;>\n",
       "   &lt;head>\n",
       "       &lt;meta charset=&quot;UTF-8&quot;>\n",
       "       &lt;style> html, body { margin: 0; overflow: hidden; } &lt;/style>\n",
       "       &lt;script type=&quot;text/javascript&quot; data-lets-plot-script=&quot;library&quot; src=&quot;https://cdn.jsdelivr.net/gh/JetBrains/lets-plot@v4.3.3/js-package/distr/lets-plot.min.js&quot;>&lt;/script>\n",
       "   &lt;/head>\n",
       "   &lt;body>\n",
       "          &lt;div id=&quot;5dyyrG&quot;>&lt;/div>\n",
       "   &lt;script type=&quot;text/javascript&quot; data-lets-plot-script=&quot;plot&quot;>\n",
       "       var plotSpec={\n",
       "&quot;mapping&quot;:{\n",
       "},\n",
       "&quot;data&quot;:{\n",
       "},\n",
       "&quot;kind&quot;:&quot;plot&quot;,\n",
       "&quot;scales&quot;:[{\n",
       "&quot;aesthetic&quot;:&quot;x&quot;,\n",
       "&quot;limits&quot;:[null,null]\n",
       "},{\n",
       "&quot;aesthetic&quot;:&quot;y&quot;,\n",
       "&quot;limits&quot;:[null,null]\n",
       "},{\n",
       "&quot;aesthetic&quot;:&quot;x&quot;,\n",
       "&quot;name&quot;:&quot;blocking objects rate&quot;\n",
       "},{\n",
       "&quot;aesthetic&quot;:&quot;y&quot;,\n",
       "&quot;name&quot;:&quot;interference, dBm&quot;\n",
       "}],\n",
       "&quot;layers&quot;:[{\n",
       "&quot;mapping&quot;:{\n",
       "&quot;x&quot;:&quot;x&quot;,\n",
       "&quot;y&quot;:&quot;y&quot;\n",
       "},\n",
       "&quot;stat&quot;:&quot;identity&quot;,\n",
       "&quot;data&quot;:{\n",
       "&quot;x&quot;:[0.01,0.02,0.03,0.04,0.05,0.06,0.07,0.08,0.09,0.1,0.11,0.12,0.13,0.14,0.15,0.16,0.17,0.18,0.19,0.2],\n",
       "&quot;y&quot;:[244.45253809750966,225.0061345590221,230.17461661509512,226.2721823448059,220.3757301622606,218.2095322177981,216.46474659108435,212.330433672307,210.06416685725384,211.7375898399522,197.10677029378957,203.53397854247876,196.65727022571286,194.54109744987744,186.74025171144729,190.6041230394047,186.0166724518417,188.03055895826472,187.26200220401074,177.07850283877033]\n",
       "},\n",
       "&quot;sampling&quot;:&quot;none&quot;,\n",
       "&quot;position&quot;:&quot;identity&quot;,\n",
       "&quot;geom&quot;:&quot;line&quot;\n",
       "}]\n",
       "};\n",
       "       var plotContainer = document.getElementById(&quot;5dyyrG&quot;);\n",
       "       LetsPlot.buildPlotFromProcessedSpecs(plotSpec, -1, -1, plotContainer);\n",
       "   &lt;/script>\n",
       "   &lt;/body>\n",
       "&lt;/html>\"></iframe>            <svg xmlns=\"http://www.w3.org/2000/svg\" xmlns:xlink=\"http://www.w3.org/1999/xlink\" display=\"block\" class=\"plt-container\" id=112c4ba7-9a71-410a-9ae2-5a6c35bc0643 width=\"100%\" height=\"100%\" style=\"max-width: 600.0px; max-height: 400.0px;\" viewBox=\"0 0 600.0 400.0\" preserveAspectRatio=\"xMinYMin meet\">\n",
       "  <style type=\"text/css\">\n",
       "  .plt-container {\n",
       "   font-family: Lucida Grande, sans-serif;\n",
       "   user-select: none;\n",
       "   -webkit-user-select: none;\n",
       "   -moz-user-select: none;\n",
       "   -ms-user-select: none;\n",
       "}\n",
       "text {\n",
       "   text-rendering: optimizeLegibility;\n",
       "}\n",
       "#pvMerez .plot-title {\n",
       "   fill: #474747;\n",
       "   font-family: Lucida Grande, sans-serif;\n",
       "   font-size: 16.0px;\n",
       "   font-weight: normal;\n",
       "   font-style: normal;   \n",
       "}\n",
       "#pvMerez .plot-subtitle {\n",
       "   fill: #474747;\n",
       "   font-family: Lucida Grande, sans-serif;\n",
       "   font-size: 15.0px;\n",
       "   font-weight: normal;\n",
       "   font-style: normal;   \n",
       "}\n",
       "#pvMerez .plot-caption {\n",
       "   fill: #474747;\n",
       "   font-family: Lucida Grande, sans-serif;\n",
       "   font-size: 13.0px;\n",
       "   font-weight: normal;\n",
       "   font-style: normal;   \n",
       "}\n",
       "#pvMerez .legend-title {\n",
       "   fill: #474747;\n",
       "   font-family: Lucida Grande, sans-serif;\n",
       "   font-size: 15.0px;\n",
       "   font-weight: normal;\n",
       "   font-style: normal;   \n",
       "}\n",
       "#pvMerez .legend-item {\n",
       "   fill: #474747;\n",
       "   font-family: Lucida Grande, sans-serif;\n",
       "   font-size: 13.0px;\n",
       "   font-weight: normal;\n",
       "   font-style: normal;   \n",
       "}\n",
       "#pvMerez .axis-title-x {\n",
       "   fill: #474747;\n",
       "   font-family: Lucida Grande, sans-serif;\n",
       "   font-size: 15.0px;\n",
       "   font-weight: normal;\n",
       "   font-style: normal;   \n",
       "}\n",
       "#pvMerez .axis-text-x {\n",
       "   fill: #474747;\n",
       "   font-family: Lucida Grande, sans-serif;\n",
       "   font-size: 13.0px;\n",
       "   font-weight: normal;\n",
       "   font-style: normal;   \n",
       "}\n",
       "#dMPEDrv .axis-tooltip-text-x {\n",
       "   fill: #ffffff;\n",
       "   font-family: Lucida Grande, sans-serif;\n",
       "   font-size: 13.0px;\n",
       "   font-weight: normal;\n",
       "   font-style: normal;   \n",
       "}\n",
       "#pvMerez .axis-title-y {\n",
       "   fill: #474747;\n",
       "   font-family: Lucida Grande, sans-serif;\n",
       "   font-size: 15.0px;\n",
       "   font-weight: normal;\n",
       "   font-style: normal;   \n",
       "}\n",
       "#pvMerez .axis-text-y {\n",
       "   fill: #474747;\n",
       "   font-family: Lucida Grande, sans-serif;\n",
       "   font-size: 13.0px;\n",
       "   font-weight: normal;\n",
       "   font-style: normal;   \n",
       "}\n",
       "#dMPEDrv .axis-tooltip-text-y {\n",
       "   fill: #ffffff;\n",
       "   font-family: Lucida Grande, sans-serif;\n",
       "   font-size: 13.0px;\n",
       "   font-weight: normal;\n",
       "   font-style: normal;   \n",
       "}\n",
       "#pvMerez .facet-strip-text-x {\n",
       "   fill: #474747;\n",
       "   font-family: Lucida Grande, sans-serif;\n",
       "   font-size: 13.0px;\n",
       "   font-weight: normal;\n",
       "   font-style: normal;   \n",
       "}\n",
       "#pvMerez .facet-strip-text-y {\n",
       "   fill: #474747;\n",
       "   font-family: Lucida Grande, sans-serif;\n",
       "   font-size: 13.0px;\n",
       "   font-weight: normal;\n",
       "   font-style: normal;   \n",
       "}\n",
       "#dMPEDrv .tooltip-text {\n",
       "   fill: #474747;\n",
       "   font-family: Lucida Grande, sans-serif;\n",
       "   font-size: 13.0px;\n",
       "   font-weight: normal;\n",
       "   font-style: normal;   \n",
       "}\n",
       "#dMPEDrv .tooltip-title {\n",
       "   fill: #474747;\n",
       "   font-family: Lucida Grande, sans-serif;\n",
       "   font-size: 13.0px;\n",
       "   font-weight: bold;\n",
       "   font-style: normal;   \n",
       "}\n",
       "#dMPEDrv .tooltip-label {\n",
       "   fill: #474747;\n",
       "   font-family: Lucida Grande, sans-serif;\n",
       "   font-size: 13.0px;\n",
       "   font-weight: bold;\n",
       "   font-style: normal;   \n",
       "}\n",
       "\n",
       "  </style>\n",
       "  <g id=\"pvMerez\">\n",
       "    <path fill-rule=\"evenodd\" fill=\"rgb(255,255,255)\" fill-opacity=\"1.0\" d=\"M0.0 0.0 L0.0 400.0 L600.0 400.0 L600.0 0.0 Z\">\n",
       "    </path>\n",
       "    <g transform=\"translate(29.5 6.5 ) \">\n",
       "      <g>\n",
       "        <g transform=\"translate(29.941816366404606 0.0 ) \">\n",
       "          <g>\n",
       "            <line x1=\"49.82839512370865\" y1=\"0.0\" x2=\"49.82839512370865\" y2=\"341.0\" stroke=\"rgb(233,233,233)\" stroke-opacity=\"1.0\" stroke-width=\"1.0\" fill=\"none\">\n",
       "            </line>\n",
       "            <line x1=\"100.93444140443547\" y1=\"0.0\" x2=\"100.93444140443547\" y2=\"341.0\" stroke=\"rgb(233,233,233)\" stroke-opacity=\"1.0\" stroke-width=\"1.0\" fill=\"none\">\n",
       "            </line>\n",
       "            <line x1=\"152.0404876851623\" y1=\"0.0\" x2=\"152.0404876851623\" y2=\"341.0\" stroke=\"rgb(233,233,233)\" stroke-opacity=\"1.0\" stroke-width=\"1.0\" fill=\"none\">\n",
       "            </line>\n",
       "            <line x1=\"203.14653396588912\" y1=\"0.0\" x2=\"203.14653396588912\" y2=\"341.0\" stroke=\"rgb(233,233,233)\" stroke-opacity=\"1.0\" stroke-width=\"1.0\" fill=\"none\">\n",
       "            </line>\n",
       "            <line x1=\"254.25258024661596\" y1=\"0.0\" x2=\"254.25258024661596\" y2=\"341.0\" stroke=\"rgb(233,233,233)\" stroke-opacity=\"1.0\" stroke-width=\"1.0\" fill=\"none\">\n",
       "            </line>\n",
       "            <line x1=\"305.3586265273428\" y1=\"0.0\" x2=\"305.3586265273428\" y2=\"341.0\" stroke=\"rgb(233,233,233)\" stroke-opacity=\"1.0\" stroke-width=\"1.0\" fill=\"none\">\n",
       "            </line>\n",
       "            <line x1=\"356.4646728080696\" y1=\"0.0\" x2=\"356.4646728080696\" y2=\"341.0\" stroke=\"rgb(233,233,233)\" stroke-opacity=\"1.0\" stroke-width=\"1.0\" fill=\"none\">\n",
       "            </line>\n",
       "            <line x1=\"407.5707190887964\" y1=\"0.0\" x2=\"407.5707190887964\" y2=\"341.0\" stroke=\"rgb(233,233,233)\" stroke-opacity=\"1.0\" stroke-width=\"1.0\" fill=\"none\">\n",
       "            </line>\n",
       "            <line x1=\"458.6767653695232\" y1=\"0.0\" x2=\"458.6767653695232\" y2=\"341.0\" stroke=\"rgb(233,233,233)\" stroke-opacity=\"1.0\" stroke-width=\"1.0\" fill=\"none\">\n",
       "            </line>\n",
       "            <line x1=\"509.78281165025004\" y1=\"0.0\" x2=\"509.78281165025004\" y2=\"341.0\" stroke=\"rgb(233,233,233)\" stroke-opacity=\"1.0\" stroke-width=\"1.0\" fill=\"none\">\n",
       "            </line>\n",
       "          </g>\n",
       "        </g>\n",
       "        <g transform=\"translate(29.941816366404606 0.0 ) \">\n",
       "          <g>\n",
       "            <line x1=\"0.0\" y1=\"312.0576684474494\" x2=\"534.0581836335954\" y2=\"312.0576684474494\" stroke=\"rgb(233,233,233)\" stroke-opacity=\"1.0\" stroke-width=\"1.0\" fill=\"none\">\n",
       "            </line>\n",
       "            <line x1=\"0.0\" y1=\"266.0458778801345\" x2=\"534.0581836335954\" y2=\"266.0458778801345\" stroke=\"rgb(233,233,233)\" stroke-opacity=\"1.0\" stroke-width=\"1.0\" fill=\"none\">\n",
       "            </line>\n",
       "            <line x1=\"0.0\" y1=\"220.03408731281968\" x2=\"534.0581836335954\" y2=\"220.03408731281968\" stroke=\"rgb(233,233,233)\" stroke-opacity=\"1.0\" stroke-width=\"1.0\" fill=\"none\">\n",
       "            </line>\n",
       "            <line x1=\"0.0\" y1=\"174.02229674550495\" x2=\"534.0581836335954\" y2=\"174.02229674550495\" stroke=\"rgb(233,233,233)\" stroke-opacity=\"1.0\" stroke-width=\"1.0\" fill=\"none\">\n",
       "            </line>\n",
       "            <line x1=\"0.0\" y1=\"128.0105061781901\" x2=\"534.0581836335954\" y2=\"128.0105061781901\" stroke=\"rgb(233,233,233)\" stroke-opacity=\"1.0\" stroke-width=\"1.0\" fill=\"none\">\n",
       "            </line>\n",
       "            <line x1=\"0.0\" y1=\"81.99871561087525\" x2=\"534.0581836335954\" y2=\"81.99871561087525\" stroke=\"rgb(233,233,233)\" stroke-opacity=\"1.0\" stroke-width=\"1.0\" fill=\"none\">\n",
       "            </line>\n",
       "            <line x1=\"0.0\" y1=\"35.986925043560404\" x2=\"534.0581836335954\" y2=\"35.986925043560404\" stroke=\"rgb(233,233,233)\" stroke-opacity=\"1.0\" stroke-width=\"1.0\" fill=\"none\">\n",
       "            </line>\n",
       "          </g>\n",
       "        </g>\n",
       "      </g>\n",
       "      <g clip-path=\"url(#cVlYdHf)\" clip-bounds-jfx=\"[rect (29.941816366404606, 0.0), (534.0581836335954, 341.0)]\">\n",
       "        <g transform=\"translate(29.941816366404606 0.0 ) \">\n",
       "          <g>\n",
       "            <g>\n",
       "              <g>\n",
       "                <path d=\"M24.275371983345245 15.5 L24.275371983345245 15.5 L49.82839512370865 104.976384690038 L75.38141826407207 81.19527329854213 L100.93444140443547 99.15107213326814 L126.4874645447989 126.2817044246143 L152.0404876851623 136.2487690394098 L177.59351082552573 144.27684012353131 L203.14653396588912 163.2995541393841 L228.6995571062525 173.72705354577226 L254.25258024661596 166.02733476472747 L279.8056033869794 233.3463552433485 L305.3586265273428 203.77361925622802 L330.9116496677062 235.41458554258247 L356.4646728080696 245.15147539918178 L382.017695948433 281.0445634356396 L407.5707190887964 263.26619960353673 L433.12374222915986 284.3738811708221 L458.6767653695232 275.1076287548343 L484.22978850988665 278.6438959964173 L509.7828116502501 325.4999999999998 \" fill=\"none\" stroke-width=\"1.6500000000000001\" stroke=\"rgb(71,71,71)\" stroke-opacity=\"1.0\">\n",
       "                </path>\n",
       "              </g>\n",
       "            </g>\n",
       "          </g>\n",
       "        </g>\n",
       "        <defs>\n",
       "          <clipPath id=\"cVlYdHf\">\n",
       "            <rect x=\"29.941816366404606\" y=\"0.0\" width=\"534.0581836335954\" height=\"341.0\">\n",
       "            </rect>\n",
       "          </clipPath>\n",
       "        </defs>\n",
       "      </g>\n",
       "      <g>\n",
       "        <g transform=\"translate(29.941816366404606 341.0 ) \">\n",
       "          <g transform=\"translate(49.82839512370865 0.0 ) \">\n",
       "            <line stroke-width=\"1.0\" stroke=\"rgb(71,71,71)\" stroke-opacity=\"1.0\" x2=\"0.0\" y2=\"4.0\">\n",
       "            </line>\n",
       "            <g transform=\"translate(0.0 7.0 ) \">\n",
       "              <text class=\"axis-text-x\" text-anchor=\"middle\" dy=\"0.7em\">\n",
       "                <tspan>0.02</tspan>\n",
       "              </text>\n",
       "            </g>\n",
       "          </g>\n",
       "          <g transform=\"translate(100.93444140443547 0.0 ) \">\n",
       "            <line stroke-width=\"1.0\" stroke=\"rgb(71,71,71)\" stroke-opacity=\"1.0\" x2=\"0.0\" y2=\"4.0\">\n",
       "            </line>\n",
       "            <g transform=\"translate(0.0 7.0 ) \">\n",
       "              <text class=\"axis-text-x\" text-anchor=\"middle\" dy=\"0.7em\">\n",
       "                <tspan>0.04</tspan>\n",
       "              </text>\n",
       "            </g>\n",
       "          </g>\n",
       "          <g transform=\"translate(152.0404876851623 0.0 ) \">\n",
       "            <line stroke-width=\"1.0\" stroke=\"rgb(71,71,71)\" stroke-opacity=\"1.0\" x2=\"0.0\" y2=\"4.0\">\n",
       "            </line>\n",
       "            <g transform=\"translate(0.0 7.0 ) \">\n",
       "              <text class=\"axis-text-x\" text-anchor=\"middle\" dy=\"0.7em\">\n",
       "                <tspan>0.06</tspan>\n",
       "              </text>\n",
       "            </g>\n",
       "          </g>\n",
       "          <g transform=\"translate(203.14653396588912 0.0 ) \">\n",
       "            <line stroke-width=\"1.0\" stroke=\"rgb(71,71,71)\" stroke-opacity=\"1.0\" x2=\"0.0\" y2=\"4.0\">\n",
       "            </line>\n",
       "            <g transform=\"translate(0.0 7.0 ) \">\n",
       "              <text class=\"axis-text-x\" text-anchor=\"middle\" dy=\"0.7em\">\n",
       "                <tspan>0.08</tspan>\n",
       "              </text>\n",
       "            </g>\n",
       "          </g>\n",
       "          <g transform=\"translate(254.25258024661596 0.0 ) \">\n",
       "            <line stroke-width=\"1.0\" stroke=\"rgb(71,71,71)\" stroke-opacity=\"1.0\" x2=\"0.0\" y2=\"4.0\">\n",
       "            </line>\n",
       "            <g transform=\"translate(0.0 7.0 ) \">\n",
       "              <text class=\"axis-text-x\" text-anchor=\"middle\" dy=\"0.7em\">\n",
       "                <tspan>0.10</tspan>\n",
       "              </text>\n",
       "            </g>\n",
       "          </g>\n",
       "          <g transform=\"translate(305.3586265273428 0.0 ) \">\n",
       "            <line stroke-width=\"1.0\" stroke=\"rgb(71,71,71)\" stroke-opacity=\"1.0\" x2=\"0.0\" y2=\"4.0\">\n",
       "            </line>\n",
       "            <g transform=\"translate(0.0 7.0 ) \">\n",
       "              <text class=\"axis-text-x\" text-anchor=\"middle\" dy=\"0.7em\">\n",
       "                <tspan>0.12</tspan>\n",
       "              </text>\n",
       "            </g>\n",
       "          </g>\n",
       "          <g transform=\"translate(356.4646728080696 0.0 ) \">\n",
       "            <line stroke-width=\"1.0\" stroke=\"rgb(71,71,71)\" stroke-opacity=\"1.0\" x2=\"0.0\" y2=\"4.0\">\n",
       "            </line>\n",
       "            <g transform=\"translate(0.0 7.0 ) \">\n",
       "              <text class=\"axis-text-x\" text-anchor=\"middle\" dy=\"0.7em\">\n",
       "                <tspan>0.14</tspan>\n",
       "              </text>\n",
       "            </g>\n",
       "          </g>\n",
       "          <g transform=\"translate(407.5707190887964 0.0 ) \">\n",
       "            <line stroke-width=\"1.0\" stroke=\"rgb(71,71,71)\" stroke-opacity=\"1.0\" x2=\"0.0\" y2=\"4.0\">\n",
       "            </line>\n",
       "            <g transform=\"translate(0.0 7.0 ) \">\n",
       "              <text class=\"axis-text-x\" text-anchor=\"middle\" dy=\"0.7em\">\n",
       "                <tspan>0.16</tspan>\n",
       "              </text>\n",
       "            </g>\n",
       "          </g>\n",
       "          <g transform=\"translate(458.6767653695232 0.0 ) \">\n",
       "            <line stroke-width=\"1.0\" stroke=\"rgb(71,71,71)\" stroke-opacity=\"1.0\" x2=\"0.0\" y2=\"4.0\">\n",
       "            </line>\n",
       "            <g transform=\"translate(0.0 7.0 ) \">\n",
       "              <text class=\"axis-text-x\" text-anchor=\"middle\" dy=\"0.7em\">\n",
       "                <tspan>0.18</tspan>\n",
       "              </text>\n",
       "            </g>\n",
       "          </g>\n",
       "          <g transform=\"translate(509.78281165025004 0.0 ) \">\n",
       "            <line stroke-width=\"1.0\" stroke=\"rgb(71,71,71)\" stroke-opacity=\"1.0\" x2=\"0.0\" y2=\"4.0\">\n",
       "            </line>\n",
       "            <g transform=\"translate(0.0 7.0 ) \">\n",
       "              <text class=\"axis-text-x\" text-anchor=\"middle\" dy=\"0.7em\">\n",
       "                <tspan>0.20</tspan>\n",
       "              </text>\n",
       "            </g>\n",
       "          </g>\n",
       "          <line x1=\"0.0\" y1=\"0.0\" x2=\"534.0581836335954\" y2=\"0.0\" stroke-width=\"1.0\" stroke=\"rgb(71,71,71)\" stroke-opacity=\"1.0\">\n",
       "          </line>\n",
       "        </g>\n",
       "        <g transform=\"translate(29.941816366404606 0.0 ) \">\n",
       "          <g transform=\"translate(0.0 312.0576684474494 ) \">\n",
       "            <g transform=\"translate(-3.0 0.0 ) \">\n",
       "              <text class=\"axis-text-y\" text-anchor=\"end\" dy=\"0.35em\">\n",
       "                <tspan>180</tspan>\n",
       "              </text>\n",
       "            </g>\n",
       "          </g>\n",
       "          <g transform=\"translate(0.0 266.0458778801345 ) \">\n",
       "            <g transform=\"translate(-3.0 0.0 ) \">\n",
       "              <text class=\"axis-text-y\" text-anchor=\"end\" dy=\"0.35em\">\n",
       "                <tspan>190</tspan>\n",
       "              </text>\n",
       "            </g>\n",
       "          </g>\n",
       "          <g transform=\"translate(0.0 220.03408731281968 ) \">\n",
       "            <g transform=\"translate(-3.0 0.0 ) \">\n",
       "              <text class=\"axis-text-y\" text-anchor=\"end\" dy=\"0.35em\">\n",
       "                <tspan>200</tspan>\n",
       "              </text>\n",
       "            </g>\n",
       "          </g>\n",
       "          <g transform=\"translate(0.0 174.02229674550495 ) \">\n",
       "            <g transform=\"translate(-3.0 0.0 ) \">\n",
       "              <text class=\"axis-text-y\" text-anchor=\"end\" dy=\"0.35em\">\n",
       "                <tspan>210</tspan>\n",
       "              </text>\n",
       "            </g>\n",
       "          </g>\n",
       "          <g transform=\"translate(0.0 128.0105061781901 ) \">\n",
       "            <g transform=\"translate(-3.0 0.0 ) \">\n",
       "              <text class=\"axis-text-y\" text-anchor=\"end\" dy=\"0.35em\">\n",
       "                <tspan>220</tspan>\n",
       "              </text>\n",
       "            </g>\n",
       "          </g>\n",
       "          <g transform=\"translate(0.0 81.99871561087525 ) \">\n",
       "            <g transform=\"translate(-3.0 0.0 ) \">\n",
       "              <text class=\"axis-text-y\" text-anchor=\"end\" dy=\"0.35em\">\n",
       "                <tspan>230</tspan>\n",
       "              </text>\n",
       "            </g>\n",
       "          </g>\n",
       "          <g transform=\"translate(0.0 35.986925043560404 ) \">\n",
       "            <g transform=\"translate(-3.0 0.0 ) \">\n",
       "              <text class=\"axis-text-y\" text-anchor=\"end\" dy=\"0.35em\">\n",
       "                <tspan>240</tspan>\n",
       "              </text>\n",
       "            </g>\n",
       "          </g>\n",
       "        </g>\n",
       "      </g>\n",
       "    </g>\n",
       "    <g transform=\"translate(16.0 177.0 ) rotate(-90.0 ) \">\n",
       "      <text class=\"axis-title-y\" y=\"0.0\" text-anchor=\"middle\">\n",
       "        <tspan>interference, dBm</tspan>\n",
       "      </text>\n",
       "    </g>\n",
       "    <g transform=\"translate(326.4709081832023 393.0 ) \">\n",
       "      <text class=\"axis-title-x\" y=\"0.0\" text-anchor=\"middle\">\n",
       "        <tspan>blocking objects rate</tspan>\n",
       "      </text>\n",
       "    </g>\n",
       "    <path fill=\"rgb(0,0,0)\" fill-opacity=\"0.0\" stroke=\"rgb(71,71,71)\" stroke-opacity=\"1.0\" stroke-width=\"0.0\" d=\"M0.0 0.0 L0.0 400.0 L600.0 400.0 L600.0 0.0 Z\">\n",
       "    </path>\n",
       "  </g>\n",
       "  <g id=\"dMPEDrv\">\n",
       "  </g>\n",
       "</svg>\n",
       "        <script>document.getElementById(\"112c4ba7-9a71-410a-9ae2-5a6c35bc0643\").style.display = \"none\";</script>"
      ],
      "application/plot+json": {
       "output_type": "lets_plot_spec",
       "output": {
        "mapping": {},
        "data": {},
        "kind": "plot",
        "scales": [
         {
          "aesthetic": "x",
          "limits": [
           null,
           null
          ]
         },
         {
          "aesthetic": "y",
          "limits": [
           null,
           null
          ]
         },
         {
          "aesthetic": "x",
          "name": "blocking objects rate"
         },
         {
          "aesthetic": "y",
          "name": "interference, dBm"
         }
        ],
        "layers": [
         {
          "mapping": {
           "x": "x",
           "y": "y"
          },
          "stat": "identity",
          "data": {
           "x": [
            0.01,
            0.02,
            0.03,
            0.04,
            0.05,
            0.06,
            0.07,
            0.08,
            0.09,
            0.1,
            0.11,
            0.12,
            0.13,
            0.14,
            0.15,
            0.16,
            0.17,
            0.18,
            0.19,
            0.2
           ],
           "y": [
            244.45253809750966,
            225.0061345590221,
            230.17461661509512,
            226.2721823448059,
            220.3757301622606,
            218.2095322177981,
            216.46474659108435,
            212.330433672307,
            210.06416685725384,
            211.7375898399522,
            197.10677029378957,
            203.53397854247876,
            196.65727022571286,
            194.54109744987744,
            186.74025171144729,
            190.6041230394047,
            186.0166724518417,
            188.03055895826472,
            187.26200220401074,
            177.07850283877033
           ]
          },
          "sampling": "none",
          "position": "identity",
          "geom": "line"
         }
        ]
       },
       "apply_color_scheme": true,
       "swing_enabled": true
      }
     },
     "execution_count": 49,
     "metadata": {},
     "output_type": "execute_result"
    }
   ],
   "execution_count": 49
  }
 ],
 "metadata": {
  "kernelspec": {
   "display_name": "Kotlin",
   "language": "kotlin",
   "name": "kotlin"
  },
  "language_info": {
   "name": "kotlin",
   "version": "1.9.23",
   "mimetype": "text/x-kotlin",
   "file_extension": ".kt",
   "pygments_lexer": "kotlin",
   "codemirror_mode": "text/x-kotlin",
   "nbconvert_exporter": ""
  }
 },
 "nbformat": 4,
 "nbformat_minor": 0
}
