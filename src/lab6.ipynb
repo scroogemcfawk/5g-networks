{
 "cells": [
  {
   "cell_type": "code",
   "metadata": {
    "collapsed": true,
    "ExecuteTime": {
     "end_time": "2024-12-07T07:54:44.423265800Z",
     "start_time": "2024-12-07T07:54:38.075210900Z"
    }
   },
   "source": [
    "%use kandy, multik\n",
    "import generator.Point\n",
    "import generator.Generator\n",
    "import generator.Sector\n",
    "import kotlin.random.Random\n",
    "import kotlin.math.PI\n",
    "import org.apache.commons.math3.distribution.PoissonDistribution"
   ],
   "outputs": [],
   "execution_count": 1
  },
  {
   "metadata": {
    "ExecuteTime": {
     "end_time": "2024-12-07T09:44:32.629900600Z",
     "start_time": "2024-12-07T09:44:32.556855400Z"
    }
   },
   "cell_type": "code",
   "source": [
    "val rand = Random(1337)\n",
    "\n",
    "val R = 10.0\n",
    "val circleArea = PI * R * R\n",
    "\n",
    "val A = 0.05\n",
    "val B = 0.05\n",
    "val D = 0.1\n",
    "val fov = PI / 2\n",
    "val P = 5\n",
    "\n",
    "val receiverPoint = Point(0, 0)\n",
    "\n",
    "val bv = circleArea * B\n",
    "val av = circleArea * A\n",
    "\n",
    "println(bv)\n",
    "println(av)\n",
    "\n",
    "val interfereObjectDistribution = PoissonDistribution(bv)\n",
    "val blockObjectDistribution =  PoissonDistribution(av)"
   ],
   "outputs": [
    {
     "name": "stdout",
     "output_type": "stream",
     "text": [
      "15.707963267948967\r\n",
      "15.707963267948967\r\n"
     ]
    }
   ],
   "execution_count": 30
  },
  {
   "metadata": {
    "ExecuteTime": {
     "end_time": "2024-12-07T09:44:33.739368500Z",
     "start_time": "2024-12-07T09:44:33.670853500Z"
    }
   },
   "cell_type": "code",
   "source": [
    "val interfereObjects = HashSet<Sector>()\n",
    "\n",
    "repeat(interfereObjectDistribution.sample()) {\n",
    "    interfereObjects.add(Sector(Generator.nextPointInCircle(R), rand.nextDouble(0.0, 2 * PI), fov))\n",
    "}\n",
    "\n",
    "val blockObjects = ArrayList<Point>()\n",
    "\n",
    "repeat(blockObjectDistribution.sample()) {\n",
    "    blockObjects.add(Generator.nextPointInCircle(R))\n",
    "}"
   ],
   "outputs": [],
   "execution_count": 31
  },
  {
   "metadata": {
    "ExecuteTime": {
     "end_time": "2024-12-07T09:44:34.612012300Z",
     "start_time": "2024-12-07T09:44:34.578503500Z"
    }
   },
   "cell_type": "code",
   "source": "println(\"${interfereObjects.size} ${blockObjects.size}\")",
   "outputs": [
    {
     "name": "stdout",
     "output_type": "stream",
     "text": [
      "14 9\r\n"
     ]
    }
   ],
   "execution_count": 32
  },
  {
   "metadata": {
    "ExecuteTime": {
     "end_time": "2024-12-07T09:44:35.730148100Z",
     "start_time": "2024-12-07T09:44:35.623099500Z"
    }
   },
   "cell_type": "code",
   "source": [
    "var interfereCounter = 0\n",
    "\n",
    "val interGain = ArrayList<Double>()\n",
    "\n",
    "for (sector in interfereObjects) {\n",
    "    if (sector.contains(receiverPoint)) {\n",
    "        var rejected = false\n",
    "        interp@for (i in sector.pivot.interpolate(receiverPoint)) {\n",
    "            for (block in blockObjects) {\n",
    "                if (i.isInCircle(block, D)) {\n",
    "                    rejected = true\n",
    "                    break@interp\n",
    "                }\n",
    "            }\n",
    "        }\n",
    "        if (!rejected) {\n",
    "            ++interfereCounter\n",
    "            interGain.add(P + 2.0 / (1 - cos(fov / 2.0)))\n",
    "        }\n",
    "    }\n",
    "}\n",
    "\n",
    "println(interfereCounter)\n",
    "println(interGain.sum())"
   ],
   "outputs": [
    {
     "name": "stdout",
     "output_type": "stream",
     "text": [
      "4\r\n",
      "47.31370849898477\r\n"
     ]
    }
   ],
   "execution_count": 33
  },
  {
   "metadata": {
    "ExecuteTime": {
     "end_time": "2024-12-07T09:44:37.902327700Z",
     "start_time": "2024-12-07T09:44:37.523669700Z"
    }
   },
   "cell_type": "code",
   "source": [
    "import org.jetbrains.letsPlot.Geom\n",
    "\n",
    "plot {\n",
    "    points {\n",
    "        x(interfereObjects.map{ it.pivot.x })\n",
    "        y(interfereObjects.map{ it.pivot.y })\n",
    "        color = Color.WHITE\n",
    "    }\n",
    "    points {\n",
    "        x(blockObjects.map{ it.x })\n",
    "        y(blockObjects.map{ it.y })\n",
    "        color = Color.GREEN\n",
    "        size = D * 50\n",
    "    }\n",
    "    points {\n",
    "        x(listOf(receiverPoint.x))\n",
    "        y(listOf(receiverPoint.y))\n",
    "        color = Color.RED\n",
    "    }\n",
    "    interfereObjects.forEach { s ->\n",
    "        val de = s.getDirectionEndPoint(1)\n",
    "        val le = s.getLineEndsInSquare(1)\n",
    "        line {\n",
    "            x(listOf(s.pivot.x, le.first.x))\n",
    "            y(listOf(s.pivot.y, le.first.y))\n",
    "            color = Color.GREY\n",
    "        }\n",
    "        line {\n",
    "            x(listOf(s.pivot.x, le.second.x))\n",
    "            y(listOf(s.pivot.y, le.second.y))\n",
    "            color = Color.GREY\n",
    "        }\n",
    "        line {\n",
    "            x(listOf(s.pivot.x, de.x))\n",
    "            y(listOf(s.pivot.y, de.y))\n",
    "            color = Color.WHITE\n",
    "        }\n",
    "    }\n",
    "    layout {\n",
    "        size = 500 to 500\n",
    "    }\n",
    "}"
   ],
   "outputs": [
    {
     "data": {
      "text/html": [
       "            <iframe src='about:blank' style='border:none !important;' width='500' height='500' srcdoc=\"&lt;html lang=&quot;en&quot;>\n",
       "   &lt;head>\n",
       "       &lt;meta charset=&quot;UTF-8&quot;>\n",
       "       &lt;style> html, body { margin: 0; overflow: hidden; } &lt;/style>\n",
       "       &lt;script type=&quot;text/javascript&quot; data-lets-plot-script=&quot;library&quot; src=&quot;https://cdn.jsdelivr.net/gh/JetBrains/lets-plot@v4.3.3/js-package/distr/lets-plot.min.js&quot;>&lt;/script>\n",
       "   &lt;/head>\n",
       "   &lt;body>\n",
       "          &lt;div id=&quot;Q1yq8H&quot;>&lt;/div>\n",
       "   &lt;script type=&quot;text/javascript&quot; data-lets-plot-script=&quot;plot&quot;>\n",
       "       var plotSpec={\n",
       "&quot;mapping&quot;:{\n",
       "},\n",
       "&quot;data&quot;:{\n",
       "},\n",
       "&quot;ggsize&quot;:{\n",
       "&quot;width&quot;:500.0,\n",
       "&quot;height&quot;:500.0\n",
       "},\n",
       "&quot;kind&quot;:&quot;plot&quot;,\n",
       "&quot;scales&quot;:[{\n",
       "&quot;aesthetic&quot;:&quot;x&quot;,\n",
       "&quot;limits&quot;:[null,null]\n",
       "},{\n",
       "&quot;aesthetic&quot;:&quot;y&quot;,\n",
       "&quot;limits&quot;:[null,null]\n",
       "},{\n",
       "&quot;aesthetic&quot;:&quot;x&quot;,\n",
       "&quot;limits&quot;:[null,null]\n",
       "},{\n",
       "&quot;aesthetic&quot;:&quot;y&quot;,\n",
       "&quot;limits&quot;:[null,null]\n",
       "},{\n",
       "&quot;aesthetic&quot;:&quot;x&quot;,\n",
       "&quot;limits&quot;:[null,null]\n",
       "},{\n",
       "&quot;aesthetic&quot;:&quot;y&quot;,\n",
       "&quot;limits&quot;:[null,null]\n",
       "},{\n",
       "&quot;aesthetic&quot;:&quot;x&quot;,\n",
       "&quot;limits&quot;:[null,null]\n",
       "},{\n",
       "&quot;aesthetic&quot;:&quot;y&quot;,\n",
       "&quot;limits&quot;:[null,null]\n",
       "},{\n",
       "&quot;aesthetic&quot;:&quot;x&quot;,\n",
       "&quot;limits&quot;:[null,null]\n",
       "},{\n",
       "&quot;aesthetic&quot;:&quot;y&quot;,\n",
       "&quot;limits&quot;:[null,null]\n",
       "},{\n",
       "&quot;aesthetic&quot;:&quot;x&quot;,\n",
       "&quot;limits&quot;:[null,null]\n",
       "},{\n",
       "&quot;aesthetic&quot;:&quot;y&quot;,\n",
       "&quot;limits&quot;:[null,null]\n",
       "},{\n",
       "&quot;aesthetic&quot;:&quot;x&quot;,\n",
       "&quot;limits&quot;:[null,null]\n",
       "},{\n",
       "&quot;aesthetic&quot;:&quot;y&quot;,\n",
       "&quot;limits&quot;:[null,null]\n",
       "},{\n",
       "&quot;aesthetic&quot;:&quot;x&quot;,\n",
       "&quot;limits&quot;:[null,null]\n",
       "},{\n",
       "&quot;aesthetic&quot;:&quot;y&quot;,\n",
       "&quot;limits&quot;:[null,null]\n",
       "},{\n",
       "&quot;aesthetic&quot;:&quot;x&quot;,\n",
       "&quot;limits&quot;:[null,null]\n",
       "},{\n",
       "&quot;aesthetic&quot;:&quot;y&quot;,\n",
       "&quot;limits&quot;:[null,null]\n",
       "},{\n",
       "&quot;aesthetic&quot;:&quot;x&quot;,\n",
       "&quot;limits&quot;:[null,null]\n",
       "},{\n",
       "&quot;aesthetic&quot;:&quot;y&quot;,\n",
       "&quot;limits&quot;:[null,null]\n",
       "},{\n",
       "&quot;aesthetic&quot;:&quot;x&quot;,\n",
       "&quot;limits&quot;:[null,null]\n",
       "},{\n",
       "&quot;aesthetic&quot;:&quot;y&quot;,\n",
       "&quot;limits&quot;:[null,null]\n",
       "},{\n",
       "&quot;aesthetic&quot;:&quot;x&quot;,\n",
       "&quot;limits&quot;:[null,null]\n",
       "},{\n",
       "&quot;aesthetic&quot;:&quot;y&quot;,\n",
       "&quot;limits&quot;:[null,null]\n",
       "},{\n",
       "&quot;aesthetic&quot;:&quot;x&quot;,\n",
       "&quot;limits&quot;:[null,null]\n",
       "},{\n",
       "&quot;aesthetic&quot;:&quot;y&quot;,\n",
       "&quot;limits&quot;:[null,null]\n",
       "},{\n",
       "&quot;aesthetic&quot;:&quot;x&quot;,\n",
       "&quot;limits&quot;:[null,null]\n",
       "},{\n",
       "&quot;aesthetic&quot;:&quot;y&quot;,\n",
       "&quot;limits&quot;:[null,null]\n",
       "},{\n",
       "&quot;aesthetic&quot;:&quot;x&quot;,\n",
       "&quot;limits&quot;:[null,null]\n",
       "},{\n",
       "&quot;aesthetic&quot;:&quot;y&quot;,\n",
       "&quot;limits&quot;:[null,null]\n",
       "},{\n",
       "&quot;aesthetic&quot;:&quot;x&quot;,\n",
       "&quot;limits&quot;:[null,null]\n",
       "},{\n",
       "&quot;aesthetic&quot;:&quot;y&quot;,\n",
       "&quot;limits&quot;:[null,null]\n",
       "},{\n",
       "&quot;aesthetic&quot;:&quot;x&quot;,\n",
       "&quot;limits&quot;:[null,null]\n",
       "},{\n",
       "&quot;aesthetic&quot;:&quot;y&quot;,\n",
       "&quot;limits&quot;:[null,null]\n",
       "},{\n",
       "&quot;aesthetic&quot;:&quot;x&quot;,\n",
       "&quot;limits&quot;:[null,null]\n",
       "},{\n",
       "&quot;aesthetic&quot;:&quot;y&quot;,\n",
       "&quot;limits&quot;:[null,null]\n",
       "},{\n",
       "&quot;aesthetic&quot;:&quot;x&quot;,\n",
       "&quot;limits&quot;:[null,null]\n",
       "},{\n",
       "&quot;aesthetic&quot;:&quot;y&quot;,\n",
       "&quot;limits&quot;:[null,null]\n",
       "},{\n",
       "&quot;aesthetic&quot;:&quot;x&quot;,\n",
       "&quot;limits&quot;:[null,null]\n",
       "},{\n",
       "&quot;aesthetic&quot;:&quot;y&quot;,\n",
       "&quot;limits&quot;:[null,null]\n",
       "},{\n",
       "&quot;aesthetic&quot;:&quot;x&quot;,\n",
       "&quot;limits&quot;:[null,null]\n",
       "},{\n",
       "&quot;aesthetic&quot;:&quot;y&quot;,\n",
       "&quot;limits&quot;:[null,null]\n",
       "},{\n",
       "&quot;aesthetic&quot;:&quot;x&quot;,\n",
       "&quot;limits&quot;:[null,null]\n",
       "},{\n",
       "&quot;aesthetic&quot;:&quot;y&quot;,\n",
       "&quot;limits&quot;:[null,null]\n",
       "},{\n",
       "&quot;aesthetic&quot;:&quot;x&quot;,\n",
       "&quot;limits&quot;:[null,null]\n",
       "},{\n",
       "&quot;aesthetic&quot;:&quot;y&quot;,\n",
       "&quot;limits&quot;:[null,null]\n",
       "},{\n",
       "&quot;aesthetic&quot;:&quot;x&quot;,\n",
       "&quot;limits&quot;:[null,null]\n",
       "},{\n",
       "&quot;aesthetic&quot;:&quot;y&quot;,\n",
       "&quot;limits&quot;:[null,null]\n",
       "},{\n",
       "&quot;aesthetic&quot;:&quot;x&quot;,\n",
       "&quot;limits&quot;:[null,null]\n",
       "},{\n",
       "&quot;aesthetic&quot;:&quot;y&quot;,\n",
       "&quot;limits&quot;:[null,null]\n",
       "},{\n",
       "&quot;aesthetic&quot;:&quot;x&quot;,\n",
       "&quot;limits&quot;:[null,null]\n",
       "},{\n",
       "&quot;aesthetic&quot;:&quot;y&quot;,\n",
       "&quot;limits&quot;:[null,null]\n",
       "},{\n",
       "&quot;aesthetic&quot;:&quot;x&quot;,\n",
       "&quot;limits&quot;:[null,null]\n",
       "},{\n",
       "&quot;aesthetic&quot;:&quot;y&quot;,\n",
       "&quot;limits&quot;:[null,null]\n",
       "},{\n",
       "&quot;aesthetic&quot;:&quot;x&quot;,\n",
       "&quot;limits&quot;:[null,null]\n",
       "},{\n",
       "&quot;aesthetic&quot;:&quot;y&quot;,\n",
       "&quot;limits&quot;:[null,null]\n",
       "},{\n",
       "&quot;aesthetic&quot;:&quot;x&quot;,\n",
       "&quot;limits&quot;:[null,null]\n",
       "},{\n",
       "&quot;aesthetic&quot;:&quot;y&quot;,\n",
       "&quot;limits&quot;:[null,null]\n",
       "},{\n",
       "&quot;aesthetic&quot;:&quot;x&quot;,\n",
       "&quot;limits&quot;:[null,null]\n",
       "},{\n",
       "&quot;aesthetic&quot;:&quot;y&quot;,\n",
       "&quot;limits&quot;:[null,null]\n",
       "},{\n",
       "&quot;aesthetic&quot;:&quot;x&quot;,\n",
       "&quot;limits&quot;:[null,null]\n",
       "},{\n",
       "&quot;aesthetic&quot;:&quot;y&quot;,\n",
       "&quot;limits&quot;:[null,null]\n",
       "},{\n",
       "&quot;aesthetic&quot;:&quot;x&quot;,\n",
       "&quot;limits&quot;:[null,null]\n",
       "},{\n",
       "&quot;aesthetic&quot;:&quot;y&quot;,\n",
       "&quot;limits&quot;:[null,null]\n",
       "},{\n",
       "&quot;aesthetic&quot;:&quot;x&quot;,\n",
       "&quot;limits&quot;:[null,null]\n",
       "},{\n",
       "&quot;aesthetic&quot;:&quot;y&quot;,\n",
       "&quot;limits&quot;:[null,null]\n",
       "},{\n",
       "&quot;aesthetic&quot;:&quot;x&quot;,\n",
       "&quot;limits&quot;:[null,null]\n",
       "},{\n",
       "&quot;aesthetic&quot;:&quot;y&quot;,\n",
       "&quot;limits&quot;:[null,null]\n",
       "},{\n",
       "&quot;aesthetic&quot;:&quot;x&quot;,\n",
       "&quot;limits&quot;:[null,null]\n",
       "},{\n",
       "&quot;aesthetic&quot;:&quot;y&quot;,\n",
       "&quot;limits&quot;:[null,null]\n",
       "},{\n",
       "&quot;aesthetic&quot;:&quot;x&quot;,\n",
       "&quot;limits&quot;:[null,null]\n",
       "},{\n",
       "&quot;aesthetic&quot;:&quot;y&quot;,\n",
       "&quot;limits&quot;:[null,null]\n",
       "},{\n",
       "&quot;aesthetic&quot;:&quot;x&quot;,\n",
       "&quot;limits&quot;:[null,null]\n",
       "},{\n",
       "&quot;aesthetic&quot;:&quot;y&quot;,\n",
       "&quot;limits&quot;:[null,null]\n",
       "},{\n",
       "&quot;aesthetic&quot;:&quot;x&quot;,\n",
       "&quot;limits&quot;:[null,null]\n",
       "},{\n",
       "&quot;aesthetic&quot;:&quot;y&quot;,\n",
       "&quot;limits&quot;:[null,null]\n",
       "},{\n",
       "&quot;aesthetic&quot;:&quot;x&quot;,\n",
       "&quot;limits&quot;:[null,null]\n",
       "},{\n",
       "&quot;aesthetic&quot;:&quot;y&quot;,\n",
       "&quot;limits&quot;:[null,null]\n",
       "},{\n",
       "&quot;aesthetic&quot;:&quot;x&quot;,\n",
       "&quot;limits&quot;:[null,null]\n",
       "},{\n",
       "&quot;aesthetic&quot;:&quot;y&quot;,\n",
       "&quot;limits&quot;:[null,null]\n",
       "},{\n",
       "&quot;aesthetic&quot;:&quot;x&quot;,\n",
       "&quot;limits&quot;:[null,null]\n",
       "},{\n",
       "&quot;aesthetic&quot;:&quot;y&quot;,\n",
       "&quot;limits&quot;:[null,null]\n",
       "},{\n",
       "&quot;aesthetic&quot;:&quot;x&quot;,\n",
       "&quot;limits&quot;:[null,null]\n",
       "},{\n",
       "&quot;aesthetic&quot;:&quot;y&quot;,\n",
       "&quot;limits&quot;:[null,null]\n",
       "},{\n",
       "&quot;aesthetic&quot;:&quot;x&quot;,\n",
       "&quot;limits&quot;:[null,null]\n",
       "},{\n",
       "&quot;aesthetic&quot;:&quot;y&quot;,\n",
       "&quot;limits&quot;:[null,null]\n",
       "},{\n",
       "&quot;aesthetic&quot;:&quot;x&quot;,\n",
       "&quot;limits&quot;:[null,null]\n",
       "},{\n",
       "&quot;aesthetic&quot;:&quot;y&quot;,\n",
       "&quot;limits&quot;:[null,null]\n",
       "},{\n",
       "&quot;aesthetic&quot;:&quot;x&quot;,\n",
       "&quot;limits&quot;:[null,null]\n",
       "},{\n",
       "&quot;aesthetic&quot;:&quot;y&quot;,\n",
       "&quot;limits&quot;:[null,null]\n",
       "}],\n",
       "&quot;layers&quot;:[{\n",
       "&quot;mapping&quot;:{\n",
       "&quot;x&quot;:&quot;x&quot;,\n",
       "&quot;y&quot;:&quot;y&quot;\n",
       "},\n",
       "&quot;stat&quot;:&quot;identity&quot;,\n",
       "&quot;data&quot;:{\n",
       "&quot;x&quot;:[-4.7791086509065845,-1.5573956937012243,6.815204553640961,-4.1536409219380594,7.8430332413843065,-5.104893765592662,-5.110758046294498,-6.408168072709935,0.9202438782437239,-6.736819772497531,-8.777165389725312,4.122537488851914,-3.910652378797365,0.7423386700582194],\n",
       "&quot;y&quot;:[-1.3639051513359104,5.221655132525547,-1.8191600587469214,7.047364216116644,-6.165367293441519,4.716765191664092,5.933613819581424,3.2586416717242894,-0.4940686891530163,2.712118077218227,0.3594003428018404,1.5389108732662402,8.842283413008602,-1.7867333240180756]\n",
       "},\n",
       "&quot;color&quot;:&quot;#ffffff&quot;,\n",
       "&quot;sampling&quot;:&quot;none&quot;,\n",
       "&quot;position&quot;:&quot;identity&quot;,\n",
       "&quot;geom&quot;:&quot;point&quot;\n",
       "},{\n",
       "&quot;mapping&quot;:{\n",
       "&quot;x&quot;:&quot;x&quot;,\n",
       "&quot;y&quot;:&quot;y&quot;\n",
       "},\n",
       "&quot;stat&quot;:&quot;identity&quot;,\n",
       "&quot;data&quot;:{\n",
       "&quot;x&quot;:[0.7469870555747483,-3.3860671523629855,-4.226696814326848,-6.9460178946785,-0.06960390071448679,1.1330786528592904,-5.772225501295652,-3.997869539470444,-8.904326850149559],\n",
       "&quot;y&quot;:[0.5675926809584791,-2.1331003405463265,-6.237860729311591,-7.155058559723941,-5.850569012972222,5.014968674037793,5.205247242319046,6.295551365068028,0.9883945430887983]\n",
       "},\n",
       "&quot;color&quot;:&quot;#3ba272&quot;,\n",
       "&quot;size&quot;:5.0,\n",
       "&quot;sampling&quot;:&quot;none&quot;,\n",
       "&quot;position&quot;:&quot;identity&quot;,\n",
       "&quot;geom&quot;:&quot;point&quot;\n",
       "},{\n",
       "&quot;mapping&quot;:{\n",
       "&quot;x&quot;:&quot;x&quot;,\n",
       "&quot;y&quot;:&quot;y&quot;\n",
       "},\n",
       "&quot;stat&quot;:&quot;identity&quot;,\n",
       "&quot;data&quot;:{\n",
       "&quot;x&quot;:[0.0],\n",
       "&quot;y&quot;:[0.0]\n",
       "},\n",
       "&quot;color&quot;:&quot;#ee6666&quot;,\n",
       "&quot;sampling&quot;:&quot;none&quot;,\n",
       "&quot;position&quot;:&quot;identity&quot;,\n",
       "&quot;geom&quot;:&quot;point&quot;\n",
       "},{\n",
       "&quot;mapping&quot;:{\n",
       "&quot;x&quot;:&quot;x&quot;,\n",
       "&quot;y&quot;:&quot;y&quot;\n",
       "},\n",
       "&quot;stat&quot;:&quot;identity&quot;,\n",
       "&quot;data&quot;:{\n",
       "&quot;x&quot;:[-4.7791086509065845,-4.508173787910874],\n",
       "&quot;y&quot;:[-1.3639051513359104,-2.326502834697706]\n",
       "},\n",
       "&quot;color&quot;:&quot;#a39999&quot;,\n",
       "&quot;sampling&quot;:&quot;none&quot;,\n",
       "&quot;position&quot;:&quot;identity&quot;,\n",
       "&quot;geom&quot;:&quot;line&quot;\n",
       "},{\n",
       "&quot;mapping&quot;:{\n",
       "&quot;x&quot;:&quot;x&quot;,\n",
       "&quot;y&quot;:&quot;y&quot;\n",
       "},\n",
       "&quot;stat&quot;:&quot;identity&quot;,\n",
       "&quot;data&quot;:{\n",
       "&quot;x&quot;:[-4.7791086509065845,-5.74170633426838],\n",
       "&quot;y&quot;:[-1.3639051513359104,-1.634840014331621]\n",
       "},\n",
       "&quot;color&quot;:&quot;#a39999&quot;,\n",
       "&quot;sampling&quot;:&quot;none&quot;,\n",
       "&quot;position&quot;:&quot;identity&quot;,\n",
       "&quot;geom&quot;:&quot;line&quot;\n",
       "},{\n",
       "&quot;mapping&quot;:{\n",
       "&quot;x&quot;:&quot;x&quot;,\n",
       "&quot;y&quot;:&quot;y&quot;\n",
       "},\n",
       "&quot;stat&quot;:&quot;identity&quot;,\n",
       "&quot;data&quot;:{\n",
       "&quot;x&quot;:[-4.7791086509065845,-5.268188121482056],\n",
       "&quot;y&quot;:[-1.3639051513359104,-2.236144379679612]\n",
       "},\n",
       "&quot;color&quot;:&quot;#ffffff&quot;,\n",
       "&quot;sampling&quot;:&quot;none&quot;,\n",
       "&quot;position&quot;:&quot;identity&quot;,\n",
       "&quot;geom&quot;:&quot;line&quot;\n",
       "},{\n",
       "&quot;mapping&quot;:{\n",
       "&quot;x&quot;:&quot;x&quot;,\n",
       "&quot;y&quot;:&quot;y&quot;\n",
       "},\n",
       "&quot;stat&quot;:&quot;identity&quot;,\n",
       "&quot;data&quot;:{\n",
       "&quot;x&quot;:[-1.5573956937012243,-0.5751194067909533],\n",
       "&quot;y&quot;:[5.221655132525547,5.034216352723258]\n",
       "},\n",
       "&quot;color&quot;:&quot;#a39999&quot;,\n",
       "&quot;sampling&quot;:&quot;none&quot;,\n",
       "&quot;position&quot;:&quot;identity&quot;,\n",
       "&quot;geom&quot;:&quot;line&quot;\n",
       "},{\n",
       "&quot;mapping&quot;:{\n",
       "&quot;x&quot;:&quot;x&quot;,\n",
       "&quot;y&quot;:&quot;y&quot;\n",
       "},\n",
       "&quot;stat&quot;:&quot;identity&quot;,\n",
       "&quot;data&quot;:{\n",
       "&quot;x&quot;:[-1.5573956937012243,-1.7448344735035128],\n",
       "&quot;y&quot;:[5.221655132525547,4.239378845615276]\n",
       "},\n",
       "&quot;color&quot;:&quot;#a39999&quot;,\n",
       "&quot;sampling&quot;:&quot;none&quot;,\n",
       "&quot;position&quot;:&quot;identity&quot;,\n",
       "&quot;geom&quot;:&quot;line&quot;\n",
       "},{\n",
       "&quot;mapping&quot;:{\n",
       "&quot;x&quot;:&quot;x&quot;,\n",
       "&quot;y&quot;:&quot;y&quot;\n",
       "},\n",
       "&quot;stat&quot;:&quot;identity&quot;,\n",
       "&quot;data&quot;:{\n",
       "&quot;x&quot;:[-1.5573956937012243,-0.9953607024837592],\n",
       "&quot;y&quot;:[5.221655132525547,4.394541676797021]\n",
       "},\n",
       "&quot;color&quot;:&quot;#ffffff&quot;,\n",
       "&quot;sampling&quot;:&quot;none&quot;,\n",
       "&quot;position&quot;:&quot;identity&quot;,\n",
       "&quot;geom&quot;:&quot;line&quot;\n",
       "},{\n",
       "&quot;mapping&quot;:{\n",
       "&quot;x&quot;:&quot;x&quot;,\n",
       "&quot;y&quot;:&quot;y&quot;\n",
       "},\n",
       "&quot;stat&quot;:&quot;identity&quot;,\n",
       "&quot;data&quot;:{\n",
       "&quot;x&quot;:[6.815204553640961,5.819592358294645],\n",
       "&quot;y&quot;:[-1.8191600587469214,-1.7255846534435615]\n",
       "},\n",
       "&quot;color&quot;:&quot;#a39999&quot;,\n",
       "&quot;sampling&quot;:&quot;none&quot;,\n",
       "&quot;position&quot;:&quot;identity&quot;,\n",
       "&quot;geom&quot;:&quot;line&quot;\n",
       "},{\n",
       "&quot;mapping&quot;:{\n",
       "&quot;x&quot;:&quot;x&quot;,\n",
       "&quot;y&quot;:&quot;y&quot;\n",
       "},\n",
       "&quot;stat&quot;:&quot;identity&quot;,\n",
       "&quot;data&quot;:{\n",
       "&quot;x&quot;:[6.815204553640961,6.908779958944321],\n",
       "&quot;y&quot;:[-1.8191600587469214,-0.8235478634006049]\n",
       "},\n",
       "&quot;color&quot;:&quot;#a39999&quot;,\n",
       "&quot;sampling&quot;:&quot;none&quot;,\n",
       "&quot;position&quot;:&quot;identity&quot;,\n",
       "&quot;geom&quot;:&quot;line&quot;\n",
       "},{\n",
       "&quot;mapping&quot;:{\n",
       "&quot;x&quot;:&quot;x&quot;,\n",
       "&quot;y&quot;:&quot;y&quot;\n",
       "},\n",
       "&quot;stat&quot;:&quot;identity&quot;,\n",
       "&quot;data&quot;:{\n",
       "&quot;x&quot;:[6.815204553640961,6.1773682225218405],\n",
       "&quot;y&quot;:[-1.8191600587469214,-1.04898812034323]\n",
       "},\n",
       "&quot;color&quot;:&quot;#ffffff&quot;,\n",
       "&quot;sampling&quot;:&quot;none&quot;,\n",
       "&quot;position&quot;:&quot;identity&quot;,\n",
       "&quot;geom&quot;:&quot;line&quot;\n",
       "},{\n",
       "&quot;mapping&quot;:{\n",
       "&quot;x&quot;:&quot;x&quot;,\n",
       "&quot;y&quot;:&quot;y&quot;\n",
       "},\n",
       "&quot;stat&quot;:&quot;identity&quot;,\n",
       "&quot;data&quot;:{\n",
       "&quot;x&quot;:[-4.1536409219380594,-3.354623556728354],\n",
       "&quot;y&quot;:[7.047364216116644,6.446056266648702]\n",
       "},\n",
       "&quot;color&quot;:&quot;#a39999&quot;,\n",
       "&quot;sampling&quot;:&quot;none&quot;,\n",
       "&quot;position&quot;:&quot;identity&quot;,\n",
       "&quot;geom&quot;:&quot;line&quot;\n",
       "},{\n",
       "&quot;mapping&quot;:{\n",
       "&quot;x&quot;:&quot;x&quot;,\n",
       "&quot;y&quot;:&quot;y&quot;\n",
       "},\n",
       "&quot;stat&quot;:&quot;identity&quot;,\n",
       "&quot;data&quot;:{\n",
       "&quot;x&quot;:[-4.1536409219380594,-4.754948871406],\n",
       "&quot;y&quot;:[7.047364216116644,6.248346850906938]\n",
       "},\n",
       "&quot;color&quot;:&quot;#a39999&quot;,\n",
       "&quot;sampling&quot;:&quot;none&quot;,\n",
       "&quot;position&quot;:&quot;identity&quot;,\n",
       "&quot;geom&quot;:&quot;line&quot;\n",
       "},{\n",
       "&quot;mapping&quot;:{\n",
       "&quot;x&quot;:&quot;x&quot;,\n",
       "&quot;y&quot;:&quot;y&quot;\n",
       "},\n",
       "&quot;stat&quot;:&quot;identity&quot;,\n",
       "&quot;data&quot;:{\n",
       "&quot;x&quot;:[-4.1536409219380594,-4.013839253362628],\n",
       "&quot;y&quot;:[7.047364216116644,6.057184690240893]\n",
       "},\n",
       "&quot;color&quot;:&quot;#ffffff&quot;,\n",
       "&quot;sampling&quot;:&quot;none&quot;,\n",
       "&quot;position&quot;:&quot;identity&quot;,\n",
       "&quot;geom&quot;:&quot;line&quot;\n",
       "},{\n",
       "&quot;mapping&quot;:{\n",
       "&quot;x&quot;:&quot;x&quot;,\n",
       "&quot;y&quot;:&quot;y&quot;\n",
       "},\n",
       "&quot;stat&quot;:&quot;identity&quot;,\n",
       "&quot;data&quot;:{\n",
       "&quot;x&quot;:[7.8430332413843065,8.838722156080129],\n",
       "&quot;y&quot;:[-6.165367293441519,-6.0726117806573505]\n",
       "},\n",
       "&quot;color&quot;:&quot;#a39999&quot;,\n",
       "&quot;sampling&quot;:&quot;none&quot;,\n",
       "&quot;position&quot;:&quot;identity&quot;,\n",
       "&quot;geom&quot;:&quot;line&quot;\n",
       "},{\n",
       "&quot;mapping&quot;:{\n",
       "&quot;x&quot;:&quot;x&quot;,\n",
       "&quot;y&quot;:&quot;y&quot;\n",
       "},\n",
       "&quot;stat&quot;:&quot;identity&quot;,\n",
       "&quot;data&quot;:{\n",
       "&quot;x&quot;:[7.8430332413843065,7.935788754168476],\n",
       "&quot;y&quot;:[-6.165367293441519,-7.161056208137342]\n",
       "},\n",
       "&quot;color&quot;:&quot;#a39999&quot;,\n",
       "&quot;sampling&quot;:&quot;none&quot;,\n",
       "&quot;position&quot;:&quot;identity&quot;,\n",
       "&quot;geom&quot;:&quot;line&quot;\n",
       "},{\n",
       "&quot;mapping&quot;:{\n",
       "&quot;x&quot;:&quot;x&quot;,\n",
       "&quot;y&quot;:&quot;y&quot;\n",
       "},\n",
       "&quot;stat&quot;:&quot;identity&quot;,\n",
       "&quot;data&quot;:{\n",
       "&quot;x&quot;:[7.8430332413843065,8.612679677000118],\n",
       "&quot;y&quot;:[-6.165367293441519,-6.803837624893088]\n",
       "},\n",
       "&quot;color&quot;:&quot;#ffffff&quot;,\n",
       "&quot;sampling&quot;:&quot;none&quot;,\n",
       "&quot;position&quot;:&quot;identity&quot;,\n",
       "&quot;geom&quot;:&quot;line&quot;\n",
       "},{\n",
       "&quot;mapping&quot;:{\n",
       "&quot;x&quot;:&quot;x&quot;,\n",
       "&quot;y&quot;:&quot;y&quot;\n",
       "},\n",
       "&quot;stat&quot;:&quot;identity&quot;,\n",
       "&quot;data&quot;:{\n",
       "&quot;x&quot;:[-5.104893765592662,-4.719655986045737],\n",
       "&quot;y&quot;:[4.716765191664092,5.639582537193398]\n",
       "},\n",
       "&quot;color&quot;:&quot;#a39999&quot;,\n",
       "&quot;sampling&quot;:&quot;none&quot;,\n",
       "&quot;position&quot;:&quot;identity&quot;,\n",
       "&quot;geom&quot;:&quot;line&quot;\n",
       "},{\n",
       "&quot;mapping&quot;:{\n",
       "&quot;x&quot;:&quot;x&quot;,\n",
       "&quot;y&quot;:&quot;y&quot;\n",
       "},\n",
       "&quot;stat&quot;:&quot;identity&quot;,\n",
       "&quot;data&quot;:{\n",
       "&quot;x&quot;:[-5.104893765592662,-4.182076420063355],\n",
       "&quot;y&quot;:[4.716765191664092,4.331527412117167]\n",
       "},\n",
       "&quot;color&quot;:&quot;#a39999&quot;,\n",
       "&quot;sampling&quot;:&quot;none&quot;,\n",
       "&quot;position&quot;:&quot;identity&quot;,\n",
       "&quot;geom&quot;:&quot;line&quot;\n",
       "},{\n",
       "&quot;mapping&quot;:{\n",
       "&quot;x&quot;:&quot;x&quot;,\n",
       "&quot;y&quot;:&quot;y&quot;\n",
       "},\n",
       "&quot;stat&quot;:&quot;identity&quot;,\n",
       "&quot;data&quot;:{\n",
       "&quot;x&quot;:[-5.104893765592662,-4.179959116485441],\n",
       "&quot;y&quot;:[4.716765191664092,5.0968913481975555]\n",
       "},\n",
       "&quot;color&quot;:&quot;#ffffff&quot;,\n",
       "&quot;sampling&quot;:&quot;none&quot;,\n",
       "&quot;position&quot;:&quot;identity&quot;,\n",
       "&quot;geom&quot;:&quot;line&quot;\n",
       "},{\n",
       "&quot;mapping&quot;:{\n",
       "&quot;x&quot;:&quot;x&quot;,\n",
       "&quot;y&quot;:&quot;y&quot;\n",
       "},\n",
       "&quot;stat&quot;:&quot;identity&quot;,\n",
       "&quot;data&quot;:{\n",
       "&quot;x&quot;:[-5.110758046294498,-5.845971807283437],\n",
       "&quot;y&quot;:[5.933613819581424,5.255778496178683]\n",
       "},\n",
       "&quot;color&quot;:&quot;#a39999&quot;,\n",
       "&quot;sampling&quot;:&quot;none&quot;,\n",
       "&quot;position&quot;:&quot;identity&quot;,\n",
       "&quot;geom&quot;:&quot;line&quot;\n",
       "},{\n",
       "&quot;mapping&quot;:{\n",
       "&quot;x&quot;:&quot;x&quot;,\n",
       "&quot;y&quot;:&quot;y&quot;\n",
       "},\n",
       "&quot;stat&quot;:&quot;identity&quot;,\n",
       "&quot;data&quot;:{\n",
       "&quot;x&quot;:[-5.110758046294498,-5.788593369697239],\n",
       "&quot;y&quot;:[5.933613819581424,6.668827580570364]\n",
       "},\n",
       "&quot;color&quot;:&quot;#a39999&quot;,\n",
       "&quot;sampling&quot;:&quot;none&quot;,\n",
       "&quot;position&quot;:&quot;identity&quot;,\n",
       "&quot;geom&quot;:&quot;line&quot;\n",
       "},{\n",
       "&quot;mapping&quot;:{\n",
       "&quot;x&quot;:&quot;x&quot;,\n",
       "&quot;y&quot;:&quot;y&quot;\n",
       "},\n",
       "&quot;stat&quot;:&quot;identity&quot;,\n",
       "&quot;data&quot;:{\n",
       "&quot;x&quot;:[-5.110758046294498,-6.1099346360172975],\n",
       "&quot;y&quot;:[5.933613819581424,5.974186501892514]\n",
       "},\n",
       "&quot;color&quot;:&quot;#ffffff&quot;,\n",
       "&quot;sampling&quot;:&quot;none&quot;,\n",
       "&quot;position&quot;:&quot;identity&quot;,\n",
       "&quot;geom&quot;:&quot;line&quot;\n",
       "},{\n",
       "&quot;mapping&quot;:{\n",
       "&quot;x&quot;:&quot;x&quot;,\n",
       "&quot;y&quot;:&quot;y&quot;\n",
       "},\n",
       "&quot;stat&quot;:&quot;identity&quot;,\n",
       "&quot;data&quot;:{\n",
       "&quot;x&quot;:[-6.408168072709935,-7.30587840423974],\n",
       "&quot;y&quot;:[3.2586416717242894,3.699227827503891]\n",
       "},\n",
       "&quot;color&quot;:&quot;#a39999&quot;,\n",
       "&quot;sampling&quot;:&quot;none&quot;,\n",
       "&quot;position&quot;:&quot;identity&quot;,\n",
       "&quot;geom&quot;:&quot;line&quot;\n",
       "},{\n",
       "&quot;mapping&quot;:{\n",
       "&quot;x&quot;:&quot;x&quot;,\n",
       "&quot;y&quot;:&quot;y&quot;\n",
       "},\n",
       "&quot;stat&quot;:&quot;identity&quot;,\n",
       "&quot;data&quot;:{\n",
       "&quot;x&quot;:[-6.408168072709935,-5.9675819169303335],\n",
       "&quot;y&quot;:[3.2586416717242894,4.156352003254095]\n",
       "},\n",
       "&quot;color&quot;:&quot;#a39999&quot;,\n",
       "&quot;sampling&quot;:&quot;none&quot;,\n",
       "&quot;position&quot;:&quot;identity&quot;,\n",
       "&quot;geom&quot;:&quot;line&quot;\n",
       "},{\n",
       "&quot;mapping&quot;:{\n",
       "&quot;x&quot;:&quot;x&quot;,\n",
       "&quot;y&quot;:&quot;y&quot;\n",
       "},\n",
       "&quot;stat&quot;:&quot;identity&quot;,\n",
       "&quot;data&quot;:{\n",
       "&quot;x&quot;:[-6.408168072709935,-6.731403677227215],\n",
       "&quot;y&quot;:[3.2586416717242894,4.204960193138907]\n",
       "},\n",
       "&quot;color&quot;:&quot;#ffffff&quot;,\n",
       "&quot;sampling&quot;:&quot;none&quot;,\n",
       "&quot;position&quot;:&quot;identity&quot;,\n",
       "&quot;geom&quot;:&quot;line&quot;\n",
       "},{\n",
       "&quot;mapping&quot;:{\n",
       "&quot;x&quot;:&quot;x&quot;,\n",
       "&quot;y&quot;:&quot;y&quot;\n",
       "},\n",
       "&quot;stat&quot;:&quot;identity&quot;,\n",
       "&quot;data&quot;:{\n",
       "&quot;x&quot;:[0.9202438782437239,0.3994574893654894],\n",
       "&quot;y&quot;:[-0.4940686891530163,-1.3477557144492711]\n",
       "},\n",
       "&quot;color&quot;:&quot;#a39999&quot;,\n",
       "&quot;sampling&quot;:&quot;none&quot;,\n",
       "&quot;position&quot;:&quot;identity&quot;,\n",
       "&quot;geom&quot;:&quot;line&quot;\n",
       "},{\n",
       "&quot;mapping&quot;:{\n",
       "&quot;x&quot;:&quot;x&quot;,\n",
       "&quot;y&quot;:&quot;y&quot;\n",
       "},\n",
       "&quot;stat&quot;:&quot;identity&quot;,\n",
       "&quot;data&quot;:{\n",
       "&quot;x&quot;:[0.9202438782437239,0.06655685294746883],\n",
       "&quot;y&quot;:[-0.4940686891530163,0.026717699725217703]\n",
       "},\n",
       "&quot;color&quot;:&quot;#a39999&quot;,\n",
       "&quot;sampling&quot;:&quot;none&quot;,\n",
       "&quot;position&quot;:&quot;identity&quot;,\n",
       "&quot;geom&quot;:&quot;line&quot;\n",
       "},{\n",
       "&quot;mapping&quot;:{\n",
       "&quot;x&quot;:&quot;x&quot;,\n",
       "&quot;y&quot;:&quot;y&quot;\n",
       "},\n",
       "&quot;stat&quot;:&quot;identity&quot;,\n",
       "&quot;data&quot;:{\n",
       "&quot;x&quot;:[0.9202438782437239,-0.051655593479683515],\n",
       "&quot;y&quot;:[-0.4940686891530163,-0.7294649866255163]\n",
       "},\n",
       "&quot;color&quot;:&quot;#ffffff&quot;,\n",
       "&quot;sampling&quot;:&quot;none&quot;,\n",
       "&quot;position&quot;:&quot;identity&quot;,\n",
       "&quot;geom&quot;:&quot;line&quot;\n",
       "},{\n",
       "&quot;mapping&quot;:{\n",
       "&quot;x&quot;:&quot;x&quot;,\n",
       "&quot;y&quot;:&quot;y&quot;\n",
       "},\n",
       "&quot;stat&quot;:&quot;identity&quot;,\n",
       "&quot;data&quot;:{\n",
       "&quot;x&quot;:[-6.736819772497531,-6.053767087759908],\n",
       "&quot;y&quot;:[2.712118077218227,1.981748971989422]\n",
       "},\n",
       "&quot;color&quot;:&quot;#a39999&quot;,\n",
       "&quot;sampling&quot;:&quot;none&quot;,\n",
       "&quot;position&quot;:&quot;identity&quot;,\n",
       "&quot;geom&quot;:&quot;line&quot;\n",
       "},{\n",
       "&quot;mapping&quot;:{\n",
       "&quot;x&quot;:&quot;x&quot;,\n",
       "&quot;y&quot;:&quot;y&quot;\n",
       "},\n",
       "&quot;stat&quot;:&quot;identity&quot;,\n",
       "&quot;data&quot;:{\n",
       "&quot;x&quot;:[-6.736819772497531,-7.467188877726336],\n",
       "&quot;y&quot;:[2.712118077218227,2.029065392480604]\n",
       "},\n",
       "&quot;color&quot;:&quot;#a39999&quot;,\n",
       "&quot;sampling&quot;:&quot;none&quot;,\n",
       "&quot;position&quot;:&quot;identity&quot;,\n",
       "&quot;geom&quot;:&quot;line&quot;\n",
       "},{\n",
       "&quot;mapping&quot;:{\n",
       "&quot;x&quot;:&quot;x&quot;,\n",
       "&quot;y&quot;:&quot;y&quot;\n",
       "},\n",
       "&quot;stat&quot;:&quot;identity&quot;,\n",
       "&quot;data&quot;:{\n",
       "&quot;x&quot;:[-6.736819772497531,-6.77027753428832],\n",
       "&quot;y&quot;:[2.712118077218227,1.7126779448561378]\n",
       "},\n",
       "&quot;color&quot;:&quot;#ffffff&quot;,\n",
       "&quot;sampling&quot;:&quot;none&quot;,\n",
       "&quot;position&quot;:&quot;identity&quot;,\n",
       "&quot;geom&quot;:&quot;line&quot;\n",
       "},{\n",
       "&quot;mapping&quot;:{\n",
       "&quot;x&quot;:&quot;x&quot;,\n",
       "&quot;y&quot;:&quot;y&quot;\n",
       "},\n",
       "&quot;stat&quot;:&quot;identity&quot;,\n",
       "&quot;data&quot;:{\n",
       "&quot;x&quot;:[-8.777165389725312,-8.348402507334574],\n",
       "&quot;y&quot;:[0.3594003428018404,-0.5440167207319337]\n",
       "},\n",
       "&quot;color&quot;:&quot;#a39999&quot;,\n",
       "&quot;sampling&quot;:&quot;none&quot;,\n",
       "&quot;position&quot;:&quot;identity&quot;,\n",
       "&quot;geom&quot;:&quot;line&quot;\n",
       "},{\n",
       "&quot;mapping&quot;:{\n",
       "&quot;x&quot;:&quot;x&quot;,\n",
       "&quot;y&quot;:&quot;y&quot;\n",
       "},\n",
       "&quot;stat&quot;:&quot;identity&quot;,\n",
       "&quot;data&quot;:{\n",
       "&quot;x&quot;:[-8.777165389725312,-9.680582453259087],\n",
       "&quot;y&quot;:[0.3594003428018404,-0.06936253958889632]\n",
       "},\n",
       "&quot;color&quot;:&quot;#a39999&quot;,\n",
       "&quot;sampling&quot;:&quot;none&quot;,\n",
       "&quot;position&quot;:&quot;identity&quot;,\n",
       "&quot;geom&quot;:&quot;line&quot;\n",
       "},{\n",
       "&quot;mapping&quot;:{\n",
       "&quot;x&quot;:&quot;x&quot;,\n",
       "&quot;y&quot;:&quot;y&quot;\n",
       "},\n",
       "&quot;stat&quot;:&quot;identity&quot;,\n",
       "&quot;data&quot;:{\n",
       "&quot;x&quot;:[-8.777165389725312,-9.112796579930102],\n",
       "&quot;y&quot;:[0.3594003428018404,-0.5825931307221094]\n",
       "},\n",
       "&quot;color&quot;:&quot;#ffffff&quot;,\n",
       "&quot;sampling&quot;:&quot;none&quot;,\n",
       "&quot;position&quot;:&quot;identity&quot;,\n",
       "&quot;geom&quot;:&quot;line&quot;\n",
       "},{\n",
       "&quot;mapping&quot;:{\n",
       "&quot;x&quot;:&quot;x&quot;,\n",
       "&quot;y&quot;:&quot;y&quot;\n",
       "},\n",
       "&quot;stat&quot;:&quot;identity&quot;,\n",
       "&quot;data&quot;:{\n",
       "&quot;x&quot;:[4.122537488851914,3.3817940839134186],\n",
       "&quot;y&quot;:[1.5389108732662402,2.2106989410674807]\n",
       "},\n",
       "&quot;color&quot;:&quot;#a39999&quot;,\n",
       "&quot;sampling&quot;:&quot;none&quot;,\n",
       "&quot;position&quot;:&quot;identity&quot;,\n",
       "&quot;geom&quot;:&quot;line&quot;\n",
       "},{\n",
       "&quot;mapping&quot;:{\n",
       "&quot;x&quot;:&quot;x&quot;,\n",
       "&quot;y&quot;:&quot;y&quot;\n",
       "},\n",
       "&quot;stat&quot;:&quot;identity&quot;,\n",
       "&quot;data&quot;:{\n",
       "&quot;x&quot;:[4.122537488851914,4.794325556653154],\n",
       "&quot;y&quot;:[1.5389108732662402,2.279654278204736]\n",
       "},\n",
       "&quot;color&quot;:&quot;#a39999&quot;,\n",
       "&quot;sampling&quot;:&quot;none&quot;,\n",
       "&quot;position&quot;:&quot;identity&quot;,\n",
       "&quot;geom&quot;:&quot;line&quot;\n",
       "},{\n",
       "&quot;mapping&quot;:{\n",
       "&quot;x&quot;:&quot;x&quot;,\n",
       "&quot;y&quot;:&quot;y&quot;\n",
       "},\n",
       "&quot;stat&quot;:&quot;identity&quot;,\n",
       "&quot;data&quot;:{\n",
       "&quot;x&quot;:[4.122537488851914,4.073778702363156],\n",
       "&quot;y&quot;:[1.5389108732662402,2.5377214562799284]\n",
       "},\n",
       "&quot;color&quot;:&quot;#ffffff&quot;,\n",
       "&quot;sampling&quot;:&quot;none&quot;,\n",
       "&quot;position&quot;:&quot;identity&quot;,\n",
       "&quot;geom&quot;:&quot;line&quot;\n",
       "},{\n",
       "&quot;mapping&quot;:{\n",
       "&quot;x&quot;:&quot;x&quot;,\n",
       "&quot;y&quot;:&quot;y&quot;\n",
       "},\n",
       "&quot;stat&quot;:&quot;identity&quot;,\n",
       "&quot;data&quot;:{\n",
       "&quot;x&quot;:[-3.910652378797365,-4.365173878086884],\n",
       "&quot;y&quot;:[8.842283413008602,7.95154764596901]\n",
       "},\n",
       "&quot;color&quot;:&quot;#a39999&quot;,\n",
       "&quot;sampling&quot;:&quot;none&quot;,\n",
       "&quot;position&quot;:&quot;identity&quot;,\n",
       "&quot;geom&quot;:&quot;line&quot;\n",
       "},{\n",
       "&quot;mapping&quot;:{\n",
       "&quot;x&quot;:&quot;x&quot;,\n",
       "&quot;y&quot;:&quot;y&quot;\n",
       "},\n",
       "&quot;stat&quot;:&quot;identity&quot;,\n",
       "&quot;data&quot;:{\n",
       "&quot;x&quot;:[-3.910652378797365,-4.801388145836956],\n",
       "&quot;y&quot;:[8.842283413008602,9.29680491229812]\n",
       "},\n",
       "&quot;color&quot;:&quot;#a39999&quot;,\n",
       "&quot;sampling&quot;:&quot;none&quot;,\n",
       "&quot;position&quot;:&quot;identity&quot;,\n",
       "&quot;geom&quot;:&quot;line&quot;\n",
       "},{\n",
       "&quot;mapping&quot;:{\n",
       "&quot;x&quot;:&quot;x&quot;,\n",
       "&quot;y&quot;:&quot;y&quot;\n",
       "},\n",
       "&quot;stat&quot;:&quot;identity&quot;,\n",
       "&quot;data&quot;:{\n",
       "&quot;x&quot;:[-3.910652378797365,-4.861892914259156],\n",
       "&quot;y&quot;:[8.842283413008602,8.533833346232202]\n",
       "},\n",
       "&quot;color&quot;:&quot;#ffffff&quot;,\n",
       "&quot;sampling&quot;:&quot;none&quot;,\n",
       "&quot;position&quot;:&quot;identity&quot;,\n",
       "&quot;geom&quot;:&quot;line&quot;\n",
       "},{\n",
       "&quot;mapping&quot;:{\n",
       "&quot;x&quot;:&quot;x&quot;,\n",
       "&quot;y&quot;:&quot;y&quot;\n",
       "},\n",
       "&quot;stat&quot;:&quot;identity&quot;,\n",
       "&quot;data&quot;:{\n",
       "&quot;x&quot;:[0.7423386700582194,1.2786583644541676],\n",
       "&quot;y&quot;:[-1.7867333240180756,-2.63074824414866]\n",
       "},\n",
       "&quot;color&quot;:&quot;#a39999&quot;,\n",
       "&quot;sampling&quot;:&quot;none&quot;,\n",
       "&quot;position&quot;:&quot;identity&quot;,\n",
       "&quot;geom&quot;:&quot;line&quot;\n",
       "},{\n",
       "&quot;mapping&quot;:{\n",
       "&quot;x&quot;:&quot;x&quot;,\n",
       "&quot;y&quot;:&quot;y&quot;\n",
       "},\n",
       "&quot;stat&quot;:&quot;identity&quot;,\n",
       "&quot;data&quot;:{\n",
       "&quot;x&quot;:[0.7423386700582194,-0.10167625007236492],\n",
       "&quot;y&quot;:[-1.7867333240180756,-2.323053018414024]\n",
       "},\n",
       "&quot;color&quot;:&quot;#a39999&quot;,\n",
       "&quot;sampling&quot;:&quot;none&quot;,\n",
       "&quot;position&quot;:&quot;identity&quot;,\n",
       "&quot;geom&quot;:&quot;line&quot;\n",
       "},{\n",
       "&quot;mapping&quot;:{\n",
       "&quot;x&quot;:&quot;x&quot;,\n",
       "&quot;y&quot;:&quot;y&quot;\n",
       "},\n",
       "&quot;stat&quot;:&quot;identity&quot;,\n",
       "&quot;data&quot;:{\n",
       "&quot;x&quot;:[0.7423386700582194,0.5247652894025328],\n",
       "&quot;y&quot;:[-1.7867333240180756,-2.762777290256306]\n",
       "},\n",
       "&quot;color&quot;:&quot;#ffffff&quot;,\n",
       "&quot;sampling&quot;:&quot;none&quot;,\n",
       "&quot;position&quot;:&quot;identity&quot;,\n",
       "&quot;geom&quot;:&quot;line&quot;\n",
       "}]\n",
       "};\n",
       "       var plotContainer = document.getElementById(&quot;Q1yq8H&quot;);\n",
       "       LetsPlot.buildPlotFromProcessedSpecs(plotSpec, -1, -1, plotContainer);\n",
       "   &lt;/script>\n",
       "   &lt;/body>\n",
       "&lt;/html>\"></iframe>            <svg xmlns=\"http://www.w3.org/2000/svg\" xmlns:xlink=\"http://www.w3.org/1999/xlink\" display=\"block\" class=\"plt-container\" id=def136ba-23d0-40e7-a9bd-60746b362e61 width=\"100%\" height=\"100%\" style=\"max-width: 500.0px; max-height: 500.0px;\" viewBox=\"0 0 500.0 500.0\" preserveAspectRatio=\"xMinYMin meet\">\n",
       "  <style type=\"text/css\">\n",
       "  .plt-container {\n",
       "   font-family: Lucida Grande, sans-serif;\n",
       "   user-select: none;\n",
       "   -webkit-user-select: none;\n",
       "   -moz-user-select: none;\n",
       "   -ms-user-select: none;\n",
       "}\n",
       "text {\n",
       "   text-rendering: optimizeLegibility;\n",
       "}\n",
       "#pRsmSBT .plot-title {\n",
       "   fill: #474747;\n",
       "   font-family: Lucida Grande, sans-serif;\n",
       "   font-size: 16.0px;\n",
       "   font-weight: normal;\n",
       "   font-style: normal;   \n",
       "}\n",
       "#pRsmSBT .plot-subtitle {\n",
       "   fill: #474747;\n",
       "   font-family: Lucida Grande, sans-serif;\n",
       "   font-size: 15.0px;\n",
       "   font-weight: normal;\n",
       "   font-style: normal;   \n",
       "}\n",
       "#pRsmSBT .plot-caption {\n",
       "   fill: #474747;\n",
       "   font-family: Lucida Grande, sans-serif;\n",
       "   font-size: 13.0px;\n",
       "   font-weight: normal;\n",
       "   font-style: normal;   \n",
       "}\n",
       "#pRsmSBT .legend-title {\n",
       "   fill: #474747;\n",
       "   font-family: Lucida Grande, sans-serif;\n",
       "   font-size: 15.0px;\n",
       "   font-weight: normal;\n",
       "   font-style: normal;   \n",
       "}\n",
       "#pRsmSBT .legend-item {\n",
       "   fill: #474747;\n",
       "   font-family: Lucida Grande, sans-serif;\n",
       "   font-size: 13.0px;\n",
       "   font-weight: normal;\n",
       "   font-style: normal;   \n",
       "}\n",
       "#pRsmSBT .axis-title-x {\n",
       "   fill: #474747;\n",
       "   font-family: Lucida Grande, sans-serif;\n",
       "   font-size: 15.0px;\n",
       "   font-weight: normal;\n",
       "   font-style: normal;   \n",
       "}\n",
       "#pRsmSBT .axis-text-x {\n",
       "   fill: #474747;\n",
       "   font-family: Lucida Grande, sans-serif;\n",
       "   font-size: 13.0px;\n",
       "   font-weight: normal;\n",
       "   font-style: normal;   \n",
       "}\n",
       "#dEkNyGw .axis-tooltip-text-x {\n",
       "   fill: #ffffff;\n",
       "   font-family: Lucida Grande, sans-serif;\n",
       "   font-size: 13.0px;\n",
       "   font-weight: normal;\n",
       "   font-style: normal;   \n",
       "}\n",
       "#pRsmSBT .axis-title-y {\n",
       "   fill: #474747;\n",
       "   font-family: Lucida Grande, sans-serif;\n",
       "   font-size: 15.0px;\n",
       "   font-weight: normal;\n",
       "   font-style: normal;   \n",
       "}\n",
       "#pRsmSBT .axis-text-y {\n",
       "   fill: #474747;\n",
       "   font-family: Lucida Grande, sans-serif;\n",
       "   font-size: 13.0px;\n",
       "   font-weight: normal;\n",
       "   font-style: normal;   \n",
       "}\n",
       "#dEkNyGw .axis-tooltip-text-y {\n",
       "   fill: #ffffff;\n",
       "   font-family: Lucida Grande, sans-serif;\n",
       "   font-size: 13.0px;\n",
       "   font-weight: normal;\n",
       "   font-style: normal;   \n",
       "}\n",
       "#pRsmSBT .facet-strip-text-x {\n",
       "   fill: #474747;\n",
       "   font-family: Lucida Grande, sans-serif;\n",
       "   font-size: 13.0px;\n",
       "   font-weight: normal;\n",
       "   font-style: normal;   \n",
       "}\n",
       "#pRsmSBT .facet-strip-text-y {\n",
       "   fill: #474747;\n",
       "   font-family: Lucida Grande, sans-serif;\n",
       "   font-size: 13.0px;\n",
       "   font-weight: normal;\n",
       "   font-style: normal;   \n",
       "}\n",
       "#dEkNyGw .tooltip-text {\n",
       "   fill: #474747;\n",
       "   font-family: Lucida Grande, sans-serif;\n",
       "   font-size: 13.0px;\n",
       "   font-weight: normal;\n",
       "   font-style: normal;   \n",
       "}\n",
       "#dEkNyGw .tooltip-title {\n",
       "   fill: #474747;\n",
       "   font-family: Lucida Grande, sans-serif;\n",
       "   font-size: 13.0px;\n",
       "   font-weight: bold;\n",
       "   font-style: normal;   \n",
       "}\n",
       "#dEkNyGw .tooltip-label {\n",
       "   fill: #474747;\n",
       "   font-family: Lucida Grande, sans-serif;\n",
       "   font-size: 13.0px;\n",
       "   font-weight: bold;\n",
       "   font-style: normal;   \n",
       "}\n",
       "\n",
       "  </style>\n",
       "  <g id=\"pRsmSBT\">\n",
       "    <path fill-rule=\"evenodd\" fill=\"rgb(255,255,255)\" fill-opacity=\"1.0\" d=\"M0.0 0.0 L0.0 500.0 L500.0 500.0 L500.0 0.0 Z\">\n",
       "    </path>\n",
       "    <g transform=\"translate(29.5 6.5 ) \">\n",
       "      <g>\n",
       "        <g transform=\"translate(21.961210910936405 0.0 ) \">\n",
       "          <g>\n",
       "            <line x1=\"13.16157821134226\" y1=\"0.0\" x2=\"13.16157821134226\" y2=\"441.0\" stroke=\"rgb(233,233,233)\" stroke-opacity=\"1.0\" stroke-width=\"1.0\" fill=\"none\">\n",
       "            </line>\n",
       "            <line x1=\"121.65740273160212\" y1=\"0.0\" x2=\"121.65740273160212\" y2=\"441.0\" stroke=\"rgb(233,233,233)\" stroke-opacity=\"1.0\" stroke-width=\"1.0\" fill=\"none\">\n",
       "            </line>\n",
       "            <line x1=\"230.15322725186198\" y1=\"0.0\" x2=\"230.15322725186198\" y2=\"441.0\" stroke=\"rgb(233,233,233)\" stroke-opacity=\"1.0\" stroke-width=\"1.0\" fill=\"none\">\n",
       "            </line>\n",
       "            <line x1=\"338.6490517721218\" y1=\"0.0\" x2=\"338.6490517721218\" y2=\"441.0\" stroke=\"rgb(233,233,233)\" stroke-opacity=\"1.0\" stroke-width=\"1.0\" fill=\"none\">\n",
       "            </line>\n",
       "          </g>\n",
       "        </g>\n",
       "        <g transform=\"translate(21.961210910936405 0.0 ) \">\n",
       "          <g>\n",
       "            <line x1=\"0.0\" y1=\"392.6715270542552\" x2=\"442.0387890890636\" y2=\"392.6715270542552\" stroke=\"rgb(233,233,233)\" stroke-opacity=\"1.0\" stroke-width=\"1.0\" fill=\"none\">\n",
       "            </line>\n",
       "            <line x1=\"0.0\" y1=\"343.95206248041836\" x2=\"442.0387890890636\" y2=\"343.95206248041836\" stroke=\"rgb(233,233,233)\" stroke-opacity=\"1.0\" stroke-width=\"1.0\" fill=\"none\">\n",
       "            </line>\n",
       "            <line x1=\"0.0\" y1=\"295.23259790658153\" x2=\"442.0387890890636\" y2=\"295.23259790658153\" stroke=\"rgb(233,233,233)\" stroke-opacity=\"1.0\" stroke-width=\"1.0\" fill=\"none\">\n",
       "            </line>\n",
       "            <line x1=\"0.0\" y1=\"246.5131333327447\" x2=\"442.0387890890636\" y2=\"246.5131333327447\" stroke=\"rgb(233,233,233)\" stroke-opacity=\"1.0\" stroke-width=\"1.0\" fill=\"none\">\n",
       "            </line>\n",
       "            <line x1=\"0.0\" y1=\"197.79366875890787\" x2=\"442.0387890890636\" y2=\"197.79366875890787\" stroke=\"rgb(233,233,233)\" stroke-opacity=\"1.0\" stroke-width=\"1.0\" fill=\"none\">\n",
       "            </line>\n",
       "            <line x1=\"0.0\" y1=\"149.07420418507104\" x2=\"442.0387890890636\" y2=\"149.07420418507104\" stroke=\"rgb(233,233,233)\" stroke-opacity=\"1.0\" stroke-width=\"1.0\" fill=\"none\">\n",
       "            </line>\n",
       "            <line x1=\"0.0\" y1=\"100.35473961123424\" x2=\"442.0387890890636\" y2=\"100.35473961123424\" stroke=\"rgb(233,233,233)\" stroke-opacity=\"1.0\" stroke-width=\"1.0\" fill=\"none\">\n",
       "            </line>\n",
       "            <line x1=\"0.0\" y1=\"51.635275037397406\" x2=\"442.0387890890636\" y2=\"51.635275037397406\" stroke=\"rgb(233,233,233)\" stroke-opacity=\"1.0\" stroke-width=\"1.0\" fill=\"none\">\n",
       "            </line>\n",
       "            <line x1=\"0.0\" y1=\"2.9158104635605753\" x2=\"442.0387890890636\" y2=\"2.9158104635605753\" stroke=\"rgb(233,233,233)\" stroke-opacity=\"1.0\" stroke-width=\"1.0\" fill=\"none\">\n",
       "            </line>\n",
       "          </g>\n",
       "        </g>\n",
       "      </g>\n",
       "      <g clip-path=\"url(#cOqMRWm)\" clip-bounds-jfx=\"[rect (21.961210910936405, 0.0), (442.0387890890636, 441.0)]\">\n",
       "        <g transform=\"translate(21.961210910936405 0.0 ) \">\n",
       "          <g>\n",
       "            <g>\n",
       "              <g>\n",
       "                <g >\n",
       "                  <circle fill=\"#ffffff\" stroke=\"#ffffff\" stroke-opacity=\"0.0\" stroke-width=\"0.0\" cx=\"126.45056054145864\" cy=\"279.73749768403644\" r=\"3.3000000000000003\" />\n",
       "                  <circle fill=\"#ffffff\" stroke=\"#ffffff\" stroke-opacity=\"0.0\" stroke-width=\"0.0\" cx=\"196.3590412733787\" cy=\"119.3150122098089\" r=\"3.3000000000000003\" />\n",
       "                  <circle fill=\"#ffffff\" stroke=\"#ffffff\" stroke-opacity=\"0.0\" stroke-width=\"0.0\" cx=\"378.0374747161631\" cy=\"290.82738535087447\" r=\"3.3000000000000003\" />\n",
       "                  <circle fill=\"#ffffff\" stroke=\"#ffffff\" stroke-opacity=\"0.0\" stroke-width=\"0.0\" cx=\"140.02268793450958\" cy=\"74.84122769973465\" r=\"3.3000000000000003\" />\n",
       "                  <circle fill=\"#ffffff\" stroke=\"#ffffff\" stroke-opacity=\"0.0\" stroke-width=\"0.0\" cx=\"400.3404989046213\" cy=\"396.6998300515029\" r=\"3.3000000000000003\" />\n",
       "                  <circle fill=\"#ffffff\" stroke=\"#ffffff\" stroke-opacity=\"0.0\" stroke-width=\"0.0\" cx=\"119.38129561459998\" cy=\"131.61399600355202\" r=\"3.3000000000000003\" />\n",
       "                  <circle fill=\"#ffffff\" stroke=\"#ffffff\" stroke-opacity=\"0.0\" stroke-width=\"0.0\" cx=\"119.25404562060719\" cy=\"101.9718891937818\" r=\"3.3000000000000003\" />\n",
       "                  <circle fill=\"#ffffff\" stroke=\"#ffffff\" stroke-opacity=\"0.0\" stroke-width=\"0.0\" cx=\"91.10133150924818\" cy=\"167.13349459054473\" r=\"3.3000000000000003\" />\n",
       "                  <circle fill=\"#ffffff\" stroke=\"#ffffff\" stroke-opacity=\"0.0\" stroke-width=\"0.0\" cx=\"250.12175091781688\" cy=\"258.5485143318609\" r=\"3.3000000000000003\" />\n",
       "                  <circle fill=\"#ffffff\" stroke=\"#ffffff\" stroke-opacity=\"0.0\" stroke-width=\"0.0\" cx=\"83.96986407956015\" cy=\"180.44666304119676\" r=\"3.3000000000000003\" />\n",
       "                  <circle fill=\"#ffffff\" stroke=\"#ffffff\" stroke-opacity=\"0.0\" stroke-width=\"0.0\" cx=\"39.69606807007483\" cy=\"237.75823719826516\" r=\"3.3000000000000003\" />\n",
       "                  <circle fill=\"#ffffff\" stroke=\"#ffffff\" stroke-opacity=\"0.0\" stroke-width=\"0.0\" cx=\"319.608848045596\" cy=\"209.02567644655124\" r=\"3.3000000000000003\" />\n",
       "                  <circle fill=\"#ffffff\" stroke=\"#ffffff\" stroke-opacity=\"0.0\" stroke-width=\"0.0\" cx=\"145.29533640191482\" cy=\"31.11747658679593\" r=\"3.3000000000000003\" />\n",
       "                  <circle fill=\"#ffffff\" stroke=\"#ffffff\" stroke-opacity=\"0.0\" stroke-width=\"0.0\" cx=\"246.2613564681099\" cy=\"290.03747877394085\" r=\"3.3000000000000003\" />\n",
       "                </g>\n",
       "              </g>\n",
       "            </g>\n",
       "            <g>\n",
       "              <g>\n",
       "                <g >\n",
       "                  <circle fill=\"#3ba272\" stroke=\"#3ba272\" stroke-opacity=\"0.0\" stroke-width=\"0.0\" cx=\"246.3622225519707\" cy=\"232.68672757658186\" r=\"5.5\" />\n",
       "                  <circle fill=\"#3ba272\" stroke=\"#3ba272\" stroke-opacity=\"0.0\" stroke-width=\"0.0\" cx=\"156.6783977365439\" cy=\"298.47488656958774\" r=\"5.5\" />\n",
       "                  <circle fill=\"#3ba272\" stroke=\"#3ba272\" stroke-opacity=\"0.0\" stroke-width=\"0.0\" cx=\"138.43743607835256\" cy=\"398.4657507418567\" r=\"5.5\" />\n",
       "                  <circle fill=\"#3ba272\" stroke=\"#3ba272\" stroke-opacity=\"0.0\" stroke-width=\"0.0\" cx=\"79.43043952873731\" cy=\"420.8084443448439\" r=\"5.5\" />\n",
       "                  <circle fill=\"#3ba272\" stroke=\"#3ba272\" stroke-opacity=\"0.0\" stroke-width=\"0.0\" cx=\"228.64288073229307\" cy=\"389.0314282148885\" r=\"5.5\" />\n",
       "                  <circle fill=\"#3ba272\" stroke=\"#3ba272\" stroke-opacity=\"0.0\" stroke-width=\"0.0\" cx=\"254.7400877895168\" cy=\"124.34983900590186\" r=\"5.5\" />\n",
       "                  <circle fill=\"#3ba272\" stroke=\"#3ba272\" stroke-opacity=\"0.0\" stroke-width=\"0.0\" cx=\"104.90075423587356\" cy=\"119.71470402263242\" r=\"5.5\" />\n",
       "                  <circle fill=\"#3ba272\" stroke=\"#3ba272\" stroke-opacity=\"0.0\" stroke-width=\"0.0\" cx=\"143.4027968500065\" cy=\"93.15518748114377\" r=\"5.5\" />\n",
       "                  <circle fill=\"#3ba272\" stroke=\"#3ba272\" stroke-opacity=\"0.0\" stroke-width=\"0.0\" cx=\"36.936770570889024\" cy=\"222.43610686925052\" r=\"5.5\" />\n",
       "                </g>\n",
       "              </g>\n",
       "            </g>\n",
       "            <g>\n",
       "              <g>\n",
       "                <g >\n",
       "                  <circle fill=\"#ee6666\" stroke=\"#ee6666\" stroke-opacity=\"0.0\" stroke-width=\"0.0\" cx=\"230.15322725186198\" cy=\"246.5131333327447\" r=\"3.3000000000000003\" />\n",
       "                </g>\n",
       "              </g>\n",
       "            </g>\n",
       "            <g>\n",
       "              <g>\n",
       "                <path d=\"M126.45056054145864 279.73749768403644 L126.45056054145864 279.73749768403644 L132.32962081185931 303.1861195507376 \" fill=\"none\" stroke-width=\"1.6500000000000001\" stroke=\"rgb(163,153,153)\" stroke-opacity=\"1.0\">\n",
       "                </path>\n",
       "              </g>\n",
       "            </g>\n",
       "            <g>\n",
       "              <g>\n",
       "                <path d=\"M105.56299467393265 286.33739841380486 L105.56299467393265 286.33739841380486 L126.45056054145864 279.73749768403644 \" fill=\"none\" stroke-width=\"1.6500000000000001\" stroke=\"rgb(163,153,153)\" stroke-opacity=\"1.0\">\n",
       "                </path>\n",
       "              </g>\n",
       "            </g>\n",
       "            <g>\n",
       "              <g>\n",
       "                <path d=\"M115.83794445825507 300.9850117766373 L115.83794445825507 300.9850117766373 L126.45056054145864 279.73749768403644 \" fill=\"none\" stroke-width=\"1.6500000000000001\" stroke=\"rgb(255,255,255)\" stroke-opacity=\"1.0\">\n",
       "                </path>\n",
       "              </g>\n",
       "            </g>\n",
       "            <g>\n",
       "              <g>\n",
       "                <path d=\"M196.3590412733787 119.3150122098089 L196.3590412733787 119.3150122098089 L217.67361640438455 123.8809707059793 \" fill=\"none\" stroke-width=\"1.6500000000000001\" stroke=\"rgb(163,153,153)\" stroke-opacity=\"1.0\">\n",
       "                </path>\n",
       "              </g>\n",
       "            </g>\n",
       "            <g>\n",
       "              <g>\n",
       "                <path d=\"M192.29177628103454 143.24299959073136 L192.29177628103454 143.24299959073136 L196.3590412733787 119.3150122098089 \" fill=\"none\" stroke-width=\"1.6500000000000001\" stroke=\"rgb(163,153,153)\" stroke-opacity=\"1.0\">\n",
       "                </path>\n",
       "              </g>\n",
       "            </g>\n",
       "            <g>\n",
       "              <g>\n",
       "                <path d=\"M196.3590412733787 119.3150122098089 L196.3590412733787 119.3150122098089 L208.55473122965387 139.46327456226373 \" fill=\"none\" stroke-width=\"1.6500000000000001\" stroke=\"rgb(255,255,255)\" stroke-opacity=\"1.0\">\n",
       "                </path>\n",
       "              </g>\n",
       "            </g>\n",
       "            <g>\n",
       "              <g>\n",
       "                <path d=\"M356.4335215088582 288.54791352904476 L356.4335215088582 288.54791352904476 L378.0374747161631 290.82738535087447 \" fill=\"none\" stroke-width=\"1.6500000000000001\" stroke=\"rgb(163,153,153)\" stroke-opacity=\"1.0\">\n",
       "                </path>\n",
       "              </g>\n",
       "            </g>\n",
       "            <g>\n",
       "              <g>\n",
       "                <path d=\"M378.0374747161631 290.82738535087447 L378.0374747161631 290.82738535087447 L380.0679828668042 266.5745388106471 \" fill=\"none\" stroke-width=\"1.6500000000000001\" stroke=\"rgb(163,153,153)\" stroke-opacity=\"1.0\">\n",
       "                </path>\n",
       "              </g>\n",
       "            </g>\n",
       "            <g>\n",
       "              <g>\n",
       "                <path d=\"M364.1969589854138 272.06620311646356 L364.1969589854138 272.06620311646356 L378.0374747161631 290.82738535087447 \" fill=\"none\" stroke-width=\"1.6500000000000001\" stroke=\"rgb(255,255,255)\" stroke-opacity=\"1.0\">\n",
       "                </path>\n",
       "              </g>\n",
       "            </g>\n",
       "            <g>\n",
       "              <g>\n",
       "                <path d=\"M140.02268793450958 74.84122769973465 L140.02268793450958 74.84122769973465 L157.36069750339607 89.48892837076957 \" fill=\"none\" stroke-width=\"1.6500000000000001\" stroke=\"rgb(163,153,153)\" stroke-opacity=\"1.0\">\n",
       "                </path>\n",
       "              </g>\n",
       "            </g>\n",
       "            <g>\n",
       "              <g>\n",
       "                <path d=\"M126.97480758088736 94.30507680884196 L126.97480758088736 94.30507680884196 L140.02268793450958 74.84122769973465 \" fill=\"none\" stroke-width=\"1.6500000000000001\" stroke=\"rgb(163,153,153)\" stroke-opacity=\"1.0\">\n",
       "                </path>\n",
       "              </g>\n",
       "            </g>\n",
       "            <g>\n",
       "              <g>\n",
       "                <path d=\"M140.02268793450958 74.84122769973465 L140.02268793450958 74.84122769973465 L143.05626739478947 98.9617358660557 \" fill=\"none\" stroke-width=\"1.6500000000000001\" stroke=\"rgb(255,255,255)\" stroke-opacity=\"1.0\">\n",
       "                </path>\n",
       "              </g>\n",
       "            </g>\n",
       "            <g>\n",
       "              <g>\n",
       "                <path d=\"M400.3404989046213 396.6998300515029 L400.3404989046213 396.6998300515029 L421.9461168577425 394.44033059194464 \" fill=\"none\" stroke-width=\"1.6500000000000001\" stroke=\"rgb(163,153,153)\" stroke-opacity=\"1.0\">\n",
       "                </path>\n",
       "              </g>\n",
       "            </g>\n",
       "            <g>\n",
       "              <g>\n",
       "                <path d=\"M400.3404989046213 396.6998300515029 L400.3404989046213 396.6998300515029 L402.3532160722849 420.9545454545455 \" fill=\"none\" stroke-width=\"1.6500000000000001\" stroke=\"rgb(163,153,153)\" stroke-opacity=\"1.0\">\n",
       "                </path>\n",
       "              </g>\n",
       "            </g>\n",
       "            <g>\n",
       "              <g>\n",
       "                <path d=\"M400.3404989046213 396.6998300515029 L400.3404989046213 396.6998300515029 L417.04118382886463 412.2527963988031 \" fill=\"none\" stroke-width=\"1.6500000000000001\" stroke=\"rgb(255,255,255)\" stroke-opacity=\"1.0\">\n",
       "                </path>\n",
       "              </g>\n",
       "            </g>\n",
       "            <g>\n",
       "              <g>\n",
       "                <path d=\"M119.38129561459998 131.61399600355202 L119.38129561459998 131.61399600355202 L127.74063372025951 109.13441251673342 \" fill=\"none\" stroke-width=\"1.6500000000000001\" stroke=\"rgb(163,153,153)\" stroke-opacity=\"1.0\">\n",
       "                </path>\n",
       "              </g>\n",
       "            </g>\n",
       "            <g>\n",
       "              <g>\n",
       "                <path d=\"M119.38129561459998 131.61399600355202 L119.38129561459998 131.61399600355202 L139.40566137155992 140.99828518012197 \" fill=\"none\" stroke-width=\"1.6500000000000001\" stroke=\"rgb(163,153,153)\" stroke-opacity=\"1.0\">\n",
       "                </path>\n",
       "              </g>\n",
       "            </g>\n",
       "            <g>\n",
       "              <g>\n",
       "                <path d=\"M119.38129561459998 131.61399600355202 L119.38129561459998 131.61399600355202 L139.451605091049 122.35422459514159 \" fill=\"none\" stroke-width=\"1.6500000000000001\" stroke=\"rgb(255,255,255)\" stroke-opacity=\"1.0\">\n",
       "                </path>\n",
       "              </g>\n",
       "            </g>\n",
       "            <g>\n",
       "              <g>\n",
       "                <path d=\"M103.30052098117994 118.48377620648932 L103.30052098117994 118.48377620648932 L119.25404562060719 101.9718891937818 \" fill=\"none\" stroke-width=\"1.6500000000000001\" stroke=\"rgb(163,153,153)\" stroke-opacity=\"1.0\">\n",
       "                </path>\n",
       "              </g>\n",
       "            </g>\n",
       "            <g>\n",
       "              <g>\n",
       "                <path d=\"M104.54558516029971 84.06227880243281 L104.54558516029971 84.06227880243281 L119.25404562060719 101.9718891937818 \" fill=\"none\" stroke-width=\"1.6500000000000001\" stroke=\"rgb(163,153,153)\" stroke-opacity=\"1.0\">\n",
       "                </path>\n",
       "              </g>\n",
       "            </g>\n",
       "            <g>\n",
       "              <g>\n",
       "                <path d=\"M97.57274803194386 100.98354951452146 L97.57274803194386 100.98354951452146 L119.25404562060719 101.9718891937818 \" fill=\"none\" stroke-width=\"1.6500000000000001\" stroke=\"rgb(255,255,255)\" stroke-opacity=\"1.0\">\n",
       "                </path>\n",
       "              </g>\n",
       "            </g>\n",
       "            <g>\n",
       "              <g>\n",
       "                <path d=\"M71.62176698931177 156.40093378643112 L71.62176698931177 156.40093378643112 L91.10133150924818 167.13349459054473 \" fill=\"none\" stroke-width=\"1.6500000000000001\" stroke=\"rgb(163,153,153)\" stroke-opacity=\"1.0\">\n",
       "                </path>\n",
       "              </g>\n",
       "            </g>\n",
       "            <g>\n",
       "              <g>\n",
       "                <path d=\"M91.10133150924818 167.13349459054473 L91.10133150924818 167.13349459054473 L100.6616831579521 145.2655112432779 \" fill=\"none\" stroke-width=\"1.6500000000000001\" stroke=\"rgb(163,153,153)\" stroke-opacity=\"1.0\">\n",
       "                </path>\n",
       "              </g>\n",
       "            </g>\n",
       "            <g>\n",
       "              <g>\n",
       "                <path d=\"M84.08738882396679 144.0814287507322 L84.08738882396679 144.0814287507322 L91.10133150924818 167.13349459054473 \" fill=\"none\" stroke-width=\"1.6500000000000001\" stroke=\"rgb(255,255,255)\" stroke-opacity=\"1.0\">\n",
       "                </path>\n",
       "              </g>\n",
       "            </g>\n",
       "            <g>\n",
       "              <g>\n",
       "                <path d=\"M238.8211211857623 279.3441017248934 L238.8211211857623 279.3441017248934 L250.12175091781688 258.5485143318609 \" fill=\"none\" stroke-width=\"1.6500000000000001\" stroke=\"rgb(163,153,153)\" stroke-opacity=\"1.0\">\n",
       "                </path>\n",
       "              </g>\n",
       "            </g>\n",
       "            <g>\n",
       "              <g>\n",
       "                <path d=\"M231.59745537946384 245.8622973201161 L231.59745537946384 245.8622973201161 L250.12175091781688 258.5485143318609 \" fill=\"none\" stroke-width=\"1.6500000000000001\" stroke=\"rgb(163,153,153)\" stroke-opacity=\"1.0\">\n",
       "                </path>\n",
       "              </g>\n",
       "            </g>\n",
       "            <g>\n",
       "              <g>\n",
       "                <path d=\"M229.03234401072964 264.2827051196228 L229.03234401072964 264.2827051196228 L250.12175091781688 258.5485143318609 \" fill=\"none\" stroke-width=\"1.6500000000000001\" stroke=\"rgb(255,255,255)\" stroke-opacity=\"1.0\">\n",
       "                </path>\n",
       "              </g>\n",
       "            </g>\n",
       "            <g>\n",
       "              <g>\n",
       "                <path d=\"M83.96986407956015 180.44666304119676 L83.96986407956015 180.44666304119676 L98.79153692383727 198.23825891520661 \" fill=\"none\" stroke-width=\"1.6500000000000001\" stroke=\"rgb(163,153,153)\" stroke-opacity=\"1.0\">\n",
       "                </path>\n",
       "              </g>\n",
       "            </g>\n",
       "            <g>\n",
       "              <g>\n",
       "                <path d=\"M68.12146442437543 197.08564357926616 L68.12146442437543 197.08564357926616 L83.96986407956015 180.44666304119676 \" fill=\"none\" stroke-width=\"1.6500000000000001\" stroke=\"rgb(163,153,153)\" stroke-opacity=\"1.0\">\n",
       "                </path>\n",
       "              </g>\n",
       "            </g>\n",
       "            <g>\n",
       "              <g>\n",
       "                <path d=\"M83.24385858914133 204.79275710233958 L83.24385858914133 204.79275710233958 L83.96986407956015 180.44666304119676 \" fill=\"none\" stroke-width=\"1.6500000000000001\" stroke=\"rgb(255,255,255)\" stroke-opacity=\"1.0\">\n",
       "                </path>\n",
       "              </g>\n",
       "            </g>\n",
       "            <g>\n",
       "              <g>\n",
       "                <path d=\"M39.69606807007483 237.75823719826516 L39.69606807007483 237.75823719826516 L48.99986455980809 259.76523500938185 \" fill=\"none\" stroke-width=\"1.6500000000000001\" stroke=\"rgb(163,153,153)\" stroke-opacity=\"1.0\">\n",
       "                </path>\n",
       "              </g>\n",
       "            </g>\n",
       "            <g>\n",
       "              <g>\n",
       "                <path d=\"M20.092672231321075 248.202786227871 L20.092672231321075 248.202786227871 L39.69606807007483 237.75823719826516 \" fill=\"none\" stroke-width=\"1.6500000000000001\" stroke=\"rgb(163,153,153)\" stroke-opacity=\"1.0\">\n",
       "                </path>\n",
       "              </g>\n",
       "            </g>\n",
       "            <g>\n",
       "              <g>\n",
       "                <path d=\"M32.41315152687787 260.704946029333 L32.41315152687787 260.704946029333 L39.69606807007483 237.75823719826516 \" fill=\"none\" stroke-width=\"1.6500000000000001\" stroke=\"rgb(255,255,255)\" stroke-opacity=\"1.0\">\n",
       "                </path>\n",
       "              </g>\n",
       "            </g>\n",
       "            <g>\n",
       "              <g>\n",
       "                <path d=\"M303.53533475024665 192.66109896136686 L303.53533475024665 192.66109896136686 L319.608848045596 209.02567644655124 \" fill=\"none\" stroke-width=\"1.6500000000000001\" stroke=\"rgb(163,153,153)\" stroke-opacity=\"1.0\">\n",
       "                </path>\n",
       "              </g>\n",
       "            </g>\n",
       "            <g>\n",
       "              <g>\n",
       "                <path d=\"M319.608848045596 209.02567644655124 L319.608848045596 209.02567644655124 L334.1860881093895 190.9813654089491 \" fill=\"none\" stroke-width=\"1.6500000000000001\" stroke=\"rgb(163,153,153)\" stroke-opacity=\"1.0\">\n",
       "                </path>\n",
       "              </g>\n",
       "            </g>\n",
       "            <g>\n",
       "              <g>\n",
       "                <path d=\"M318.55082309705494 184.69491803899692 L318.55082309705494 184.69491803899692 L319.608848045596 209.02567644655124 \" fill=\"none\" stroke-width=\"1.6500000000000001\" stroke=\"rgb(255,255,255)\" stroke-opacity=\"1.0\">\n",
       "                </path>\n",
       "              </g>\n",
       "            </g>\n",
       "            <g>\n",
       "              <g>\n",
       "                <path d=\"M135.43259943639464 52.815561410263314 L135.43259943639464 52.815561410263314 L145.29533640191482 31.11747658679593 \" fill=\"none\" stroke-width=\"1.6500000000000001\" stroke=\"rgb(163,153,153)\" stroke-opacity=\"1.0\">\n",
       "                </path>\n",
       "              </g>\n",
       "            </g>\n",
       "            <g>\n",
       "              <g>\n",
       "                <path d=\"M125.96711410698553 20.045454545454504 L125.96711410698553 20.045454545454504 L145.29533640191482 31.11747658679593 \" fill=\"none\" stroke-width=\"1.6500000000000001\" stroke=\"rgb(163,153,153)\" stroke-opacity=\"1.0\">\n",
       "                </path>\n",
       "              </g>\n",
       "            </g>\n",
       "            <g>\n",
       "              <g>\n",
       "                <path d=\"M124.65421115951074 38.63123763735115 L124.65421115951074 38.63123763735115 L145.29533640191482 31.11747658679593 \" fill=\"none\" stroke-width=\"1.6500000000000001\" stroke=\"rgb(255,255,255)\" stroke-opacity=\"1.0\">\n",
       "                </path>\n",
       "              </g>\n",
       "            </g>\n",
       "            <g>\n",
       "              <g>\n",
       "                <path d=\"M246.2613564681099 290.03747877394085 L246.2613564681099 290.03747877394085 L257.8990459580983 310.5974562744867 \" fill=\"none\" stroke-width=\"1.6500000000000001\" stroke=\"rgb(163,153,153)\" stroke-opacity=\"1.0\">\n",
       "                </path>\n",
       "              </g>\n",
       "            </g>\n",
       "            <g>\n",
       "              <g>\n",
       "                <path d=\"M227.9469375347161 303.1020829496281 L227.9469375347161 303.1020829496281 L246.2613564681099 290.03747877394085 \" fill=\"none\" stroke-width=\"1.6500000000000001\" stroke=\"rgb(163,153,153)\" stroke-opacity=\"1.0\">\n",
       "                </path>\n",
       "              </g>\n",
       "            </g>\n",
       "            <g>\n",
       "              <g>\n",
       "                <path d=\"M241.5401958025301 313.81364849176623 L241.5401958025301 313.81364849176623 L246.2613564681099 290.03747877394085 \" fill=\"none\" stroke-width=\"1.6500000000000001\" stroke=\"rgb(255,255,255)\" stroke-opacity=\"1.0\">\n",
       "                </path>\n",
       "              </g>\n",
       "            </g>\n",
       "          </g>\n",
       "        </g>\n",
       "        <defs>\n",
       "          <clipPath id=\"cXuQhaa\">\n",
       "            <rect x=\"21.961210910936405\" y=\"0.0\" width=\"442.0387890890636\" height=\"441.0\">\n",
       "            </rect>\n",
       "          </clipPath>\n",
       "        </defs>\n",
       "        <defs>\n",
       "          <clipPath id=\"c10zL1X\">\n",
       "            <rect x=\"21.961210910936405\" y=\"0.0\" width=\"442.0387890890636\" height=\"441.0\">\n",
       "            </rect>\n",
       "          </clipPath>\n",
       "        </defs>\n",
       "        <defs>\n",
       "          <clipPath id=\"cSoJvFr\">\n",
       "            <rect x=\"21.961210910936405\" y=\"0.0\" width=\"442.0387890890636\" height=\"441.0\">\n",
       "            </rect>\n",
       "          </clipPath>\n",
       "        </defs>\n",
       "        <defs>\n",
       "          <clipPath id=\"c925zTP\">\n",
       "            <rect x=\"21.961210910936405\" y=\"0.0\" width=\"442.0387890890636\" height=\"441.0\">\n",
       "            </rect>\n",
       "          </clipPath>\n",
       "        </defs>\n",
       "        <defs>\n",
       "          <clipPath id=\"cKcyW6b\">\n",
       "            <rect x=\"21.961210910936405\" y=\"0.0\" width=\"442.0387890890636\" height=\"441.0\">\n",
       "            </rect>\n",
       "          </clipPath>\n",
       "        </defs>\n",
       "        <defs>\n",
       "          <clipPath id=\"cbaeQAo\">\n",
       "            <rect x=\"21.961210910936405\" y=\"0.0\" width=\"442.0387890890636\" height=\"441.0\">\n",
       "            </rect>\n",
       "          </clipPath>\n",
       "        </defs>\n",
       "        <defs>\n",
       "          <clipPath id=\"cJed9Fs\">\n",
       "            <rect x=\"21.961210910936405\" y=\"0.0\" width=\"442.0387890890636\" height=\"441.0\">\n",
       "            </rect>\n",
       "          </clipPath>\n",
       "        </defs>\n",
       "        <defs>\n",
       "          <clipPath id=\"cRvFZEw\">\n",
       "            <rect x=\"21.961210910936405\" y=\"0.0\" width=\"442.0387890890636\" height=\"441.0\">\n",
       "            </rect>\n",
       "          </clipPath>\n",
       "        </defs>\n",
       "        <defs>\n",
       "          <clipPath id=\"c6sRF5j\">\n",
       "            <rect x=\"21.961210910936405\" y=\"0.0\" width=\"442.0387890890636\" height=\"441.0\">\n",
       "            </rect>\n",
       "          </clipPath>\n",
       "        </defs>\n",
       "        <defs>\n",
       "          <clipPath id=\"czZcZdO\">\n",
       "            <rect x=\"21.961210910936405\" y=\"0.0\" width=\"442.0387890890636\" height=\"441.0\">\n",
       "            </rect>\n",
       "          </clipPath>\n",
       "        </defs>\n",
       "        <defs>\n",
       "          <clipPath id=\"cBsNS2m\">\n",
       "            <rect x=\"21.961210910936405\" y=\"0.0\" width=\"442.0387890890636\" height=\"441.0\">\n",
       "            </rect>\n",
       "          </clipPath>\n",
       "        </defs>\n",
       "        <defs>\n",
       "          <clipPath id=\"cMl0gyj\">\n",
       "            <rect x=\"21.961210910936405\" y=\"0.0\" width=\"442.0387890890636\" height=\"441.0\">\n",
       "            </rect>\n",
       "          </clipPath>\n",
       "        </defs>\n",
       "        <defs>\n",
       "          <clipPath id=\"cWxptST\">\n",
       "            <rect x=\"21.961210910936405\" y=\"0.0\" width=\"442.0387890890636\" height=\"441.0\">\n",
       "            </rect>\n",
       "          </clipPath>\n",
       "        </defs>\n",
       "        <defs>\n",
       "          <clipPath id=\"cgsVFhI\">\n",
       "            <rect x=\"21.961210910936405\" y=\"0.0\" width=\"442.0387890890636\" height=\"441.0\">\n",
       "            </rect>\n",
       "          </clipPath>\n",
       "        </defs>\n",
       "        <defs>\n",
       "          <clipPath id=\"cpu6Rjj\">\n",
       "            <rect x=\"21.961210910936405\" y=\"0.0\" width=\"442.0387890890636\" height=\"441.0\">\n",
       "            </rect>\n",
       "          </clipPath>\n",
       "        </defs>\n",
       "        <defs>\n",
       "          <clipPath id=\"cCHY43m\">\n",
       "            <rect x=\"21.961210910936405\" y=\"0.0\" width=\"442.0387890890636\" height=\"441.0\">\n",
       "            </rect>\n",
       "          </clipPath>\n",
       "        </defs>\n",
       "        <defs>\n",
       "          <clipPath id=\"cA6oCzT\">\n",
       "            <rect x=\"21.961210910936405\" y=\"0.0\" width=\"442.0387890890636\" height=\"441.0\">\n",
       "            </rect>\n",
       "          </clipPath>\n",
       "        </defs>\n",
       "        <defs>\n",
       "          <clipPath id=\"cU5pw3m\">\n",
       "            <rect x=\"21.961210910936405\" y=\"0.0\" width=\"442.0387890890636\" height=\"441.0\">\n",
       "            </rect>\n",
       "          </clipPath>\n",
       "        </defs>\n",
       "        <defs>\n",
       "          <clipPath id=\"cylaQdQ\">\n",
       "            <rect x=\"21.961210910936405\" y=\"0.0\" width=\"442.0387890890636\" height=\"441.0\">\n",
       "            </rect>\n",
       "          </clipPath>\n",
       "        </defs>\n",
       "        <defs>\n",
       "          <clipPath id=\"cu5xFGm\">\n",
       "            <rect x=\"21.961210910936405\" y=\"0.0\" width=\"442.0387890890636\" height=\"441.0\">\n",
       "            </rect>\n",
       "          </clipPath>\n",
       "        </defs>\n",
       "        <defs>\n",
       "          <clipPath id=\"cFGOa9a\">\n",
       "            <rect x=\"21.961210910936405\" y=\"0.0\" width=\"442.0387890890636\" height=\"441.0\">\n",
       "            </rect>\n",
       "          </clipPath>\n",
       "        </defs>\n",
       "        <defs>\n",
       "          <clipPath id=\"cgnW51Z\">\n",
       "            <rect x=\"21.961210910936405\" y=\"0.0\" width=\"442.0387890890636\" height=\"441.0\">\n",
       "            </rect>\n",
       "          </clipPath>\n",
       "        </defs>\n",
       "        <defs>\n",
       "          <clipPath id=\"c9UPARL\">\n",
       "            <rect x=\"21.961210910936405\" y=\"0.0\" width=\"442.0387890890636\" height=\"441.0\">\n",
       "            </rect>\n",
       "          </clipPath>\n",
       "        </defs>\n",
       "        <defs>\n",
       "          <clipPath id=\"cfxNuVQ\">\n",
       "            <rect x=\"21.961210910936405\" y=\"0.0\" width=\"442.0387890890636\" height=\"441.0\">\n",
       "            </rect>\n",
       "          </clipPath>\n",
       "        </defs>\n",
       "        <defs>\n",
       "          <clipPath id=\"czT35im\">\n",
       "            <rect x=\"21.961210910936405\" y=\"0.0\" width=\"442.0387890890636\" height=\"441.0\">\n",
       "            </rect>\n",
       "          </clipPath>\n",
       "        </defs>\n",
       "        <defs>\n",
       "          <clipPath id=\"cWMP5sG\">\n",
       "            <rect x=\"21.961210910936405\" y=\"0.0\" width=\"442.0387890890636\" height=\"441.0\">\n",
       "            </rect>\n",
       "          </clipPath>\n",
       "        </defs>\n",
       "        <defs>\n",
       "          <clipPath id=\"c8EVnO9\">\n",
       "            <rect x=\"21.961210910936405\" y=\"0.0\" width=\"442.0387890890636\" height=\"441.0\">\n",
       "            </rect>\n",
       "          </clipPath>\n",
       "        </defs>\n",
       "        <defs>\n",
       "          <clipPath id=\"ch49n1t\">\n",
       "            <rect x=\"21.961210910936405\" y=\"0.0\" width=\"442.0387890890636\" height=\"441.0\">\n",
       "            </rect>\n",
       "          </clipPath>\n",
       "        </defs>\n",
       "        <defs>\n",
       "          <clipPath id=\"cGzkfQJ\">\n",
       "            <rect x=\"21.961210910936405\" y=\"0.0\" width=\"442.0387890890636\" height=\"441.0\">\n",
       "            </rect>\n",
       "          </clipPath>\n",
       "        </defs>\n",
       "        <defs>\n",
       "          <clipPath id=\"cQlNQFA\">\n",
       "            <rect x=\"21.961210910936405\" y=\"0.0\" width=\"442.0387890890636\" height=\"441.0\">\n",
       "            </rect>\n",
       "          </clipPath>\n",
       "        </defs>\n",
       "        <defs>\n",
       "          <clipPath id=\"cYKlpvG\">\n",
       "            <rect x=\"21.961210910936405\" y=\"0.0\" width=\"442.0387890890636\" height=\"441.0\">\n",
       "            </rect>\n",
       "          </clipPath>\n",
       "        </defs>\n",
       "        <defs>\n",
       "          <clipPath id=\"cg76HxD\">\n",
       "            <rect x=\"21.961210910936405\" y=\"0.0\" width=\"442.0387890890636\" height=\"441.0\">\n",
       "            </rect>\n",
       "          </clipPath>\n",
       "        </defs>\n",
       "        <defs>\n",
       "          <clipPath id=\"cdQvR4g\">\n",
       "            <rect x=\"21.961210910936405\" y=\"0.0\" width=\"442.0387890890636\" height=\"441.0\">\n",
       "            </rect>\n",
       "          </clipPath>\n",
       "        </defs>\n",
       "        <defs>\n",
       "          <clipPath id=\"cdjkJAV\">\n",
       "            <rect x=\"21.961210910936405\" y=\"0.0\" width=\"442.0387890890636\" height=\"441.0\">\n",
       "            </rect>\n",
       "          </clipPath>\n",
       "        </defs>\n",
       "        <defs>\n",
       "          <clipPath id=\"cNC0AT7\">\n",
       "            <rect x=\"21.961210910936405\" y=\"0.0\" width=\"442.0387890890636\" height=\"441.0\">\n",
       "            </rect>\n",
       "          </clipPath>\n",
       "        </defs>\n",
       "        <defs>\n",
       "          <clipPath id=\"cHWUcsb\">\n",
       "            <rect x=\"21.961210910936405\" y=\"0.0\" width=\"442.0387890890636\" height=\"441.0\">\n",
       "            </rect>\n",
       "          </clipPath>\n",
       "        </defs>\n",
       "        <defs>\n",
       "          <clipPath id=\"cs8Z7mt\">\n",
       "            <rect x=\"21.961210910936405\" y=\"0.0\" width=\"442.0387890890636\" height=\"441.0\">\n",
       "            </rect>\n",
       "          </clipPath>\n",
       "        </defs>\n",
       "        <defs>\n",
       "          <clipPath id=\"cpiSv1A\">\n",
       "            <rect x=\"21.961210910936405\" y=\"0.0\" width=\"442.0387890890636\" height=\"441.0\">\n",
       "            </rect>\n",
       "          </clipPath>\n",
       "        </defs>\n",
       "        <defs>\n",
       "          <clipPath id=\"cYx6FxT\">\n",
       "            <rect x=\"21.961210910936405\" y=\"0.0\" width=\"442.0387890890636\" height=\"441.0\">\n",
       "            </rect>\n",
       "          </clipPath>\n",
       "        </defs>\n",
       "        <defs>\n",
       "          <clipPath id=\"cGuxBA8\">\n",
       "            <rect x=\"21.961210910936405\" y=\"0.0\" width=\"442.0387890890636\" height=\"441.0\">\n",
       "            </rect>\n",
       "          </clipPath>\n",
       "        </defs>\n",
       "        <defs>\n",
       "          <clipPath id=\"c6IrR3g\">\n",
       "            <rect x=\"21.961210910936405\" y=\"0.0\" width=\"442.0387890890636\" height=\"441.0\">\n",
       "            </rect>\n",
       "          </clipPath>\n",
       "        </defs>\n",
       "        <defs>\n",
       "          <clipPath id=\"cWyi1Cg\">\n",
       "            <rect x=\"21.961210910936405\" y=\"0.0\" width=\"442.0387890890636\" height=\"441.0\">\n",
       "            </rect>\n",
       "          </clipPath>\n",
       "        </defs>\n",
       "        <defs>\n",
       "          <clipPath id=\"cVcQyoq\">\n",
       "            <rect x=\"21.961210910936405\" y=\"0.0\" width=\"442.0387890890636\" height=\"441.0\">\n",
       "            </rect>\n",
       "          </clipPath>\n",
       "        </defs>\n",
       "        <defs>\n",
       "          <clipPath id=\"cTSrYql\">\n",
       "            <rect x=\"21.961210910936405\" y=\"0.0\" width=\"442.0387890890636\" height=\"441.0\">\n",
       "            </rect>\n",
       "          </clipPath>\n",
       "        </defs>\n",
       "        <defs>\n",
       "          <clipPath id=\"cOqMRWm\">\n",
       "            <rect x=\"21.961210910936405\" y=\"0.0\" width=\"442.0387890890636\" height=\"441.0\">\n",
       "            </rect>\n",
       "          </clipPath>\n",
       "        </defs>\n",
       "      </g>\n",
       "      <g>\n",
       "        <g transform=\"translate(21.961210910936405 441.0 ) \">\n",
       "          <g transform=\"translate(13.16157821134226 0.0 ) \">\n",
       "            <line stroke-width=\"1.0\" stroke=\"rgb(71,71,71)\" stroke-opacity=\"1.0\" x2=\"0.0\" y2=\"4.0\">\n",
       "            </line>\n",
       "            <g transform=\"translate(0.0 7.0 ) \">\n",
       "              <text class=\"axis-text-x\" text-anchor=\"middle\" dy=\"0.7em\">\n",
       "                <tspan>-10</tspan>\n",
       "              </text>\n",
       "            </g>\n",
       "          </g>\n",
       "          <g transform=\"translate(121.65740273160212 0.0 ) \">\n",
       "            <line stroke-width=\"1.0\" stroke=\"rgb(71,71,71)\" stroke-opacity=\"1.0\" x2=\"0.0\" y2=\"4.0\">\n",
       "            </line>\n",
       "            <g transform=\"translate(0.0 7.0 ) \">\n",
       "              <text class=\"axis-text-x\" text-anchor=\"middle\" dy=\"0.7em\">\n",
       "                <tspan>-5</tspan>\n",
       "              </text>\n",
       "            </g>\n",
       "          </g>\n",
       "          <g transform=\"translate(230.15322725186198 0.0 ) \">\n",
       "            <line stroke-width=\"1.0\" stroke=\"rgb(71,71,71)\" stroke-opacity=\"1.0\" x2=\"0.0\" y2=\"4.0\">\n",
       "            </line>\n",
       "            <g transform=\"translate(0.0 7.0 ) \">\n",
       "              <text class=\"axis-text-x\" text-anchor=\"middle\" dy=\"0.7em\">\n",
       "                <tspan>0</tspan>\n",
       "              </text>\n",
       "            </g>\n",
       "          </g>\n",
       "          <g transform=\"translate(338.6490517721218 0.0 ) \">\n",
       "            <line stroke-width=\"1.0\" stroke=\"rgb(71,71,71)\" stroke-opacity=\"1.0\" x2=\"0.0\" y2=\"4.0\">\n",
       "            </line>\n",
       "            <g transform=\"translate(0.0 7.0 ) \">\n",
       "              <text class=\"axis-text-x\" text-anchor=\"middle\" dy=\"0.7em\">\n",
       "                <tspan>5</tspan>\n",
       "              </text>\n",
       "            </g>\n",
       "          </g>\n",
       "          <line x1=\"0.0\" y1=\"0.0\" x2=\"442.0387890890636\" y2=\"0.0\" stroke-width=\"1.0\" stroke=\"rgb(71,71,71)\" stroke-opacity=\"1.0\">\n",
       "          </line>\n",
       "        </g>\n",
       "        <g transform=\"translate(21.961210910936405 0.0 ) \">\n",
       "          <g transform=\"translate(0.0 392.6715270542552 ) \">\n",
       "            <g transform=\"translate(-3.0 0.0 ) \">\n",
       "              <text class=\"axis-text-y\" text-anchor=\"end\" dy=\"0.35em\">\n",
       "                <tspan>-6</tspan>\n",
       "              </text>\n",
       "            </g>\n",
       "          </g>\n",
       "          <g transform=\"translate(0.0 343.95206248041836 ) \">\n",
       "            <g transform=\"translate(-3.0 0.0 ) \">\n",
       "              <text class=\"axis-text-y\" text-anchor=\"end\" dy=\"0.35em\">\n",
       "                <tspan>-4</tspan>\n",
       "              </text>\n",
       "            </g>\n",
       "          </g>\n",
       "          <g transform=\"translate(0.0 295.23259790658153 ) \">\n",
       "            <g transform=\"translate(-3.0 0.0 ) \">\n",
       "              <text class=\"axis-text-y\" text-anchor=\"end\" dy=\"0.35em\">\n",
       "                <tspan>-2</tspan>\n",
       "              </text>\n",
       "            </g>\n",
       "          </g>\n",
       "          <g transform=\"translate(0.0 246.5131333327447 ) \">\n",
       "            <g transform=\"translate(-3.0 0.0 ) \">\n",
       "              <text class=\"axis-text-y\" text-anchor=\"end\" dy=\"0.35em\">\n",
       "                <tspan>0</tspan>\n",
       "              </text>\n",
       "            </g>\n",
       "          </g>\n",
       "          <g transform=\"translate(0.0 197.79366875890787 ) \">\n",
       "            <g transform=\"translate(-3.0 0.0 ) \">\n",
       "              <text class=\"axis-text-y\" text-anchor=\"end\" dy=\"0.35em\">\n",
       "                <tspan>2</tspan>\n",
       "              </text>\n",
       "            </g>\n",
       "          </g>\n",
       "          <g transform=\"translate(0.0 149.07420418507104 ) \">\n",
       "            <g transform=\"translate(-3.0 0.0 ) \">\n",
       "              <text class=\"axis-text-y\" text-anchor=\"end\" dy=\"0.35em\">\n",
       "                <tspan>4</tspan>\n",
       "              </text>\n",
       "            </g>\n",
       "          </g>\n",
       "          <g transform=\"translate(0.0 100.35473961123424 ) \">\n",
       "            <g transform=\"translate(-3.0 0.0 ) \">\n",
       "              <text class=\"axis-text-y\" text-anchor=\"end\" dy=\"0.35em\">\n",
       "                <tspan>6</tspan>\n",
       "              </text>\n",
       "            </g>\n",
       "          </g>\n",
       "          <g transform=\"translate(0.0 51.635275037397406 ) \">\n",
       "            <g transform=\"translate(-3.0 0.0 ) \">\n",
       "              <text class=\"axis-text-y\" text-anchor=\"end\" dy=\"0.35em\">\n",
       "                <tspan>8</tspan>\n",
       "              </text>\n",
       "            </g>\n",
       "          </g>\n",
       "          <g transform=\"translate(0.0 2.9158104635605753 ) \">\n",
       "            <g transform=\"translate(-3.0 0.0 ) \">\n",
       "              <text class=\"axis-text-y\" text-anchor=\"end\" dy=\"0.35em\">\n",
       "                <tspan>10</tspan>\n",
       "              </text>\n",
       "            </g>\n",
       "          </g>\n",
       "        </g>\n",
       "      </g>\n",
       "    </g>\n",
       "    <g transform=\"translate(16.0 227.0 ) rotate(-90.0 ) \">\n",
       "      <text class=\"axis-title-y\" y=\"0.0\" text-anchor=\"middle\">\n",
       "        <tspan>y</tspan>\n",
       "      </text>\n",
       "    </g>\n",
       "    <g transform=\"translate(272.4806054554682 493.0 ) \">\n",
       "      <text class=\"axis-title-x\" y=\"0.0\" text-anchor=\"middle\">\n",
       "        <tspan>x</tspan>\n",
       "      </text>\n",
       "    </g>\n",
       "    <path fill=\"rgb(0,0,0)\" fill-opacity=\"0.0\" stroke=\"rgb(71,71,71)\" stroke-opacity=\"1.0\" stroke-width=\"0.0\" d=\"M0.0 0.0 L0.0 500.0 L500.0 500.0 L500.0 0.0 Z\">\n",
       "    </path>\n",
       "  </g>\n",
       "  <g id=\"dEkNyGw\">\n",
       "  </g>\n",
       "</svg>\n",
       "        <script>document.getElementById(\"def136ba-23d0-40e7-a9bd-60746b362e61\").style.display = \"none\";</script>"
      ],
      "application/plot+json": {
       "output_type": "lets_plot_spec",
       "output": {
        "mapping": {},
        "data": {},
        "ggsize": {
         "width": 500.0,
         "height": 500.0
        },
        "kind": "plot",
        "scales": [
         {
          "aesthetic": "x",
          "limits": [
           null,
           null
          ]
         },
         {
          "aesthetic": "y",
          "limits": [
           null,
           null
          ]
         },
         {
          "aesthetic": "x",
          "limits": [
           null,
           null
          ]
         },
         {
          "aesthetic": "y",
          "limits": [
           null,
           null
          ]
         },
         {
          "aesthetic": "x",
          "limits": [
           null,
           null
          ]
         },
         {
          "aesthetic": "y",
          "limits": [
           null,
           null
          ]
         },
         {
          "aesthetic": "x",
          "limits": [
           null,
           null
          ]
         },
         {
          "aesthetic": "y",
          "limits": [
           null,
           null
          ]
         },
         {
          "aesthetic": "x",
          "limits": [
           null,
           null
          ]
         },
         {
          "aesthetic": "y",
          "limits": [
           null,
           null
          ]
         },
         {
          "aesthetic": "x",
          "limits": [
           null,
           null
          ]
         },
         {
          "aesthetic": "y",
          "limits": [
           null,
           null
          ]
         },
         {
          "aesthetic": "x",
          "limits": [
           null,
           null
          ]
         },
         {
          "aesthetic": "y",
          "limits": [
           null,
           null
          ]
         },
         {
          "aesthetic": "x",
          "limits": [
           null,
           null
          ]
         },
         {
          "aesthetic": "y",
          "limits": [
           null,
           null
          ]
         },
         {
          "aesthetic": "x",
          "limits": [
           null,
           null
          ]
         },
         {
          "aesthetic": "y",
          "limits": [
           null,
           null
          ]
         },
         {
          "aesthetic": "x",
          "limits": [
           null,
           null
          ]
         },
         {
          "aesthetic": "y",
          "limits": [
           null,
           null
          ]
         },
         {
          "aesthetic": "x",
          "limits": [
           null,
           null
          ]
         },
         {
          "aesthetic": "y",
          "limits": [
           null,
           null
          ]
         },
         {
          "aesthetic": "x",
          "limits": [
           null,
           null
          ]
         },
         {
          "aesthetic": "y",
          "limits": [
           null,
           null
          ]
         },
         {
          "aesthetic": "x",
          "limits": [
           null,
           null
          ]
         },
         {
          "aesthetic": "y",
          "limits": [
           null,
           null
          ]
         },
         {
          "aesthetic": "x",
          "limits": [
           null,
           null
          ]
         },
         {
          "aesthetic": "y",
          "limits": [
           null,
           null
          ]
         },
         {
          "aesthetic": "x",
          "limits": [
           null,
           null
          ]
         },
         {
          "aesthetic": "y",
          "limits": [
           null,
           null
          ]
         },
         {
          "aesthetic": "x",
          "limits": [
           null,
           null
          ]
         },
         {
          "aesthetic": "y",
          "limits": [
           null,
           null
          ]
         },
         {
          "aesthetic": "x",
          "limits": [
           null,
           null
          ]
         },
         {
          "aesthetic": "y",
          "limits": [
           null,
           null
          ]
         },
         {
          "aesthetic": "x",
          "limits": [
           null,
           null
          ]
         },
         {
          "aesthetic": "y",
          "limits": [
           null,
           null
          ]
         },
         {
          "aesthetic": "x",
          "limits": [
           null,
           null
          ]
         },
         {
          "aesthetic": "y",
          "limits": [
           null,
           null
          ]
         },
         {
          "aesthetic": "x",
          "limits": [
           null,
           null
          ]
         },
         {
          "aesthetic": "y",
          "limits": [
           null,
           null
          ]
         },
         {
          "aesthetic": "x",
          "limits": [
           null,
           null
          ]
         },
         {
          "aesthetic": "y",
          "limits": [
           null,
           null
          ]
         },
         {
          "aesthetic": "x",
          "limits": [
           null,
           null
          ]
         },
         {
          "aesthetic": "y",
          "limits": [
           null,
           null
          ]
         },
         {
          "aesthetic": "x",
          "limits": [
           null,
           null
          ]
         },
         {
          "aesthetic": "y",
          "limits": [
           null,
           null
          ]
         },
         {
          "aesthetic": "x",
          "limits": [
           null,
           null
          ]
         },
         {
          "aesthetic": "y",
          "limits": [
           null,
           null
          ]
         },
         {
          "aesthetic": "x",
          "limits": [
           null,
           null
          ]
         },
         {
          "aesthetic": "y",
          "limits": [
           null,
           null
          ]
         },
         {
          "aesthetic": "x",
          "limits": [
           null,
           null
          ]
         },
         {
          "aesthetic": "y",
          "limits": [
           null,
           null
          ]
         },
         {
          "aesthetic": "x",
          "limits": [
           null,
           null
          ]
         },
         {
          "aesthetic": "y",
          "limits": [
           null,
           null
          ]
         },
         {
          "aesthetic": "x",
          "limits": [
           null,
           null
          ]
         },
         {
          "aesthetic": "y",
          "limits": [
           null,
           null
          ]
         },
         {
          "aesthetic": "x",
          "limits": [
           null,
           null
          ]
         },
         {
          "aesthetic": "y",
          "limits": [
           null,
           null
          ]
         },
         {
          "aesthetic": "x",
          "limits": [
           null,
           null
          ]
         },
         {
          "aesthetic": "y",
          "limits": [
           null,
           null
          ]
         },
         {
          "aesthetic": "x",
          "limits": [
           null,
           null
          ]
         },
         {
          "aesthetic": "y",
          "limits": [
           null,
           null
          ]
         },
         {
          "aesthetic": "x",
          "limits": [
           null,
           null
          ]
         },
         {
          "aesthetic": "y",
          "limits": [
           null,
           null
          ]
         },
         {
          "aesthetic": "x",
          "limits": [
           null,
           null
          ]
         },
         {
          "aesthetic": "y",
          "limits": [
           null,
           null
          ]
         },
         {
          "aesthetic": "x",
          "limits": [
           null,
           null
          ]
         },
         {
          "aesthetic": "y",
          "limits": [
           null,
           null
          ]
         },
         {
          "aesthetic": "x",
          "limits": [
           null,
           null
          ]
         },
         {
          "aesthetic": "y",
          "limits": [
           null,
           null
          ]
         },
         {
          "aesthetic": "x",
          "limits": [
           null,
           null
          ]
         },
         {
          "aesthetic": "y",
          "limits": [
           null,
           null
          ]
         },
         {
          "aesthetic": "x",
          "limits": [
           null,
           null
          ]
         },
         {
          "aesthetic": "y",
          "limits": [
           null,
           null
          ]
         },
         {
          "aesthetic": "x",
          "limits": [
           null,
           null
          ]
         },
         {
          "aesthetic": "y",
          "limits": [
           null,
           null
          ]
         },
         {
          "aesthetic": "x",
          "limits": [
           null,
           null
          ]
         },
         {
          "aesthetic": "y",
          "limits": [
           null,
           null
          ]
         },
         {
          "aesthetic": "x",
          "limits": [
           null,
           null
          ]
         },
         {
          "aesthetic": "y",
          "limits": [
           null,
           null
          ]
         },
         {
          "aesthetic": "x",
          "limits": [
           null,
           null
          ]
         },
         {
          "aesthetic": "y",
          "limits": [
           null,
           null
          ]
         },
         {
          "aesthetic": "x",
          "limits": [
           null,
           null
          ]
         },
         {
          "aesthetic": "y",
          "limits": [
           null,
           null
          ]
         },
         {
          "aesthetic": "x",
          "limits": [
           null,
           null
          ]
         },
         {
          "aesthetic": "y",
          "limits": [
           null,
           null
          ]
         },
         {
          "aesthetic": "x",
          "limits": [
           null,
           null
          ]
         },
         {
          "aesthetic": "y",
          "limits": [
           null,
           null
          ]
         },
         {
          "aesthetic": "x",
          "limits": [
           null,
           null
          ]
         },
         {
          "aesthetic": "y",
          "limits": [
           null,
           null
          ]
         }
        ],
        "layers": [
         {
          "mapping": {
           "x": "x",
           "y": "y"
          },
          "stat": "identity",
          "data": {
           "x": [
            -4.7791086509065845,
            -1.5573956937012243,
            6.815204553640961,
            -4.1536409219380594,
            7.8430332413843065,
            -5.104893765592662,
            -5.110758046294498,
            -6.408168072709935,
            0.9202438782437239,
            -6.736819772497531,
            -8.777165389725312,
            4.122537488851914,
            -3.910652378797365,
            0.7423386700582194
           ],
           "y": [
            -1.3639051513359104,
            5.221655132525547,
            -1.8191600587469214,
            7.047364216116644,
            -6.165367293441519,
            4.716765191664092,
            5.933613819581424,
            3.2586416717242894,
            -0.4940686891530163,
            2.712118077218227,
            0.3594003428018404,
            1.5389108732662402,
            8.842283413008602,
            -1.7867333240180756
           ]
          },
          "color": "#ffffff",
          "sampling": "none",
          "position": "identity",
          "geom": "point"
         },
         {
          "mapping": {
           "x": "x",
           "y": "y"
          },
          "stat": "identity",
          "data": {
           "x": [
            0.7469870555747483,
            -3.3860671523629855,
            -4.226696814326848,
            -6.9460178946785,
            -0.06960390071448679,
            1.1330786528592904,
            -5.772225501295652,
            -3.997869539470444,
            -8.904326850149559
           ],
           "y": [
            0.5675926809584791,
            -2.1331003405463265,
            -6.237860729311591,
            -7.155058559723941,
            -5.850569012972222,
            5.014968674037793,
            5.205247242319046,
            6.295551365068028,
            0.9883945430887983
           ]
          },
          "color": "#3ba272",
          "size": 5.0,
          "sampling": "none",
          "position": "identity",
          "geom": "point"
         },
         {
          "mapping": {
           "x": "x",
           "y": "y"
          },
          "stat": "identity",
          "data": {
           "x": [
            0.0
           ],
           "y": [
            0.0
           ]
          },
          "color": "#ee6666",
          "sampling": "none",
          "position": "identity",
          "geom": "point"
         },
         {
          "mapping": {
           "x": "x",
           "y": "y"
          },
          "stat": "identity",
          "data": {
           "x": [
            -4.7791086509065845,
            -4.508173787910874
           ],
           "y": [
            -1.3639051513359104,
            -2.326502834697706
           ]
          },
          "color": "#a39999",
          "sampling": "none",
          "position": "identity",
          "geom": "line"
         },
         {
          "mapping": {
           "x": "x",
           "y": "y"
          },
          "stat": "identity",
          "data": {
           "x": [
            -4.7791086509065845,
            -5.74170633426838
           ],
           "y": [
            -1.3639051513359104,
            -1.634840014331621
           ]
          },
          "color": "#a39999",
          "sampling": "none",
          "position": "identity",
          "geom": "line"
         },
         {
          "mapping": {
           "x": "x",
           "y": "y"
          },
          "stat": "identity",
          "data": {
           "x": [
            -4.7791086509065845,
            -5.268188121482056
           ],
           "y": [
            -1.3639051513359104,
            -2.236144379679612
           ]
          },
          "color": "#ffffff",
          "sampling": "none",
          "position": "identity",
          "geom": "line"
         },
         {
          "mapping": {
           "x": "x",
           "y": "y"
          },
          "stat": "identity",
          "data": {
           "x": [
            -1.5573956937012243,
            -0.5751194067909533
           ],
           "y": [
            5.221655132525547,
            5.034216352723258
           ]
          },
          "color": "#a39999",
          "sampling": "none",
          "position": "identity",
          "geom": "line"
         },
         {
          "mapping": {
           "x": "x",
           "y": "y"
          },
          "stat": "identity",
          "data": {
           "x": [
            -1.5573956937012243,
            -1.7448344735035128
           ],
           "y": [
            5.221655132525547,
            4.239378845615276
           ]
          },
          "color": "#a39999",
          "sampling": "none",
          "position": "identity",
          "geom": "line"
         },
         {
          "mapping": {
           "x": "x",
           "y": "y"
          },
          "stat": "identity",
          "data": {
           "x": [
            -1.5573956937012243,
            -0.9953607024837592
           ],
           "y": [
            5.221655132525547,
            4.394541676797021
           ]
          },
          "color": "#ffffff",
          "sampling": "none",
          "position": "identity",
          "geom": "line"
         },
         {
          "mapping": {
           "x": "x",
           "y": "y"
          },
          "stat": "identity",
          "data": {
           "x": [
            6.815204553640961,
            5.819592358294645
           ],
           "y": [
            -1.8191600587469214,
            -1.7255846534435615
           ]
          },
          "color": "#a39999",
          "sampling": "none",
          "position": "identity",
          "geom": "line"
         },
         {
          "mapping": {
           "x": "x",
           "y": "y"
          },
          "stat": "identity",
          "data": {
           "x": [
            6.815204553640961,
            6.908779958944321
           ],
           "y": [
            -1.8191600587469214,
            -0.8235478634006049
           ]
          },
          "color": "#a39999",
          "sampling": "none",
          "position": "identity",
          "geom": "line"
         },
         {
          "mapping": {
           "x": "x",
           "y": "y"
          },
          "stat": "identity",
          "data": {
           "x": [
            6.815204553640961,
            6.1773682225218405
           ],
           "y": [
            -1.8191600587469214,
            -1.04898812034323
           ]
          },
          "color": "#ffffff",
          "sampling": "none",
          "position": "identity",
          "geom": "line"
         },
         {
          "mapping": {
           "x": "x",
           "y": "y"
          },
          "stat": "identity",
          "data": {
           "x": [
            -4.1536409219380594,
            -3.354623556728354
           ],
           "y": [
            7.047364216116644,
            6.446056266648702
           ]
          },
          "color": "#a39999",
          "sampling": "none",
          "position": "identity",
          "geom": "line"
         },
         {
          "mapping": {
           "x": "x",
           "y": "y"
          },
          "stat": "identity",
          "data": {
           "x": [
            -4.1536409219380594,
            -4.754948871406
           ],
           "y": [
            7.047364216116644,
            6.248346850906938
           ]
          },
          "color": "#a39999",
          "sampling": "none",
          "position": "identity",
          "geom": "line"
         },
         {
          "mapping": {
           "x": "x",
           "y": "y"
          },
          "stat": "identity",
          "data": {
           "x": [
            -4.1536409219380594,
            -4.013839253362628
           ],
           "y": [
            7.047364216116644,
            6.057184690240893
           ]
          },
          "color": "#ffffff",
          "sampling": "none",
          "position": "identity",
          "geom": "line"
         },
         {
          "mapping": {
           "x": "x",
           "y": "y"
          },
          "stat": "identity",
          "data": {
           "x": [
            7.8430332413843065,
            8.838722156080129
           ],
           "y": [
            -6.165367293441519,
            -6.0726117806573505
           ]
          },
          "color": "#a39999",
          "sampling": "none",
          "position": "identity",
          "geom": "line"
         },
         {
          "mapping": {
           "x": "x",
           "y": "y"
          },
          "stat": "identity",
          "data": {
           "x": [
            7.8430332413843065,
            7.935788754168476
           ],
           "y": [
            -6.165367293441519,
            -7.161056208137342
           ]
          },
          "color": "#a39999",
          "sampling": "none",
          "position": "identity",
          "geom": "line"
         },
         {
          "mapping": {
           "x": "x",
           "y": "y"
          },
          "stat": "identity",
          "data": {
           "x": [
            7.8430332413843065,
            8.612679677000118
           ],
           "y": [
            -6.165367293441519,
            -6.803837624893088
           ]
          },
          "color": "#ffffff",
          "sampling": "none",
          "position": "identity",
          "geom": "line"
         },
         {
          "mapping": {
           "x": "x",
           "y": "y"
          },
          "stat": "identity",
          "data": {
           "x": [
            -5.104893765592662,
            -4.719655986045737
           ],
           "y": [
            4.716765191664092,
            5.639582537193398
           ]
          },
          "color": "#a39999",
          "sampling": "none",
          "position": "identity",
          "geom": "line"
         },
         {
          "mapping": {
           "x": "x",
           "y": "y"
          },
          "stat": "identity",
          "data": {
           "x": [
            -5.104893765592662,
            -4.182076420063355
           ],
           "y": [
            4.716765191664092,
            4.331527412117167
           ]
          },
          "color": "#a39999",
          "sampling": "none",
          "position": "identity",
          "geom": "line"
         },
         {
          "mapping": {
           "x": "x",
           "y": "y"
          },
          "stat": "identity",
          "data": {
           "x": [
            -5.104893765592662,
            -4.179959116485441
           ],
           "y": [
            4.716765191664092,
            5.0968913481975555
           ]
          },
          "color": "#ffffff",
          "sampling": "none",
          "position": "identity",
          "geom": "line"
         },
         {
          "mapping": {
           "x": "x",
           "y": "y"
          },
          "stat": "identity",
          "data": {
           "x": [
            -5.110758046294498,
            -5.845971807283437
           ],
           "y": [
            5.933613819581424,
            5.255778496178683
           ]
          },
          "color": "#a39999",
          "sampling": "none",
          "position": "identity",
          "geom": "line"
         },
         {
          "mapping": {
           "x": "x",
           "y": "y"
          },
          "stat": "identity",
          "data": {
           "x": [
            -5.110758046294498,
            -5.788593369697239
           ],
           "y": [
            5.933613819581424,
            6.668827580570364
           ]
          },
          "color": "#a39999",
          "sampling": "none",
          "position": "identity",
          "geom": "line"
         },
         {
          "mapping": {
           "x": "x",
           "y": "y"
          },
          "stat": "identity",
          "data": {
           "x": [
            -5.110758046294498,
            -6.1099346360172975
           ],
           "y": [
            5.933613819581424,
            5.974186501892514
           ]
          },
          "color": "#ffffff",
          "sampling": "none",
          "position": "identity",
          "geom": "line"
         },
         {
          "mapping": {
           "x": "x",
           "y": "y"
          },
          "stat": "identity",
          "data": {
           "x": [
            -6.408168072709935,
            -7.30587840423974
           ],
           "y": [
            3.2586416717242894,
            3.699227827503891
           ]
          },
          "color": "#a39999",
          "sampling": "none",
          "position": "identity",
          "geom": "line"
         },
         {
          "mapping": {
           "x": "x",
           "y": "y"
          },
          "stat": "identity",
          "data": {
           "x": [
            -6.408168072709935,
            -5.9675819169303335
           ],
           "y": [
            3.2586416717242894,
            4.156352003254095
           ]
          },
          "color": "#a39999",
          "sampling": "none",
          "position": "identity",
          "geom": "line"
         },
         {
          "mapping": {
           "x": "x",
           "y": "y"
          },
          "stat": "identity",
          "data": {
           "x": [
            -6.408168072709935,
            -6.731403677227215
           ],
           "y": [
            3.2586416717242894,
            4.204960193138907
           ]
          },
          "color": "#ffffff",
          "sampling": "none",
          "position": "identity",
          "geom": "line"
         },
         {
          "mapping": {
           "x": "x",
           "y": "y"
          },
          "stat": "identity",
          "data": {
           "x": [
            0.9202438782437239,
            0.3994574893654894
           ],
           "y": [
            -0.4940686891530163,
            -1.3477557144492711
           ]
          },
          "color": "#a39999",
          "sampling": "none",
          "position": "identity",
          "geom": "line"
         },
         {
          "mapping": {
           "x": "x",
           "y": "y"
          },
          "stat": "identity",
          "data": {
           "x": [
            0.9202438782437239,
            0.06655685294746883
           ],
           "y": [
            -0.4940686891530163,
            0.026717699725217703
           ]
          },
          "color": "#a39999",
          "sampling": "none",
          "position": "identity",
          "geom": "line"
         },
         {
          "mapping": {
           "x": "x",
           "y": "y"
          },
          "stat": "identity",
          "data": {
           "x": [
            0.9202438782437239,
            -0.051655593479683515
           ],
           "y": [
            -0.4940686891530163,
            -0.7294649866255163
           ]
          },
          "color": "#ffffff",
          "sampling": "none",
          "position": "identity",
          "geom": "line"
         },
         {
          "mapping": {
           "x": "x",
           "y": "y"
          },
          "stat": "identity",
          "data": {
           "x": [
            -6.736819772497531,
            -6.053767087759908
           ],
           "y": [
            2.712118077218227,
            1.981748971989422
           ]
          },
          "color": "#a39999",
          "sampling": "none",
          "position": "identity",
          "geom": "line"
         },
         {
          "mapping": {
           "x": "x",
           "y": "y"
          },
          "stat": "identity",
          "data": {
           "x": [
            -6.736819772497531,
            -7.467188877726336
           ],
           "y": [
            2.712118077218227,
            2.029065392480604
           ]
          },
          "color": "#a39999",
          "sampling": "none",
          "position": "identity",
          "geom": "line"
         },
         {
          "mapping": {
           "x": "x",
           "y": "y"
          },
          "stat": "identity",
          "data": {
           "x": [
            -6.736819772497531,
            -6.77027753428832
           ],
           "y": [
            2.712118077218227,
            1.7126779448561378
           ]
          },
          "color": "#ffffff",
          "sampling": "none",
          "position": "identity",
          "geom": "line"
         },
         {
          "mapping": {
           "x": "x",
           "y": "y"
          },
          "stat": "identity",
          "data": {
           "x": [
            -8.777165389725312,
            -8.348402507334574
           ],
           "y": [
            0.3594003428018404,
            -0.5440167207319337
           ]
          },
          "color": "#a39999",
          "sampling": "none",
          "position": "identity",
          "geom": "line"
         },
         {
          "mapping": {
           "x": "x",
           "y": "y"
          },
          "stat": "identity",
          "data": {
           "x": [
            -8.777165389725312,
            -9.680582453259087
           ],
           "y": [
            0.3594003428018404,
            -0.06936253958889632
           ]
          },
          "color": "#a39999",
          "sampling": "none",
          "position": "identity",
          "geom": "line"
         },
         {
          "mapping": {
           "x": "x",
           "y": "y"
          },
          "stat": "identity",
          "data": {
           "x": [
            -8.777165389725312,
            -9.112796579930102
           ],
           "y": [
            0.3594003428018404,
            -0.5825931307221094
           ]
          },
          "color": "#ffffff",
          "sampling": "none",
          "position": "identity",
          "geom": "line"
         },
         {
          "mapping": {
           "x": "x",
           "y": "y"
          },
          "stat": "identity",
          "data": {
           "x": [
            4.122537488851914,
            3.3817940839134186
           ],
           "y": [
            1.5389108732662402,
            2.2106989410674807
           ]
          },
          "color": "#a39999",
          "sampling": "none",
          "position": "identity",
          "geom": "line"
         },
         {
          "mapping": {
           "x": "x",
           "y": "y"
          },
          "stat": "identity",
          "data": {
           "x": [
            4.122537488851914,
            4.794325556653154
           ],
           "y": [
            1.5389108732662402,
            2.279654278204736
           ]
          },
          "color": "#a39999",
          "sampling": "none",
          "position": "identity",
          "geom": "line"
         },
         {
          "mapping": {
           "x": "x",
           "y": "y"
          },
          "stat": "identity",
          "data": {
           "x": [
            4.122537488851914,
            4.073778702363156
           ],
           "y": [
            1.5389108732662402,
            2.5377214562799284
           ]
          },
          "color": "#ffffff",
          "sampling": "none",
          "position": "identity",
          "geom": "line"
         },
         {
          "mapping": {
           "x": "x",
           "y": "y"
          },
          "stat": "identity",
          "data": {
           "x": [
            -3.910652378797365,
            -4.365173878086884
           ],
           "y": [
            8.842283413008602,
            7.95154764596901
           ]
          },
          "color": "#a39999",
          "sampling": "none",
          "position": "identity",
          "geom": "line"
         },
         {
          "mapping": {
           "x": "x",
           "y": "y"
          },
          "stat": "identity",
          "data": {
           "x": [
            -3.910652378797365,
            -4.801388145836956
           ],
           "y": [
            8.842283413008602,
            9.29680491229812
           ]
          },
          "color": "#a39999",
          "sampling": "none",
          "position": "identity",
          "geom": "line"
         },
         {
          "mapping": {
           "x": "x",
           "y": "y"
          },
          "stat": "identity",
          "data": {
           "x": [
            -3.910652378797365,
            -4.861892914259156
           ],
           "y": [
            8.842283413008602,
            8.533833346232202
           ]
          },
          "color": "#ffffff",
          "sampling": "none",
          "position": "identity",
          "geom": "line"
         },
         {
          "mapping": {
           "x": "x",
           "y": "y"
          },
          "stat": "identity",
          "data": {
           "x": [
            0.7423386700582194,
            1.2786583644541676
           ],
           "y": [
            -1.7867333240180756,
            -2.63074824414866
           ]
          },
          "color": "#a39999",
          "sampling": "none",
          "position": "identity",
          "geom": "line"
         },
         {
          "mapping": {
           "x": "x",
           "y": "y"
          },
          "stat": "identity",
          "data": {
           "x": [
            0.7423386700582194,
            -0.10167625007236492
           ],
           "y": [
            -1.7867333240180756,
            -2.323053018414024
           ]
          },
          "color": "#a39999",
          "sampling": "none",
          "position": "identity",
          "geom": "line"
         },
         {
          "mapping": {
           "x": "x",
           "y": "y"
          },
          "stat": "identity",
          "data": {
           "x": [
            0.7423386700582194,
            0.5247652894025328
           ],
           "y": [
            -1.7867333240180756,
            -2.762777290256306
           ]
          },
          "color": "#ffffff",
          "sampling": "none",
          "position": "identity",
          "geom": "line"
         }
        ]
       },
       "apply_color_scheme": true,
       "swing_enabled": true
      }
     },
     "execution_count": 34,
     "metadata": {},
     "output_type": "execute_result"
    }
   ],
   "execution_count": 34
  },
  {
   "metadata": {
    "ExecuteTime": {
     "end_time": "2024-12-07T09:51:28.500483500Z",
     "start_time": "2024-12-07T09:51:28.382231500Z"
    }
   },
   "cell_type": "code",
   "source": [
    "fun interference(fov: Double, B: Double, A: Double): Double {\n",
    "    val interfereObjectDistribution = PoissonDistribution(bv)\n",
    "    val blockObjectDistribution =  PoissonDistribution(av)\n",
    "    val interfereObjects = HashSet<Sector>()\n",
    "\n",
    "    repeat(interfereObjectDistribution.sample()) {\n",
    "        interfereObjects.add(Sector(Generator.nextPointInCircle(R), rand.nextDouble(0.0, 2 * PI), fov))\n",
    "    }\n",
    "\n",
    "    val blockObjects = ArrayList<Point>()\n",
    "\n",
    "    repeat(blockObjectDistribution.sample()) {\n",
    "        blockObjects.add(Generator.nextPointInCircle(R))\n",
    "    }\n",
    "\n",
    "    val interGain = ArrayList<Double>()\n",
    "\n",
    "    for (sector in interfereObjects) {\n",
    "        if (sector.contains(receiverPoint)) {\n",
    "            var rejected = false\n",
    "            interp@for (i in sector.pivot.interpolate(receiverPoint)) {\n",
    "                for (block in blockObjects) {\n",
    "                    if (i.isInCircle(block, D)) {\n",
    "                        rejected = true\n",
    "                        break@interp\n",
    "                    }\n",
    "                }\n",
    "            }\n",
    "            if (!rejected) {\n",
    "                interGain.add(P + 2.0 / (1 - cos(fov / 2.0)))\n",
    "            }\n",
    "        }\n",
    "    }\n",
    "\n",
    "    return interGain.sum()\n",
    "}"
   ],
   "outputs": [],
   "execution_count": 36
  },
  {
   "metadata": {},
   "cell_type": "code",
   "outputs": [],
   "execution_count": null,
   "source": ""
  }
 ],
 "metadata": {
  "kernelspec": {
   "display_name": "Kotlin",
   "language": "kotlin",
   "name": "kotlin"
  },
  "language_info": {
   "name": "kotlin",
   "version": "1.9.23",
   "mimetype": "text/x-kotlin",
   "file_extension": ".kt",
   "pygments_lexer": "kotlin",
   "codemirror_mode": "text/x-kotlin",
   "nbconvert_exporter": ""
  }
 },
 "nbformat": 4,
 "nbformat_minor": 0
}
