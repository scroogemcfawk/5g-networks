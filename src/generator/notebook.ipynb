{
 "cells": [
  {
   "cell_type": "code",
   "metadata": {
    "collapsed": true,
    "ExecuteTime": {
     "end_time": "2024-09-06T11:52:49.636047858Z",
     "start_time": "2024-09-06T11:52:47.188092856Z"
    }
   },
   "source": [
    "%use lets-plot\n",
    "import generator.Generator"
   ],
   "outputs": [
    {
     "data": {
      "text/html": [
       "   <div id=\"AXBYAo\"></div>\n",
       "   <script type=\"text/javascript\" data-lets-plot-script=\"library\">\n",
       "       if(!window.letsPlotCallQueue) {\n",
       "           window.letsPlotCallQueue = [];\n",
       "       }; \n",
       "       window.letsPlotCall = function(f) {\n",
       "           window.letsPlotCallQueue.push(f);\n",
       "       };\n",
       "       (function() {\n",
       "           var script = document.createElement(\"script\");\n",
       "           script.type = \"text/javascript\";\n",
       "           script.src = \"https://cdn.jsdelivr.net/gh/JetBrains/lets-plot@v4.4.1/js-package/distr/lets-plot.min.js\";\n",
       "           script.onload = function() {\n",
       "               window.letsPlotCall = function(f) {f();};\n",
       "               window.letsPlotCallQueue.forEach(function(f) {f();});\n",
       "               window.letsPlotCallQueue = [];\n",
       "               \n",
       "               \n",
       "           };\n",
       "           script.onerror = function(event) {\n",
       "               window.letsPlotCall = function(f) {};\n",
       "               window.letsPlotCallQueue = [];\n",
       "               var div = document.createElement(\"div\");\n",
       "               div.style.color = 'darkred';\n",
       "               div.textContent = 'Error loading Lets-Plot JS';\n",
       "               document.getElementById(\"AXBYAo\").appendChild(div);\n",
       "           };\n",
       "           var e = document.getElementById(\"AXBYAo\");\n",
       "           e.appendChild(script);\n",
       "       })();\n",
       "   </script>"
      ]
     },
     "metadata": {},
     "output_type": "display_data"
    }
   ],
   "execution_count": 69
  },
  {
   "metadata": {
    "ExecuteTime": {
     "end_time": "2024-09-06T12:03:18.765807266Z",
     "start_time": "2024-09-06T12:03:18.653135632Z"
    }
   },
   "cell_type": "code",
   "source": [
    "val size = 100\n",
    "val sample = ArrayList<Double>(size)\n",
    "repeat(size) {\n",
    "    val p1 = Generator.nextPointInRectangle(10, 30)\n",
    "    val p2 = Generator.nextPointInRectangle(10, 30)\n",
    "    sample.add(p1.distTo(p2))\n",
    "}\n",
    "val prob = 1.0 / size\n",
    "val indexedValues = sample.sorted()\n",
    "val prefSum = sample.runningReduce { sum, _ -> sum + prob }\n",
    "println(\"Average distance: ${sample.average()}\")\n",
    "val data = mapOf(\n",
    "    \"dist\" to indexedValues,\n",
    "    \"prob\" to prefSum\n",
    ")"
   ],
   "outputs": [
    {
     "name": "stdout",
     "output_type": "stream",
     "text": [
      "Average distance: 10.188049432676266\n"
     ]
    }
   ],
   "execution_count": 85
  },
  {
   "metadata": {
    "ExecuteTime": {
     "end_time": "2024-09-06T12:03:19.311028824Z",
     "start_time": "2024-09-06T12:03:19.227033890Z"
    }
   },
   "cell_type": "code",
   "source": [
    "letsPlot(data) + geomPoint(\n",
    "    color = \"dark_green\",\n",
    "    alpha = .3,\n",
    ") { x = \"dist\"; y = \"prob\"} + ggsize(700, 350)"
   ],
   "outputs": [
    {
     "data": {
      "text/html": [
       "   <div id=\"dAf0no\"></div>\n",
       "   <script type=\"text/javascript\" data-lets-plot-script=\"plot\">\n",
       "       (function() {\n",
       "           var plotSpec={\n",
       "\"mapping\":{\n",
       "},\n",
       "\"data\":{\n",
       "\"prob\":[17.70557009752081,17.71557009752081,17.725570097520812,17.735570097520814,17.745570097520815,17.755570097520817,17.76557009752082,17.77557009752082,17.78557009752082,17.795570097520823,17.805570097520825,17.815570097520826,17.825570097520828,17.83557009752083,17.84557009752083,17.855570097520832,17.865570097520834,17.875570097520836,17.885570097520837,17.89557009752084,17.90557009752084,17.915570097520842,17.925570097520843,17.935570097520845,17.945570097520847,17.955570097520848,17.96557009752085,17.97557009752085,17.985570097520853,17.995570097520854,18.005570097520856,18.015570097520857,18.02557009752086,18.03557009752086,18.045570097520862,18.055570097520864,18.065570097520865,18.075570097520867,18.08557009752087,18.09557009752087,18.10557009752087,18.115570097520873,18.125570097520875,18.135570097520876,18.145570097520878,18.15557009752088,18.16557009752088,18.175570097520882,18.185570097520884,18.195570097520886,18.205570097520887,18.21557009752089,18.22557009752089,18.235570097520892,18.245570097520893,18.255570097520895,18.265570097520897,18.275570097520898,18.2855700975209,18.2955700975209,18.305570097520903,18.315570097520904,18.325570097520906,18.335570097520907,18.34557009752091,18.35557009752091,18.365570097520912,18.375570097520914,18.385570097520915,18.395570097520917,18.40557009752092,18.41557009752092,18.42557009752092,18.435570097520923,18.445570097520925,18.455570097520926,18.465570097520928,18.47557009752093,18.48557009752093,18.495570097520933,18.505570097520934,18.515570097520936,18.525570097520937,18.53557009752094,18.54557009752094,18.555570097520942,18.565570097520943,18.575570097520945,18.585570097520947,18.595570097520948,18.60557009752095,18.61557009752095,18.625570097520953,18.635570097520954,18.645570097520956,18.655570097520958,18.66557009752096,18.67557009752096,18.685570097520962,18.695570097520964],\n",
       "\"dist\":[1.7719002944749493,2.35807733433486,2.393329840438629,2.710449073462855,2.8918221002679343,3.006110121460121,3.0334483862959685,3.1215236102681754,3.21577416007603,3.515887808163909,3.8275237242128872,4.071077763473051,4.406208587911752,4.603606722383871,4.679819579300692,4.827869801014828,4.918776714217993,4.919640381633397,5.197282856494695,5.340169178320572,5.370028161742295,5.543368766228647,5.5630319233525745,5.6341455781295515,5.635931908470403,5.685616869036434,5.7707159989720145,5.96704194585551,5.9830039267047805,6.252308666256593,6.515015775744962,6.534983877874125,6.545894705140053,6.571108590728563,6.6451248302903725,6.668191739710981,7.002254381118474,7.0739822797394245,7.314703785563872,7.338700570413472,7.355877501967562,7.50299939009741,7.62971337548039,7.90369268368807,8.134685278211274,8.14418506846216,8.401550849762556,8.423431561124241,8.431712679709559,8.501790290306388,8.541104331393067,8.73341215322272,8.887191023529171,9.05870851272028,9.081921973986958,9.16236716642191,9.690652496225612,9.826805842304564,9.888611434901946,9.97975189239613,10.025317510474732,10.028368365063738,10.136817383118553,10.528517169003301,10.552046942532414,10.611003792765404,10.721148645481673,10.833158733766203,10.955172546421696,11.024149455305894,12.48413147308133,12.498692936539916,12.512022298637602,12.953706923655965,13.071404613548074,13.337820173455363,13.405118980928112,13.6065383126004,14.28642109476053,14.663575491864224,14.770246803023934,15.303625581564047,15.412199268125441,15.448810956443822,15.735058447297254,16.669320697106652,17.58094795612161,17.70557009752081,18.76915575447919,20.744897065061814,21.092766331872784,21.34434862691226,21.458001696649568,21.939782784296096,21.99960316725128,23.13668134589238,24.817621247989912,25.28341162762492,28.553736377143302,29.098406767052076]\n",
       "},\n",
       "\"ggsize\":{\n",
       "\"width\":700.0,\n",
       "\"height\":350.0\n",
       "},\n",
       "\"kind\":\"plot\",\n",
       "\"scales\":[],\n",
       "\"layers\":[{\n",
       "\"mapping\":{\n",
       "\"x\":\"dist\",\n",
       "\"y\":\"prob\"\n",
       "},\n",
       "\"stat\":\"identity\",\n",
       "\"color\":\"dark_green\",\n",
       "\"alpha\":0.3,\n",
       "\"position\":\"identity\",\n",
       "\"geom\":\"point\",\n",
       "\"data\":{\n",
       "}\n",
       "}],\n",
       "\"data_meta\":{\n",
       "\"series_annotations\":[{\n",
       "\"type\":\"float\",\n",
       "\"column\":\"dist\"\n",
       "},{\n",
       "\"type\":\"float\",\n",
       "\"column\":\"prob\"\n",
       "}]\n",
       "}\n",
       "};\n",
       "           var plotContainer = document.getElementById(\"dAf0no\");\n",
       "           window.letsPlotCall(function() {{\n",
       "               LetsPlot.buildPlotFromProcessedSpecs(plotSpec, -1, -1, plotContainer);\n",
       "           }});\n",
       "       })();\n",
       "   </script>"
      ]
     },
     "execution_count": 86,
     "metadata": {},
     "output_type": "execute_result"
    }
   ],
   "execution_count": 86
  },
  {
   "metadata": {
    "ExecuteTime": {
     "end_time": "2024-09-06T12:05:26.328759239Z",
     "start_time": "2024-09-06T12:05:26.256080891Z"
    }
   },
   "cell_type": "code",
   "source": [
    "letsPlot(data) + geomHistogram(\n",
    "    color = \"dark_green\",\n",
    "    alpha = .3,\n",
    "    binWidth = 1\n",
    ") { x = \"dist\"; y = \"prob\"} + ggsize(700, 350)"
   ],
   "outputs": [
    {
     "data": {
      "text/html": [
       "   <div id=\"kxftLc\"></div>\n",
       "   <script type=\"text/javascript\" data-lets-plot-script=\"plot\">\n",
       "       (function() {\n",
       "           var plotSpec={\n",
       "\"mapping\":{\n",
       "},\n",
       "\"data\":{\n",
       "},\n",
       "\"ggsize\":{\n",
       "\"width\":700.0,\n",
       "\"height\":350.0\n",
       "},\n",
       "\"kind\":\"plot\",\n",
       "\"scales\":[],\n",
       "\"layers\":[{\n",
       "\"mapping\":{\n",
       "\"x\":\"dist\",\n",
       "\"y\":\"prob\"\n",
       "},\n",
       "\"stat\":\"bin\",\n",
       "\"color\":\"dark_green\",\n",
       "\"alpha\":0.3,\n",
       "\"position\":\"stack\",\n",
       "\"binwidth\":1.0,\n",
       "\"geom\":\"histogram\",\n",
       "\"data\":{\n",
       "\"prob\":[1.0,6.0,5.0,6.0,11.0,8.0,7.0,10.0,8.0,8.0,0.0,5.0,3.0,3.0,4.0,1.0,2.0,1.0,0.0,1.0,5.0,0.0,1.0,1.0,1.0,0.0,0.0,1.0,1.0],\n",
       "\"dist\":[1.5719002944749494,2.5719002944749496,3.5719002944749496,4.57190029447495,5.57190029447495,6.57190029447495,7.57190029447495,8.571900294474949,9.571900294474949,10.571900294474949,11.571900294474949,12.571900294474949,13.571900294474949,14.571900294474949,15.571900294474949,16.57190029447495,17.57190029447495,18.57190029447495,19.57190029447495,20.57190029447495,21.57190029447495,22.57190029447495,23.57190029447495,24.57190029447495,25.57190029447495,26.57190029447495,27.57190029447495,28.57190029447495,29.57190029447495]\n",
       "}\n",
       "}],\n",
       "\"data_meta\":{\n",
       "\"series_annotations\":[{\n",
       "\"type\":\"float\",\n",
       "\"column\":\"dist\"\n",
       "},{\n",
       "\"type\":\"float\",\n",
       "\"column\":\"prob\"\n",
       "}]\n",
       "}\n",
       "};\n",
       "           var plotContainer = document.getElementById(\"kxftLc\");\n",
       "           window.letsPlotCall(function() {{\n",
       "               LetsPlot.buildPlotFromProcessedSpecs(plotSpec, -1, -1, plotContainer);\n",
       "           }});\n",
       "       })();\n",
       "   </script>"
      ]
     },
     "execution_count": 93,
     "metadata": {},
     "output_type": "execute_result"
    }
   ],
   "execution_count": 93
  },
  {
   "metadata": {},
   "cell_type": "code",
   "outputs": [],
   "execution_count": null,
   "source": ""
  }
 ],
 "metadata": {
  "kernelspec": {
   "display_name": "Kotlin",
   "language": "kotlin",
   "name": "kotlin"
  },
  "language_info": {
   "name": "kotlin",
   "version": "1.9.23",
   "mimetype": "text/x-kotlin",
   "file_extension": ".kt",
   "pygments_lexer": "kotlin",
   "codemirror_mode": "text/x-kotlin",
   "nbconvert_exporter": ""
  },
  "ktnbPluginMetadata": {
   "projectDependencies": [
    "5g-networks"
   ]
  }
 },
 "nbformat": 4,
 "nbformat_minor": 0
}
